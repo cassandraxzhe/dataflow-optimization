{
 "cells": [
  {
   "cell_type": "code",
   "execution_count": null,
   "id": "55378d3a-c4a7-4c52-a9d7-86e53a23b48e",
   "metadata": {},
   "outputs": [],
   "source": [
    "import random\n",
    "import pandas as pd\n",
    "import numpy as np\n",
    "import matplotlib.pyplot as plt\n",
    "from loaders import *\n",
    "import yaml\n",
    "from yaml import load"
   ]
  },
  {
   "cell_type": "code",
   "execution_count": null,
   "id": "6e6a6bf5-6cc7-4442-98a2-1a765108e8c0",
   "metadata": {},
   "outputs": [],
   "source": [
    "def fitness(dataflow):\n",
    "    '''\n",
    "    Calculates the fitness of a given permutation `dataflow`. Returns the\n",
    "    inverse EDP after running the timeloop mapper on this dataflow.\n",
    "    '''\n",
    "    data = self.evaluate(dataflow)\n",
    "    energy, latency = data\n",
    "    inverse_EDP = 1 / (energy * latency)\n",
    "    print(f\"{dataflow} has a fitness of {inverse_EDP}\")\n",
    "\n",
    "    # update visited\n",
    "    self.VISITED[''.join(dataflow)] = inverse_EDP\n",
    "    self.mapper_calls.append([''.join(dataflow), inverse_EDP])\n",
    "    return inverse_EDP\n",
    "\n",
    "\n",
    "def evaluate(dataflow):\n",
    "    '''\n",
    "    Evaluates the given dataflow on -- architecture\n",
    "\n",
    "    dataflow: computation ordering in list format\n",
    "    workload: the file path to the workload this is being evaluated on\n",
    "    returns tuple of energy, latency\n",
    "    '''\n",
    "\n",
    "    # create a new constraints file with the new PE permutation\n",
    "    stream = open(self.constraints, 'r')\n",
    "    dictionary = yaml.safe_load(stream)\n",
    "    # print(dictionary['constraints']['targets'][4])\n",
    "    idx = 4 # PE\n",
    "    dictionary['constraints']['targets'][idx]['permutation'] = dataflow\n",
    "\n",
    "    filename = ''.join(dataflow)\n",
    "    with open(f'iters/configs/{filename}.yaml', 'w') as file:\n",
    "        yaml.dump(dictionary, file, default_flow_style=False)\n",
    "\n",
    "    constraints = f'iters/configs/{filename}.yaml'\n",
    "\n",
    "    sys_1x16_result = run_timeloop_mapper( # TODO: this should be run_timeloop_mapper not run_timeloop_model!\n",
    "        # config,\n",
    "        self.pe_dims,\n",
    "        architecture=self.architecture,\n",
    "        mapper=self.mapper,\n",
    "        problem=self.workload,\n",
    "        constraints=constraints \n",
    "    )\n",
    "\n",
    "    # keeping track of mapper call count for data purposes\n",
    "    self.mapper_call_count += 1\n",
    "    \n",
    "    stats = open('./output_dir/timeloop-mapper.stats.txt', 'r').read()\n",
    "    mapping = sys_1x16_result.mapping\n",
    "\n",
    "    lines = stats.split('\\n')\n",
    "    energy = float([l for l in lines if 'Energy:' in l][0].split(' ', 2)[1])\n",
    "    cycles = int([l for l in lines if 'Cycles:' in l][0].split(' ', 1)[1])\n",
    "    # min_energy = min(min_energy, energy)\n",
    "\n",
    "    print(energy, cycles)\n",
    "    return energy, cycles"
   ]
  },
  {
   "cell_type": "code",
   "execution_count": null,
   "id": "0133f3f1-59e8-4062-8afb-359bb0d3682d",
   "metadata": {},
   "outputs": [],
   "source": [
    "dataflow = ['R', 'S', 'P', 'Q', 'C', 'M', 'N']\n",
    "\n",
    "stream = open('conv2_2x8', 'r')\n",
    "visited = yaml.safe_load(stream)\n",
    "\n",
    "population = [random.sample(self.dataflow, len(dataflow)) for _ in range(121)]"
   ]
  }
 ],
 "metadata": {
  "kernelspec": {
   "display_name": "Python 3 (ipykernel)",
   "language": "python",
   "name": "python3"
  },
  "language_info": {
   "codemirror_mode": {
    "name": "ipython",
    "version": 3
   },
   "file_extension": ".py",
   "mimetype": "text/x-python",
   "name": "python",
   "nbconvert_exporter": "python",
   "pygments_lexer": "ipython3",
   "version": "3.10.12"
  }
 },
 "nbformat": 4,
 "nbformat_minor": 5
}
