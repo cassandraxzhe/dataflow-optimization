{
 "cells": [
  {
   "cell_type": "markdown",
   "id": "7fe87da6-6a08-48eb-8a17-88ec91a002e3",
   "metadata": {},
   "source": [
    "## MapSpace Exploration\n",
    "Taken from Lab 3."
   ]
  },
  {
   "cell_type": "code",
   "execution_count": 1,
   "id": "c3b4642f-496f-456b-b999-d2d1b0d0073b",
   "metadata": {},
   "outputs": [
    {
     "name": "stdout",
     "output_type": "stream",
     "text": [
      "# ========================================================================\n",
      "# Please do not modify this file. If there are double-curly-brace-enclosed\n",
      "# statements, they are placeholders that should be set from the notebooks.\n",
      "# ========================================================================\n",
      "mapping:\n",
      "- target: DRAM\n",
      "  type: temporal\n",
      "  factors: \n",
      "  - P=1\n",
      "  - Q=1\n",
      "  - R=1\n",
      "  - S=1\n",
      "  - N={{DRAM_factor_N}}\n",
      "  - M={{DRAM_factor_M}}\n",
      "  - C={{DRAM_factor_C}}\n",
      "  permutation: [S, R, Q, P, C, M, N] # don't change this\n",
      "\n",
      "- target: global_buffer\n",
      "  type: temporal\n",
      "  factors: \n",
      "  - P=1\n",
      "  - Q=1\n",
      "  - R=1\n",
      "  - S=1\n",
      "  - N={{global_buffer_factor_N}}\n",
      "  - M={{global_buffer_factor_M}}\n",
      "  - C={{global_buffer_factor_C}}\n",
      "  permutation: [S, R, Q, P, C, M, N] # don't change this\n",
      "\n",
      "- target: PE\n",
      "  type: spatial  # spatial constraint specification\n",
      "  factors: \n",
      "  - P=1\n",
      "  - Q=1\n",
      "  - R=1\n",
      "  - S=1\n",
      "  - N=1\n",
      "  - M={{PE_spatial_factor_M}}\n",
      "  - C={{PE_spatial_factor_C}}\n",
      "  permutation: [C, M, R, S, P, Q, N]\n",
      "  # tells at which index should the dimensions be mapped to Y (PE cols),\n",
      "  # the dimensions before that index all should map to X (PE rows)\n",
      "  split: 1\n",
      "\n",
      "- target: scratchpad\n",
      "  type: temporal\n",
      "  factors: \n",
      "  - R=0\n",
      "  - S=0\n",
      "  - P=0\n",
      "  - Q=0\n",
      "  - M=1\n",
      "  - C=1\n",
      "  - N={{scratchpad_factor_N}}\n",
      "  permutation: [Q, P, N, C, M, S, R]\n",
      "\n",
      "- target: scratchpad\n",
      "  type: dataspace\n",
      "  keep: [Weights]\n",
      "  bypass: [Inputs, Outputs]\n",
      "\n",
      "- target: weight_reg\n",
      "  type: dataspace\n",
      "  keep: [Weights]\n",
      "  bypass: [Inputs, Outputs]\n",
      "- target: weight_reg\n",
      "  type: temporal\n",
      "  factors: [R=1, S=1, P=1, Q=1, N=1, C=1, M=1]\n",
      "  permutation: [R, S, P, Q, C, M, N]\n",
      "- target: input_activation_reg\n",
      "  type: dataspace\n",
      "  keep: [Inputs]\n",
      "  bypass: [Weights, Outputs]\n",
      "- target: input_activation_reg\n",
      "  type: temporal\n",
      "  factors: [R=1, S=1, P=1, Q=1, N=1, C=1, M=1]\n",
      "  permutation: [R, S, P, Q, C, M, N]\n",
      "- target: output_activation_reg\n",
      "  type: dataspace\n",
      "  keep: [Outputs]\n",
      "  bypass: [Weights, Inputs]\n",
      "- target: output_activation_reg\n",
      "  type: temporal\n",
      "  factors: [R=1, S=1, P=1, Q=1, N=1, C=1, M=1]\n",
      "  permutation: [R, S, P, Q, C, M, N]\n",
      "\n"
     ]
    }
   ],
   "source": [
    "import pandas as pd\n",
    "import numpy as np\n",
    "import matplotlib.pyplot as plt\n",
    "from loaders import *\n",
    "show_config('designs/system/map.yaml')"
   ]
  },
  {
   "cell_type": "code",
   "execution_count": 2,
   "id": "6f907832-5323-4832-8a2b-13b6059a103b",
   "metadata": {},
   "outputs": [],
   "source": [
    "config_example = dict( # Do not change this configuration!\n",
    "    DRAM_factor_N=50,\n",
    "    DRAM_factor_M=8,\n",
    "    DRAM_factor_C=4,\n",
    "    global_buffer_factor_N=1,\n",
    "    global_buffer_factor_M=1,\n",
    "    global_buffer_factor_C=1,\n",
    "    PE_spatial_factor_M=1,\n",
    "    PE_spatial_factor_C=1,\n",
    "    scratchpad_factor_N=1,\n",
    ")\n",
    "\n",
    "config_optimized_1x16 = dict( # Replace these with your optimized values\n",
    "\t DRAM_factor_N=50,\n",
    "     DRAM_factor_M=1,\n",
    "     DRAM_factor_C=4,\n",
    "     global_buffer_factor_N=1,\n",
    "     global_buffer_factor_M=1,\n",
    "     global_buffer_factor_C=1,\n",
    "     PE_spatial_factor_M=8,\n",
    "     PE_spatial_factor_C=1,\n",
    "     scratchpad_factor_N=1,\n",
    "########################\n",
    "#### YOUR CODE HERE ####\n",
    "########################\n",
    ")\n",
    "\n",
    "config_optimized_2x8 = dict( # Replace these with your optimized values\n",
    "\t DRAM_factor_N=50,\n",
    "     DRAM_factor_M=1,\n",
    "     DRAM_factor_C=1,\n",
    "     global_buffer_factor_N=1,\n",
    "     global_buffer_factor_M=1,\n",
    "     global_buffer_factor_C=2,\n",
    "     PE_spatial_factor_M=8,\n",
    "     PE_spatial_factor_C=2,\n",
    "     scratchpad_factor_N=1,\n",
    "########################\n",
    "#### YOUR CODE HERE ####\n",
    "########################\n",
    ")\n",
    "\n",
    "config_optimized_4x4 = dict( # Replace these with your optimized values\n",
    "\t DRAM_factor_N=50,\n",
    "     DRAM_factor_M=1,\n",
    "     DRAM_factor_C=1,\n",
    "     global_buffer_factor_N=1,\n",
    "     global_buffer_factor_M=2,\n",
    "     global_buffer_factor_C=1,\n",
    "     PE_spatial_factor_M=4,\n",
    "     PE_spatial_factor_C=4,\n",
    "     scratchpad_factor_N=1,\n",
    "########################\n",
    "#### YOUR CODE HERE ####\n",
    "########################\n",
    ")"
   ]
  },
  {
   "cell_type": "code",
   "execution_count": null,
   "id": "f24db2b0-1182-40b1-b84f-705c5655e39d",
   "metadata": {},
   "outputs": [
    {
     "name": "stdout",
     "output_type": "stream",
     "text": [
      "[INFO] 2025-04-27 18:56:43,179 - pytimeloop.accelergy_interface - Running Accelergy with command: accelergy /home/workspace/output_dir/parsed-processed-input.yaml -o ./output_dir/ -v\n"
     ]
    },
    {
     "name": "stderr",
     "output_type": "stream",
     "text": [
      "INFO:pytimeloop.accelergy_interface:Running Accelergy with command: accelergy /home/workspace/output_dir/parsed-processed-input.yaml -o ./output_dir/ -v\n"
     ]
    },
    {
     "name": "stdout",
     "output_type": "stream",
     "text": [
      "Example 1x16 --- Latency: 31360000 cycles; Energy: 657.11 uJ.\n",
      "\n",
      "[INFO] 2025-04-27 18:56:45,389 - pytimeloop.accelergy_interface - Running Accelergy with command: accelergy /home/workspace/output_dir/parsed-processed-input.yaml -o ./output_dir/ -v\n"
     ]
    },
    {
     "name": "stderr",
     "output_type": "stream",
     "text": [
      "INFO:pytimeloop.accelergy_interface:Running Accelergy with command: accelergy /home/workspace/output_dir/parsed-processed-input.yaml -o ./output_dir/ -v\n"
     ]
    },
    {
     "name": "stdout",
     "output_type": "stream",
     "text": [
      "Example 2x8 --- Latency: 31360000 cycles; Energy: 657.11 uJ.\n",
      "\n",
      "[INFO] 2025-04-27 18:56:47,529 - pytimeloop.accelergy_interface - Running Accelergy with command: accelergy /home/workspace/output_dir/parsed-processed-input.yaml -o ./output_dir/ -v\n"
     ]
    },
    {
     "name": "stderr",
     "output_type": "stream",
     "text": [
      "INFO:pytimeloop.accelergy_interface:Running Accelergy with command: accelergy /home/workspace/output_dir/parsed-processed-input.yaml -o ./output_dir/ -v\n"
     ]
    },
    {
     "name": "stdout",
     "output_type": "stream",
     "text": [
      "Example 4x4 --- Latency: 31360000 cycles; Energy: 657.11 uJ.\n",
      "\n",
      "[INFO] 2025-04-27 18:56:49,717 - pytimeloop.accelergy_interface - Running Accelergy with command: accelergy /home/workspace/output_dir/parsed-processed-input.yaml -o ./output_dir/ -v\n"
     ]
    },
    {
     "name": "stderr",
     "output_type": "stream",
     "text": [
      "INFO:pytimeloop.accelergy_interface:Running Accelergy with command: accelergy /home/workspace/output_dir/parsed-processed-input.yaml -o ./output_dir/ -v\n"
     ]
    },
    {
     "name": "stdout",
     "output_type": "stream",
     "text": [
      "\n",
      "[INFO] 2025-04-27 18:56:51,908 - pytimeloop.accelergy_interface - Running Accelergy with command: accelergy /home/workspace/output_dir/parsed-processed-input.yaml -o ./output_dir/ -v\n"
     ]
    },
    {
     "name": "stderr",
     "output_type": "stream",
     "text": [
      "INFO:pytimeloop.accelergy_interface:Running Accelergy with command: accelergy /home/workspace/output_dir/parsed-processed-input.yaml -o ./output_dir/ -v\n"
     ]
    },
    {
     "name": "stdout",
     "output_type": "stream",
     "text": [
      "\n",
      "[INFO] 2025-04-27 18:56:54,050 - pytimeloop.accelergy_interface - Running Accelergy with command: accelergy /home/workspace/output_dir/parsed-processed-input.yaml -o ./output_dir/ -v\n"
     ]
    },
    {
     "name": "stderr",
     "output_type": "stream",
     "text": [
      "INFO:pytimeloop.accelergy_interface:Running Accelergy with command: accelergy /home/workspace/output_dir/parsed-processed-input.yaml -o ./output_dir/ -v\n"
     ]
    },
    {
     "name": "stdout",
     "output_type": "stream",
     "text": [
      "\n",
      "[INFO] 2025-04-27 18:56:56,228 - pytimeloop.accelergy_interface - Running Accelergy with command: accelergy /home/workspace/output_dir/parsed-processed-input.yaml -o ./output_dir/ -v\n"
     ]
    },
    {
     "name": "stderr",
     "output_type": "stream",
     "text": [
      "INFO:pytimeloop.accelergy_interface:Running Accelergy with command: accelergy /home/workspace/output_dir/parsed-processed-input.yaml -o ./output_dir/ -v\n"
     ]
    },
    {
     "name": "stdout",
     "output_type": "stream",
     "text": [
      "[INFO] 2025-04-27 18:56:58,366 - pytimeloop.accelergy_interface - Running Accelergy with command: accelergy /home/workspace/output_dir/parsed-processed-input.yaml -o ./output_dir/ -v\n"
     ]
    },
    {
     "name": "stderr",
     "output_type": "stream",
     "text": [
      "INFO:pytimeloop.accelergy_interface:Running Accelergy with command: accelergy /home/workspace/output_dir/parsed-processed-input.yaml -o ./output_dir/ -v\n"
     ]
    },
    {
     "name": "stdout",
     "output_type": "stream",
     "text": [
      "[INFO] 2025-04-27 18:57:00,519 - pytimeloop.accelergy_interface - Running Accelergy with command: accelergy /home/workspace/output_dir/parsed-processed-input.yaml -o ./output_dir/ -v\n"
     ]
    },
    {
     "name": "stderr",
     "output_type": "stream",
     "text": [
      "INFO:pytimeloop.accelergy_interface:Running Accelergy with command: accelergy /home/workspace/output_dir/parsed-processed-input.yaml -o ./output_dir/ -v\n"
     ]
    },
    {
     "name": "stdout",
     "output_type": "stream",
     "text": [
      "[INFO] 2025-04-27 18:57:02,714 - pytimeloop.accelergy_interface - Running Accelergy with command: accelergy /home/workspace/output_dir/parsed-processed-input.yaml -o ./output_dir/ -v\n"
     ]
    },
    {
     "name": "stderr",
     "output_type": "stream",
     "text": [
      "INFO:pytimeloop.accelergy_interface:Running Accelergy with command: accelergy /home/workspace/output_dir/parsed-processed-input.yaml -o ./output_dir/ -v\n"
     ]
    },
    {
     "name": "stdout",
     "output_type": "stream",
     "text": [
      "[INFO] 2025-04-27 18:57:04,890 - pytimeloop.accelergy_interface - Running Accelergy with command: accelergy /home/workspace/output_dir/parsed-processed-input.yaml -o ./output_dir/ -v\n"
     ]
    },
    {
     "name": "stderr",
     "output_type": "stream",
     "text": [
      "INFO:pytimeloop.accelergy_interface:Running Accelergy with command: accelergy /home/workspace/output_dir/parsed-processed-input.yaml -o ./output_dir/ -v\n"
     ]
    },
    {
     "name": "stdout",
     "output_type": "stream",
     "text": [
      "[INFO] 2025-04-27 18:57:07,002 - pytimeloop.accelergy_interface - Running Accelergy with command: accelergy /home/workspace/output_dir/parsed-processed-input.yaml -o ./output_dir/ -v\n"
     ]
    },
    {
     "name": "stderr",
     "output_type": "stream",
     "text": [
      "INFO:pytimeloop.accelergy_interface:Running Accelergy with command: accelergy /home/workspace/output_dir/parsed-processed-input.yaml -o ./output_dir/ -v\n"
     ]
    }
   ],
   "source": [
    "configs = {\n",
    "    'Example 1x16': {**config_example, \"pe_meshX\": 1, \"pe_meshY\": 16},\n",
    "    'Example 2x8': {**config_example, \"pe_meshX\": 2, \"pe_meshY\": 8},\n",
    "    'Example 4x4': {**config_example, \"pe_meshX\": 4, \"pe_meshY\": 4},\n",
    "    'Optimized 1x16': {**config_optimized_1x16, \"pe_meshX\": 1, \"pe_meshY\": 16},\n",
    "    'Optimized 2x8': {**config_optimized_2x8, \"pe_meshX\": 2, \"pe_meshY\": 8},\n",
    "    'Optimized 4x4': {**config_optimized_4x4, \"pe_meshX\": 4, \"pe_meshY\": 4},\n",
    "}\n",
    "\n",
    "# Set to None to run all configurations. FOR YOUR FINAL SUBMISSION, MAKE SURE YOU RUN ALL CONFIGURATIONS.\n",
    "CONFIG_TO_RUN = None # 'Optimized 4x4'\n",
    "\n",
    "to_run = list(configs.keys()) if CONFIG_TO_RUN is None else [CONFIG_TO_RUN]\n",
    "\n",
    "# DO NOT CHANGE\n",
    "THRES = [(float('inf'), float('inf')),\n",
    "         (float('inf'), float('inf')),\n",
    "         (float('inf'), float('inf')),\n",
    "         (4_000_000, 400),\n",
    "         (4_000_000, 400),\n",
    "         (4_000_000, 400)]\n",
    "\n",
    "min_energy = float('inf')\n",
    "for i, k in enumerate(to_run):\n",
    "    cycle_thres, energy_thres = THRES[i]\n",
    "    result = run_timeloop_model(\n",
    "        configs[k],\n",
    "        architecture='designs/system/arch.yaml',\n",
    "        mapping='designs/system/map.yaml',\n",
    "        problem='layer_shapes/conv2.yaml'\n",
    "    )\n",
    "    stats = open('./output_dir/timeloop-model.stats.txt', 'r').read()\n",
    "    mapping = result.mapping\n",
    "    if len(to_run) == 1:\n",
    "        print(stats)\n",
    "\n",
    "    lines = stats.split('\\n')\n",
    "    energy = float([l for l in lines if 'Energy:' in l][0].split(' ', 2)[1])\n",
    "    cycles = int([l for l in lines if 'Cycles:' in l][0].split(' ', 1)[1])\n",
    "    min_energy = min(min_energy, energy)\n",
    "\n",
    "    if i < 3:\n",
    "        print(f'{k} --- Latency: {cycles} cycles; Energy: {energy} uJ.')\n",
    "    print('')\n",
    "\n",
    "\n",
    "    # if i < 3:\n",
    "    #     print(f'{k} --- Latency: {cycles} cycles; Energy: {energy} uJ.')\n",
    "    # else:\n",
    "    #     answer( # Don't change this\n",
    "    #         question='3.1',\n",
    "    #         subquestion=f'{k} --- Latency: {cycles} cycles; Energy: {energy} uJ. Passing?',\n",
    "    #         answer=cycles < cycle_thres and energy < energy_thres,\n",
    "    #         required_type=bool\n",
    "    #     )\n",
    "    # print('')"
   ]
  },
  {
   "cell_type": "code",
   "execution_count": 6,
   "id": "da88d869-0454-4a00-8bc9-87ab275d0546",
   "metadata": {},
   "outputs": [
    {
     "name": "stdout",
     "output_type": "stream",
     "text": [
      "\n",
      "[INFO] 2025-04-27 18:57:17,114 - pytimeloop.accelergy_interface - Running Accelergy with command: accelergy /home/workspace/output_dir/parsed-processed-input.yaml -o ./output_dir/ -v\n"
     ]
    },
    {
     "name": "stderr",
     "output_type": "stream",
     "text": [
      "INFO:pytimeloop.accelergy_interface:Running Accelergy with command: accelergy /home/workspace/output_dir/parsed-processed-input.yaml -o ./output_dir/ -v\n"
     ]
    },
    {
     "name": "stdout",
     "output_type": "stream",
     "text": [
      "3.2: 1x16 cycles and energy (uJ) for conv1\n",
      "\t[980000, 1130.67]\n",
      "[INFO] 2025-04-27 18:57:22,044 - pytimeloop.accelergy_interface - Running Accelergy with command: accelergy /home/workspace/output_dir/parsed-processed-input.yaml -o ./output_dir/ -v\n"
     ]
    },
    {
     "name": "stderr",
     "output_type": "stream",
     "text": [
      "INFO:pytimeloop.accelergy_interface:Running Accelergy with command: accelergy /home/workspace/output_dir/parsed-processed-input.yaml -o ./output_dir/ -v\n"
     ]
    },
    {
     "name": "stdout",
     "output_type": "stream",
     "text": [
      "3.2: 2x8 cycles and energy (uJ) for conv1\n",
      "\t[980000, 1130.67]\n",
      "[INFO] 2025-04-27 18:57:26,845 - pytimeloop.accelergy_interface - Running Accelergy with command: accelergy /home/workspace/output_dir/parsed-processed-input.yaml -o ./output_dir/ -v\n"
     ]
    },
    {
     "name": "stderr",
     "output_type": "stream",
     "text": [
      "INFO:pytimeloop.accelergy_interface:Running Accelergy with command: accelergy /home/workspace/output_dir/parsed-processed-input.yaml -o ./output_dir/ -v\n"
     ]
    },
    {
     "name": "stdout",
     "output_type": "stream",
     "text": [
      "3.2: 4x4 cycles and energy (uJ) for conv1\n",
      "\t[980000, 1130.67]\n",
      "\n",
      "[INFO] 2025-04-27 18:57:31,645 - pytimeloop.accelergy_interface - Running Accelergy with command: accelergy /home/workspace/output_dir/parsed-processed-input.yaml -o ./output_dir/ -v\n"
     ]
    },
    {
     "name": "stderr",
     "output_type": "stream",
     "text": [
      "INFO:pytimeloop.accelergy_interface:Running Accelergy with command: accelergy /home/workspace/output_dir/parsed-processed-input.yaml -o ./output_dir/ -v\n"
     ]
    },
    {
     "name": "stdout",
     "output_type": "stream",
     "text": [
      "3.2: 1x16 cycles and energy (uJ) for conv2\n",
      "\t[2240000, 8095.5]\n",
      "[INFO] 2025-04-27 18:57:35,096 - pytimeloop.accelergy_interface - Running Accelergy with command: accelergy /home/workspace/output_dir/parsed-processed-input.yaml -o ./output_dir/ -v\n"
     ]
    },
    {
     "name": "stderr",
     "output_type": "stream",
     "text": [
      "INFO:pytimeloop.accelergy_interface:Running Accelergy with command: accelergy /home/workspace/output_dir/parsed-processed-input.yaml -o ./output_dir/ -v\n"
     ]
    },
    {
     "ename": "RuntimeError",
     "evalue": "\n\n========================================================================================================================\nTimeloop mapper failed with return code 1. Please check the output files in ./output_dir for more information. To debug, you can edit the file:\n\t./output_dir/parsed-processed-input.yaml\nand run \n\ttl mapper ./output_dir/parsed-processed-input.yaml\nto see the error. If you're running the mapper and Timeloop can't find a vaild mapping, try setting 'diagnostics: true' in the mapper input specification.",
     "output_type": "error",
     "traceback": [
      "\u001b[0;31m---------------------------------------------------------------------------\u001b[0m",
      "\u001b[0;31mRuntimeError\u001b[0m                              Traceback (most recent call last)",
      "Cell \u001b[0;32mIn[6], line 19\u001b[0m\n\u001b[1;32m     17\u001b[0m \u001b[38;5;28mprint\u001b[39m(\u001b[38;5;124m'\u001b[39m\u001b[38;5;124m'\u001b[39m)\n\u001b[1;32m     18\u001b[0m \u001b[38;5;28;01mfor\u001b[39;00m meshX, meshY \u001b[38;5;129;01min\u001b[39;00m [(\u001b[38;5;241m1\u001b[39m, \u001b[38;5;241m16\u001b[39m), (\u001b[38;5;241m2\u001b[39m, \u001b[38;5;241m8\u001b[39m), (\u001b[38;5;241m4\u001b[39m, \u001b[38;5;241m4\u001b[39m)]:\n\u001b[0;32m---> 19\u001b[0m     result \u001b[38;5;241m=\u001b[39m \u001b[43mrun_timeloop_mapper\u001b[49m\u001b[43m(\u001b[49m\n\u001b[1;32m     20\u001b[0m \u001b[43m        \u001b[49m\u001b[43m{\u001b[49m\u001b[38;5;124;43m'\u001b[39;49m\u001b[38;5;124;43mpe_meshX\u001b[39;49m\u001b[38;5;124;43m'\u001b[39;49m\u001b[43m:\u001b[49m\u001b[43m \u001b[49m\u001b[43mmeshX\u001b[49m\u001b[43m,\u001b[49m\u001b[43m \u001b[49m\u001b[38;5;124;43m'\u001b[39;49m\u001b[38;5;124;43mpe_meshY\u001b[39;49m\u001b[38;5;124;43m'\u001b[39;49m\u001b[43m:\u001b[49m\u001b[43m \u001b[49m\u001b[43mmeshY\u001b[49m\u001b[43m}\u001b[49m\u001b[43m,\u001b[49m\n\u001b[1;32m     21\u001b[0m \u001b[43m        \u001b[49m\u001b[43marchitecture\u001b[49m\u001b[38;5;241;43m=\u001b[39;49m\u001b[38;5;124;43m'\u001b[39;49m\u001b[38;5;124;43mdesigns/system/arch.yaml\u001b[39;49m\u001b[38;5;124;43m'\u001b[39;49m\u001b[43m,\u001b[49m\n\u001b[1;32m     22\u001b[0m \u001b[43m        \u001b[49m\u001b[43mproblem\u001b[49m\u001b[38;5;241;43m=\u001b[39;49m\u001b[43mworkload\u001b[49m\u001b[43m,\u001b[49m\n\u001b[1;32m     23\u001b[0m \u001b[43m        \u001b[49m\u001b[43mmapper\u001b[49m\u001b[38;5;241;43m=\u001b[39;49m\u001b[38;5;124;43m'\u001b[39;49m\u001b[38;5;124;43mdesigns/_include/mapper.yaml\u001b[39;49m\u001b[38;5;124;43m'\u001b[39;49m\u001b[43m,\u001b[49m\n\u001b[1;32m     24\u001b[0m \u001b[43m        \u001b[49m\u001b[38;5;66;43;03m# pe_spatial_c_constraint=True, # An extra constraint to speed up the mapper for this example.\u001b[39;49;00m\n\u001b[1;32m     25\u001b[0m \u001b[43m    \u001b[49m\u001b[43m)\u001b[49m\n\u001b[1;32m     26\u001b[0m     stats \u001b[38;5;241m=\u001b[39m \u001b[38;5;28mopen\u001b[39m(\u001b[38;5;124m'\u001b[39m\u001b[38;5;124moutput_dir/timeloop-mapper.stats.txt\u001b[39m\u001b[38;5;124m'\u001b[39m, \u001b[38;5;124m'\u001b[39m\u001b[38;5;124mr\u001b[39m\u001b[38;5;124m'\u001b[39m)\u001b[38;5;241m.\u001b[39mread()\n\u001b[1;32m     27\u001b[0m     mapping \u001b[38;5;241m=\u001b[39m result\u001b[38;5;241m.\u001b[39mmapping\n",
      "File \u001b[0;32m~/loaders.py:72\u001b[0m, in \u001b[0;36mrun_timeloop_mapper\u001b[0;34m(jinja_parse_data, **kwargs)\u001b[0m\n\u001b[1;32m     69\u001b[0m spec\u001b[38;5;241m.\u001b[39mERT \u001b[38;5;241m=\u001b[39m Ert(\u001b[38;5;241m*\u001b[39m\u001b[38;5;241m*\u001b[39mDictNode\u001b[38;5;241m.\u001b[39mfrom_yaml_files(\u001b[38;5;124m\"\u001b[39m\u001b[38;5;124moutput_dir/ERT.yaml\u001b[39m\u001b[38;5;124m\"\u001b[39m)[\u001b[38;5;124m\"\u001b[39m\u001b[38;5;124mERT\u001b[39m\u001b[38;5;124m\"\u001b[39m])\n\u001b[1;32m     70\u001b[0m spec\u001b[38;5;241m.\u001b[39mART \u001b[38;5;241m=\u001b[39m Art(\u001b[38;5;241m*\u001b[39m\u001b[38;5;241m*\u001b[39mDictNode\u001b[38;5;241m.\u001b[39mfrom_yaml_files(\u001b[38;5;124m\"\u001b[39m\u001b[38;5;124moutput_dir/ART.yaml\u001b[39m\u001b[38;5;124m\"\u001b[39m)[\u001b[38;5;124m\"\u001b[39m\u001b[38;5;124mART\u001b[39m\u001b[38;5;124m\"\u001b[39m])\n\u001b[0;32m---> 72\u001b[0m \u001b[38;5;28;01mreturn\u001b[39;00m \u001b[43mtl\u001b[49m\u001b[38;5;241;43m.\u001b[39;49m\u001b[43mcall_mapper\u001b[49m\u001b[43m(\u001b[49m\u001b[43mspec\u001b[49m\u001b[43m,\u001b[49m\u001b[43m \u001b[49m\u001b[43moutput_dir\u001b[49m\u001b[38;5;241;43m=\u001b[39;49m\u001b[38;5;124;43m\"\u001b[39;49m\u001b[38;5;124;43m./output_dir\u001b[39;49m\u001b[38;5;124;43m\"\u001b[39;49m\u001b[43m)\u001b[49m\n",
      "File \u001b[0;32m/usr/local/lib/python3.10/dist-packages/pytimeloop/timeloopfe/common/backend_calls.py:222\u001b[0m, in \u001b[0;36mcall_mapper\u001b[0;34m(specification, output_dir, environment, extra_input_files, dump_intermediate_to, log_to, extra_args, return_proc)\u001b[0m\n\u001b[1;32m    203\u001b[0m \u001b[38;5;250m\u001b[39m\u001b[38;5;124;03m\"\"\"Call Timeloop Mapper from Python\u001b[39;00m\n\u001b[1;32m    204\u001b[0m \n\u001b[1;32m    205\u001b[0m \u001b[38;5;124;03mArgs:\u001b[39;00m\n\u001b[0;32m   (...)\u001b[0m\n\u001b[1;32m    216\u001b[0m \u001b[38;5;124;03m    Union[int, subprocess.Popen]: The return code of the call, or the subprocess.Popen object if return_proc is True.\u001b[39;00m\n\u001b[1;32m    217\u001b[0m \u001b[38;5;124;03m\"\"\"\u001b[39;00m\n\u001b[1;32m    218\u001b[0m input_paths, output_dir \u001b[38;5;241m=\u001b[39m _pre_call(\n\u001b[1;32m    219\u001b[0m     specification, output_dir, extra_input_files, for_model\u001b[38;5;241m=\u001b[39m\u001b[38;5;28;01mFalse\u001b[39;00m\n\u001b[1;32m    220\u001b[0m )\n\u001b[0;32m--> 222\u001b[0m \u001b[38;5;28;01mreturn\u001b[39;00m \u001b[43m_parse_output\u001b[49m\u001b[43m(\u001b[49m\n\u001b[1;32m    223\u001b[0m \u001b[43m    \u001b[49m\u001b[43mspecification\u001b[49m\u001b[38;5;241;43m=\u001b[39;49m\u001b[43mspecification\u001b[49m\u001b[43m,\u001b[49m\n\u001b[1;32m    224\u001b[0m \u001b[43m    \u001b[49m\u001b[43moutput_dir\u001b[49m\u001b[38;5;241;43m=\u001b[39;49m\u001b[43moutput_dir\u001b[49m\u001b[43m,\u001b[49m\n\u001b[1;32m    225\u001b[0m \u001b[43m    \u001b[49m\u001b[43mresult\u001b[49m\u001b[38;5;241;43m=\u001b[39;49m\u001b[43m_call\u001b[49m\u001b[43m(\u001b[49m\n\u001b[1;32m    226\u001b[0m \u001b[43m        \u001b[49m\u001b[38;5;124;43m\"\u001b[39;49m\u001b[38;5;124;43mtimeloop-mapper\u001b[39;49m\u001b[38;5;124;43m\"\u001b[39;49m\u001b[43m,\u001b[49m\n\u001b[1;32m    227\u001b[0m \u001b[43m        \u001b[49m\u001b[43minput_paths\u001b[49m\u001b[38;5;241;43m=\u001b[39;49m\u001b[43minput_paths\u001b[49m\u001b[43m,\u001b[49m\n\u001b[1;32m    228\u001b[0m \u001b[43m        \u001b[49m\u001b[43moutput_dir\u001b[49m\u001b[38;5;241;43m=\u001b[39;49m\u001b[43moutput_dir\u001b[49m\u001b[43m,\u001b[49m\n\u001b[1;32m    229\u001b[0m \u001b[43m        \u001b[49m\u001b[43menvironment\u001b[49m\u001b[38;5;241;43m=\u001b[39;49m\u001b[43menvironment\u001b[49m\u001b[43m,\u001b[49m\n\u001b[1;32m    230\u001b[0m \u001b[43m        \u001b[49m\u001b[43mdump_intermediate_to\u001b[49m\u001b[38;5;241;43m=\u001b[39;49m\u001b[43mdump_intermediate_to\u001b[49m\u001b[43m,\u001b[49m\n\u001b[1;32m    231\u001b[0m \u001b[43m        \u001b[49m\u001b[43mlog_to\u001b[49m\u001b[38;5;241;43m=\u001b[39;49m\u001b[43mlog_to\u001b[49m\u001b[43m,\u001b[49m\n\u001b[1;32m    232\u001b[0m \u001b[43m        \u001b[49m\u001b[43mextra_args\u001b[49m\u001b[38;5;241;43m=\u001b[39;49m\u001b[43mextra_args\u001b[49m\u001b[43m,\u001b[49m\n\u001b[1;32m    233\u001b[0m \u001b[43m        \u001b[49m\u001b[43mreturn_proc\u001b[49m\u001b[38;5;241;43m=\u001b[39;49m\u001b[43mreturn_proc\u001b[49m\u001b[43m,\u001b[49m\n\u001b[1;32m    234\u001b[0m \u001b[43m    \u001b[49m\u001b[43m)\u001b[49m\u001b[43m,\u001b[49m\n\u001b[1;32m    235\u001b[0m \u001b[43m    \u001b[49m\u001b[43mfor_model\u001b[49m\u001b[38;5;241;43m=\u001b[39;49m\u001b[38;5;28;43;01mFalse\u001b[39;49;00m\u001b[43m,\u001b[49m\n\u001b[1;32m    236\u001b[0m \u001b[43m\u001b[49m\u001b[43m)\u001b[49m\n",
      "File \u001b[0;32m/usr/local/lib/python3.10/dist-packages/pytimeloop/timeloopfe/common/backend_calls.py:184\u001b[0m, in \u001b[0;36m_parse_output\u001b[0;34m(specification, output_dir, result, for_model)\u001b[0m\n\u001b[1;32m    173\u001b[0m errmsg \u001b[38;5;241m=\u001b[39m (\n\u001b[1;32m    174\u001b[0m     \u001b[38;5;124mf\u001b[39m\u001b[38;5;124m\"\u001b[39m\u001b[38;5;130;01m\\n\u001b[39;00m\u001b[38;5;130;01m\\n\u001b[39;00m\u001b[38;5;124m\"\u001b[39m \u001b[38;5;241m+\u001b[39m \u001b[38;5;124m\"\u001b[39m\u001b[38;5;124m=\u001b[39m\u001b[38;5;124m\"\u001b[39m \u001b[38;5;241m*\u001b[39m \u001b[38;5;241m120\u001b[39m \u001b[38;5;241m+\u001b[39m \u001b[38;5;124m\"\u001b[39m\u001b[38;5;130;01m\\n\u001b[39;00m\u001b[38;5;124m\"\u001b[39m\n\u001b[1;32m    175\u001b[0m     \u001b[38;5;124mf\u001b[39m\u001b[38;5;124m\"\u001b[39m\u001b[38;5;124mTimeloop \u001b[39m\u001b[38;5;132;01m{\u001b[39;00mm\u001b[38;5;132;01m}\u001b[39;00m\u001b[38;5;124m failed with return code \u001b[39m\u001b[38;5;132;01m{\u001b[39;00mresult\u001b[38;5;132;01m}\u001b[39;00m\u001b[38;5;124m. Please check the output files \u001b[39m\u001b[38;5;124m\"\u001b[39m\n\u001b[0;32m   (...)\u001b[0m\n\u001b[1;32m    180\u001b[0m     \u001b[38;5;124mf\u001b[39m\u001b[38;5;124m\"\u001b[39m\u001b[38;5;124m'\u001b[39m\u001b[38;5;124mdiagnostics: true\u001b[39m\u001b[38;5;124m'\u001b[39m\u001b[38;5;124m in the mapper input specification.\u001b[39m\u001b[38;5;124m\"\u001b[39m\n\u001b[1;32m    181\u001b[0m )\n\u001b[1;32m    183\u001b[0m \u001b[38;5;28;01mif\u001b[39;00m result \u001b[38;5;241m!=\u001b[39m \u001b[38;5;241m0\u001b[39m:\n\u001b[0;32m--> 184\u001b[0m     \u001b[38;5;28;01mraise\u001b[39;00m \u001b[38;5;167;01mRuntimeError\u001b[39;00m(errmsg)\n\u001b[1;32m    185\u001b[0m \u001b[38;5;28;01mtry\u001b[39;00m:\n\u001b[1;32m    186\u001b[0m     \u001b[38;5;28;01mreturn\u001b[39;00m specification\u001b[38;5;241m.\u001b[39m_parse_timeloop_output(\n\u001b[1;32m    187\u001b[0m         output_dir, prefix\u001b[38;5;241m=\u001b[39m\u001b[38;5;124m\"\u001b[39m\u001b[38;5;124mtimeloop-model\u001b[39m\u001b[38;5;124m\"\u001b[39m \u001b[38;5;28;01mif\u001b[39;00m for_model \u001b[38;5;28;01melse\u001b[39;00m \u001b[38;5;124m\"\u001b[39m\u001b[38;5;124mtimeloop-mapper\u001b[39m\u001b[38;5;124m\"\u001b[39m\n\u001b[1;32m    188\u001b[0m     )\n",
      "\u001b[0;31mRuntimeError\u001b[0m: \n\n========================================================================================================================\nTimeloop mapper failed with return code 1. Please check the output files in ./output_dir for more information. To debug, you can edit the file:\n\t./output_dir/parsed-processed-input.yaml\nand run \n\ttl mapper ./output_dir/parsed-processed-input.yaml\nto see the error. If you're running the mapper and Timeloop can't find a vaild mapping, try setting 'diagnostics: true' in the mapper input specification."
     ]
    }
   ],
   "source": [
    "workloads = {\n",
    "    'conv1': 'layer_shapes/conv1.yaml',\n",
    "    'conv2': 'layer_shapes/conv2.yaml',\n",
    "    'fc1': 'layer_shapes/fc1.yaml'\n",
    "}\n",
    "\n",
    "pe_array_shapes = [\n",
    "    (1, 16),\n",
    "    (2, 8),\n",
    "    (4, 4)\n",
    "]\n",
    "\n",
    "all_stats = {'conv1': {}, 'conv2': {}, 'fc1': {}}\n",
    "all_maps = {'conv1': {}, 'conv2': {}, 'fc1': {}}\n",
    "\n",
    "for name, workload in workloads.items():\n",
    "    print('')\n",
    "    for meshX, meshY in [(1, 16), (2, 8), (4, 4)]:\n",
    "        result = run_timeloop_mapper(\n",
    "            {'pe_meshX': meshX, 'pe_meshY': meshY},\n",
    "            architecture='designs/system/arch.yaml',\n",
    "            problem=workload,\n",
    "            mapper='designs/_include/mapper.yaml',\n",
    "            # pe_spatial_c_constraint=True, # An extra constraint to speed up the mapper for this example.\n",
    "        )\n",
    "        stats = open('output_dir/timeloop-mapper.stats.txt', 'r').read()\n",
    "        mapping = result.mapping\n",
    "        all_stats[name][(meshX, meshY)] = stats\n",
    "        all_maps[name][(meshX, meshY)] = mapping\n",
    "        lines = stats.split('\\n')\n",
    "        energy = float([l for l in lines if 'Energy:' in l][0].split(' ', 2)[1])\n",
    "        cycles = int([l for l in lines if 'Cycles:' in l][0].split(' ', 1)[1])\n",
    "        \n",
    "        answer(\n",
    "            question='3.2',\n",
    "            subquestion=f'{meshX}x{meshY} cycles and energy (uJ) for {name}',\n",
    "            answer=[cycles, energy],\n",
    "            required_type=[int, Number]\n",
    "        )"
   ]
  },
  {
   "cell_type": "markdown",
   "id": "d2b2e521",
   "metadata": {},
   "source": [
    "Additionally, you will need to consider the workload shapes, which are printed below for your convenience:"
   ]
  },
  {
   "cell_type": "code",
   "execution_count": null,
   "id": "3217408b",
   "metadata": {},
   "outputs": [],
   "source": [
    "for workload, file in workloads.items():\n",
    "\tprint(f\"### {workload} ###\")\n",
    "\tprint(open(file, 'r').read())"
   ]
  },
  {
   "cell_type": "code",
   "execution_count": null,
   "id": "f52f7291-b15c-4ed0-9a23-c8de5c8d36df",
   "metadata": {},
   "outputs": [],
   "source": []
  },
  {
   "cell_type": "code",
   "execution_count": null,
   "id": "c91506d4-c5bf-4227-99f5-2b2051d285b6",
   "metadata": {},
   "outputs": [],
   "source": []
  },
  {
   "cell_type": "code",
   "execution_count": null,
   "id": "a6242dea-a502-4b72-8346-dbe7eab48d31",
   "metadata": {},
   "outputs": [],
   "source": []
  }
 ],
 "metadata": {
  "kernelspec": {
   "display_name": "Python 3 (ipykernel)",
   "language": "python",
   "name": "python3"
  },
  "language_info": {
   "codemirror_mode": {
    "name": "ipython",
    "version": 3
   },
   "file_extension": ".py",
   "mimetype": "text/x-python",
   "name": "python",
   "nbconvert_exporter": "python",
   "pygments_lexer": "ipython3",
   "version": "3.10.12"
  }
 },
 "nbformat": 4,
 "nbformat_minor": 5
}
