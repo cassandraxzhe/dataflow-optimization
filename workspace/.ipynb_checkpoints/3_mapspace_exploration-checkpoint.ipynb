{
 "cells": [
  {
   "cell_type": "markdown",
   "id": "7fe87da6-6a08-48eb-8a17-88ec91a002e3",
   "metadata": {},
   "source": [
    "## MapSpace Exploration\n",
    "Taken from Lab 3."
   ]
  },
  {
   "cell_type": "code",
   "execution_count": 1,
   "id": "c3b4642f-496f-456b-b999-d2d1b0d0073b",
   "metadata": {},
   "outputs": [
    {
     "ename": "ModuleNotFoundError",
     "evalue": "No module named 'src'",
     "output_type": "error",
     "traceback": [
      "\u001b[0;31m---------------------------------------------------------------------------\u001b[0m",
      "\u001b[0;31mModuleNotFoundError\u001b[0m                       Traceback (most recent call last)",
      "Cell \u001b[0;32mIn[1], line 4\u001b[0m\n\u001b[1;32m      2\u001b[0m \u001b[38;5;28;01mimport\u001b[39;00m\u001b[38;5;250m \u001b[39m\u001b[38;5;21;01mnumpy\u001b[39;00m\u001b[38;5;250m \u001b[39m\u001b[38;5;28;01mas\u001b[39;00m\u001b[38;5;250m \u001b[39m\u001b[38;5;21;01mnp\u001b[39;00m\n\u001b[1;32m      3\u001b[0m \u001b[38;5;28;01mimport\u001b[39;00m\u001b[38;5;250m \u001b[39m\u001b[38;5;21;01mmatplotlib\u001b[39;00m\u001b[38;5;21;01m.\u001b[39;00m\u001b[38;5;21;01mpyplot\u001b[39;00m\u001b[38;5;250m \u001b[39m\u001b[38;5;28;01mas\u001b[39;00m\u001b[38;5;250m \u001b[39m\u001b[38;5;21;01mplt\u001b[39;00m\n\u001b[0;32m----> 4\u001b[0m \u001b[38;5;28;01mfrom\u001b[39;00m\u001b[38;5;250m \u001b[39m\u001b[38;5;21;01msrc\u001b[39;00m\u001b[38;5;21;01m.\u001b[39;00m\u001b[38;5;21;01mloaders\u001b[39;00m\u001b[38;5;250m \u001b[39m\u001b[38;5;28;01mimport\u001b[39;00m \u001b[38;5;241m*\u001b[39m\n\u001b[1;32m      5\u001b[0m show_config(\u001b[38;5;124m'\u001b[39m\u001b[38;5;124msrc/designs/system/map.yaml\u001b[39m\u001b[38;5;124m'\u001b[39m)\n",
      "\u001b[0;31mModuleNotFoundError\u001b[0m: No module named 'src'"
     ]
    }
   ],
   "source": [
    "import pandas as pd\n",
    "import numpy as np\n",
    "import matplotlib.pyplot as plt\n",
    "from workspace.loaders import *\n",
    "show_config('src/designs/system/map.yaml')"
   ]
  },
  {
   "cell_type": "code",
   "execution_count": 2,
   "id": "6f907832-5323-4832-8a2b-13b6059a103b",
   "metadata": {},
   "outputs": [],
   "source": [
    "config_example = dict( # Do not change this configuration!\n",
    "    DRAM_factor_N=50,\n",
    "    DRAM_factor_M=8,\n",
    "    DRAM_factor_C=4,\n",
    "    global_buffer_factor_N=1,\n",
    "    global_buffer_factor_M=1,\n",
    "    global_buffer_factor_C=1,\n",
    "    PE_spatial_factor_M=1,\n",
    "    PE_spatial_factor_C=1,\n",
    "    scratchpad_factor_N=1,\n",
    ")\n",
    "\n",
    "config_optimized_1x16 = dict( # Replace these with your optimized values\n",
    "\t DRAM_factor_N=50,\n",
    "     DRAM_factor_M=1,\n",
    "     DRAM_factor_C=4,\n",
    "     global_buffer_factor_N=1,\n",
    "     global_buffer_factor_M=1,\n",
    "     global_buffer_factor_C=1,\n",
    "     PE_spatial_factor_M=8,\n",
    "     PE_spatial_factor_C=1,\n",
    "     scratchpad_factor_N=1,\n",
    "########################\n",
    "#### YOUR CODE HERE ####\n",
    "########################\n",
    ")\n",
    "\n",
    "config_optimized_2x8 = dict( # Replace these with your optimized values\n",
    "\t DRAM_factor_N=50,\n",
    "     DRAM_factor_M=1,\n",
    "     DRAM_factor_C=1,\n",
    "     global_buffer_factor_N=1,\n",
    "     global_buffer_factor_M=1,\n",
    "     global_buffer_factor_C=2,\n",
    "     PE_spatial_factor_M=8,\n",
    "     PE_spatial_factor_C=2,\n",
    "     scratchpad_factor_N=1,\n",
    "########################\n",
    "#### YOUR CODE HERE ####\n",
    "########################\n",
    ")\n",
    "\n",
    "config_optimized_4x4 = dict( # Replace these with your optimized values\n",
    "\t DRAM_factor_N=50,\n",
    "     DRAM_factor_M=1,\n",
    "     DRAM_factor_C=1,\n",
    "     global_buffer_factor_N=1,\n",
    "     global_buffer_factor_M=2,\n",
    "     global_buffer_factor_C=1,\n",
    "     PE_spatial_factor_M=4,\n",
    "     PE_spatial_factor_C=4,\n",
    "     scratchpad_factor_N=1,\n",
    "########################\n",
    "#### YOUR CODE HERE ####\n",
    "########################\n",
    ")"
   ]
  },
  {
   "cell_type": "code",
   "execution_count": null,
   "id": "f24db2b0-1182-40b1-b84f-705c5655e39d",
   "metadata": {},
   "outputs": [
    {
     "name": "stdout",
     "output_type": "stream",
     "text": [
      "[INFO] 2025-03-08 04:06:30,205 - pytimeloop.accelergy_interface - Running Accelergy with command: accelergy /home/workspace/lab3/output_dir/parsed-processed-input.yaml -o ./output_dir/ -v\n"
     ]
    },
    {
     "name": "stderr",
     "output_type": "stream",
     "text": [
      "INFO:pytimeloop.accelergy_interface:Running Accelergy with command: accelergy /home/workspace/lab3/output_dir/parsed-processed-input.yaml -o ./output_dir/ -v\n"
     ]
    },
    {
     "name": "stdout",
     "output_type": "stream",
     "text": [
      "Example 1x16 --- Latency: 31360000 cycles; Energy: 657.11 uJ.\n",
      "\n",
      "[INFO] 2025-03-08 04:06:31,715 - pytimeloop.accelergy_interface - Running Accelergy with command: accelergy /home/workspace/lab3/output_dir/parsed-processed-input.yaml -o ./output_dir/ -v\n"
     ]
    },
    {
     "name": "stderr",
     "output_type": "stream",
     "text": [
      "INFO:pytimeloop.accelergy_interface:Running Accelergy with command: accelergy /home/workspace/lab3/output_dir/parsed-processed-input.yaml -o ./output_dir/ -v\n"
     ]
    },
    {
     "name": "stdout",
     "output_type": "stream",
     "text": [
      "Example 2x8 --- Latency: 31360000 cycles; Energy: 657.11 uJ.\n",
      "\n",
      "[INFO] 2025-03-08 04:06:33,151 - pytimeloop.accelergy_interface - Running Accelergy with command: accelergy /home/workspace/lab3/output_dir/parsed-processed-input.yaml -o ./output_dir/ -v\n"
     ]
    },
    {
     "name": "stderr",
     "output_type": "stream",
     "text": [
      "INFO:pytimeloop.accelergy_interface:Running Accelergy with command: accelergy /home/workspace/lab3/output_dir/parsed-processed-input.yaml -o ./output_dir/ -v\n"
     ]
    },
    {
     "name": "stdout",
     "output_type": "stream",
     "text": [
      "Example 4x4 --- Latency: 31360000 cycles; Energy: 657.11 uJ.\n",
      "\n",
      "[INFO] 2025-03-08 04:06:34,532 - pytimeloop.accelergy_interface - Running Accelergy with command: accelergy /home/workspace/lab3/output_dir/parsed-processed-input.yaml -o ./output_dir/ -v\n"
     ]
    },
    {
     "name": "stderr",
     "output_type": "stream",
     "text": [
      "INFO:pytimeloop.accelergy_interface:Running Accelergy with command: accelergy /home/workspace/lab3/output_dir/parsed-processed-input.yaml -o ./output_dir/ -v\n"
     ]
    },
    {
     "name": "stdout",
     "output_type": "stream",
     "text": [
      "3.1: Optimized 1x16 --- Latency: 3920000 cycles; Energy: 399.0 uJ. Passing?\n",
      "\tTrue\n",
      "\n",
      "[INFO] 2025-03-08 04:06:35,997 - pytimeloop.accelergy_interface - Running Accelergy with command: accelergy /home/workspace/lab3/output_dir/parsed-processed-input.yaml -o ./output_dir/ -v\n"
     ]
    },
    {
     "name": "stderr",
     "output_type": "stream",
     "text": [
      "INFO:pytimeloop.accelergy_interface:Running Accelergy with command: accelergy /home/workspace/lab3/output_dir/parsed-processed-input.yaml -o ./output_dir/ -v\n"
     ]
    },
    {
     "name": "stdout",
     "output_type": "stream",
     "text": [
      "3.1: Optimized 2x8 --- Latency: 1960000 cycles; Energy: 300.0 uJ. Passing?\n",
      "\tTrue\n",
      "\n",
      "[INFO] 2025-03-08 04:06:37,440 - pytimeloop.accelergy_interface - Running Accelergy with command: accelergy /home/workspace/lab3/output_dir/parsed-processed-input.yaml -o ./output_dir/ -v\n"
     ]
    },
    {
     "name": "stderr",
     "output_type": "stream",
     "text": [
      "INFO:pytimeloop.accelergy_interface:Running Accelergy with command: accelergy /home/workspace/lab3/output_dir/parsed-processed-input.yaml -o ./output_dir/ -v\n"
     ]
    },
    {
     "name": "stdout",
     "output_type": "stream",
     "text": [
      "3.1: Optimized 4x4 --- Latency: 1960000 cycles; Energy: 262.89 uJ. Passing?\n",
      "\tTrue\n",
      "\n",
      "3.1: Minimum energy achieved: 262.89 uJ. Passing?\n",
      "\tTrue\n"
     ]
    }
   ],
   "source": [
    "configs = {\n",
    "    'Example 1x16': {**config_example, \"pe_meshX\": 1, \"pe_meshY\": 16},\n",
    "    'Example 2x8': {**config_example, \"pe_meshX\": 2, \"pe_meshY\": 8},\n",
    "    'Example 4x4': {**config_example, \"pe_meshX\": 4, \"pe_meshY\": 4},\n",
    "    'Optimized 1x16': {**config_optimized_1x16, \"pe_meshX\": 1, \"pe_meshY\": 16},\n",
    "    'Optimized 2x8': {**config_optimized_2x8, \"pe_meshX\": 2, \"pe_meshY\": 8},\n",
    "    'Optimized 4x4': {**config_optimized_4x4, \"pe_meshX\": 4, \"pe_meshY\": 4},\n",
    "}\n",
    "\n",
    "# Set to None to run all configurations. FOR YOUR FINAL SUBMISSION, MAKE SURE YOU RUN ALL CONFIGURATIONS.\n",
    "CONFIG_TO_RUN = None # 'Optimized 4x4'\n",
    "\n",
    "to_run = list(configs.keys()) if CONFIG_TO_RUN is None else [CONFIG_TO_RUN]\n",
    "\n",
    "# DO NOT CHANGE\n",
    "THRES = [(float('inf'), float('inf')),\n",
    "         (float('inf'), float('inf')),\n",
    "         (float('inf'), float('inf')),\n",
    "         (4_000_000, 400),\n",
    "         (4_000_000, 400),\n",
    "         (4_000_000, 400)]\n",
    "\n",
    "min_energy = float('inf')\n",
    "for i, k in enumerate(to_run):\n",
    "    cycle_thres, energy_thres = THRES[i]\n",
    "    result = run_timeloop_model(\n",
    "        configs[k],\n",
    "        architecture='src/designs/system/arch.yaml',\n",
    "        mapping='src/designs/system/map.yaml',\n",
    "        problem='src/layer_shapes/conv2.yaml'\n",
    "    )\n",
    "    stats = open('./src/output_dir/timeloop-model.stats.txt', 'r').read()\n",
    "    mapping = result.mapping\n",
    "    if len(to_run) == 1:\n",
    "        print(stats)\n",
    "\n",
    "    lines = stats.split('\\n')\n",
    "    energy = float([l for l in lines if 'Energy:' in l][0].split(' ', 2)[1])\n",
    "    cycles = int([l for l in lines if 'Cycles:' in l][0].split(' ', 1)[1])\n",
    "    min_energy = min(min_energy, energy)\n",
    "\n",
    "    if i < 3:\n",
    "        print(f'{k} --- Latency: {cycles} cycles; Energy: {energy} uJ.')\n",
    "    print('')"
   ]
  },
  {
   "cell_type": "code",
   "execution_count": null,
   "id": "da88d869-0454-4a00-8bc9-87ab275d0546",
   "metadata": {},
   "outputs": [
    {
     "name": "stdout",
     "output_type": "stream",
     "text": [
      "\n",
      "[INFO] 2025-03-08 04:16:51,702 - pytimeloop.accelergy_interface - Running Accelergy with command: accelergy /home/workspace/lab3/output_dir/parsed-processed-input.yaml -o ./output_dir/ -v\n"
     ]
    },
    {
     "name": "stderr",
     "output_type": "stream",
     "text": [
      "INFO:pytimeloop.accelergy_interface:Running Accelergy with command: accelergy /home/workspace/lab3/output_dir/parsed-processed-input.yaml -o ./output_dir/ -v\n"
     ]
    },
    {
     "name": "stdout",
     "output_type": "stream",
     "text": [
      "3.2: 1x16 cycles and energy (uJ) for conv1\n",
      "\t[980000, 68.54]\n",
      "[INFO] 2025-03-08 04:16:56,191 - pytimeloop.accelergy_interface - Running Accelergy with command: accelergy /home/workspace/lab3/output_dir/parsed-processed-input.yaml -o ./output_dir/ -v\n"
     ]
    },
    {
     "name": "stderr",
     "output_type": "stream",
     "text": [
      "INFO:pytimeloop.accelergy_interface:Running Accelergy with command: accelergy /home/workspace/lab3/output_dir/parsed-processed-input.yaml -o ./output_dir/ -v\n"
     ]
    },
    {
     "name": "stdout",
     "output_type": "stream",
     "text": [
      "3.2: 2x8 cycles and energy (uJ) for conv1\n",
      "\t[980000, 68.54]\n",
      "[INFO] 2025-03-08 04:17:00,481 - pytimeloop.accelergy_interface - Running Accelergy with command: accelergy /home/workspace/lab3/output_dir/parsed-processed-input.yaml -o ./output_dir/ -v\n"
     ]
    },
    {
     "name": "stderr",
     "output_type": "stream",
     "text": [
      "INFO:pytimeloop.accelergy_interface:Running Accelergy with command: accelergy /home/workspace/lab3/output_dir/parsed-processed-input.yaml -o ./output_dir/ -v\n"
     ]
    },
    {
     "name": "stdout",
     "output_type": "stream",
     "text": [
      "3.2: 4x4 cycles and energy (uJ) for conv1\n",
      "\t[980000, 68.54]\n",
      "\n",
      "[INFO] 2025-03-08 04:17:04,577 - pytimeloop.accelergy_interface - Running Accelergy with command: accelergy /home/workspace/lab3/output_dir/parsed-processed-input.yaml -o ./output_dir/ -v\n"
     ]
    },
    {
     "name": "stderr",
     "output_type": "stream",
     "text": [
      "INFO:pytimeloop.accelergy_interface:Running Accelergy with command: accelergy /home/workspace/lab3/output_dir/parsed-processed-input.yaml -o ./output_dir/ -v\n"
     ]
    },
    {
     "name": "stdout",
     "output_type": "stream",
     "text": [
      "3.2: 1x16 cycles and energy (uJ) for conv2\n",
      "\t[3920000, 393.85]\n",
      "[INFO] 2025-03-08 04:17:15,256 - pytimeloop.accelergy_interface - Running Accelergy with command: accelergy /home/workspace/lab3/output_dir/parsed-processed-input.yaml -o ./output_dir/ -v\n"
     ]
    },
    {
     "name": "stderr",
     "output_type": "stream",
     "text": [
      "INFO:pytimeloop.accelergy_interface:Running Accelergy with command: accelergy /home/workspace/lab3/output_dir/parsed-processed-input.yaml -o ./output_dir/ -v\n"
     ]
    },
    {
     "name": "stdout",
     "output_type": "stream",
     "text": [
      "3.2: 2x8 cycles and energy (uJ) for conv2\n",
      "\t[1960000, 300.0]\n",
      "[INFO] 2025-03-08 04:17:22,896 - pytimeloop.accelergy_interface - Running Accelergy with command: accelergy /home/workspace/lab3/output_dir/parsed-processed-input.yaml -o ./output_dir/ -v\n"
     ]
    },
    {
     "name": "stderr",
     "output_type": "stream",
     "text": [
      "INFO:pytimeloop.accelergy_interface:Running Accelergy with command: accelergy /home/workspace/lab3/output_dir/parsed-processed-input.yaml -o ./output_dir/ -v\n"
     ]
    },
    {
     "name": "stdout",
     "output_type": "stream",
     "text": [
      "3.2: 4x4 cycles and energy (uJ) for conv2\n",
      "\t[1960000, 262.76]\n",
      "\n",
      "[INFO] 2025-03-08 04:17:31,751 - pytimeloop.accelergy_interface - Running Accelergy with command: accelergy /home/workspace/lab3/output_dir/parsed-processed-input.yaml -o ./output_dir/ -v\n"
     ]
    },
    {
     "name": "stderr",
     "output_type": "stream",
     "text": [
      "INFO:pytimeloop.accelergy_interface:Running Accelergy with command: accelergy /home/workspace/lab3/output_dir/parsed-processed-input.yaml -o ./output_dir/ -v\n"
     ]
    },
    {
     "name": "stdout",
     "output_type": "stream",
     "text": [
      "3.2: 1x16 cycles and energy (uJ) for fc1\n",
      "\t[313600, 69.39]\n",
      "[INFO] 2025-03-08 04:17:38,894 - pytimeloop.accelergy_interface - Running Accelergy with command: accelergy /home/workspace/lab3/output_dir/parsed-processed-input.yaml -o ./output_dir/ -v\n"
     ]
    },
    {
     "name": "stderr",
     "output_type": "stream",
     "text": [
      "INFO:pytimeloop.accelergy_interface:Running Accelergy with command: accelergy /home/workspace/lab3/output_dir/parsed-processed-input.yaml -o ./output_dir/ -v\n"
     ]
    },
    {
     "name": "stdout",
     "output_type": "stream",
     "text": [
      "3.2: 2x8 cycles and energy (uJ) for fc1\n",
      "\t[313600, 55.62]\n",
      "[INFO] 2025-03-08 04:17:46,026 - pytimeloop.accelergy_interface - Running Accelergy with command: accelergy /home/workspace/lab3/output_dir/parsed-processed-input.yaml -o ./output_dir/ -v\n"
     ]
    },
    {
     "name": "stderr",
     "output_type": "stream",
     "text": [
      "INFO:pytimeloop.accelergy_interface:Running Accelergy with command: accelergy /home/workspace/lab3/output_dir/parsed-processed-input.yaml -o ./output_dir/ -v\n"
     ]
    },
    {
     "name": "stdout",
     "output_type": "stream",
     "text": [
      "3.2: 4x4 cycles and energy (uJ) for fc1\n",
      "\t[313600, 49.7]\n"
     ]
    }
   ],
   "source": [
    "workloads = {\n",
    "    'conv1': 'src/layer_shapes/conv1.yaml',\n",
    "    'conv2': 'src/layer_shapes/conv2.yaml',\n",
    "    'fc1': 'src/layer_shapes/fc1.yaml'\n",
    "}\n",
    "\n",
    "pe_array_shapes = [\n",
    "    (1, 16),\n",
    "    (2, 8),\n",
    "    (4, 4)\n",
    "]\n",
    "\n",
    "all_stats = {'conv1': {}, 'conv2': {}, 'fc1': {}}\n",
    "all_maps = {'conv1': {}, 'conv2': {}, 'fc1': {}}\n",
    "\n",
    "for name, workload in workloads.items():\n",
    "    print('')\n",
    "    for meshX, meshY in [(1, 16), (2, 8), (4, 4)]:\n",
    "        result = run_timeloop_mapper(\n",
    "            {'pe_meshX': meshX, 'pe_meshY': meshY},\n",
    "            architecture='src/designs/system/arch.yaml',\n",
    "            problem=workload,\n",
    "            mapper='src/designs/_include/mapper.yaml',\n",
    "            # pe_spatial_c_constraint=True, # An extra constraint to speed up the mapper for this example.\n",
    "        )\n",
    "        stats = open('./src/output_dir/timeloop-mapper.stats.txt', 'r').read()\n",
    "        mapping = result.mapping\n",
    "        all_stats[name][(meshX, meshY)] = stats\n",
    "        all_maps[name][(meshX, meshY)] = mapping\n",
    "        lines = stats.split('\\n')\n",
    "        energy = float([l for l in lines if 'Energy:' in l][0].split(' ', 2)[1])\n",
    "        cycles = int([l for l in lines if 'Cycles:' in l][0].split(' ', 1)[1])\n",
    "        \n",
    "        answer(\n",
    "            question='3.2',\n",
    "            subquestion=f'{meshX}x{meshY} cycles and energy (uJ) for {name}',\n",
    "            answer=[cycles, energy],\n",
    "            required_type=[int, Number]\n",
    "        )"
   ]
  },
  {
   "cell_type": "markdown",
   "id": "d2b2e521",
   "metadata": {},
   "source": [
    "Additionally, you will need to consider the workload shapes, which are printed below for your convenience:"
   ]
  },
  {
   "cell_type": "code",
   "execution_count": 61,
   "id": "3217408b",
   "metadata": {},
   "outputs": [
    {
     "name": "stdout",
     "output_type": "stream",
     "text": [
      "### conv1 ###\n",
      "problem:\n",
      "  version: 0.4\n",
      "  shape:\n",
      "    name: \"CNN_Layer\"\n",
      "    dimensions: [ C, M, R, S, N, P, Q ]\n",
      "    coefficients:\n",
      "    - name: Wstride\n",
      "      default: 1\n",
      "    - name: Hstride\n",
      "      default: 1\n",
      "    - name: Wdilation\n",
      "      default: 1\n",
      "    - name: Hdilation\n",
      "      default: 1\n",
      "\n",
      "    data_spaces:\n",
      "    - name: Weights\n",
      "      projection:\n",
      "      - [ [C] ]\n",
      "      - [ [M] ]\n",
      "      - [ [R] ]\n",
      "      - [ [S] ]\n",
      "    - name: Inputs\n",
      "      projection:\n",
      "      - [ [N] ]\n",
      "      - [ [C] ]\n",
      "      - [ [R, Wdilation], [P, Wstride] ] # SOP form: R*Wdilation + P*Wstride\n",
      "      - [ [S, Hdilation], [Q, Hstride] ] # SOP form: S*Hdilation + Q*Hstride\n",
      "    - name: Outputs\n",
      "      projection:\n",
      "      - [ [N] ]\n",
      "      - [ [M] ]\n",
      "      - [ [Q] ]\n",
      "      - [ [P] ]\n",
      "      read_write: True\n",
      "\n",
      "  instance:\n",
      "    C: 1  # inchn\n",
      "    M: 4  # outchn\n",
      "    R: 5   # filter height\n",
      "    S: 5   # filter width\n",
      "    P: 28  # ofmap height\n",
      "    Q: 28  # ofmap width\n",
      "    N: 50   # batch size\n",
      "### conv2 ###\n",
      "problem:\n",
      "  version: 0.4\n",
      "  shape:\n",
      "    name: \"CNN_Layer\"\n",
      "    dimensions: [ C, M, R, S, N, P, Q ]\n",
      "    coefficients:\n",
      "    - name: Wstride\n",
      "      default: 1\n",
      "    - name: Hstride\n",
      "      default: 1\n",
      "    - name: Wdilation\n",
      "      default: 1\n",
      "    - name: Hdilation\n",
      "      default: 1\n",
      "\n",
      "    data_spaces:\n",
      "    - name: Weights\n",
      "      projection:\n",
      "      - [ [C] ]\n",
      "      - [ [M] ]\n",
      "      - [ [R] ]\n",
      "      - [ [S] ]\n",
      "    - name: Inputs\n",
      "      projection:\n",
      "      - [ [N] ]\n",
      "      - [ [C] ]\n",
      "      - [ [R, Wdilation], [P, Wstride] ] # SOP form: R*Wdilation + P*Wstride\n",
      "      - [ [S, Hdilation], [Q, Hstride] ] # SOP form: S*Hdilation + Q*Hstride\n",
      "    - name: Outputs\n",
      "      projection:\n",
      "      - [ [N] ]\n",
      "      - [ [M] ]\n",
      "      - [ [Q] ]\n",
      "      - [ [P] ]\n",
      "      read_write: True\n",
      "\n",
      "  instance:\n",
      "    C: 4  # inchn\n",
      "    M: 8  # outchn\n",
      "    R: 5   # filter height\n",
      "    S: 5   # filter width\n",
      "    P: 28  # ofmap height\n",
      "    Q: 28  # ofmap width\n",
      "    N: 50   # batch size\n",
      "### fc1 ###\n",
      "problem:\n",
      "  version: 0.4\n",
      "  shape:\n",
      "    name: \"CNN_Layer\"\n",
      "    dimensions: [ C, M, R, S, N, P, Q ]\n",
      "    coefficients:\n",
      "    - name: Wstride\n",
      "      default: 1\n",
      "    - name: Hstride\n",
      "      default: 1\n",
      "    - name: Wdilation\n",
      "      default: 1\n",
      "    - name: Hdilation\n",
      "      default: 1\n",
      "\n",
      "    data_spaces:\n",
      "    - name: Weights\n",
      "      projection:\n",
      "      - [ [C] ]\n",
      "      - [ [M] ]\n",
      "      - [ [R] ]\n",
      "      - [ [S] ]\n",
      "    - name: Inputs\n",
      "      projection:\n",
      "      - [ [N] ]\n",
      "      - [ [C] ]\n",
      "      - [ [R, Wdilation], [P, Wstride] ] # SOP form: R*Wdilation + P*Wstride\n",
      "      - [ [S, Hdilation], [Q, Hstride] ] # SOP form: S*Hdilation + Q*Hstride\n",
      "    - name: Outputs\n",
      "      projection:\n",
      "      - [ [N] ]\n",
      "      - [ [M] ]\n",
      "      - [ [Q] ]\n",
      "      - [ [P] ]\n",
      "      read_write: True\n",
      "\n",
      "  instance:\n",
      "    C: 392  # inchn\n",
      "    M: 256  # outchn\n",
      "    R: 1   # filter height\n",
      "    S: 1   # filter width\n",
      "    P: 1  # ofmap height\n",
      "    Q: 1  # ofmap width\n",
      "    N: 50   # batch size\n"
     ]
    }
   ],
   "source": [
    "for workload, file in workloads.items():\n",
    "\tprint(f\"### {workload} ###\")\n",
    "\tprint(open(file, 'r').read())"
   ]
  }
 ],
 "metadata": {
  "kernelspec": {
   "display_name": "Python 3 (ipykernel)",
   "language": "python",
   "name": "python3"
  },
  "language_info": {
   "codemirror_mode": {
    "name": "ipython",
    "version": 3
   },
   "file_extension": ".py",
   "mimetype": "text/x-python",
   "name": "python",
   "nbconvert_exporter": "python",
   "pygments_lexer": "ipython3",
   "version": "3.10.12"
  }
 },
 "nbformat": 4,
 "nbformat_minor": 5
}
