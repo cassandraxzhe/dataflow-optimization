{
 "cells": [
  {
   "cell_type": "markdown",
   "metadata": {},
   "source": [
    "We will define our genetic algorithm mapper with the following algorithm. For our algorithm, we use the following definition of fitness.\n",
    "fitness = 1 / (latency  energy)\n",
    "n = 5, k = 20, p = 10\n",
    "\n",
    "1. Generate n = 5 randomly ordered strings of the valid dataflow, that is a random permutation of [R, S, P, Q, C, M, N]. Initialize f to 0.\n",
    "2. Initialize a goal fitness g, dependent on latency and energy.\n",
    "3. While f>g,\n",
    "    Mutation: For i from 1 to n mutations, mutate each permutation k/n times to get k mutations. For each mutation, pick two parameters at random and swap them.\n",
    "    Selection: Calculate latency and energy and evaluate the fitness of each k mutations. Take the p = 10 with the highest fitness.\n",
    "    Crossover: Take pairs of p = 10 mutations and crossover to get n = 5 permutations. Let f = top fitness from these permutations.\n",
    "4. Return best permutation."
   ]
  },
  {
   "cell_type": "code",
   "execution_count": 22,
   "metadata": {},
   "outputs": [],
   "source": [
    "import random\n",
    "import pandas as pd\n",
    "import numpy as np\n",
    "import matplotlib.pyplot as plt\n",
    "from loaders import *\n",
    "import yaml\n",
    "from yaml import load"
   ]
  },
  {
   "cell_type": "code",
   "execution_count": 23,
   "metadata": {},
   "outputs": [],
   "source": [
    "ARCH_CONFIG = dict( # TODO: need to set this to out config\n",
    "        DRAM_factor_N=50,\n",
    "        DRAM_factor_M=8,\n",
    "        DRAM_factor_C=4,\n",
    "        global_buffer_factor_N=1,\n",
    "        global_buffer_factor_M=1,\n",
    "        global_buffer_factor_C=1,\n",
    "        PE_spatial_factor_M=1,\n",
    "        PE_spatial_factor_C=1,\n",
    "        scratchpad_factor_N=1,\n",
    "    )\n",
    "\n",
    "CONFIG = { **ARCH_CONFIG, \"pe_meshX\": 1, \"pe_meshY\": 16 } # TODO replace the pe mesh values"
   ]
  },
  {
   "cell_type": "code",
   "execution_count": 26,
   "metadata": {},
   "outputs": [],
   "source": [
    "def fitness(dataflow, workload):\n",
    "    # return random.randint(1, 1000)\n",
    "    data = evaluate(dataflow, workload)\n",
    "    energy, latency = data\n",
    "    inverse_EDP = 1 / (energy * latency)\n",
    "    print(f\"{dataflow} has a fitness of {inverse_EDP}\")\n",
    "    return inverse_EDP\n",
    "\n",
    "\n",
    "def evaluate(dataflow, workload):\n",
    "    '''\n",
    "    Evaluates the given dataflow on -- architecture\n",
    "\n",
    "    dataflow: computation ordering in list format\n",
    "    workload: the file path to the workload this is being evaluated on\n",
    "    returns tuple of energy, latency\n",
    "    '''\n",
    "    # TODO: should this be done with the constraints file instead?\n",
    "    # open the map file\n",
    "    mapping = 'designs/system/map.yaml'\n",
    "    stream = open(mapping, 'r')\n",
    "    dictionary = yaml.safe_load(stream)\n",
    "    print(\"current mapping: \", dictionary['mapping'][1]['permutation'])\n",
    "    dictionary['mapping'][1]['permutation'] = dataflow\n",
    "    print(\"new mapping: \", dictionary['mapping'][1]['permutation'])\n",
    "    \n",
    "    # write the mapping to a new file\n",
    "    # new_dict = yaml.safe_load(dictionary)\n",
    "    filename = ''.join(dataflow)\n",
    "    with open(f'iters/configs/{filename}.yaml', 'w') as file:\n",
    "        yaml.dump(dictionary, file)\n",
    "    # print(open(f'iters/configs/{filename}.yaml').read())\n",
    "    \n",
    "    config = CONFIG\n",
    "    #TODO write the permutation in designs/system/map.yaml to dataflow\n",
    "    THRES = (float('inf'), float('inf')) # TODO ?? \n",
    "    \n",
    "    min_energy = float('inf') # TODO: do we need this?\n",
    "    # for i, k in enumerate(to_run):\n",
    "    cycle_thres, energy_thres = THRES # TODO whats our threshold\n",
    "    result = run_timeloop_model( # TODO: this should be run_timeloop_mapper!\n",
    "        config,\n",
    "        architecture='designs/system/arch.yaml',\n",
    "        mapping=mapping,\n",
    "        problem=workload\n",
    "    )\n",
    "    stats = open('./output_dir/timeloop-model.stats.txt', 'r').read()\n",
    "    mapping = result.mapping\n",
    "    # print(stats)\n",
    "\n",
    "    lines = stats.split('\\n')\n",
    "    energy = float([l for l in lines if 'Energy:' in l][0].split(' ', 2)[1])\n",
    "    cycles = int([l for l in lines if 'Cycles:' in l][0].split(' ', 1)[1])\n",
    "    min_energy = min(min_energy, energy)\n",
    "\n",
    "    print(min_energy, cycles)\n",
    "    return min_energy, cycles\n",
    "\n",
    "    "
   ]
  },
  {
   "cell_type": "code",
   "execution_count": null,
   "metadata": {},
   "outputs": [
    {
     "name": "stdout",
     "output_type": "stream",
     "text": [
      "Initializing\n",
      "['S', 'R', 'Q', 'P', 'C', 'M', 'N']\n",
      "[INFO] 2025-04-29 20:37:29,690 - pytimeloop.accelergy_interface - Running Accelergy with command: accelergy /home/workspace/output_dir/parsed-processed-input.yaml -o ./output_dir/ -v\n"
     ]
    },
    {
     "name": "stderr",
     "output_type": "stream",
     "text": [
      "INFO:pytimeloop.accelergy_interface:Running Accelergy with command: accelergy /home/workspace/output_dir/parsed-processed-input.yaml -o ./output_dir/ -v\n"
     ]
    },
    {
     "name": "stdout",
     "output_type": "stream",
     "text": [
      "657.11 31360000\n",
      "['C', 'P', 'Q', 'M', 'S', 'R', 'N'] has a fitness of 4.8527271084051096e-11\n",
      "['S', 'R', 'Q', 'P', 'C', 'M', 'N']\n",
      "[INFO] 2025-04-29 20:37:31,974 - pytimeloop.accelergy_interface - Running Accelergy with command: accelergy /home/workspace/output_dir/parsed-processed-input.yaml -o ./output_dir/ -v\n"
     ]
    },
    {
     "name": "stderr",
     "output_type": "stream",
     "text": [
      "INFO:pytimeloop.accelergy_interface:Running Accelergy with command: accelergy /home/workspace/output_dir/parsed-processed-input.yaml -o ./output_dir/ -v\n"
     ]
    },
    {
     "name": "stdout",
     "output_type": "stream",
     "text": [
      "657.11 31360000\n",
      "['Q', 'R', 'C', 'S', 'P', 'M', 'N'] has a fitness of 4.8527271084051096e-11\n",
      "['S', 'R', 'Q', 'P', 'C', 'M', 'N']\n",
      "[INFO] 2025-04-29 20:37:34,260 - pytimeloop.accelergy_interface - Running Accelergy with command: accelergy /home/workspace/output_dir/parsed-processed-input.yaml -o ./output_dir/ -v\n"
     ]
    },
    {
     "name": "stderr",
     "output_type": "stream",
     "text": [
      "INFO:pytimeloop.accelergy_interface:Running Accelergy with command: accelergy /home/workspace/output_dir/parsed-processed-input.yaml -o ./output_dir/ -v\n"
     ]
    },
    {
     "name": "stdout",
     "output_type": "stream",
     "text": [
      "657.11 31360000\n",
      "['S', 'R', 'N', 'P', 'C', 'Q', 'M'] has a fitness of 4.8527271084051096e-11\n",
      "['S', 'R', 'Q', 'P', 'C', 'M', 'N']\n",
      "[INFO] 2025-04-29 20:37:36,512 - pytimeloop.accelergy_interface - Running Accelergy with command: accelergy /home/workspace/output_dir/parsed-processed-input.yaml -o ./output_dir/ -v\n"
     ]
    },
    {
     "name": "stderr",
     "output_type": "stream",
     "text": [
      "INFO:pytimeloop.accelergy_interface:Running Accelergy with command: accelergy /home/workspace/output_dir/parsed-processed-input.yaml -o ./output_dir/ -v\n"
     ]
    },
    {
     "name": "stdout",
     "output_type": "stream",
     "text": [
      "657.11 31360000\n",
      "['C', 'S', 'M', 'P', 'Q', 'N', 'R'] has a fitness of 4.8527271084051096e-11\n",
      "['S', 'R', 'Q', 'P', 'C', 'M', 'N']\n",
      "[INFO] 2025-04-29 20:37:38,799 - pytimeloop.accelergy_interface - Running Accelergy with command: accelergy /home/workspace/output_dir/parsed-processed-input.yaml -o ./output_dir/ -v\n"
     ]
    },
    {
     "name": "stderr",
     "output_type": "stream",
     "text": [
      "INFO:pytimeloop.accelergy_interface:Running Accelergy with command: accelergy /home/workspace/output_dir/parsed-processed-input.yaml -o ./output_dir/ -v\n"
     ]
    },
    {
     "name": "stdout",
     "output_type": "stream",
     "text": [
      "657.11 31360000\n",
      "['C', 'N', 'R', 'P', 'M', 'Q', 'S'] has a fitness of 4.8527271084051096e-11\n",
      "selection\n",
      "['S', 'R', 'Q', 'P', 'C', 'M', 'N']\n",
      "[INFO] 2025-04-29 20:37:41,090 - pytimeloop.accelergy_interface - Running Accelergy with command: accelergy /home/workspace/output_dir/parsed-processed-input.yaml -o ./output_dir/ -v\n"
     ]
    },
    {
     "name": "stderr",
     "output_type": "stream",
     "text": [
      "INFO:pytimeloop.accelergy_interface:Running Accelergy with command: accelergy /home/workspace/output_dir/parsed-processed-input.yaml -o ./output_dir/ -v\n"
     ]
    },
    {
     "name": "stdout",
     "output_type": "stream",
     "text": [
      "657.11 31360000\n",
      "['C', 'M', 'Q', 'P', 'S', 'R', 'N'] has a fitness of 4.8527271084051096e-11\n",
      "['S', 'R', 'Q', 'P', 'C', 'M', 'N']\n",
      "[INFO] 2025-04-29 20:37:43,323 - pytimeloop.accelergy_interface - Running Accelergy with command: accelergy /home/workspace/output_dir/parsed-processed-input.yaml -o ./output_dir/ -v\n"
     ]
    },
    {
     "name": "stderr",
     "output_type": "stream",
     "text": [
      "INFO:pytimeloop.accelergy_interface:Running Accelergy with command: accelergy /home/workspace/output_dir/parsed-processed-input.yaml -o ./output_dir/ -v\n"
     ]
    },
    {
     "name": "stdout",
     "output_type": "stream",
     "text": [
      "657.11 31360000\n",
      "['C', 'P', 'M', 'Q', 'S', 'R', 'N'] has a fitness of 4.8527271084051096e-11\n",
      "['S', 'R', 'Q', 'P', 'C', 'M', 'N']\n",
      "[INFO] 2025-04-29 20:37:45,636 - pytimeloop.accelergy_interface - Running Accelergy with command: accelergy /home/workspace/output_dir/parsed-processed-input.yaml -o ./output_dir/ -v\n"
     ]
    },
    {
     "name": "stderr",
     "output_type": "stream",
     "text": [
      "INFO:pytimeloop.accelergy_interface:Running Accelergy with command: accelergy /home/workspace/output_dir/parsed-processed-input.yaml -o ./output_dir/ -v\n"
     ]
    },
    {
     "name": "stdout",
     "output_type": "stream",
     "text": [
      "657.11 31360000\n",
      "['N', 'P', 'Q', 'M', 'S', 'R', 'C'] has a fitness of 4.8527271084051096e-11\n",
      "['S', 'R', 'Q', 'P', 'C', 'M', 'N']\n",
      "[INFO] 2025-04-29 20:37:47,852 - pytimeloop.accelergy_interface - Running Accelergy with command: accelergy /home/workspace/output_dir/parsed-processed-input.yaml -o ./output_dir/ -v\n"
     ]
    },
    {
     "name": "stderr",
     "output_type": "stream",
     "text": [
      "INFO:pytimeloop.accelergy_interface:Running Accelergy with command: accelergy /home/workspace/output_dir/parsed-processed-input.yaml -o ./output_dir/ -v\n"
     ]
    },
    {
     "name": "stdout",
     "output_type": "stream",
     "text": [
      "657.11 31360000\n",
      "['S', 'P', 'Q', 'M', 'C', 'R', 'N'] has a fitness of 4.8527271084051096e-11\n",
      "['S', 'R', 'Q', 'P', 'C', 'M', 'N']\n",
      "[INFO] 2025-04-29 20:37:50,161 - pytimeloop.accelergy_interface - Running Accelergy with command: accelergy /home/workspace/output_dir/parsed-processed-input.yaml -o ./output_dir/ -v\n"
     ]
    },
    {
     "name": "stderr",
     "output_type": "stream",
     "text": [
      "INFO:pytimeloop.accelergy_interface:Running Accelergy with command: accelergy /home/workspace/output_dir/parsed-processed-input.yaml -o ./output_dir/ -v\n"
     ]
    },
    {
     "name": "stdout",
     "output_type": "stream",
     "text": [
      "657.11 31360000\n",
      "['N', 'P', 'Q', 'M', 'S', 'R', 'C'] has a fitness of 4.8527271084051096e-11\n",
      "['S', 'R', 'Q', 'P', 'C', 'M', 'N']\n",
      "[INFO] 2025-04-29 20:37:52,509 - pytimeloop.accelergy_interface - Running Accelergy with command: accelergy /home/workspace/output_dir/parsed-processed-input.yaml -o ./output_dir/ -v\n"
     ]
    },
    {
     "name": "stderr",
     "output_type": "stream",
     "text": [
      "INFO:pytimeloop.accelergy_interface:Running Accelergy with command: accelergy /home/workspace/output_dir/parsed-processed-input.yaml -o ./output_dir/ -v\n"
     ]
    },
    {
     "name": "stdout",
     "output_type": "stream",
     "text": [
      "657.11 31360000\n",
      "['C', 'P', 'S', 'M', 'Q', 'R', 'N'] has a fitness of 4.8527271084051096e-11\n",
      "['S', 'R', 'Q', 'P', 'C', 'M', 'N']\n",
      "[INFO] 2025-04-29 20:37:54,788 - pytimeloop.accelergy_interface - Running Accelergy with command: accelergy /home/workspace/output_dir/parsed-processed-input.yaml -o ./output_dir/ -v\n"
     ]
    },
    {
     "name": "stderr",
     "output_type": "stream",
     "text": [
      "INFO:pytimeloop.accelergy_interface:Running Accelergy with command: accelergy /home/workspace/output_dir/parsed-processed-input.yaml -o ./output_dir/ -v\n"
     ]
    },
    {
     "name": "stdout",
     "output_type": "stream",
     "text": [
      "657.11 31360000\n",
      "['C', 'P', 'M', 'Q', 'S', 'R', 'N'] has a fitness of 4.8527271084051096e-11\n",
      "['S', 'R', 'Q', 'P', 'C', 'M', 'N']\n",
      "[INFO] 2025-04-29 20:37:57,102 - pytimeloop.accelergy_interface - Running Accelergy with command: accelergy /home/workspace/output_dir/parsed-processed-input.yaml -o ./output_dir/ -v\n"
     ]
    },
    {
     "name": "stderr",
     "output_type": "stream",
     "text": [
      "INFO:pytimeloop.accelergy_interface:Running Accelergy with command: accelergy /home/workspace/output_dir/parsed-processed-input.yaml -o ./output_dir/ -v\n"
     ]
    },
    {
     "name": "stdout",
     "output_type": "stream",
     "text": [
      "657.11 31360000\n",
      "['C', 'Q', 'P', 'M', 'S', 'R', 'N'] has a fitness of 4.8527271084051096e-11\n",
      "['S', 'R', 'Q', 'P', 'C', 'M', 'N']\n",
      "[INFO] 2025-04-29 20:37:59,436 - pytimeloop.accelergy_interface - Running Accelergy with command: accelergy /home/workspace/output_dir/parsed-processed-input.yaml -o ./output_dir/ -v\n"
     ]
    },
    {
     "name": "stderr",
     "output_type": "stream",
     "text": [
      "INFO:pytimeloop.accelergy_interface:Running Accelergy with command: accelergy /home/workspace/output_dir/parsed-processed-input.yaml -o ./output_dir/ -v\n"
     ]
    },
    {
     "name": "stdout",
     "output_type": "stream",
     "text": [
      "657.11 31360000\n",
      "['M', 'P', 'Q', 'C', 'S', 'R', 'N'] has a fitness of 4.8527271084051096e-11\n",
      "['S', 'R', 'Q', 'P', 'C', 'M', 'N']\n",
      "[INFO] 2025-04-29 20:38:01,726 - pytimeloop.accelergy_interface - Running Accelergy with command: accelergy /home/workspace/output_dir/parsed-processed-input.yaml -o ./output_dir/ -v\n"
     ]
    },
    {
     "name": "stderr",
     "output_type": "stream",
     "text": [
      "INFO:pytimeloop.accelergy_interface:Running Accelergy with command: accelergy /home/workspace/output_dir/parsed-processed-input.yaml -o ./output_dir/ -v\n"
     ]
    },
    {
     "name": "stdout",
     "output_type": "stream",
     "text": [
      "657.11 31360000\n",
      "['C', 'P', 'Q', 'M', 'R', 'S', 'N'] has a fitness of 4.8527271084051096e-11\n",
      "['S', 'R', 'Q', 'P', 'C', 'M', 'N']\n",
      "[INFO] 2025-04-29 20:38:04,073 - pytimeloop.accelergy_interface - Running Accelergy with command: accelergy /home/workspace/output_dir/parsed-processed-input.yaml -o ./output_dir/ -v\n"
     ]
    },
    {
     "name": "stderr",
     "output_type": "stream",
     "text": [
      "INFO:pytimeloop.accelergy_interface:Running Accelergy with command: accelergy /home/workspace/output_dir/parsed-processed-input.yaml -o ./output_dir/ -v\n"
     ]
    },
    {
     "name": "stdout",
     "output_type": "stream",
     "text": [
      "657.11 31360000\n",
      "['C', 'Q', 'P', 'M', 'S', 'R', 'N'] has a fitness of 4.8527271084051096e-11\n",
      "['S', 'R', 'Q', 'P', 'C', 'M', 'N']\n",
      "[INFO] 2025-04-29 20:38:06,409 - pytimeloop.accelergy_interface - Running Accelergy with command: accelergy /home/workspace/output_dir/parsed-processed-input.yaml -o ./output_dir/ -v\n"
     ]
    },
    {
     "name": "stderr",
     "output_type": "stream",
     "text": [
      "INFO:pytimeloop.accelergy_interface:Running Accelergy with command: accelergy /home/workspace/output_dir/parsed-processed-input.yaml -o ./output_dir/ -v\n"
     ]
    },
    {
     "name": "stdout",
     "output_type": "stream",
     "text": [
      "657.11 31360000\n",
      "['Q', 'P', 'C', 'M', 'S', 'R', 'N'] has a fitness of 4.8527271084051096e-11\n",
      "['S', 'R', 'Q', 'P', 'C', 'M', 'N']\n",
      "[INFO] 2025-04-29 20:38:08,738 - pytimeloop.accelergy_interface - Running Accelergy with command: accelergy /home/workspace/output_dir/parsed-processed-input.yaml -o ./output_dir/ -v\n"
     ]
    },
    {
     "name": "stderr",
     "output_type": "stream",
     "text": [
      "INFO:pytimeloop.accelergy_interface:Running Accelergy with command: accelergy /home/workspace/output_dir/parsed-processed-input.yaml -o ./output_dir/ -v\n"
     ]
    },
    {
     "name": "stdout",
     "output_type": "stream",
     "text": [
      "657.11 31360000\n",
      "['M', 'P', 'Q', 'C', 'S', 'R', 'N'] has a fitness of 4.8527271084051096e-11\n",
      "['S', 'R', 'Q', 'P', 'C', 'M', 'N']\n",
      "[INFO] 2025-04-29 20:38:11,013 - pytimeloop.accelergy_interface - Running Accelergy with command: accelergy /home/workspace/output_dir/parsed-processed-input.yaml -o ./output_dir/ -v\n"
     ]
    },
    {
     "name": "stderr",
     "output_type": "stream",
     "text": [
      "INFO:pytimeloop.accelergy_interface:Running Accelergy with command: accelergy /home/workspace/output_dir/parsed-processed-input.yaml -o ./output_dir/ -v\n"
     ]
    },
    {
     "name": "stdout",
     "output_type": "stream",
     "text": [
      "657.11 31360000\n",
      "['C', 'P', 'Q', 'S', 'M', 'R', 'N'] has a fitness of 4.8527271084051096e-11\n",
      "['S', 'R', 'Q', 'P', 'C', 'M', 'N']\n",
      "[INFO] 2025-04-29 20:38:13,240 - pytimeloop.accelergy_interface - Running Accelergy with command: accelergy /home/workspace/output_dir/parsed-processed-input.yaml -o ./output_dir/ -v\n"
     ]
    },
    {
     "name": "stderr",
     "output_type": "stream",
     "text": [
      "INFO:pytimeloop.accelergy_interface:Running Accelergy with command: accelergy /home/workspace/output_dir/parsed-processed-input.yaml -o ./output_dir/ -v\n"
     ]
    },
    {
     "name": "stdout",
     "output_type": "stream",
     "text": [
      "657.11 31360000\n",
      "['C', 'P', 'Q', 'N', 'S', 'R', 'M'] has a fitness of 4.8527271084051096e-11\n",
      "['S', 'R', 'Q', 'P', 'C', 'M', 'N']\n",
      "[INFO] 2025-04-29 20:38:15,529 - pytimeloop.accelergy_interface - Running Accelergy with command: accelergy /home/workspace/output_dir/parsed-processed-input.yaml -o ./output_dir/ -v\n"
     ]
    },
    {
     "name": "stderr",
     "output_type": "stream",
     "text": [
      "INFO:pytimeloop.accelergy_interface:Running Accelergy with command: accelergy /home/workspace/output_dir/parsed-processed-input.yaml -o ./output_dir/ -v\n"
     ]
    },
    {
     "name": "stdout",
     "output_type": "stream",
     "text": [
      "657.11 31360000\n",
      "['C', 'R', 'Q', 'M', 'S', 'P', 'N'] has a fitness of 4.8527271084051096e-11\n",
      "['S', 'R', 'Q', 'P', 'C', 'M', 'N']\n",
      "[INFO] 2025-04-29 20:38:17,833 - pytimeloop.accelergy_interface - Running Accelergy with command: accelergy /home/workspace/output_dir/parsed-processed-input.yaml -o ./output_dir/ -v\n"
     ]
    },
    {
     "name": "stderr",
     "output_type": "stream",
     "text": [
      "INFO:pytimeloop.accelergy_interface:Running Accelergy with command: accelergy /home/workspace/output_dir/parsed-processed-input.yaml -o ./output_dir/ -v\n"
     ]
    },
    {
     "name": "stdout",
     "output_type": "stream",
     "text": [
      "657.11 31360000\n",
      "['S', 'P', 'Q', 'M', 'C', 'R', 'N'] has a fitness of 4.8527271084051096e-11\n",
      "['S', 'R', 'Q', 'P', 'C', 'M', 'N']\n",
      "[INFO] 2025-04-29 20:38:20,137 - pytimeloop.accelergy_interface - Running Accelergy with command: accelergy /home/workspace/output_dir/parsed-processed-input.yaml -o ./output_dir/ -v\n"
     ]
    },
    {
     "name": "stderr",
     "output_type": "stream",
     "text": [
      "INFO:pytimeloop.accelergy_interface:Running Accelergy with command: accelergy /home/workspace/output_dir/parsed-processed-input.yaml -o ./output_dir/ -v\n"
     ]
    },
    {
     "name": "stdout",
     "output_type": "stream",
     "text": [
      "657.11 31360000\n",
      "['S', 'P', 'Q', 'M', 'C', 'R', 'N'] has a fitness of 4.8527271084051096e-11\n",
      "['S', 'R', 'Q', 'P', 'C', 'M', 'N']\n",
      "[INFO] 2025-04-29 20:38:22,446 - pytimeloop.accelergy_interface - Running Accelergy with command: accelergy /home/workspace/output_dir/parsed-processed-input.yaml -o ./output_dir/ -v\n"
     ]
    },
    {
     "name": "stderr",
     "output_type": "stream",
     "text": [
      "INFO:pytimeloop.accelergy_interface:Running Accelergy with command: accelergy /home/workspace/output_dir/parsed-processed-input.yaml -o ./output_dir/ -v\n"
     ]
    },
    {
     "name": "stdout",
     "output_type": "stream",
     "text": [
      "657.11 31360000\n",
      "['P', 'C', 'Q', 'M', 'S', 'R', 'N'] has a fitness of 4.8527271084051096e-11\n",
      "['S', 'R', 'Q', 'P', 'C', 'M', 'N']\n",
      "[INFO] 2025-04-29 20:38:24,693 - pytimeloop.accelergy_interface - Running Accelergy with command: accelergy /home/workspace/output_dir/parsed-processed-input.yaml -o ./output_dir/ -v\n"
     ]
    },
    {
     "name": "stderr",
     "output_type": "stream",
     "text": [
      "INFO:pytimeloop.accelergy_interface:Running Accelergy with command: accelergy /home/workspace/output_dir/parsed-processed-input.yaml -o ./output_dir/ -v\n"
     ]
    },
    {
     "name": "stdout",
     "output_type": "stream",
     "text": [
      "657.11 31360000\n",
      "['M', 'P', 'Q', 'C', 'S', 'R', 'N'] has a fitness of 4.8527271084051096e-11\n",
      "['S', 'R', 'Q', 'P', 'C', 'M', 'N']\n",
      "[INFO] 2025-04-29 20:38:27,021 - pytimeloop.accelergy_interface - Running Accelergy with command: accelergy /home/workspace/output_dir/parsed-processed-input.yaml -o ./output_dir/ -v\n"
     ]
    },
    {
     "name": "stderr",
     "output_type": "stream",
     "text": [
      "INFO:pytimeloop.accelergy_interface:Running Accelergy with command: accelergy /home/workspace/output_dir/parsed-processed-input.yaml -o ./output_dir/ -v\n"
     ]
    },
    {
     "name": "stdout",
     "output_type": "stream",
     "text": [
      "657.11 31360000\n",
      "['Q', 'R', 'S', 'C', 'P', 'M', 'N'] has a fitness of 4.8527271084051096e-11\n",
      "['S', 'R', 'Q', 'P', 'C', 'M', 'N']\n",
      "[INFO] 2025-04-29 20:38:29,326 - pytimeloop.accelergy_interface - Running Accelergy with command: accelergy /home/workspace/output_dir/parsed-processed-input.yaml -o ./output_dir/ -v\n"
     ]
    },
    {
     "name": "stderr",
     "output_type": "stream",
     "text": [
      "INFO:pytimeloop.accelergy_interface:Running Accelergy with command: accelergy /home/workspace/output_dir/parsed-processed-input.yaml -o ./output_dir/ -v\n"
     ]
    },
    {
     "name": "stdout",
     "output_type": "stream",
     "text": [
      "657.11 31360000\n",
      "['C', 'R', 'Q', 'S', 'P', 'M', 'N'] has a fitness of 4.8527271084051096e-11\n",
      "['S', 'R', 'Q', 'P', 'C', 'M', 'N']\n",
      "[INFO] 2025-04-29 20:38:31,576 - pytimeloop.accelergy_interface - Running Accelergy with command: accelergy /home/workspace/output_dir/parsed-processed-input.yaml -o ./output_dir/ -v\n"
     ]
    },
    {
     "name": "stderr",
     "output_type": "stream",
     "text": [
      "INFO:pytimeloop.accelergy_interface:Running Accelergy with command: accelergy /home/workspace/output_dir/parsed-processed-input.yaml -o ./output_dir/ -v\n"
     ]
    },
    {
     "name": "stdout",
     "output_type": "stream",
     "text": [
      "657.11 31360000\n",
      "['M', 'R', 'C', 'S', 'P', 'Q', 'N'] has a fitness of 4.8527271084051096e-11\n",
      "['S', 'R', 'Q', 'P', 'C', 'M', 'N']\n",
      "[INFO] 2025-04-29 20:38:33,884 - pytimeloop.accelergy_interface - Running Accelergy with command: accelergy /home/workspace/output_dir/parsed-processed-input.yaml -o ./output_dir/ -v\n"
     ]
    },
    {
     "name": "stderr",
     "output_type": "stream",
     "text": [
      "INFO:pytimeloop.accelergy_interface:Running Accelergy with command: accelergy /home/workspace/output_dir/parsed-processed-input.yaml -o ./output_dir/ -v\n"
     ]
    },
    {
     "name": "stdout",
     "output_type": "stream",
     "text": [
      "657.11 31360000\n",
      "['C', 'R', 'Q', 'S', 'P', 'M', 'N'] has a fitness of 4.8527271084051096e-11\n",
      "['S', 'R', 'Q', 'P', 'C', 'M', 'N']\n",
      "[INFO] 2025-04-29 20:38:36,223 - pytimeloop.accelergy_interface - Running Accelergy with command: accelergy /home/workspace/output_dir/parsed-processed-input.yaml -o ./output_dir/ -v\n"
     ]
    },
    {
     "name": "stderr",
     "output_type": "stream",
     "text": [
      "INFO:pytimeloop.accelergy_interface:Running Accelergy with command: accelergy /home/workspace/output_dir/parsed-processed-input.yaml -o ./output_dir/ -v\n"
     ]
    },
    {
     "name": "stdout",
     "output_type": "stream",
     "text": [
      "657.11 31360000\n",
      "['N', 'R', 'C', 'S', 'P', 'M', 'Q'] has a fitness of 4.8527271084051096e-11\n",
      "['S', 'R', 'Q', 'P', 'C', 'M', 'N']\n",
      "[INFO] 2025-04-29 20:38:38,486 - pytimeloop.accelergy_interface - Running Accelergy with command: accelergy /home/workspace/output_dir/parsed-processed-input.yaml -o ./output_dir/ -v\n"
     ]
    },
    {
     "name": "stderr",
     "output_type": "stream",
     "text": [
      "INFO:pytimeloop.accelergy_interface:Running Accelergy with command: accelergy /home/workspace/output_dir/parsed-processed-input.yaml -o ./output_dir/ -v\n"
     ]
    }
   ],
   "source": [
    "# convolution\n",
    "dataflow = ['R', 'S', 'P', 'Q', 'C', 'M', 'N']\n",
    "workload = 'layer_shapes/conv2.yaml'\n",
    "\n",
    "# n population -> k mutations -> p selection -> n population\n",
    "# constraints: n | k, p/2 = n\n",
    "n = 5\n",
    "k = 20\n",
    "p = 10\n",
    "\n",
    "# Generate n base permutations\n",
    "population = [random.sample(dataflow, len(dataflow)) for i in range(n)]\n",
    "\n",
    "print(\"Initializing\")\n",
    "# Initialize base fitness and goal fitness\n",
    "dfs_fitnesses = [[df, fitness(df, workload)] for df in population]\n",
    "best_df, f = max(dfs_fitnesses, key=lambda x: x[1])\n",
    "g = 1000  # if terminating using goal fitness\n",
    "iter = 10  # if terminating using timeout\n",
    "\n",
    "for i in range(iter):\n",
    "    # Mutation\n",
    "    mutations = []  # len(mutations) = k\n",
    "    for df in population:\n",
    "        for m in range(k):\n",
    "            mutation = df.copy()\n",
    "            # swap two random indices\n",
    "            idx1, idx2 = random.sample(range(len(dataflow)), 2)\n",
    "            mutation[idx1], mutation[idx2] = mutation[idx2], mutation[idx1]\n",
    "            mutations.append(mutation)\n",
    "    \n",
    "    # Selection\n",
    "    print(\"selection\")\n",
    "    mutations_fitnesses = [[mutation, fitness(mutation, workload)] for mutation in mutations]\n",
    "    mutations_fitnesses.sort(key=lambda x: x[1], reverse=True) # high to low fitness\n",
    "    selections_fitnesses = mutations_fitnesses[:p] \n",
    "    selections = [x[0] for x in selections_fitnesses] # len(selections) = p\n",
    "\n",
    "    # Crossover\n",
    "    print(\"crossover\")\n",
    "    random.shuffle(selections)\n",
    "    crossover_pairs = [(selections[i], selections[i+1]) for i in range(0, len(selections), 2)]\n",
    "    crossovers = []  # len(crossovers) = n\n",
    "    for pair in crossover_pairs:\n",
    "        s1, s2 = pair\n",
    "        cut_point = random.randint(1, len(s1) - 1)\n",
    "        first_half = s1[:cut_point]\n",
    "        second_half = s2.copy()\n",
    "        for parameter in first_half:\n",
    "            second_half.remove(parameter)\n",
    "        crossover = first_half + second_half\n",
    "        crossovers.append(crossover)\n",
    "\n",
    "    crossovers_fitnesses = [[crossover, fitness(crossover, workload)] for crossover in crossovers]\n",
    "    best_df_trial, f_trial = max(crossovers_fitnesses, key=lambda x: x[1])\n",
    "    if f_trial > f:\n",
    "        best_df, f = best_df_trial, f_trial\n",
    "    if f >= g:\n",
    "        break"
   ]
  },
  {
   "cell_type": "code",
   "execution_count": null,
   "metadata": {},
   "outputs": [],
   "source": []
  }
 ],
 "metadata": {
  "kernelspec": {
   "display_name": "Python 3 (ipykernel)",
   "language": "python",
   "name": "python3"
  },
  "language_info": {
   "codemirror_mode": {
    "name": "ipython",
    "version": 3
   },
   "file_extension": ".py",
   "mimetype": "text/x-python",
   "name": "python",
   "nbconvert_exporter": "python",
   "pygments_lexer": "ipython3",
   "version": "3.10.12"
  }
 },
 "nbformat": 4,
 "nbformat_minor": 4
}
