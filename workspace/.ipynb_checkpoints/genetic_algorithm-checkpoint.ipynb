{
 "cells": [
  {
   "cell_type": "markdown",
   "metadata": {},
   "source": [
    "We will define our genetic algorithm mapper with the following algorithm. For our algorithm, we use the following definition of fitness.\n",
    "fitness = 1 / (latency  energy)\n",
    "n = 5, k = 20, p = 10\n",
    "\n",
    "1. Generate n = 5 randomly ordered strings of the valid dataflow, that is a random permutation of [R, S, P, Q, C, M, N]. Initialize f to 0.\n",
    "2. Initialize a goal fitness g, dependent on latency and energy.\n",
    "3. While f>g,\n",
    "    Mutation: For i from 1 to n mutations, mutate each permutation k/n times to get k mutations. For each mutation, pick two parameters at random and swap them.\n",
    "    Selection: Calculate latency and energy and evaluate the fitness of each k mutations. Take the p = 10 with the highest fitness.\n",
    "    Crossover: Take pairs of p = 10 mutations and crossover to get n = 5 permutations. Let f = top fitness from these permutations.\n",
    "4. Return best permutation."
   ]
  },
  {
   "cell_type": "code",
   "execution_count": 11,
   "metadata": {},
   "outputs": [],
   "source": [
    "import random"
   ]
  },
  {
   "cell_type": "code",
   "execution_count": 39,
   "metadata": {},
   "outputs": [],
   "source": [
    "def fitness(dataflow):\n",
    "    return random.randint(1, 1000)"
   ]
  },
  {
   "cell_type": "code",
   "execution_count": null,
   "metadata": {},
   "outputs": [
    {
     "name": "stdout",
     "output_type": "stream",
     "text": [
      "['C', 'S', 'P', 'Q', 'R', 'N', 'M'] 939\n",
      "trial: ['C', 'S', 'M', 'Q', 'R', 'N', 'P'] 625\n",
      "trial: ['P', 'R', 'S', 'N', 'Q', 'M', 'C'] 949\n",
      "['P', 'R', 'S', 'N', 'Q', 'M', 'C'] 949\n",
      "trial: ['M', 'Q', 'N', 'R', 'C', 'S', 'P'] 993\n",
      "['M', 'Q', 'N', 'R', 'C', 'S', 'P'] 993\n",
      "trial: ['R', 'P', 'M', 'S', 'Q', 'N', 'C'] 588\n",
      "trial: ['C', 'S', 'R', 'N', 'P', 'Q', 'M'] 782\n",
      "trial: ['R', 'C', 'M', 'S', 'Q', 'P', 'N'] 340\n",
      "trial: ['M', 'Q', 'N', 'R', 'C', 'S', 'P'] 962\n",
      "trial: ['C', 'S', 'P', 'M', 'N', 'Q', 'R'] 863\n",
      "trial: ['R', 'P', 'S', 'Q', 'N', 'M', 'C'] 835\n",
      "trial: ['C', 'P', 'S', 'N', 'Q', 'M', 'R'] 943\n",
      "['M', 'Q', 'N', 'R', 'C', 'S', 'P'] 993\n"
     ]
    }
   ],
   "source": [
    "# convolution\n",
    "dataflow = ['R', 'S', 'P', 'Q', 'C', 'M', 'N']\n",
    "\n",
    "# n population -> k mutations -> p selection -> n population\n",
    "# constraints: n | k, p/2 = n\n",
    "n = 5\n",
    "k = 20\n",
    "p = 10\n",
    "\n",
    "# Generate n base permutations\n",
    "population = [random.sample(dataflow, len(dataflow)) for i in range(n)]\n",
    "\n",
    "# Initialize base fitness and goal fitness\n",
    "dfs_fitnesses = [[df, fitness(df)] for df in population]\n",
    "best_df, f = max(dfs_fitnesses, key=lambda x: x[1])\n",
    "g = 1000  # if terminating using goal fitness\n",
    "iter = 10  # if terminating using timeout\n",
    "\n",
    "for i in range(iter):\n",
    "    # Mutation\n",
    "    mutations = []  # len(mutations) = k\n",
    "    for df in population:\n",
    "        for m in range(k):\n",
    "            mutation = df.copy()\n",
    "            # swap two random indices\n",
    "            idx1, idx2 = random.sample(range(len(dataflow)), 2)\n",
    "            mutation[idx1], mutation[idx2] = mutation[idx2], mutation[idx1]\n",
    "            mutations.append(mutation)\n",
    "    \n",
    "    # Selection\n",
    "    mutations_fitnesses = [[mutation, fitness(mutation)] for mutation in mutations]\n",
    "    mutations_fitnesses.sort(key=lambda x: x[1], reverse=True) # high to low fitness\n",
    "    selections_fitnesses = mutations_fitnesses[:p] \n",
    "    selections = [x[0] for x in selections_fitnesses] # len(selections) = p\n",
    "\n",
    "    # Crossover\n",
    "    random.shuffle(selections)\n",
    "    crossover_pairs = [(selections[i], selections[i+1]) for i in range(0, len(selections), 2)]\n",
    "    crossovers = []  # len(crossovers) = n\n",
    "    for pair in crossover_pairs:\n",
    "        s1, s2 = pair\n",
    "        cut_point = random.randint(1, len(s1) - 1)\n",
    "        first_half = s1[:cut_point]\n",
    "        second_half = s2.copy()\n",
    "        for parameter in first_half:\n",
    "            second_half.remove(parameter)\n",
    "        crossover = first_half + second_half\n",
    "        crossovers.append(crossover)\n",
    "\n",
    "    crossovers_fitnesses = [[crossover, fitness(crossover)] for crossover in crossovers]\n",
    "    best_df_trial, f_trial = max(crossovers_fitnesses, key=lambda x: x[1])\n",
    "    if f_trial > f:\n",
    "        best_df, f = best_df_trial, f_trial\n",
    "    if f >= g:\n",
    "        break"
   ]
  }
 ],
 "metadata": {
  "kernelspec": {
   "display_name": "base",
   "language": "python",
   "name": "python3"
  },
  "language_info": {
   "codemirror_mode": {
    "name": "ipython",
    "version": 3
   },
   "file_extension": ".py",
   "mimetype": "text/x-python",
   "name": "python",
   "nbconvert_exporter": "python",
   "pygments_lexer": "ipython3",
   "version": "3.9.12"
  }
 },
 "nbformat": 4,
 "nbformat_minor": 2
}
