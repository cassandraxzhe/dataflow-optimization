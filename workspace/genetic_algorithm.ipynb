{
 "cells": [
  {
   "cell_type": "markdown",
   "metadata": {},
   "source": [
    "We will define our genetic algorithm mapper with the following algorithm. For our algorithm, we use the following definition of fitness.\n",
    "fitness = 1 / (latency  energy)\n",
    "n = 5, k = 20, p = 10\n",
    "\n",
    "1. Generate n = 5 randomly ordered strings of the valid dataflow, that is a random permutation of [R, S, P, Q, C, M, N]. Initialize f to 0.\n",
    "2. Initialize a goal fitness g, dependent on latency and energy.\n",
    "3. While f>g,\n",
    "    Mutation: For i from 1 to n mutations, mutate each permutation k/n times to get k mutations. For each mutation, pick two parameters at random and swap them.\n",
    "    Selection: Calculate latency and energy and evaluate the fitness of each k mutations. Take the p = 10 with the highest fitness.\n",
    "    Crossover: Take pairs of p = 10 mutations and crossover to get n = 5 permutations. Let f = top fitness from these permutations.\n",
    "4. Return best permutation."
   ]
  },
  {
   "cell_type": "code",
   "execution_count": 28,
   "metadata": {},
   "outputs": [],
   "source": [
    "import random\n",
    "import pandas as pd\n",
    "import numpy as np\n",
    "import matplotlib.pyplot as plt\n",
    "from loaders import *\n",
    "import yaml\n",
    "from yaml import load"
   ]
  },
  {
   "cell_type": "code",
   "execution_count": 29,
   "metadata": {},
   "outputs": [],
   "source": [
    "ARCH_CONFIG = dict( # TODO: need to set this to out config\n",
    "        DRAM_factor_N=50,\n",
    "        DRAM_factor_M=8,\n",
    "        DRAM_factor_C=4,\n",
    "        global_buffer_factor_N=1,\n",
    "        global_buffer_factor_M=1,\n",
    "        global_buffer_factor_C=1,\n",
    "        PE_spatial_factor_M=1,\n",
    "        PE_spatial_factor_C=1,\n",
    "        scratchpad_factor_N=1,\n",
    "    )\n",
    "\n",
    "CONFIG = { **ARCH_CONFIG, \"pe_meshX\": 1, \"pe_meshY\": 16 } # TODO replace the pe mesh values"
   ]
  },
  {
   "cell_type": "code",
   "execution_count": 30,
   "metadata": {},
   "outputs": [],
   "source": [
    "def fitness(dataflow, workload):\n",
    "    # return random.randint(1, 1000)\n",
    "    data = evaluate(dataflow, workload)\n",
    "    energy, latency = data\n",
    "    inverse_EDP = 1 / (energy * latency)\n",
    "    print(f\"{dataflow} has a fitness of {inverse_EDP}\")\n",
    "    return inverse_EDP\n",
    "\n",
    "\n",
    "def evaluate(dataflow, workload):\n",
    "    '''\n",
    "    Evaluates the given dataflow on -- architecture\n",
    "\n",
    "    dataflow: computation ordering in list format\n",
    "    workload: the file path to the workload this is being evaluated on\n",
    "    returns tuple of energy, latency\n",
    "    '''\n",
    "    # TODO: should this be done with the constraints file instead?\n",
    "    # open the map file\n",
    "    mapping = 'designs/system/map.yaml'\n",
    "    stream = open(mapping, 'r')\n",
    "    dictionary = yaml.safe_load(stream)\n",
    "    print(\"current mapping: \", dictionary['mapping'][1]['permutation'])\n",
    "    dictionary['mapping'][1]['permutation'] = dataflow\n",
    "    print(\"new mapping: \", dictionary['mapping'][1]['permutation'])\n",
    "    \n",
    "    # write the mapping to a new file\n",
    "    filename = ''.join(dataflow)\n",
    "    with open(f'iters/configs/{filename}.yaml', 'w') as file:\n",
    "        yaml.dump(dictionary, file)\n",
    "    # print(open(f'iters/configs/{filename}.yaml').read())\n",
    "    \n",
    "    config = CONFIG\n",
    "    #TODO write the permutation in designs/system/map.yaml to dataflow\n",
    "    THRES = (float('inf'), float('inf')) # TODO ?? \n",
    "    \n",
    "    min_energy = float('inf') # TODO: do we need this?\n",
    "    # for i, k in enumerate(to_run):\n",
    "    cycle_thres, energy_thres = THRES # TODO whats our threshold\n",
    "    result = run_timeloop_model( # TODO: this should be run_timeloop_mapper!\n",
    "        config,\n",
    "        architecture='designs/system/arch.yaml',\n",
    "        mapping=mapping,\n",
    "        problem=workload\n",
    "    )\n",
    "    stats = open('./output_dir/timeloop-model.stats.txt', 'r').read()\n",
    "    mapping = result.mapping\n",
    "    # print(stats)\n",
    "\n",
    "    lines = stats.split('\\n')\n",
    "    energy = float([l for l in lines if 'Energy:' in l][0].split(' ', 2)[1])\n",
    "    cycles = int([l for l in lines if 'Cycles:' in l][0].split(' ', 1)[1])\n",
    "    min_energy = min(min_energy, energy)\n",
    "\n",
    "    print(min_energy, cycles)\n",
    "    return min_energy, cycles\n",
    "\n",
    "    "
   ]
  },
  {
   "cell_type": "code",
   "execution_count": 31,
   "metadata": {},
   "outputs": [
    {
     "name": "stdout",
     "output_type": "stream",
     "text": [
      "Initializing\n",
      "current mapping:  ['S', 'R', 'Q', 'P', 'C', 'M', 'N']\n",
      "new mapping:  ['S', 'M', 'N', 'P', 'C', 'Q', 'R']\n",
      "[INFO] 2025-04-29 20:39:20,707 - pytimeloop.accelergy_interface - Running Accelergy with command: accelergy /home/workspace/output_dir/parsed-processed-input.yaml -o ./output_dir/ -v\n"
     ]
    },
    {
     "name": "stderr",
     "output_type": "stream",
     "text": [
      "INFO:pytimeloop.accelergy_interface:Running Accelergy with command: accelergy /home/workspace/output_dir/parsed-processed-input.yaml -o ./output_dir/ -v\n"
     ]
    },
    {
     "name": "stdout",
     "output_type": "stream",
     "text": [
      "657.11 31360000\n",
      "['S', 'M', 'N', 'P', 'C', 'Q', 'R'] has a fitness of 4.8527271084051096e-11\n",
      "current mapping:  ['S', 'R', 'Q', 'P', 'C', 'M', 'N']\n",
      "new mapping:  ['P', 'R', 'C', 'M', 'N', 'Q', 'S']\n",
      "[INFO] 2025-04-29 20:39:22,985 - pytimeloop.accelergy_interface - Running Accelergy with command: accelergy /home/workspace/output_dir/parsed-processed-input.yaml -o ./output_dir/ -v\n"
     ]
    },
    {
     "name": "stderr",
     "output_type": "stream",
     "text": [
      "INFO:pytimeloop.accelergy_interface:Running Accelergy with command: accelergy /home/workspace/output_dir/parsed-processed-input.yaml -o ./output_dir/ -v\n"
     ]
    },
    {
     "name": "stdout",
     "output_type": "stream",
     "text": [
      "657.11 31360000\n",
      "['P', 'R', 'C', 'M', 'N', 'Q', 'S'] has a fitness of 4.8527271084051096e-11\n",
      "current mapping:  ['S', 'R', 'Q', 'P', 'C', 'M', 'N']\n",
      "new mapping:  ['P', 'N', 'C', 'M', 'Q', 'S', 'R']\n",
      "[INFO] 2025-04-29 20:39:25,217 - pytimeloop.accelergy_interface - Running Accelergy with command: accelergy /home/workspace/output_dir/parsed-processed-input.yaml -o ./output_dir/ -v\n"
     ]
    },
    {
     "name": "stderr",
     "output_type": "stream",
     "text": [
      "INFO:pytimeloop.accelergy_interface:Running Accelergy with command: accelergy /home/workspace/output_dir/parsed-processed-input.yaml -o ./output_dir/ -v\n"
     ]
    },
    {
     "name": "stdout",
     "output_type": "stream",
     "text": [
      "657.11 31360000\n",
      "['P', 'N', 'C', 'M', 'Q', 'S', 'R'] has a fitness of 4.8527271084051096e-11\n",
      "current mapping:  ['S', 'R', 'Q', 'P', 'C', 'M', 'N']\n",
      "new mapping:  ['R', 'C', 'M', 'P', 'Q', 'S', 'N']\n",
      "[INFO] 2025-04-29 20:39:27,502 - pytimeloop.accelergy_interface - Running Accelergy with command: accelergy /home/workspace/output_dir/parsed-processed-input.yaml -o ./output_dir/ -v\n"
     ]
    },
    {
     "name": "stderr",
     "output_type": "stream",
     "text": [
      "INFO:pytimeloop.accelergy_interface:Running Accelergy with command: accelergy /home/workspace/output_dir/parsed-processed-input.yaml -o ./output_dir/ -v\n"
     ]
    },
    {
     "name": "stdout",
     "output_type": "stream",
     "text": [
      "657.11 31360000\n",
      "['R', 'C', 'M', 'P', 'Q', 'S', 'N'] has a fitness of 4.8527271084051096e-11\n",
      "current mapping:  ['S', 'R', 'Q', 'P', 'C', 'M', 'N']\n",
      "new mapping:  ['Q', 'M', 'P', 'R', 'S', 'C', 'N']\n",
      "[INFO] 2025-04-29 20:39:29,803 - pytimeloop.accelergy_interface - Running Accelergy with command: accelergy /home/workspace/output_dir/parsed-processed-input.yaml -o ./output_dir/ -v\n"
     ]
    },
    {
     "name": "stderr",
     "output_type": "stream",
     "text": [
      "INFO:pytimeloop.accelergy_interface:Running Accelergy with command: accelergy /home/workspace/output_dir/parsed-processed-input.yaml -o ./output_dir/ -v\n"
     ]
    },
    {
     "name": "stdout",
     "output_type": "stream",
     "text": [
      "657.11 31360000\n",
      "['Q', 'M', 'P', 'R', 'S', 'C', 'N'] has a fitness of 4.8527271084051096e-11\n",
      "selection\n",
      "current mapping:  ['S', 'R', 'Q', 'P', 'C', 'M', 'N']\n",
      "new mapping:  ['S', 'M', 'P', 'N', 'C', 'Q', 'R']\n",
      "[INFO] 2025-04-29 20:39:32,079 - pytimeloop.accelergy_interface - Running Accelergy with command: accelergy /home/workspace/output_dir/parsed-processed-input.yaml -o ./output_dir/ -v\n"
     ]
    },
    {
     "name": "stderr",
     "output_type": "stream",
     "text": [
      "INFO:pytimeloop.accelergy_interface:Running Accelergy with command: accelergy /home/workspace/output_dir/parsed-processed-input.yaml -o ./output_dir/ -v\n"
     ]
    },
    {
     "name": "stdout",
     "output_type": "stream",
     "text": [
      "657.11 31360000\n",
      "['S', 'M', 'P', 'N', 'C', 'Q', 'R'] has a fitness of 4.8527271084051096e-11\n",
      "current mapping:  ['S', 'R', 'Q', 'P', 'C', 'M', 'N']\n",
      "new mapping:  ['S', 'M', 'N', 'P', 'R', 'Q', 'C']\n",
      "[INFO] 2025-04-29 20:39:34,369 - pytimeloop.accelergy_interface - Running Accelergy with command: accelergy /home/workspace/output_dir/parsed-processed-input.yaml -o ./output_dir/ -v\n"
     ]
    },
    {
     "name": "stderr",
     "output_type": "stream",
     "text": [
      "INFO:pytimeloop.accelergy_interface:Running Accelergy with command: accelergy /home/workspace/output_dir/parsed-processed-input.yaml -o ./output_dir/ -v\n"
     ]
    },
    {
     "name": "stdout",
     "output_type": "stream",
     "text": [
      "657.11 31360000\n",
      "['S', 'M', 'N', 'P', 'R', 'Q', 'C'] has a fitness of 4.8527271084051096e-11\n",
      "current mapping:  ['S', 'R', 'Q', 'P', 'C', 'M', 'N']\n",
      "new mapping:  ['S', 'Q', 'N', 'P', 'C', 'M', 'R']\n",
      "[INFO] 2025-04-29 20:39:36,695 - pytimeloop.accelergy_interface - Running Accelergy with command: accelergy /home/workspace/output_dir/parsed-processed-input.yaml -o ./output_dir/ -v\n"
     ]
    },
    {
     "name": "stderr",
     "output_type": "stream",
     "text": [
      "INFO:pytimeloop.accelergy_interface:Running Accelergy with command: accelergy /home/workspace/output_dir/parsed-processed-input.yaml -o ./output_dir/ -v\n"
     ]
    },
    {
     "name": "stdout",
     "output_type": "stream",
     "text": [
      "657.11 31360000\n",
      "['S', 'Q', 'N', 'P', 'C', 'M', 'R'] has a fitness of 4.8527271084051096e-11\n",
      "current mapping:  ['S', 'R', 'Q', 'P', 'C', 'M', 'N']\n",
      "new mapping:  ['S', 'R', 'N', 'P', 'C', 'Q', 'M']\n",
      "[INFO] 2025-04-29 20:39:38,968 - pytimeloop.accelergy_interface - Running Accelergy with command: accelergy /home/workspace/output_dir/parsed-processed-input.yaml -o ./output_dir/ -v\n"
     ]
    },
    {
     "name": "stderr",
     "output_type": "stream",
     "text": [
      "INFO:pytimeloop.accelergy_interface:Running Accelergy with command: accelergy /home/workspace/output_dir/parsed-processed-input.yaml -o ./output_dir/ -v\n"
     ]
    },
    {
     "name": "stdout",
     "output_type": "stream",
     "text": [
      "657.11 31360000\n",
      "['S', 'R', 'N', 'P', 'C', 'Q', 'M'] has a fitness of 4.8527271084051096e-11\n",
      "current mapping:  ['S', 'R', 'Q', 'P', 'C', 'M', 'N']\n",
      "new mapping:  ['C', 'M', 'N', 'P', 'S', 'Q', 'R']\n",
      "[INFO] 2025-04-29 20:39:41,298 - pytimeloop.accelergy_interface - Running Accelergy with command: accelergy /home/workspace/output_dir/parsed-processed-input.yaml -o ./output_dir/ -v\n"
     ]
    },
    {
     "name": "stderr",
     "output_type": "stream",
     "text": [
      "INFO:pytimeloop.accelergy_interface:Running Accelergy with command: accelergy /home/workspace/output_dir/parsed-processed-input.yaml -o ./output_dir/ -v\n"
     ]
    },
    {
     "name": "stdout",
     "output_type": "stream",
     "text": [
      "657.11 31360000\n",
      "['C', 'M', 'N', 'P', 'S', 'Q', 'R'] has a fitness of 4.8527271084051096e-11\n",
      "current mapping:  ['S', 'R', 'Q', 'P', 'C', 'M', 'N']\n",
      "new mapping:  ['S', 'Q', 'N', 'P', 'C', 'M', 'R']\n",
      "[INFO] 2025-04-29 20:39:43,553 - pytimeloop.accelergy_interface - Running Accelergy with command: accelergy /home/workspace/output_dir/parsed-processed-input.yaml -o ./output_dir/ -v\n"
     ]
    },
    {
     "name": "stderr",
     "output_type": "stream",
     "text": [
      "INFO:pytimeloop.accelergy_interface:Running Accelergy with command: accelergy /home/workspace/output_dir/parsed-processed-input.yaml -o ./output_dir/ -v\n"
     ]
    },
    {
     "name": "stdout",
     "output_type": "stream",
     "text": [
      "657.11 31360000\n",
      "['S', 'Q', 'N', 'P', 'C', 'M', 'R'] has a fitness of 4.8527271084051096e-11\n",
      "current mapping:  ['S', 'R', 'Q', 'P', 'C', 'M', 'N']\n",
      "new mapping:  ['S', 'C', 'N', 'P', 'M', 'Q', 'R']\n",
      "[INFO] 2025-04-29 20:39:45,864 - pytimeloop.accelergy_interface - Running Accelergy with command: accelergy /home/workspace/output_dir/parsed-processed-input.yaml -o ./output_dir/ -v\n"
     ]
    },
    {
     "name": "stderr",
     "output_type": "stream",
     "text": [
      "INFO:pytimeloop.accelergy_interface:Running Accelergy with command: accelergy /home/workspace/output_dir/parsed-processed-input.yaml -o ./output_dir/ -v\n"
     ]
    },
    {
     "name": "stdout",
     "output_type": "stream",
     "text": [
      "657.11 31360000\n",
      "['S', 'C', 'N', 'P', 'M', 'Q', 'R'] has a fitness of 4.8527271084051096e-11\n",
      "current mapping:  ['S', 'R', 'Q', 'P', 'C', 'M', 'N']\n",
      "new mapping:  ['S', 'M', 'N', 'P', 'Q', 'C', 'R']\n",
      "[INFO] 2025-04-29 20:39:48,182 - pytimeloop.accelergy_interface - Running Accelergy with command: accelergy /home/workspace/output_dir/parsed-processed-input.yaml -o ./output_dir/ -v\n"
     ]
    },
    {
     "name": "stderr",
     "output_type": "stream",
     "text": [
      "INFO:pytimeloop.accelergy_interface:Running Accelergy with command: accelergy /home/workspace/output_dir/parsed-processed-input.yaml -o ./output_dir/ -v\n"
     ]
    },
    {
     "name": "stdout",
     "output_type": "stream",
     "text": [
      "657.11 31360000\n",
      "['S', 'M', 'N', 'P', 'Q', 'C', 'R'] has a fitness of 4.8527271084051096e-11\n",
      "current mapping:  ['S', 'R', 'Q', 'P', 'C', 'M', 'N']\n",
      "new mapping:  ['P', 'M', 'N', 'S', 'C', 'Q', 'R']\n",
      "[INFO] 2025-04-29 20:39:50,393 - pytimeloop.accelergy_interface - Running Accelergy with command: accelergy /home/workspace/output_dir/parsed-processed-input.yaml -o ./output_dir/ -v\n"
     ]
    },
    {
     "name": "stderr",
     "output_type": "stream",
     "text": [
      "INFO:pytimeloop.accelergy_interface:Running Accelergy with command: accelergy /home/workspace/output_dir/parsed-processed-input.yaml -o ./output_dir/ -v\n"
     ]
    },
    {
     "name": "stdout",
     "output_type": "stream",
     "text": [
      "657.11 31360000\n",
      "['P', 'M', 'N', 'S', 'C', 'Q', 'R'] has a fitness of 4.8527271084051096e-11\n",
      "current mapping:  ['S', 'R', 'Q', 'P', 'C', 'M', 'N']\n",
      "new mapping:  ['S', 'M', 'N', 'C', 'P', 'Q', 'R']\n",
      "[INFO] 2025-04-29 20:39:52,686 - pytimeloop.accelergy_interface - Running Accelergy with command: accelergy /home/workspace/output_dir/parsed-processed-input.yaml -o ./output_dir/ -v\n"
     ]
    },
    {
     "name": "stderr",
     "output_type": "stream",
     "text": [
      "INFO:pytimeloop.accelergy_interface:Running Accelergy with command: accelergy /home/workspace/output_dir/parsed-processed-input.yaml -o ./output_dir/ -v\n"
     ]
    },
    {
     "name": "stdout",
     "output_type": "stream",
     "text": [
      "657.11 31360000\n",
      "['S', 'M', 'N', 'C', 'P', 'Q', 'R'] has a fitness of 4.8527271084051096e-11\n",
      "current mapping:  ['S', 'R', 'Q', 'P', 'C', 'M', 'N']\n",
      "new mapping:  ['P', 'M', 'N', 'S', 'C', 'Q', 'R']\n",
      "[INFO] 2025-04-29 20:39:54,946 - pytimeloop.accelergy_interface - Running Accelergy with command: accelergy /home/workspace/output_dir/parsed-processed-input.yaml -o ./output_dir/ -v\n"
     ]
    },
    {
     "name": "stderr",
     "output_type": "stream",
     "text": [
      "INFO:pytimeloop.accelergy_interface:Running Accelergy with command: accelergy /home/workspace/output_dir/parsed-processed-input.yaml -o ./output_dir/ -v\n"
     ]
    },
    {
     "name": "stdout",
     "output_type": "stream",
     "text": [
      "657.11 31360000\n",
      "['P', 'M', 'N', 'S', 'C', 'Q', 'R'] has a fitness of 4.8527271084051096e-11\n",
      "current mapping:  ['S', 'R', 'Q', 'P', 'C', 'M', 'N']\n",
      "new mapping:  ['S', 'C', 'N', 'P', 'M', 'Q', 'R']\n",
      "[INFO] 2025-04-29 20:39:57,178 - pytimeloop.accelergy_interface - Running Accelergy with command: accelergy /home/workspace/output_dir/parsed-processed-input.yaml -o ./output_dir/ -v\n"
     ]
    },
    {
     "name": "stderr",
     "output_type": "stream",
     "text": [
      "INFO:pytimeloop.accelergy_interface:Running Accelergy with command: accelergy /home/workspace/output_dir/parsed-processed-input.yaml -o ./output_dir/ -v\n"
     ]
    },
    {
     "name": "stdout",
     "output_type": "stream",
     "text": [
      "657.11 31360000\n",
      "['S', 'C', 'N', 'P', 'M', 'Q', 'R'] has a fitness of 4.8527271084051096e-11\n",
      "current mapping:  ['S', 'R', 'Q', 'P', 'C', 'M', 'N']\n",
      "new mapping:  ['S', 'M', 'N', 'P', 'C', 'R', 'Q']\n",
      "[INFO] 2025-04-29 20:39:59,457 - pytimeloop.accelergy_interface - Running Accelergy with command: accelergy /home/workspace/output_dir/parsed-processed-input.yaml -o ./output_dir/ -v\n"
     ]
    },
    {
     "name": "stderr",
     "output_type": "stream",
     "text": [
      "INFO:pytimeloop.accelergy_interface:Running Accelergy with command: accelergy /home/workspace/output_dir/parsed-processed-input.yaml -o ./output_dir/ -v\n"
     ]
    },
    {
     "name": "stdout",
     "output_type": "stream",
     "text": [
      "657.11 31360000\n",
      "['S', 'M', 'N', 'P', 'C', 'R', 'Q'] has a fitness of 4.8527271084051096e-11\n",
      "current mapping:  ['S', 'R', 'Q', 'P', 'C', 'M', 'N']\n",
      "new mapping:  ['N', 'M', 'S', 'P', 'C', 'Q', 'R']\n",
      "[INFO] 2025-04-29 20:40:01,741 - pytimeloop.accelergy_interface - Running Accelergy with command: accelergy /home/workspace/output_dir/parsed-processed-input.yaml -o ./output_dir/ -v\n"
     ]
    },
    {
     "name": "stderr",
     "output_type": "stream",
     "text": [
      "INFO:pytimeloop.accelergy_interface:Running Accelergy with command: accelergy /home/workspace/output_dir/parsed-processed-input.yaml -o ./output_dir/ -v\n"
     ]
    },
    {
     "name": "stdout",
     "output_type": "stream",
     "text": [
      "657.11 31360000\n",
      "['N', 'M', 'S', 'P', 'C', 'Q', 'R'] has a fitness of 4.8527271084051096e-11\n",
      "current mapping:  ['S', 'R', 'Q', 'P', 'C', 'M', 'N']\n",
      "new mapping:  ['S', 'M', 'Q', 'P', 'C', 'N', 'R']\n",
      "[INFO] 2025-04-29 20:40:03,942 - pytimeloop.accelergy_interface - Running Accelergy with command: accelergy /home/workspace/output_dir/parsed-processed-input.yaml -o ./output_dir/ -v\n"
     ]
    },
    {
     "name": "stderr",
     "output_type": "stream",
     "text": [
      "INFO:pytimeloop.accelergy_interface:Running Accelergy with command: accelergy /home/workspace/output_dir/parsed-processed-input.yaml -o ./output_dir/ -v\n"
     ]
    },
    {
     "name": "stdout",
     "output_type": "stream",
     "text": [
      "657.11 31360000\n",
      "['S', 'M', 'Q', 'P', 'C', 'N', 'R'] has a fitness of 4.8527271084051096e-11\n",
      "current mapping:  ['S', 'R', 'Q', 'P', 'C', 'M', 'N']\n",
      "new mapping:  ['C', 'M', 'N', 'P', 'S', 'Q', 'R']\n",
      "[INFO] 2025-04-29 20:40:06,276 - pytimeloop.accelergy_interface - Running Accelergy with command: accelergy /home/workspace/output_dir/parsed-processed-input.yaml -o ./output_dir/ -v\n"
     ]
    },
    {
     "name": "stderr",
     "output_type": "stream",
     "text": [
      "INFO:pytimeloop.accelergy_interface:Running Accelergy with command: accelergy /home/workspace/output_dir/parsed-processed-input.yaml -o ./output_dir/ -v\n"
     ]
    },
    {
     "name": "stdout",
     "output_type": "stream",
     "text": [
      "657.11 31360000\n",
      "['C', 'M', 'N', 'P', 'S', 'Q', 'R'] has a fitness of 4.8527271084051096e-11\n",
      "current mapping:  ['S', 'R', 'Q', 'P', 'C', 'M', 'N']\n",
      "new mapping:  ['S', 'P', 'N', 'M', 'C', 'Q', 'R']\n",
      "[INFO] 2025-04-29 20:40:08,581 - pytimeloop.accelergy_interface - Running Accelergy with command: accelergy /home/workspace/output_dir/parsed-processed-input.yaml -o ./output_dir/ -v\n"
     ]
    },
    {
     "name": "stderr",
     "output_type": "stream",
     "text": [
      "INFO:pytimeloop.accelergy_interface:Running Accelergy with command: accelergy /home/workspace/output_dir/parsed-processed-input.yaml -o ./output_dir/ -v\n"
     ]
    },
    {
     "name": "stdout",
     "output_type": "stream",
     "text": [
      "657.11 31360000\n",
      "['S', 'P', 'N', 'M', 'C', 'Q', 'R'] has a fitness of 4.8527271084051096e-11\n",
      "current mapping:  ['S', 'R', 'Q', 'P', 'C', 'M', 'N']\n",
      "new mapping:  ['S', 'Q', 'N', 'P', 'C', 'M', 'R']\n",
      "[INFO] 2025-04-29 20:40:10,830 - pytimeloop.accelergy_interface - Running Accelergy with command: accelergy /home/workspace/output_dir/parsed-processed-input.yaml -o ./output_dir/ -v\n"
     ]
    },
    {
     "name": "stderr",
     "output_type": "stream",
     "text": [
      "INFO:pytimeloop.accelergy_interface:Running Accelergy with command: accelergy /home/workspace/output_dir/parsed-processed-input.yaml -o ./output_dir/ -v\n"
     ]
    },
    {
     "name": "stdout",
     "output_type": "stream",
     "text": [
      "657.11 31360000\n",
      "['S', 'Q', 'N', 'P', 'C', 'M', 'R'] has a fitness of 4.8527271084051096e-11\n",
      "current mapping:  ['S', 'R', 'Q', 'P', 'C', 'M', 'N']\n",
      "new mapping:  ['S', 'M', 'C', 'P', 'N', 'Q', 'R']\n",
      "[INFO] 2025-04-29 20:40:13,141 - pytimeloop.accelergy_interface - Running Accelergy with command: accelergy /home/workspace/output_dir/parsed-processed-input.yaml -o ./output_dir/ -v\n"
     ]
    },
    {
     "name": "stderr",
     "output_type": "stream",
     "text": [
      "INFO:pytimeloop.accelergy_interface:Running Accelergy with command: accelergy /home/workspace/output_dir/parsed-processed-input.yaml -o ./output_dir/ -v\n"
     ]
    },
    {
     "ename": "RuntimeError",
     "evalue": "\n\n========================================================================================================================\nTimeloop model failed with return code -2. Please check the output files in ./output_dir for more information. To debug, you can edit the file:\n\t./output_dir/parsed-processed-input.yaml\nand run \n\ttl model ./output_dir/parsed-processed-input.yaml\nto see the error. If you're running the mapper and Timeloop can't find a vaild mapping, try setting 'diagnostics: true' in the mapper input specification.",
     "output_type": "error",
     "traceback": [
      "\u001b[0;31m---------------------------------------------------------------------------\u001b[0m",
      "\u001b[0;31mRuntimeError\u001b[0m                              Traceback (most recent call last)",
      "Cell \u001b[0;32mIn[31], line 34\u001b[0m\n\u001b[1;32m     32\u001b[0m \u001b[38;5;66;03m# Selection\u001b[39;00m\n\u001b[1;32m     33\u001b[0m \u001b[38;5;28mprint\u001b[39m(\u001b[38;5;124m\"\u001b[39m\u001b[38;5;124mselection\u001b[39m\u001b[38;5;124m\"\u001b[39m)\n\u001b[0;32m---> 34\u001b[0m mutations_fitnesses \u001b[38;5;241m=\u001b[39m [[mutation, fitness(mutation, workload)] \u001b[38;5;28;01mfor\u001b[39;00m mutation \u001b[38;5;129;01min\u001b[39;00m mutations]\n\u001b[1;32m     35\u001b[0m mutations_fitnesses\u001b[38;5;241m.\u001b[39msort(key\u001b[38;5;241m=\u001b[39m\u001b[38;5;28;01mlambda\u001b[39;00m x: x[\u001b[38;5;241m1\u001b[39m], reverse\u001b[38;5;241m=\u001b[39m\u001b[38;5;28;01mTrue\u001b[39;00m) \u001b[38;5;66;03m# high to low fitness\u001b[39;00m\n\u001b[1;32m     36\u001b[0m selections_fitnesses \u001b[38;5;241m=\u001b[39m mutations_fitnesses[:p] \n",
      "Cell \u001b[0;32mIn[31], line 34\u001b[0m, in \u001b[0;36m<listcomp>\u001b[0;34m(.0)\u001b[0m\n\u001b[1;32m     32\u001b[0m \u001b[38;5;66;03m# Selection\u001b[39;00m\n\u001b[1;32m     33\u001b[0m \u001b[38;5;28mprint\u001b[39m(\u001b[38;5;124m\"\u001b[39m\u001b[38;5;124mselection\u001b[39m\u001b[38;5;124m\"\u001b[39m)\n\u001b[0;32m---> 34\u001b[0m mutations_fitnesses \u001b[38;5;241m=\u001b[39m [[mutation, \u001b[43mfitness\u001b[49m\u001b[43m(\u001b[49m\u001b[43mmutation\u001b[49m\u001b[43m,\u001b[49m\u001b[43m \u001b[49m\u001b[43mworkload\u001b[49m\u001b[43m)\u001b[49m] \u001b[38;5;28;01mfor\u001b[39;00m mutation \u001b[38;5;129;01min\u001b[39;00m mutations]\n\u001b[1;32m     35\u001b[0m mutations_fitnesses\u001b[38;5;241m.\u001b[39msort(key\u001b[38;5;241m=\u001b[39m\u001b[38;5;28;01mlambda\u001b[39;00m x: x[\u001b[38;5;241m1\u001b[39m], reverse\u001b[38;5;241m=\u001b[39m\u001b[38;5;28;01mTrue\u001b[39;00m) \u001b[38;5;66;03m# high to low fitness\u001b[39;00m\n\u001b[1;32m     36\u001b[0m selections_fitnesses \u001b[38;5;241m=\u001b[39m mutations_fitnesses[:p] \n",
      "Cell \u001b[0;32mIn[30], line 3\u001b[0m, in \u001b[0;36mfitness\u001b[0;34m(dataflow, workload)\u001b[0m\n\u001b[1;32m      1\u001b[0m \u001b[38;5;28;01mdef\u001b[39;00m\u001b[38;5;250m \u001b[39m\u001b[38;5;21mfitness\u001b[39m(dataflow, workload):\n\u001b[1;32m      2\u001b[0m     \u001b[38;5;66;03m# return random.randint(1, 1000)\u001b[39;00m\n\u001b[0;32m----> 3\u001b[0m     data \u001b[38;5;241m=\u001b[39m \u001b[43mevaluate\u001b[49m\u001b[43m(\u001b[49m\u001b[43mdataflow\u001b[49m\u001b[43m,\u001b[49m\u001b[43m \u001b[49m\u001b[43mworkload\u001b[49m\u001b[43m)\u001b[49m\n\u001b[1;32m      4\u001b[0m     energy, latency \u001b[38;5;241m=\u001b[39m data\n\u001b[1;32m      5\u001b[0m     inverse_EDP \u001b[38;5;241m=\u001b[39m \u001b[38;5;241m1\u001b[39m \u001b[38;5;241m/\u001b[39m (energy \u001b[38;5;241m*\u001b[39m latency)\n",
      "Cell \u001b[0;32mIn[30], line 40\u001b[0m, in \u001b[0;36mevaluate\u001b[0;34m(dataflow, workload)\u001b[0m\n\u001b[1;32m     38\u001b[0m \u001b[38;5;66;03m# for i, k in enumerate(to_run):\u001b[39;00m\n\u001b[1;32m     39\u001b[0m cycle_thres, energy_thres \u001b[38;5;241m=\u001b[39m THRES \u001b[38;5;66;03m# TODO whats our threshold\u001b[39;00m\n\u001b[0;32m---> 40\u001b[0m result \u001b[38;5;241m=\u001b[39m \u001b[43mrun_timeloop_model\u001b[49m\u001b[43m(\u001b[49m\u001b[43m \u001b[49m\u001b[38;5;66;43;03m# TODO: this should be run_timeloop_mapper!\u001b[39;49;00m\n\u001b[1;32m     41\u001b[0m \u001b[43m    \u001b[49m\u001b[43mconfig\u001b[49m\u001b[43m,\u001b[49m\n\u001b[1;32m     42\u001b[0m \u001b[43m    \u001b[49m\u001b[43marchitecture\u001b[49m\u001b[38;5;241;43m=\u001b[39;49m\u001b[38;5;124;43m'\u001b[39;49m\u001b[38;5;124;43mdesigns/system/arch.yaml\u001b[39;49m\u001b[38;5;124;43m'\u001b[39;49m\u001b[43m,\u001b[49m\n\u001b[1;32m     43\u001b[0m \u001b[43m    \u001b[49m\u001b[43mmapping\u001b[49m\u001b[38;5;241;43m=\u001b[39;49m\u001b[43mmapping\u001b[49m\u001b[43m,\u001b[49m\n\u001b[1;32m     44\u001b[0m \u001b[43m    \u001b[49m\u001b[43mproblem\u001b[49m\u001b[38;5;241;43m=\u001b[39;49m\u001b[43mworkload\u001b[49m\n\u001b[1;32m     45\u001b[0m \u001b[43m\u001b[49m\u001b[43m)\u001b[49m\n\u001b[1;32m     46\u001b[0m stats \u001b[38;5;241m=\u001b[39m \u001b[38;5;28mopen\u001b[39m(\u001b[38;5;124m'\u001b[39m\u001b[38;5;124m./output_dir/timeloop-model.stats.txt\u001b[39m\u001b[38;5;124m'\u001b[39m, \u001b[38;5;124m'\u001b[39m\u001b[38;5;124mr\u001b[39m\u001b[38;5;124m'\u001b[39m)\u001b[38;5;241m.\u001b[39mread()\n\u001b[1;32m     47\u001b[0m mapping \u001b[38;5;241m=\u001b[39m result\u001b[38;5;241m.\u001b[39mmapping\n",
      "File \u001b[0;32m~/loaders.py:56\u001b[0m, in \u001b[0;36mrun_timeloop_model\u001b[0;34m(jinja_parse_data, **kwargs)\u001b[0m\n\u001b[1;32m     51\u001b[0m spec\u001b[38;5;241m.\u001b[39mART \u001b[38;5;241m=\u001b[39m Art(\u001b[38;5;241m*\u001b[39m\u001b[38;5;241m*\u001b[39mDictNode\u001b[38;5;241m.\u001b[39mfrom_yaml_files(\u001b[38;5;124m\"\u001b[39m\u001b[38;5;124moutput_dir/ART.yaml\u001b[39m\u001b[38;5;124m\"\u001b[39m)[\u001b[38;5;124m\"\u001b[39m\u001b[38;5;124mART\u001b[39m\u001b[38;5;124m\"\u001b[39m])\n\u001b[1;32m     53\u001b[0m \u001b[38;5;66;03m# print(spec)\u001b[39;00m\n\u001b[1;32m     54\u001b[0m \u001b[38;5;66;03m# app = tl.to_model_app(spec, output_dir=\"./output_dir\")\u001b[39;00m\n\u001b[1;32m     55\u001b[0m \u001b[38;5;66;03m# print('Model app created')\u001b[39;00m\n\u001b[0;32m---> 56\u001b[0m \u001b[38;5;28;01mreturn\u001b[39;00m \u001b[43mtl\u001b[49m\u001b[38;5;241;43m.\u001b[39;49m\u001b[43mcall_model\u001b[49m\u001b[43m(\u001b[49m\u001b[43mspec\u001b[49m\u001b[43m,\u001b[49m\u001b[43m \u001b[49m\u001b[43moutput_dir\u001b[49m\u001b[38;5;241;43m=\u001b[39;49m\u001b[38;5;124;43m\"\u001b[39;49m\u001b[38;5;124;43m./output_dir\u001b[39;49m\u001b[38;5;124;43m\"\u001b[39;49m\u001b[43m)\u001b[49m\n",
      "File \u001b[0;32m/usr/local/lib/python3.10/dist-packages/pytimeloop/timeloopfe/common/backend_calls.py:268\u001b[0m, in \u001b[0;36mcall_model\u001b[0;34m(specification, output_dir, environment, extra_input_files, dump_intermediate_to, log_to, extra_args, return_proc)\u001b[0m\n\u001b[1;32m    249\u001b[0m \u001b[38;5;250m\u001b[39m\u001b[38;5;124;03m\"\"\"Call Timeloop Model from Python\u001b[39;00m\n\u001b[1;32m    250\u001b[0m \n\u001b[1;32m    251\u001b[0m \u001b[38;5;124;03mArgs:\u001b[39;00m\n\u001b[0;32m   (...)\u001b[0m\n\u001b[1;32m    262\u001b[0m \u001b[38;5;124;03m    Union[int, subprocess.Popen]: The return code of the call, or the subprocess.Popen object if return_proc is True.\u001b[39;00m\n\u001b[1;32m    263\u001b[0m \u001b[38;5;124;03m\"\"\"\u001b[39;00m\n\u001b[1;32m    264\u001b[0m input_paths, output_dir \u001b[38;5;241m=\u001b[39m _pre_call(\n\u001b[1;32m    265\u001b[0m     specification, output_dir, extra_input_files, for_model\u001b[38;5;241m=\u001b[39m\u001b[38;5;28;01mTrue\u001b[39;00m\n\u001b[1;32m    266\u001b[0m )\n\u001b[0;32m--> 268\u001b[0m \u001b[38;5;28;01mreturn\u001b[39;00m \u001b[43m_parse_output\u001b[49m\u001b[43m(\u001b[49m\n\u001b[1;32m    269\u001b[0m \u001b[43m    \u001b[49m\u001b[43mspecification\u001b[49m\u001b[38;5;241;43m=\u001b[39;49m\u001b[43mspecification\u001b[49m\u001b[43m,\u001b[49m\n\u001b[1;32m    270\u001b[0m \u001b[43m    \u001b[49m\u001b[43moutput_dir\u001b[49m\u001b[38;5;241;43m=\u001b[39;49m\u001b[43moutput_dir\u001b[49m\u001b[43m,\u001b[49m\n\u001b[1;32m    271\u001b[0m \u001b[43m    \u001b[49m\u001b[43mresult\u001b[49m\u001b[38;5;241;43m=\u001b[39;49m\u001b[43m_call\u001b[49m\u001b[43m(\u001b[49m\n\u001b[1;32m    272\u001b[0m \u001b[43m        \u001b[49m\u001b[38;5;124;43m\"\u001b[39;49m\u001b[38;5;124;43mtimeloop-model\u001b[39;49m\u001b[38;5;124;43m\"\u001b[39;49m\u001b[43m,\u001b[49m\n\u001b[1;32m    273\u001b[0m \u001b[43m        \u001b[49m\u001b[43minput_paths\u001b[49m\u001b[38;5;241;43m=\u001b[39;49m\u001b[43minput_paths\u001b[49m\u001b[43m,\u001b[49m\n\u001b[1;32m    274\u001b[0m \u001b[43m        \u001b[49m\u001b[43moutput_dir\u001b[49m\u001b[38;5;241;43m=\u001b[39;49m\u001b[43moutput_dir\u001b[49m\u001b[43m,\u001b[49m\n\u001b[1;32m    275\u001b[0m \u001b[43m        \u001b[49m\u001b[43menvironment\u001b[49m\u001b[38;5;241;43m=\u001b[39;49m\u001b[43menvironment\u001b[49m\u001b[43m,\u001b[49m\n\u001b[1;32m    276\u001b[0m \u001b[43m        \u001b[49m\u001b[43mdump_intermediate_to\u001b[49m\u001b[38;5;241;43m=\u001b[39;49m\u001b[43mdump_intermediate_to\u001b[49m\u001b[43m,\u001b[49m\n\u001b[1;32m    277\u001b[0m \u001b[43m        \u001b[49m\u001b[43mlog_to\u001b[49m\u001b[38;5;241;43m=\u001b[39;49m\u001b[43mlog_to\u001b[49m\u001b[43m,\u001b[49m\n\u001b[1;32m    278\u001b[0m \u001b[43m        \u001b[49m\u001b[43mextra_args\u001b[49m\u001b[38;5;241;43m=\u001b[39;49m\u001b[43mextra_args\u001b[49m\u001b[43m,\u001b[49m\n\u001b[1;32m    279\u001b[0m \u001b[43m        \u001b[49m\u001b[43mreturn_proc\u001b[49m\u001b[38;5;241;43m=\u001b[39;49m\u001b[43mreturn_proc\u001b[49m\u001b[43m,\u001b[49m\n\u001b[1;32m    280\u001b[0m \u001b[43m    \u001b[49m\u001b[43m)\u001b[49m\u001b[43m,\u001b[49m\n\u001b[1;32m    281\u001b[0m \u001b[43m    \u001b[49m\u001b[43mfor_model\u001b[49m\u001b[38;5;241;43m=\u001b[39;49m\u001b[38;5;28;43;01mTrue\u001b[39;49;00m\u001b[43m,\u001b[49m\n\u001b[1;32m    282\u001b[0m \u001b[43m\u001b[49m\u001b[43m)\u001b[49m\n",
      "File \u001b[0;32m/usr/local/lib/python3.10/dist-packages/pytimeloop/timeloopfe/common/backend_calls.py:184\u001b[0m, in \u001b[0;36m_parse_output\u001b[0;34m(specification, output_dir, result, for_model)\u001b[0m\n\u001b[1;32m    173\u001b[0m errmsg \u001b[38;5;241m=\u001b[39m (\n\u001b[1;32m    174\u001b[0m     \u001b[38;5;124mf\u001b[39m\u001b[38;5;124m\"\u001b[39m\u001b[38;5;130;01m\\n\u001b[39;00m\u001b[38;5;130;01m\\n\u001b[39;00m\u001b[38;5;124m\"\u001b[39m \u001b[38;5;241m+\u001b[39m \u001b[38;5;124m\"\u001b[39m\u001b[38;5;124m=\u001b[39m\u001b[38;5;124m\"\u001b[39m \u001b[38;5;241m*\u001b[39m \u001b[38;5;241m120\u001b[39m \u001b[38;5;241m+\u001b[39m \u001b[38;5;124m\"\u001b[39m\u001b[38;5;130;01m\\n\u001b[39;00m\u001b[38;5;124m\"\u001b[39m\n\u001b[1;32m    175\u001b[0m     \u001b[38;5;124mf\u001b[39m\u001b[38;5;124m\"\u001b[39m\u001b[38;5;124mTimeloop \u001b[39m\u001b[38;5;132;01m{\u001b[39;00mm\u001b[38;5;132;01m}\u001b[39;00m\u001b[38;5;124m failed with return code \u001b[39m\u001b[38;5;132;01m{\u001b[39;00mresult\u001b[38;5;132;01m}\u001b[39;00m\u001b[38;5;124m. Please check the output files \u001b[39m\u001b[38;5;124m\"\u001b[39m\n\u001b[0;32m   (...)\u001b[0m\n\u001b[1;32m    180\u001b[0m     \u001b[38;5;124mf\u001b[39m\u001b[38;5;124m\"\u001b[39m\u001b[38;5;124m'\u001b[39m\u001b[38;5;124mdiagnostics: true\u001b[39m\u001b[38;5;124m'\u001b[39m\u001b[38;5;124m in the mapper input specification.\u001b[39m\u001b[38;5;124m\"\u001b[39m\n\u001b[1;32m    181\u001b[0m )\n\u001b[1;32m    183\u001b[0m \u001b[38;5;28;01mif\u001b[39;00m result \u001b[38;5;241m!=\u001b[39m \u001b[38;5;241m0\u001b[39m:\n\u001b[0;32m--> 184\u001b[0m     \u001b[38;5;28;01mraise\u001b[39;00m \u001b[38;5;167;01mRuntimeError\u001b[39;00m(errmsg)\n\u001b[1;32m    185\u001b[0m \u001b[38;5;28;01mtry\u001b[39;00m:\n\u001b[1;32m    186\u001b[0m     \u001b[38;5;28;01mreturn\u001b[39;00m specification\u001b[38;5;241m.\u001b[39m_parse_timeloop_output(\n\u001b[1;32m    187\u001b[0m         output_dir, prefix\u001b[38;5;241m=\u001b[39m\u001b[38;5;124m\"\u001b[39m\u001b[38;5;124mtimeloop-model\u001b[39m\u001b[38;5;124m\"\u001b[39m \u001b[38;5;28;01mif\u001b[39;00m for_model \u001b[38;5;28;01melse\u001b[39;00m \u001b[38;5;124m\"\u001b[39m\u001b[38;5;124mtimeloop-mapper\u001b[39m\u001b[38;5;124m\"\u001b[39m\n\u001b[1;32m    188\u001b[0m     )\n",
      "\u001b[0;31mRuntimeError\u001b[0m: \n\n========================================================================================================================\nTimeloop model failed with return code -2. Please check the output files in ./output_dir for more information. To debug, you can edit the file:\n\t./output_dir/parsed-processed-input.yaml\nand run \n\ttl model ./output_dir/parsed-processed-input.yaml\nto see the error. If you're running the mapper and Timeloop can't find a vaild mapping, try setting 'diagnostics: true' in the mapper input specification."
     ]
    }
   ],
   "source": [
    "# convolution\n",
    "dataflow = ['R', 'S', 'P', 'Q', 'C', 'M', 'N']\n",
    "workload = 'layer_shapes/conv2.yaml'\n",
    "\n",
    "# n population -> k mutations -> p selection -> n population\n",
    "# constraints: n | k, p/2 = n\n",
    "n = 5\n",
    "k = 20\n",
    "p = 10\n",
    "\n",
    "# Generate n base permutations\n",
    "population = [random.sample(dataflow, len(dataflow)) for i in range(n)]\n",
    "\n",
    "print(\"Initializing\")\n",
    "# Initialize base fitness and goal fitness\n",
    "dfs_fitnesses = [[df, fitness(df, workload)] for df in population]\n",
    "best_df, f = max(dfs_fitnesses, key=lambda x: x[1])\n",
    "g = 1000  # if terminating using goal fitness\n",
    "iter = 10  # if terminating using timeout\n",
    "\n",
    "for i in range(iter):\n",
    "    # Mutation\n",
    "    mutations = []  # len(mutations) = k\n",
    "    for df in population:\n",
    "        for m in range(k):\n",
    "            mutation = df.copy()\n",
    "            # swap two random indices\n",
    "            idx1, idx2 = random.sample(range(len(dataflow)), 2)\n",
    "            mutation[idx1], mutation[idx2] = mutation[idx2], mutation[idx1]\n",
    "            mutations.append(mutation)\n",
    "    \n",
    "    # Selection\n",
    "    print(\"selection\")\n",
    "    mutations_fitnesses = [[mutation, fitness(mutation, workload)] for mutation in mutations]\n",
    "    mutations_fitnesses.sort(key=lambda x: x[1], reverse=True) # high to low fitness\n",
    "    selections_fitnesses = mutations_fitnesses[:p] \n",
    "    selections = [x[0] for x in selections_fitnesses] # len(selections) = p\n",
    "\n",
    "    # Crossover\n",
    "    print(\"crossover\")\n",
    "    random.shuffle(selections)\n",
    "    crossover_pairs = [(selections[i], selections[i+1]) for i in range(0, len(selections), 2)]\n",
    "    crossovers = []  # len(crossovers) = n\n",
    "    for pair in crossover_pairs:\n",
    "        s1, s2 = pair\n",
    "        cut_point = random.randint(1, len(s1) - 1)\n",
    "        first_half = s1[:cut_point]\n",
    "        second_half = s2.copy()\n",
    "        for parameter in first_half:\n",
    "            second_half.remove(parameter)\n",
    "        crossover = first_half + second_half\n",
    "        crossovers.append(crossover)\n",
    "\n",
    "    crossovers_fitnesses = [[crossover, fitness(crossover, workload)] for crossover in crossovers]\n",
    "    best_df_trial, f_trial = max(crossovers_fitnesses, key=lambda x: x[1])\n",
    "    if f_trial > f:\n",
    "        best_df, f = best_df_trial, f_trial\n",
    "    if f >= g:\n",
    "        break"
   ]
  },
  {
   "cell_type": "code",
   "execution_count": null,
   "metadata": {},
   "outputs": [],
   "source": []
  }
 ],
 "metadata": {
  "kernelspec": {
   "display_name": "Python 3 (ipykernel)",
   "language": "python",
   "name": "python3"
  },
  "language_info": {
   "codemirror_mode": {
    "name": "ipython",
    "version": 3
   },
   "file_extension": ".py",
   "mimetype": "text/x-python",
   "name": "python",
   "nbconvert_exporter": "python",
   "pygments_lexer": "ipython3",
   "version": "3.10.12"
  }
 },
 "nbformat": 4,
 "nbformat_minor": 4
}
