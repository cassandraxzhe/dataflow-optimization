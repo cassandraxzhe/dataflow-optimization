{
 "cells": [
  {
   "cell_type": "markdown",
   "metadata": {},
   "source": [
    "We will define our genetic algorithm mapper with the following algorithm. For our algorithm, we use the following definition of fitness.\n",
    "fitness = 1 / (latency  energy)\n",
    "n = 5, k = 20, p = 10\n",
    "\n",
    "1. Generate n = 5 randomly ordered strings of the valid dataflow, that is a random permutation of [R, S, P, Q, C, M, N]. Initialize f to 0.\n",
    "2. Initialize a goal fitness g, dependent on latency and energy.\n",
    "3. While f>g,\n",
    "    Mutation: For i from 1 to n mutations, mutate each permutation k/n times to get k mutations. For each mutation, pick two parameters at random and swap them.\n",
    "    Selection: Calculate latency and energy and evaluate the fitness of each k mutations. Take the p = 10 with the highest fitness.\n",
    "    Crossover: Take pairs of p = 10 mutations and crossover to get n = 5 permutations. Let f = top fitness from these permutations.\n",
    "4. Return best permutation."
   ]
  },
  {
   "cell_type": "code",
   "execution_count": 1,
   "metadata": {},
   "outputs": [],
   "source": [
    "import random\n",
    "import pandas as pd\n",
    "import numpy as np\n",
    "import matplotlib.pyplot as plt\n",
    "from loaders import *\n",
    "import yaml\n",
    "from yaml import load\n",
    "from enum import Enum"
   ]
  },
  {
   "cell_type": "code",
   "execution_count": 2,
   "metadata": {},
   "outputs": [],
   "source": [
    "# show_config('designs/system/constraints.yaml')"
   ]
  },
  {
   "cell_type": "code",
   "execution_count": 3,
   "metadata": {},
   "outputs": [],
   "source": [
    "class Component(Enum):\n",
    "    DRAM: 1 # maybe 0 icr\n",
    "    BUFFER: 3\n",
    "    PE: 4\n",
    "\n",
    "from genetic_algorithm import GeneticAlgorithm"
   ]
  },
  {
   "cell_type": "code",
   "execution_count": 4,
   "metadata": {},
   "outputs": [],
   "source": [
    "# def dummy_fitness(dataflow):\n",
    "#     return random.uniform(0, 1.0e-7)   \n",
    "\n",
    "workload='layer_shapes/conv1.yaml'\n",
    "# workload='layer_shapes/conv2.yaml'\n",
    "# workload='layer_shapes/fc1.yaml'\n",
    "\n",
    "# pe_dims = {'pe_meshX': 1, 'pe_meshY': 16}\n",
    "pe_dims={'pe_meshX': 2, 'pe_meshY': 8}\n",
    "# pe_dims = {'pe_meshX': 4, 'pe_meshY': 4}\n",
    "\n",
    "# TODO: make sure to initialize visited as an empty dict for when actually collecting data!!!!!!! or change it in code so we can still utilize the yaml file"
   ]
  },
  {
   "cell_type": "code",
   "execution_count": 5,
   "metadata": {},
   "outputs": [
    {
     "name": "stdout",
     "output_type": "stream",
     "text": [
      "Initializing\n",
      "[INFO] 2025-05-02 13:42:18,312 - pytimeloop.accelergy_interface - Running Accelergy with command: accelergy /home/workspace/output_dir/parsed-processed-input.yaml -o ./output_dir/ -v\n"
     ]
    },
    {
     "name": "stderr",
     "output_type": "stream",
     "text": [
      "INFO:pytimeloop.accelergy_interface:Running Accelergy with command: accelergy /home/workspace/output_dir/parsed-processed-input.yaml -o ./output_dir/ -v\n"
     ]
    },
    {
     "name": "stdout",
     "output_type": "stream",
     "text": [
      "55.03 627200\n",
      "['R', 'M', 'S', 'Q', 'P', 'N', 'C'] has a fitness of 2.8973064784699996e-08\n",
      "[INFO] 2025-05-02 13:43:10,913 - pytimeloop.accelergy_interface - Running Accelergy with command: accelergy /home/workspace/output_dir/parsed-processed-input.yaml -o ./output_dir/ -v\n"
     ]
    },
    {
     "name": "stderr",
     "output_type": "stream",
     "text": [
      "INFO:pytimeloop.accelergy_interface:Running Accelergy with command: accelergy /home/workspace/output_dir/parsed-processed-input.yaml -o ./output_dir/ -v\n"
     ]
    },
    {
     "name": "stdout",
     "output_type": "stream",
     "text": [
      "55.03 627200\n",
      "['P', 'S', 'R', 'C', 'Q', 'N', 'M'] has a fitness of 2.8973064784699996e-08\n",
      "[INFO] 2025-05-02 13:44:03,539 - pytimeloop.accelergy_interface - Running Accelergy with command: accelergy /home/workspace/output_dir/parsed-processed-input.yaml -o ./output_dir/ -v\n"
     ]
    },
    {
     "name": "stderr",
     "output_type": "stream",
     "text": [
      "INFO:pytimeloop.accelergy_interface:Running Accelergy with command: accelergy /home/workspace/output_dir/parsed-processed-input.yaml -o ./output_dir/ -v\n"
     ]
    },
    {
     "name": "stdout",
     "output_type": "stream",
     "text": [
      "55.03 627200\n",
      "['R', 'N', 'S', 'Q', 'M', 'P', 'C'] has a fitness of 2.8973064784699996e-08\n",
      "[INFO] 2025-05-02 13:44:55,971 - pytimeloop.accelergy_interface - Running Accelergy with command: accelergy /home/workspace/output_dir/parsed-processed-input.yaml -o ./output_dir/ -v\n"
     ]
    },
    {
     "name": "stderr",
     "output_type": "stream",
     "text": [
      "INFO:pytimeloop.accelergy_interface:Running Accelergy with command: accelergy /home/workspace/output_dir/parsed-processed-input.yaml -o ./output_dir/ -v\n"
     ]
    },
    {
     "name": "stdout",
     "output_type": "stream",
     "text": [
      "55.03 627200\n",
      "['S', 'Q', 'N', 'M', 'C', 'P', 'R'] has a fitness of 2.8973064784699996e-08\n",
      "[INFO] 2025-05-02 13:45:48,377 - pytimeloop.accelergy_interface - Running Accelergy with command: accelergy /home/workspace/output_dir/parsed-processed-input.yaml -o ./output_dir/ -v\n"
     ]
    },
    {
     "name": "stderr",
     "output_type": "stream",
     "text": [
      "INFO:pytimeloop.accelergy_interface:Running Accelergy with command: accelergy /home/workspace/output_dir/parsed-processed-input.yaml -o ./output_dir/ -v\n"
     ]
    },
    {
     "name": "stdout",
     "output_type": "stream",
     "text": [
      "62.01 313600\n",
      "['N', 'S', 'P', 'C', 'M', 'Q', 'R'] has a fitness of 5.1423568943784577e-08\n",
      "\n",
      "ITERATION:  0\n",
      "selection\n",
      "1/20 candidate\n",
      "[INFO] 2025-05-02 13:46:09,897 - pytimeloop.accelergy_interface - Running Accelergy with command: accelergy /home/workspace/output_dir/parsed-processed-input.yaml -o ./output_dir/ -v\n"
     ]
    },
    {
     "name": "stderr",
     "output_type": "stream",
     "text": [
      "INFO:pytimeloop.accelergy_interface:Running Accelergy with command: accelergy /home/workspace/output_dir/parsed-processed-input.yaml -o ./output_dir/ -v\n"
     ]
    },
    {
     "name": "stdout",
     "output_type": "stream",
     "text": [
      "55.03 627200\n",
      "['R', 'M', 'S', 'Q', 'P', 'C', 'N'] has a fitness of 2.8973064784699996e-08\n",
      "2/20 candidate\n",
      "[INFO] 2025-05-02 13:47:02,058 - pytimeloop.accelergy_interface - Running Accelergy with command: accelergy /home/workspace/output_dir/parsed-processed-input.yaml -o ./output_dir/ -v\n"
     ]
    },
    {
     "name": "stderr",
     "output_type": "stream",
     "text": [
      "INFO:pytimeloop.accelergy_interface:Running Accelergy with command: accelergy /home/workspace/output_dir/parsed-processed-input.yaml -o ./output_dir/ -v\n"
     ]
    },
    {
     "name": "stdout",
     "output_type": "stream",
     "text": [
      "55.03 627200\n",
      "['P', 'M', 'S', 'Q', 'R', 'N', 'C'] has a fitness of 2.8973064784699996e-08\n",
      "3/20 candidate\n",
      "[INFO] 2025-05-02 13:47:55,176 - pytimeloop.accelergy_interface - Running Accelergy with command: accelergy /home/workspace/output_dir/parsed-processed-input.yaml -o ./output_dir/ -v\n"
     ]
    },
    {
     "name": "stderr",
     "output_type": "stream",
     "text": [
      "INFO:pytimeloop.accelergy_interface:Running Accelergy with command: accelergy /home/workspace/output_dir/parsed-processed-input.yaml -o ./output_dir/ -v\n"
     ]
    },
    {
     "name": "stdout",
     "output_type": "stream",
     "text": [
      "55.03 627200\n",
      "['R', 'M', 'Q', 'S', 'P', 'N', 'C'] has a fitness of 2.8973064784699996e-08\n",
      "4/20 candidate\n",
      "[INFO] 2025-05-02 13:48:48,131 - pytimeloop.accelergy_interface - Running Accelergy with command: accelergy /home/workspace/output_dir/parsed-processed-input.yaml -o ./output_dir/ -v\n"
     ]
    },
    {
     "name": "stderr",
     "output_type": "stream",
     "text": [
      "INFO:pytimeloop.accelergy_interface:Running Accelergy with command: accelergy /home/workspace/output_dir/parsed-processed-input.yaml -o ./output_dir/ -v\n"
     ]
    },
    {
     "name": "stdout",
     "output_type": "stream",
     "text": [
      "55.18 313600\n",
      "['C', 'M', 'S', 'Q', 'P', 'N', 'R'] has a fitness of 5.7788610188548055e-08\n",
      "5/20 candidate\n",
      "[INFO] 2025-05-02 13:49:01,729 - pytimeloop.accelergy_interface - Running Accelergy with command: accelergy /home/workspace/output_dir/parsed-processed-input.yaml -o ./output_dir/ -v\n"
     ]
    },
    {
     "name": "stderr",
     "output_type": "stream",
     "text": [
      "INFO:pytimeloop.accelergy_interface:Running Accelergy with command: accelergy /home/workspace/output_dir/parsed-processed-input.yaml -o ./output_dir/ -v\n"
     ]
    },
    {
     "name": "stdout",
     "output_type": "stream",
     "text": [
      "55.03 627200\n",
      "['P', 'S', 'Q', 'C', 'R', 'N', 'M'] has a fitness of 2.8973064784699996e-08\n",
      "6/20 candidate\n",
      "[INFO] 2025-05-02 13:49:54,546 - pytimeloop.accelergy_interface - Running Accelergy with command: accelergy /home/workspace/output_dir/parsed-processed-input.yaml -o ./output_dir/ -v\n"
     ]
    },
    {
     "name": "stderr",
     "output_type": "stream",
     "text": [
      "INFO:pytimeloop.accelergy_interface:Running Accelergy with command: accelergy /home/workspace/output_dir/parsed-processed-input.yaml -o ./output_dir/ -v\n"
     ]
    },
    {
     "name": "stdout",
     "output_type": "stream",
     "text": [
      "55.03 627200\n",
      "['P', 'S', 'R', 'N', 'Q', 'C', 'M'] has a fitness of 2.8973064784699996e-08\n",
      "7/20 candidate\n",
      "[INFO] 2025-05-02 13:50:47,271 - pytimeloop.accelergy_interface - Running Accelergy with command: accelergy /home/workspace/output_dir/parsed-processed-input.yaml -o ./output_dir/ -v\n"
     ]
    },
    {
     "name": "stderr",
     "output_type": "stream",
     "text": [
      "INFO:pytimeloop.accelergy_interface:Running Accelergy with command: accelergy /home/workspace/output_dir/parsed-processed-input.yaml -o ./output_dir/ -v\n"
     ]
    },
    {
     "name": "stdout",
     "output_type": "stream",
     "text": [
      "55.03 627200\n",
      "['P', 'M', 'R', 'C', 'Q', 'N', 'S'] has a fitness of 2.8973064784699996e-08\n",
      "8/20 candidate\n",
      "[INFO] 2025-05-02 13:51:39,767 - pytimeloop.accelergy_interface - Running Accelergy with command: accelergy /home/workspace/output_dir/parsed-processed-input.yaml -o ./output_dir/ -v\n"
     ]
    },
    {
     "name": "stderr",
     "output_type": "stream",
     "text": [
      "INFO:pytimeloop.accelergy_interface:Running Accelergy with command: accelergy /home/workspace/output_dir/parsed-processed-input.yaml -o ./output_dir/ -v\n"
     ]
    },
    {
     "name": "stdout",
     "output_type": "stream",
     "text": [
      "55.03 627200\n",
      "['S', 'P', 'R', 'C', 'Q', 'N', 'M'] has a fitness of 2.8973064784699996e-08\n",
      "9/20 candidate\n",
      "[INFO] 2025-05-02 13:52:32,159 - pytimeloop.accelergy_interface - Running Accelergy with command: accelergy /home/workspace/output_dir/parsed-processed-input.yaml -o ./output_dir/ -v\n"
     ]
    },
    {
     "name": "stderr",
     "output_type": "stream",
     "text": [
      "INFO:pytimeloop.accelergy_interface:Running Accelergy with command: accelergy /home/workspace/output_dir/parsed-processed-input.yaml -o ./output_dir/ -v\n"
     ]
    },
    {
     "name": "stdout",
     "output_type": "stream",
     "text": [
      "55.03 627200\n",
      "['R', 'N', 'S', 'Q', 'C', 'P', 'M'] has a fitness of 2.8973064784699996e-08\n",
      "10/20 candidate\n",
      "[INFO] 2025-05-02 13:53:24,838 - pytimeloop.accelergy_interface - Running Accelergy with command: accelergy /home/workspace/output_dir/parsed-processed-input.yaml -o ./output_dir/ -v\n"
     ]
    },
    {
     "name": "stderr",
     "output_type": "stream",
     "text": [
      "INFO:pytimeloop.accelergy_interface:Running Accelergy with command: accelergy /home/workspace/output_dir/parsed-processed-input.yaml -o ./output_dir/ -v\n"
     ]
    },
    {
     "name": "stdout",
     "output_type": "stream",
     "text": [
      "55.03 627200\n",
      "['R', 'N', 'Q', 'S', 'M', 'P', 'C'] has a fitness of 2.8973064784699996e-08\n",
      "11/20 candidate\n",
      "[INFO] 2025-05-02 13:54:17,553 - pytimeloop.accelergy_interface - Running Accelergy with command: accelergy /home/workspace/output_dir/parsed-processed-input.yaml -o ./output_dir/ -v\n"
     ]
    },
    {
     "name": "stderr",
     "output_type": "stream",
     "text": [
      "INFO:pytimeloop.accelergy_interface:Running Accelergy with command: accelergy /home/workspace/output_dir/parsed-processed-input.yaml -o ./output_dir/ -v\n"
     ]
    },
    {
     "name": "stdout",
     "output_type": "stream",
     "text": [
      "55.03 627200\n",
      "['Q', 'N', 'S', 'R', 'M', 'P', 'C'] has a fitness of 2.8973064784699996e-08\n",
      "12/20 candidate\n",
      "[INFO] 2025-05-02 13:55:10,280 - pytimeloop.accelergy_interface - Running Accelergy with command: accelergy /home/workspace/output_dir/parsed-processed-input.yaml -o ./output_dir/ -v\n"
     ]
    },
    {
     "name": "stderr",
     "output_type": "stream",
     "text": [
      "INFO:pytimeloop.accelergy_interface:Running Accelergy with command: accelergy /home/workspace/output_dir/parsed-processed-input.yaml -o ./output_dir/ -v\n"
     ]
    },
    {
     "name": "stdout",
     "output_type": "stream",
     "text": [
      "52.63 313600\n",
      "['M', 'N', 'S', 'Q', 'R', 'P', 'C'] has a fitness of 6.058855235044807e-08\n",
      "13/20 candidate\n",
      "[INFO] 2025-05-02 13:55:22,432 - pytimeloop.accelergy_interface - Running Accelergy with command: accelergy /home/workspace/output_dir/parsed-processed-input.yaml -o ./output_dir/ -v\n"
     ]
    },
    {
     "name": "stderr",
     "output_type": "stream",
     "text": [
      "INFO:pytimeloop.accelergy_interface:Running Accelergy with command: accelergy /home/workspace/output_dir/parsed-processed-input.yaml -o ./output_dir/ -v\n"
     ]
    },
    {
     "name": "stdout",
     "output_type": "stream",
     "text": [
      "55.03 627200\n",
      "['S', 'P', 'N', 'M', 'C', 'Q', 'R'] has a fitness of 2.8973064784699996e-08\n",
      "14/20 candidate\n",
      "[INFO] 2025-05-02 13:56:14,943 - pytimeloop.accelergy_interface - Running Accelergy with command: accelergy /home/workspace/output_dir/parsed-processed-input.yaml -o ./output_dir/ -v\n"
     ]
    },
    {
     "name": "stderr",
     "output_type": "stream",
     "text": [
      "INFO:pytimeloop.accelergy_interface:Running Accelergy with command: accelergy /home/workspace/output_dir/parsed-processed-input.yaml -o ./output_dir/ -v\n"
     ]
    },
    {
     "name": "stdout",
     "output_type": "stream",
     "text": [
      "55.03 627200\n",
      "['S', 'R', 'N', 'M', 'C', 'P', 'Q'] has a fitness of 2.8973064784699996e-08\n",
      "15/20 candidate\n",
      "[INFO] 2025-05-02 13:57:07,466 - pytimeloop.accelergy_interface - Running Accelergy with command: accelergy /home/workspace/output_dir/parsed-processed-input.yaml -o ./output_dir/ -v\n"
     ]
    },
    {
     "name": "stderr",
     "output_type": "stream",
     "text": [
      "INFO:pytimeloop.accelergy_interface:Running Accelergy with command: accelergy /home/workspace/output_dir/parsed-processed-input.yaml -o ./output_dir/ -v\n"
     ]
    },
    {
     "name": "stdout",
     "output_type": "stream",
     "text": [
      "55.03 627200\n",
      "['Q', 'S', 'N', 'M', 'C', 'P', 'R'] has a fitness of 2.8973064784699996e-08\n",
      "16/20 candidate\n",
      "[INFO] 2025-05-02 13:57:59,956 - pytimeloop.accelergy_interface - Running Accelergy with command: accelergy /home/workspace/output_dir/parsed-processed-input.yaml -o ./output_dir/ -v\n"
     ]
    },
    {
     "name": "stderr",
     "output_type": "stream",
     "text": [
      "INFO:pytimeloop.accelergy_interface:Running Accelergy with command: accelergy /home/workspace/output_dir/parsed-processed-input.yaml -o ./output_dir/ -v\n"
     ]
    },
    {
     "name": "stdout",
     "output_type": "stream",
     "text": [
      "55.03 627200\n",
      "['S', 'N', 'Q', 'M', 'C', 'P', 'R'] has a fitness of 2.8973064784699996e-08\n",
      "17/20 candidate\n",
      "[INFO] 2025-05-02 13:58:52,535 - pytimeloop.accelergy_interface - Running Accelergy with command: accelergy /home/workspace/output_dir/parsed-processed-input.yaml -o ./output_dir/ -v\n"
     ]
    },
    {
     "name": "stderr",
     "output_type": "stream",
     "text": [
      "INFO:pytimeloop.accelergy_interface:Running Accelergy with command: accelergy /home/workspace/output_dir/parsed-processed-input.yaml -o ./output_dir/ -v\n"
     ]
    },
    {
     "name": "stdout",
     "output_type": "stream",
     "text": [
      "55.03 627200\n",
      "['P', 'S', 'N', 'C', 'M', 'Q', 'R'] has a fitness of 2.8973064784699996e-08\n",
      "18/20 candidate\n",
      "[INFO] 2025-05-02 13:59:45,079 - pytimeloop.accelergy_interface - Running Accelergy with command: accelergy /home/workspace/output_dir/parsed-processed-input.yaml -o ./output_dir/ -v\n"
     ]
    },
    {
     "name": "stderr",
     "output_type": "stream",
     "text": [
      "INFO:pytimeloop.accelergy_interface:Running Accelergy with command: accelergy /home/workspace/output_dir/parsed-processed-input.yaml -o ./output_dir/ -v\n"
     ]
    },
    {
     "name": "stdout",
     "output_type": "stream",
     "text": [
      "62.01 313600\n",
      "['N', 'S', 'P', 'M', 'C', 'Q', 'R'] has a fitness of 5.1423568943784577e-08\n",
      "19/20 candidate\n",
      "already visited NSPMCQR\n",
      "20/20 candidate\n",
      "[INFO] 2025-05-02 14:00:06,892 - pytimeloop.accelergy_interface - Running Accelergy with command: accelergy /home/workspace/output_dir/parsed-processed-input.yaml -o ./output_dir/ -v\n"
     ]
    },
    {
     "name": "stderr",
     "output_type": "stream",
     "text": [
      "INFO:pytimeloop.accelergy_interface:Running Accelergy with command: accelergy /home/workspace/output_dir/parsed-processed-input.yaml -o ./output_dir/ -v\n"
     ]
    },
    {
     "name": "stdout",
     "output_type": "stream",
     "text": [
      "55.03 627200\n",
      "['R', 'S', 'P', 'C', 'M', 'Q', 'N'] has a fitness of 2.8973064784699996e-08\n",
      "crossover\n",
      "1/15 candidate in crossover\n",
      "[INFO] 2025-05-02 14:00:59,325 - pytimeloop.accelergy_interface - Running Accelergy with command: accelergy /home/workspace/output_dir/parsed-processed-input.yaml -o ./output_dir/ -v\n"
     ]
    },
    {
     "name": "stderr",
     "output_type": "stream",
     "text": [
      "INFO:pytimeloop.accelergy_interface:Running Accelergy with command: accelergy /home/workspace/output_dir/parsed-processed-input.yaml -o ./output_dir/ -v\n"
     ]
    },
    {
     "name": "stdout",
     "output_type": "stream",
     "text": [
      "62.01 313600\n",
      "['N', 'S', 'P', 'Q', 'C', 'R', 'M'] has a fitness of 5.1423568943784577e-08\n",
      "2/15 candidate in crossover\n",
      "[INFO] 2025-05-02 14:01:21,230 - pytimeloop.accelergy_interface - Running Accelergy with command: accelergy /home/workspace/output_dir/parsed-processed-input.yaml -o ./output_dir/ -v\n"
     ]
    },
    {
     "name": "stderr",
     "output_type": "stream",
     "text": [
      "INFO:pytimeloop.accelergy_interface:Running Accelergy with command: accelergy /home/workspace/output_dir/parsed-processed-input.yaml -o ./output_dir/ -v\n"
     ]
    },
    {
     "name": "stdout",
     "output_type": "stream",
     "text": [
      "52.63 313600\n",
      "['M', 'N', 'S', 'Q', 'P', 'R', 'C'] has a fitness of 6.058855235044807e-08\n",
      "3/15 candidate in crossover\n",
      "[INFO] 2025-05-02 14:01:33,177 - pytimeloop.accelergy_interface - Running Accelergy with command: accelergy /home/workspace/output_dir/parsed-processed-input.yaml -o ./output_dir/ -v\n"
     ]
    },
    {
     "name": "stderr",
     "output_type": "stream",
     "text": [
      "INFO:pytimeloop.accelergy_interface:Running Accelergy with command: accelergy /home/workspace/output_dir/parsed-processed-input.yaml -o ./output_dir/ -v\n"
     ]
    },
    {
     "name": "stdout",
     "output_type": "stream",
     "text": [
      "55.18 313600\n",
      "['C', 'M', 'S', 'Q', 'R', 'P', 'N'] has a fitness of 5.7788610188548055e-08\n",
      "4/15 candidate in crossover\n",
      "already visited RMQSPNC\n",
      "5/15 candidate in crossover\n",
      "already visited PMSQRNC\n",
      "6/15 candidate in crossover\n",
      "already visited NSPMCQR\n",
      "7/15 candidate in crossover\n",
      "already visited PSQCRNM\n",
      "8/15 candidate in crossover\n",
      "already visited MNSQRPC\n",
      "9/15 candidate in crossover\n",
      "already visited PMRCQNS\n",
      "10/15 candidate in crossover\n",
      "already visited CMSQPNR\n",
      "11/15 candidate in crossover\n",
      "already visited RMSQPCN\n",
      "12/15 candidate in crossover\n",
      "already visited RMQSPNC\n",
      "13/15 candidate in crossover\n",
      "already visited PSRNQCM\n",
      "14/15 candidate in crossover\n",
      "already visited PMSQRNC\n",
      "15/15 candidate in crossover\n",
      "already visited NSPMCQR\n",
      "new best trial: ['M', 'N', 'S', 'Q', 'P', 'R', 'C'] with fitness 6.058855235044807e-08\n",
      "\n",
      "ITERATION:  1\n",
      "selection\n",
      "1/20 candidate\n",
      "[INFO] 2025-05-02 14:01:46,739 - pytimeloop.accelergy_interface - Running Accelergy with command: accelergy /home/workspace/output_dir/parsed-processed-input.yaml -o ./output_dir/ -v\n"
     ]
    },
    {
     "name": "stderr",
     "output_type": "stream",
     "text": [
      "INFO:pytimeloop.accelergy_interface:Running Accelergy with command: accelergy /home/workspace/output_dir/parsed-processed-input.yaml -o ./output_dir/ -v\n"
     ]
    },
    {
     "name": "stdout",
     "output_type": "stream",
     "text": [
      "62.01 313600\n",
      "['N', 'M', 'S', 'Q', 'P', 'R', 'C'] has a fitness of 5.1423568943784577e-08\n",
      "2/20 candidate\n",
      "[INFO] 2025-05-02 14:02:08,417 - pytimeloop.accelergy_interface - Running Accelergy with command: accelergy /home/workspace/output_dir/parsed-processed-input.yaml -o ./output_dir/ -v\n"
     ]
    },
    {
     "name": "stderr",
     "output_type": "stream",
     "text": [
      "INFO:pytimeloop.accelergy_interface:Running Accelergy with command: accelergy /home/workspace/output_dir/parsed-processed-input.yaml -o ./output_dir/ -v\n"
     ]
    },
    {
     "name": "stdout",
     "output_type": "stream",
     "text": [
      "52.63 313600\n",
      "['M', 'N', 'S', 'R', 'P', 'Q', 'C'] has a fitness of 6.058855235044807e-08\n",
      "3/20 candidate\n",
      "[INFO] 2025-05-02 14:02:20,422 - pytimeloop.accelergy_interface - Running Accelergy with command: accelergy /home/workspace/output_dir/parsed-processed-input.yaml -o ./output_dir/ -v\n"
     ]
    },
    {
     "name": "stderr",
     "output_type": "stream",
     "text": [
      "INFO:pytimeloop.accelergy_interface:Running Accelergy with command: accelergy /home/workspace/output_dir/parsed-processed-input.yaml -o ./output_dir/ -v\n"
     ]
    },
    {
     "name": "stdout",
     "output_type": "stream",
     "text": [
      "52.63 313600\n",
      "['M', 'Q', 'S', 'N', 'P', 'R', 'C'] has a fitness of 6.058855235044807e-08\n",
      "4/20 candidate\n",
      "[INFO] 2025-05-02 14:02:32,347 - pytimeloop.accelergy_interface - Running Accelergy with command: accelergy /home/workspace/output_dir/parsed-processed-input.yaml -o ./output_dir/ -v\n"
     ]
    },
    {
     "name": "stderr",
     "output_type": "stream",
     "text": [
      "INFO:pytimeloop.accelergy_interface:Running Accelergy with command: accelergy /home/workspace/output_dir/parsed-processed-input.yaml -o ./output_dir/ -v\n"
     ]
    },
    {
     "name": "stdout",
     "output_type": "stream",
     "text": [
      "55.03 627200\n",
      "['R', 'N', 'S', 'Q', 'P', 'M', 'C'] has a fitness of 2.8973064784699996e-08\n",
      "5/20 candidate\n",
      "[INFO] 2025-05-02 14:03:25,106 - pytimeloop.accelergy_interface - Running Accelergy with command: accelergy /home/workspace/output_dir/parsed-processed-input.yaml -o ./output_dir/ -v\n"
     ]
    },
    {
     "name": "stderr",
     "output_type": "stream",
     "text": [
      "INFO:pytimeloop.accelergy_interface:Running Accelergy with command: accelergy /home/workspace/output_dir/parsed-processed-input.yaml -o ./output_dir/ -v\n"
     ]
    },
    {
     "name": "stdout",
     "output_type": "stream",
     "text": [
      "55.03 627200\n",
      "['S', 'N', 'M', 'Q', 'R', 'P', 'C'] has a fitness of 2.8973064784699996e-08\n",
      "6/20 candidate\n",
      "[INFO] 2025-05-02 14:04:17,764 - pytimeloop.accelergy_interface - Running Accelergy with command: accelergy /home/workspace/output_dir/parsed-processed-input.yaml -o ./output_dir/ -v\n"
     ]
    },
    {
     "name": "stderr",
     "output_type": "stream",
     "text": [
      "INFO:pytimeloop.accelergy_interface:Running Accelergy with command: accelergy /home/workspace/output_dir/parsed-processed-input.yaml -o ./output_dir/ -v\n"
     ]
    },
    {
     "name": "stdout",
     "output_type": "stream",
     "text": [
      "52.63 313600\n",
      "['M', 'R', 'S', 'Q', 'N', 'P', 'C'] has a fitness of 6.058855235044807e-08\n",
      "7/20 candidate\n",
      "[INFO] 2025-05-02 14:04:29,667 - pytimeloop.accelergy_interface - Running Accelergy with command: accelergy /home/workspace/output_dir/parsed-processed-input.yaml -o ./output_dir/ -v\n"
     ]
    },
    {
     "name": "stderr",
     "output_type": "stream",
     "text": [
      "INFO:pytimeloop.accelergy_interface:Running Accelergy with command: accelergy /home/workspace/output_dir/parsed-processed-input.yaml -o ./output_dir/ -v\n"
     ]
    },
    {
     "name": "stdout",
     "output_type": "stream",
     "text": [
      "52.63 313600\n",
      "['M', 'N', 'S', 'Q', 'R', 'C', 'P'] has a fitness of 6.058855235044807e-08\n",
      "8/20 candidate\n",
      "[INFO] 2025-05-02 14:04:41,617 - pytimeloop.accelergy_interface - Running Accelergy with command: accelergy /home/workspace/output_dir/parsed-processed-input.yaml -o ./output_dir/ -v\n"
     ]
    },
    {
     "name": "stderr",
     "output_type": "stream",
     "text": [
      "INFO:pytimeloop.accelergy_interface:Running Accelergy with command: accelergy /home/workspace/output_dir/parsed-processed-input.yaml -o ./output_dir/ -v\n"
     ]
    },
    {
     "name": "stdout",
     "output_type": "stream",
     "text": [
      "52.63 313600\n",
      "['M', 'N', 'S', 'C', 'R', 'P', 'Q'] has a fitness of 6.058855235044807e-08\n",
      "9/20 candidate\n",
      "[INFO] 2025-05-02 14:04:53,593 - pytimeloop.accelergy_interface - Running Accelergy with command: accelergy /home/workspace/output_dir/parsed-processed-input.yaml -o ./output_dir/ -v\n"
     ]
    },
    {
     "name": "stderr",
     "output_type": "stream",
     "text": [
      "INFO:pytimeloop.accelergy_interface:Running Accelergy with command: accelergy /home/workspace/output_dir/parsed-processed-input.yaml -o ./output_dir/ -v\n"
     ]
    },
    {
     "name": "stdout",
     "output_type": "stream",
     "text": [
      "55.18 313600\n",
      "['C', 'P', 'S', 'Q', 'R', 'M', 'N'] has a fitness of 5.7788610188548055e-08\n",
      "10/20 candidate\n",
      "[INFO] 2025-05-02 14:05:07,141 - pytimeloop.accelergy_interface - Running Accelergy with command: accelergy /home/workspace/output_dir/parsed-processed-input.yaml -o ./output_dir/ -v\n"
     ]
    },
    {
     "name": "stderr",
     "output_type": "stream",
     "text": [
      "INFO:pytimeloop.accelergy_interface:Running Accelergy with command: accelergy /home/workspace/output_dir/parsed-processed-input.yaml -o ./output_dir/ -v\n"
     ]
    },
    {
     "name": "stdout",
     "output_type": "stream",
     "text": [
      "55.03 627200\n",
      "['R', 'M', 'S', 'Q', 'C', 'P', 'N'] has a fitness of 2.8973064784699996e-08\n",
      "11/20 candidate\n",
      "[INFO] 2025-05-02 14:05:59,678 - pytimeloop.accelergy_interface - Running Accelergy with command: accelergy /home/workspace/output_dir/parsed-processed-input.yaml -o ./output_dir/ -v\n"
     ]
    },
    {
     "name": "stderr",
     "output_type": "stream",
     "text": [
      "INFO:pytimeloop.accelergy_interface:Running Accelergy with command: accelergy /home/workspace/output_dir/parsed-processed-input.yaml -o ./output_dir/ -v\n"
     ]
    },
    {
     "name": "stdout",
     "output_type": "stream",
     "text": [
      "55.18 313600\n",
      "['C', 'M', 'S', 'Q', 'N', 'P', 'R'] has a fitness of 5.7788610188548055e-08\n",
      "12/20 candidate\n",
      "[INFO] 2025-05-02 14:06:13,206 - pytimeloop.accelergy_interface - Running Accelergy with command: accelergy /home/workspace/output_dir/parsed-processed-input.yaml -o ./output_dir/ -v\n"
     ]
    },
    {
     "name": "stderr",
     "output_type": "stream",
     "text": [
      "INFO:pytimeloop.accelergy_interface:Running Accelergy with command: accelergy /home/workspace/output_dir/parsed-processed-input.yaml -o ./output_dir/ -v\n"
     ]
    },
    {
     "name": "stdout",
     "output_type": "stream",
     "text": [
      "55.03 627200\n",
      "['S', 'M', 'C', 'Q', 'R', 'P', 'N'] has a fitness of 2.8973064784699996e-08\n",
      "13/20 candidate\n",
      "[INFO] 2025-05-02 14:07:06,037 - pytimeloop.accelergy_interface - Running Accelergy with command: accelergy /home/workspace/output_dir/parsed-processed-input.yaml -o ./output_dir/ -v\n"
     ]
    },
    {
     "name": "stderr",
     "output_type": "stream",
     "text": [
      "INFO:pytimeloop.accelergy_interface:Running Accelergy with command: accelergy /home/workspace/output_dir/parsed-processed-input.yaml -o ./output_dir/ -v\n"
     ]
    },
    {
     "name": "stdout",
     "output_type": "stream",
     "text": [
      "55.03 627200\n",
      "['Q', 'M', 'S', 'C', 'P', 'N', 'R'] has a fitness of 2.8973064784699996e-08\n",
      "14/20 candidate\n",
      "[INFO] 2025-05-02 14:07:59,011 - pytimeloop.accelergy_interface - Running Accelergy with command: accelergy /home/workspace/output_dir/parsed-processed-input.yaml -o ./output_dir/ -v\n"
     ]
    },
    {
     "name": "stderr",
     "output_type": "stream",
     "text": [
      "INFO:pytimeloop.accelergy_interface:Running Accelergy with command: accelergy /home/workspace/output_dir/parsed-processed-input.yaml -o ./output_dir/ -v\n"
     ]
    },
    {
     "name": "stdout",
     "output_type": "stream",
     "text": [
      "55.18 313600\n",
      "['C', 'M', 'S', 'P', 'Q', 'N', 'R'] has a fitness of 5.7788610188548055e-08\n",
      "15/20 candidate\n",
      "[INFO] 2025-05-02 14:08:12,674 - pytimeloop.accelergy_interface - Running Accelergy with command: accelergy /home/workspace/output_dir/parsed-processed-input.yaml -o ./output_dir/ -v\n"
     ]
    },
    {
     "name": "stderr",
     "output_type": "stream",
     "text": [
      "INFO:pytimeloop.accelergy_interface:Running Accelergy with command: accelergy /home/workspace/output_dir/parsed-processed-input.yaml -o ./output_dir/ -v\n"
     ]
    },
    {
     "name": "stdout",
     "output_type": "stream",
     "text": [
      "55.03 627200\n",
      "['P', 'M', 'S', 'Q', 'C', 'N', 'R'] has a fitness of 2.8973064784699996e-08\n",
      "16/20 candidate\n",
      "[INFO] 2025-05-02 14:09:05,349 - pytimeloop.accelergy_interface - Running Accelergy with command: accelergy /home/workspace/output_dir/parsed-processed-input.yaml -o ./output_dir/ -v\n"
     ]
    },
    {
     "name": "stderr",
     "output_type": "stream",
     "text": [
      "INFO:pytimeloop.accelergy_interface:Running Accelergy with command: accelergy /home/workspace/output_dir/parsed-processed-input.yaml -o ./output_dir/ -v\n"
     ]
    },
    {
     "name": "stdout",
     "output_type": "stream",
     "text": [
      "55.18 313600\n",
      "['C', 'M', 'S', 'Q', 'P', 'R', 'N'] has a fitness of 5.7788610188548055e-08\n",
      "17/20 candidate\n",
      "[INFO] 2025-05-02 14:09:19,149 - pytimeloop.accelergy_interface - Running Accelergy with command: accelergy /home/workspace/output_dir/parsed-processed-input.yaml -o ./output_dir/ -v\n"
     ]
    },
    {
     "name": "stderr",
     "output_type": "stream",
     "text": [
      "INFO:pytimeloop.accelergy_interface:Running Accelergy with command: accelergy /home/workspace/output_dir/parsed-processed-input.yaml -o ./output_dir/ -v\n"
     ]
    },
    {
     "name": "stdout",
     "output_type": "stream",
     "text": [
      "52.63 313600\n",
      "['M', 'S', 'P', 'Q', 'C', 'R', 'N'] has a fitness of 6.058855235044807e-08\n",
      "18/20 candidate\n",
      "[INFO] 2025-05-02 14:09:31,055 - pytimeloop.accelergy_interface - Running Accelergy with command: accelergy /home/workspace/output_dir/parsed-processed-input.yaml -o ./output_dir/ -v\n"
     ]
    },
    {
     "name": "stderr",
     "output_type": "stream",
     "text": [
      "INFO:pytimeloop.accelergy_interface:Running Accelergy with command: accelergy /home/workspace/output_dir/parsed-processed-input.yaml -o ./output_dir/ -v\n"
     ]
    },
    {
     "name": "stdout",
     "output_type": "stream",
     "text": [
      "55.18 313600\n",
      "['C', 'S', 'P', 'Q', 'N', 'R', 'M'] has a fitness of 5.7788610188548055e-08\n",
      "19/20 candidate\n",
      "[INFO] 2025-05-02 14:09:44,835 - pytimeloop.accelergy_interface - Running Accelergy with command: accelergy /home/workspace/output_dir/parsed-processed-input.yaml -o ./output_dir/ -v\n"
     ]
    },
    {
     "name": "stderr",
     "output_type": "stream",
     "text": [
      "INFO:pytimeloop.accelergy_interface:Running Accelergy with command: accelergy /home/workspace/output_dir/parsed-processed-input.yaml -o ./output_dir/ -v\n"
     ]
    },
    {
     "name": "stdout",
     "output_type": "stream",
     "text": [
      "62.01 313600\n",
      "['N', 'S', 'C', 'Q', 'P', 'R', 'M'] has a fitness of 5.1423568943784577e-08\n",
      "20/20 candidate\n",
      "[INFO] 2025-05-02 14:10:06,504 - pytimeloop.accelergy_interface - Running Accelergy with command: accelergy /home/workspace/output_dir/parsed-processed-input.yaml -o ./output_dir/ -v\n"
     ]
    },
    {
     "name": "stderr",
     "output_type": "stream",
     "text": [
      "INFO:pytimeloop.accelergy_interface:Running Accelergy with command: accelergy /home/workspace/output_dir/parsed-processed-input.yaml -o ./output_dir/ -v\n"
     ]
    },
    {
     "name": "stdout",
     "output_type": "stream",
     "text": [
      "62.01 313600\n",
      "['N', 'S', 'P', 'M', 'C', 'R', 'Q'] has a fitness of 5.1423568943784577e-08\n",
      "crossover\n",
      "1/15 candidate in crossover\n",
      "already visited CPSQRMN\n",
      "2/15 candidate in crossover\n",
      "already visited CMSQPRN\n",
      "3/15 candidate in crossover\n",
      "[INFO] 2025-05-02 14:10:28,342 - pytimeloop.accelergy_interface - Running Accelergy with command: accelergy /home/workspace/output_dir/parsed-processed-input.yaml -o ./output_dir/ -v\n"
     ]
    },
    {
     "name": "stderr",
     "output_type": "stream",
     "text": [
      "INFO:pytimeloop.accelergy_interface:Running Accelergy with command: accelergy /home/workspace/output_dir/parsed-processed-input.yaml -o ./output_dir/ -v\n"
     ]
    },
    {
     "name": "stdout",
     "output_type": "stream",
     "text": [
      "52.63 313600\n",
      "['M', 'R', 'N', 'S', 'P', 'Q', 'C'] has a fitness of 6.058855235044807e-08\n",
      "4/15 candidate in crossover\n",
      "[INFO] 2025-05-02 14:10:40,271 - pytimeloop.accelergy_interface - Running Accelergy with command: accelergy /home/workspace/output_dir/parsed-processed-input.yaml -o ./output_dir/ -v\n"
     ]
    },
    {
     "name": "stderr",
     "output_type": "stream",
     "text": [
      "INFO:pytimeloop.accelergy_interface:Running Accelergy with command: accelergy /home/workspace/output_dir/parsed-processed-input.yaml -o ./output_dir/ -v\n"
     ]
    },
    {
     "name": "stdout",
     "output_type": "stream",
     "text": [
      "52.63 313600\n",
      "['M', 'Q', 'N', 'S', 'C', 'R', 'P'] has a fitness of 6.058855235044807e-08\n",
      "5/15 candidate in crossover\n",
      "already visited CMSQPRN\n",
      "6/15 candidate in crossover\n",
      "already visited CPSQRMN\n",
      "7/15 candidate in crossover\n",
      "already visited MNSQRCP\n",
      "8/15 candidate in crossover\n",
      "already visited CMSQNPR\n",
      "9/15 candidate in crossover\n",
      "already visited MSPQCRN\n",
      "10/15 candidate in crossover\n",
      "already visited MRSQNPC\n",
      "11/15 candidate in crossover\n",
      "already visited MNSRPQC\n",
      "12/15 candidate in crossover\n",
      "already visited MQSNPRC\n",
      "13/15 candidate in crossover\n",
      "already visited MNSCRPQ\n",
      "14/15 candidate in crossover\n",
      "already visited CMSPQNR\n",
      "15/15 candidate in crossover\n",
      "already visited CMSQPRN\n",
      "\n",
      "ITERATION:  2\n",
      "selection\n",
      "1/20 candidate\n",
      "[INFO] 2025-05-02 14:10:52,242 - pytimeloop.accelergy_interface - Running Accelergy with command: accelergy /home/workspace/output_dir/parsed-processed-input.yaml -o ./output_dir/ -v\n"
     ]
    },
    {
     "name": "stderr",
     "output_type": "stream",
     "text": [
      "INFO:pytimeloop.accelergy_interface:Running Accelergy with command: accelergy /home/workspace/output_dir/parsed-processed-input.yaml -o ./output_dir/ -v\n"
     ]
    },
    {
     "name": "stdout",
     "output_type": "stream",
     "text": [
      "52.63 313600\n",
      "['M', 'R', 'Q', 'S', 'P', 'N', 'C'] has a fitness of 6.058855235044807e-08\n",
      "2/20 candidate\n",
      "[INFO] 2025-05-02 14:11:04,287 - pytimeloop.accelergy_interface - Running Accelergy with command: accelergy /home/workspace/output_dir/parsed-processed-input.yaml -o ./output_dir/ -v\n"
     ]
    },
    {
     "name": "stderr",
     "output_type": "stream",
     "text": [
      "INFO:pytimeloop.accelergy_interface:Running Accelergy with command: accelergy /home/workspace/output_dir/parsed-processed-input.yaml -o ./output_dir/ -v\n"
     ]
    },
    {
     "name": "stdout",
     "output_type": "stream",
     "text": [
      "52.63 313600\n",
      "['M', 'S', 'N', 'R', 'P', 'Q', 'C'] has a fitness of 6.058855235044807e-08\n",
      "3/20 candidate\n",
      "[INFO] 2025-05-02 14:11:16,214 - pytimeloop.accelergy_interface - Running Accelergy with command: accelergy /home/workspace/output_dir/parsed-processed-input.yaml -o ./output_dir/ -v\n"
     ]
    },
    {
     "name": "stderr",
     "output_type": "stream",
     "text": [
      "INFO:pytimeloop.accelergy_interface:Running Accelergy with command: accelergy /home/workspace/output_dir/parsed-processed-input.yaml -o ./output_dir/ -v\n"
     ]
    },
    {
     "name": "stdout",
     "output_type": "stream",
     "text": [
      "52.63 313600\n",
      "['M', 'R', 'N', 'S', 'Q', 'P', 'C'] has a fitness of 6.058855235044807e-08\n",
      "4/20 candidate\n",
      "already visited MSNRPQC\n",
      "5/20 candidate\n",
      "[INFO] 2025-05-02 14:11:28,135 - pytimeloop.accelergy_interface - Running Accelergy with command: accelergy /home/workspace/output_dir/parsed-processed-input.yaml -o ./output_dir/ -v\n"
     ]
    },
    {
     "name": "stderr",
     "output_type": "stream",
     "text": [
      "INFO:pytimeloop.accelergy_interface:Running Accelergy with command: accelergy /home/workspace/output_dir/parsed-processed-input.yaml -o ./output_dir/ -v\n"
     ]
    },
    {
     "name": "stdout",
     "output_type": "stream",
     "text": [
      "52.63 313600\n",
      "['M', 'S', 'N', 'Q', 'C', 'R', 'P'] has a fitness of 6.058855235044807e-08\n",
      "6/20 candidate\n",
      "[INFO] 2025-05-02 14:11:40,029 - pytimeloop.accelergy_interface - Running Accelergy with command: accelergy /home/workspace/output_dir/parsed-processed-input.yaml -o ./output_dir/ -v\n"
     ]
    },
    {
     "name": "stderr",
     "output_type": "stream",
     "text": [
      "INFO:pytimeloop.accelergy_interface:Running Accelergy with command: accelergy /home/workspace/output_dir/parsed-processed-input.yaml -o ./output_dir/ -v\n"
     ]
    },
    {
     "name": "stdout",
     "output_type": "stream",
     "text": [
      "55.03 627200\n",
      "['P', 'Q', 'N', 'S', 'C', 'R', 'M'] has a fitness of 2.8973064784699996e-08\n",
      "7/20 candidate\n",
      "[INFO] 2025-05-02 14:12:32,809 - pytimeloop.accelergy_interface - Running Accelergy with command: accelergy /home/workspace/output_dir/parsed-processed-input.yaml -o ./output_dir/ -v\n"
     ]
    },
    {
     "name": "stderr",
     "output_type": "stream",
     "text": [
      "INFO:pytimeloop.accelergy_interface:Running Accelergy with command: accelergy /home/workspace/output_dir/parsed-processed-input.yaml -o ./output_dir/ -v\n"
     ]
    },
    {
     "name": "stdout",
     "output_type": "stream",
     "text": [
      "52.63 313600\n",
      "['M', 'Q', 'N', 'S', 'R', 'C', 'P'] has a fitness of 6.058855235044807e-08\n",
      "8/20 candidate\n",
      "[INFO] 2025-05-02 14:12:44,787 - pytimeloop.accelergy_interface - Running Accelergy with command: accelergy /home/workspace/output_dir/parsed-processed-input.yaml -o ./output_dir/ -v\n"
     ]
    },
    {
     "name": "stderr",
     "output_type": "stream",
     "text": [
      "INFO:pytimeloop.accelergy_interface:Running Accelergy with command: accelergy /home/workspace/output_dir/parsed-processed-input.yaml -o ./output_dir/ -v\n"
     ]
    },
    {
     "name": "stdout",
     "output_type": "stream",
     "text": [
      "55.03 627200\n",
      "['Q', 'M', 'N', 'S', 'C', 'R', 'P'] has a fitness of 2.8973064784699996e-08\n",
      "9/20 candidate\n",
      "[INFO] 2025-05-02 14:13:37,630 - pytimeloop.accelergy_interface - Running Accelergy with command: accelergy /home/workspace/output_dir/parsed-processed-input.yaml -o ./output_dir/ -v\n"
     ]
    },
    {
     "name": "stderr",
     "output_type": "stream",
     "text": [
      "INFO:pytimeloop.accelergy_interface:Running Accelergy with command: accelergy /home/workspace/output_dir/parsed-processed-input.yaml -o ./output_dir/ -v\n"
     ]
    },
    {
     "name": "stdout",
     "output_type": "stream",
     "text": [
      "55.03 627200\n",
      "['S', 'N', 'M', 'Q', 'R', 'C', 'P'] has a fitness of 2.8973064784699996e-08\n",
      "10/20 candidate\n",
      "already visited SNMQRCP\n",
      "11/20 candidate\n",
      "[INFO] 2025-05-02 14:14:30,522 - pytimeloop.accelergy_interface - Running Accelergy with command: accelergy /home/workspace/output_dir/parsed-processed-input.yaml -o ./output_dir/ -v\n"
     ]
    },
    {
     "name": "stderr",
     "output_type": "stream",
     "text": [
      "INFO:pytimeloop.accelergy_interface:Running Accelergy with command: accelergy /home/workspace/output_dir/parsed-processed-input.yaml -o ./output_dir/ -v\n"
     ]
    },
    {
     "name": "stdout",
     "output_type": "stream",
     "text": [
      "52.63 313600\n",
      "['M', 'N', 'R', 'Q', 'S', 'C', 'P'] has a fitness of 6.058855235044807e-08\n",
      "12/20 candidate\n",
      "[INFO] 2025-05-02 14:14:42,450 - pytimeloop.accelergy_interface - Running Accelergy with command: accelergy /home/workspace/output_dir/parsed-processed-input.yaml -o ./output_dir/ -v\n"
     ]
    },
    {
     "name": "stderr",
     "output_type": "stream",
     "text": [
      "INFO:pytimeloop.accelergy_interface:Running Accelergy with command: accelergy /home/workspace/output_dir/parsed-processed-input.yaml -o ./output_dir/ -v\n"
     ]
    },
    {
     "name": "stdout",
     "output_type": "stream",
     "text": [
      "55.03 627200\n",
      "['R', 'N', 'S', 'Q', 'M', 'C', 'P'] has a fitness of 2.8973064784699996e-08\n",
      "13/20 candidate\n",
      "[INFO] 2025-05-02 14:15:35,130 - pytimeloop.accelergy_interface - Running Accelergy with command: accelergy /home/workspace/output_dir/parsed-processed-input.yaml -o ./output_dir/ -v\n"
     ]
    },
    {
     "name": "stderr",
     "output_type": "stream",
     "text": [
      "INFO:pytimeloop.accelergy_interface:Running Accelergy with command: accelergy /home/workspace/output_dir/parsed-processed-input.yaml -o ./output_dir/ -v\n"
     ]
    },
    {
     "name": "stdout",
     "output_type": "stream",
     "text": [
      "52.63 313600\n",
      "['M', 'R', 'P', 'Q', 'C', 'S', 'N'] has a fitness of 6.058855235044807e-08\n",
      "14/20 candidate\n",
      "[INFO] 2025-05-02 14:15:47,507 - pytimeloop.accelergy_interface - Running Accelergy with command: accelergy /home/workspace/output_dir/parsed-processed-input.yaml -o ./output_dir/ -v\n"
     ]
    },
    {
     "name": "stderr",
     "output_type": "stream",
     "text": [
      "INFO:pytimeloop.accelergy_interface:Running Accelergy with command: accelergy /home/workspace/output_dir/parsed-processed-input.yaml -o ./output_dir/ -v\n"
     ]
    },
    {
     "name": "stdout",
     "output_type": "stream",
     "text": [
      "52.63 313600\n",
      "['M', 'S', 'P', 'Q', 'N', 'R', 'C'] has a fitness of 6.058855235044807e-08\n",
      "15/20 candidate\n",
      "already visited MSNQCRP\n",
      "16/20 candidate\n",
      "already visited MRPQCSN\n",
      "17/20 candidate\n",
      "[INFO] 2025-05-02 14:16:00,669 - pytimeloop.accelergy_interface - Running Accelergy with command: accelergy /home/workspace/output_dir/parsed-processed-input.yaml -o ./output_dir/ -v\n"
     ]
    },
    {
     "name": "stderr",
     "output_type": "stream",
     "text": [
      "INFO:pytimeloop.accelergy_interface:Running Accelergy with command: accelergy /home/workspace/output_dir/parsed-processed-input.yaml -o ./output_dir/ -v\n"
     ]
    },
    {
     "name": "stdout",
     "output_type": "stream",
     "text": [
      "52.63 313600\n",
      "['M', 'R', 'P', 'Q', 'N', 'S', 'C'] has a fitness of 6.058855235044807e-08\n",
      "18/20 candidate\n",
      "[INFO] 2025-05-02 14:16:12,737 - pytimeloop.accelergy_interface - Running Accelergy with command: accelergy /home/workspace/output_dir/parsed-processed-input.yaml -o ./output_dir/ -v\n"
     ]
    },
    {
     "name": "stderr",
     "output_type": "stream",
     "text": [
      "INFO:pytimeloop.accelergy_interface:Running Accelergy with command: accelergy /home/workspace/output_dir/parsed-processed-input.yaml -o ./output_dir/ -v\n"
     ]
    },
    {
     "name": "stdout",
     "output_type": "stream",
     "text": [
      "52.63 313600\n",
      "['M', 'R', 'S', 'Q', 'N', 'C', 'P'] has a fitness of 6.058855235044807e-08\n",
      "19/20 candidate\n",
      "[INFO] 2025-05-02 14:16:24,707 - pytimeloop.accelergy_interface - Running Accelergy with command: accelergy /home/workspace/output_dir/parsed-processed-input.yaml -o ./output_dir/ -v\n"
     ]
    },
    {
     "name": "stderr",
     "output_type": "stream",
     "text": [
      "INFO:pytimeloop.accelergy_interface:Running Accelergy with command: accelergy /home/workspace/output_dir/parsed-processed-input.yaml -o ./output_dir/ -v\n"
     ]
    },
    {
     "name": "stdout",
     "output_type": "stream",
     "text": [
      "52.63 313600\n",
      "['M', 'R', 'S', 'P', 'N', 'Q', 'C'] has a fitness of 6.058855235044807e-08\n",
      "20/20 candidate\n",
      "[INFO] 2025-05-02 14:16:36,704 - pytimeloop.accelergy_interface - Running Accelergy with command: accelergy /home/workspace/output_dir/parsed-processed-input.yaml -o ./output_dir/ -v\n"
     ]
    },
    {
     "name": "stderr",
     "output_type": "stream",
     "text": [
      "INFO:pytimeloop.accelergy_interface:Running Accelergy with command: accelergy /home/workspace/output_dir/parsed-processed-input.yaml -o ./output_dir/ -v\n"
     ]
    },
    {
     "name": "stdout",
     "output_type": "stream",
     "text": [
      "55.03 627200\n",
      "['P', 'R', 'S', 'Q', 'N', 'M', 'C'] has a fitness of 2.8973064784699996e-08\n",
      "crossover\n",
      "1/15 candidate in crossover\n",
      "already visited MNRQSCP\n",
      "2/15 candidate in crossover\n",
      "already visited MSNRPQC\n",
      "3/15 candidate in crossover\n",
      "already visited MSNRPQC\n",
      "4/15 candidate in crossover\n",
      "already visited MSNQCRP\n",
      "5/15 candidate in crossover\n",
      "already visited MQNSRCP\n",
      "6/15 candidate in crossover\n",
      "already visited MNRQSCP\n",
      "7/15 candidate in crossover\n",
      "already visited MSPQNRC\n",
      "8/15 candidate in crossover\n",
      "already visited MSNRPQC\n",
      "9/15 candidate in crossover\n",
      "already visited MRNSQPC\n",
      "10/15 candidate in crossover\n",
      "already visited MSNRPQC\n",
      "11/15 candidate in crossover\n",
      "already visited MRQSPNC\n",
      "12/15 candidate in crossover\n",
      "already visited MSNQCRP\n",
      "13/15 candidate in crossover\n",
      "already visited MRPQCSN\n",
      "14/15 candidate in crossover\n",
      "already visited MSNQCRP\n",
      "15/15 candidate in crossover\n",
      "already visited MQNSRCP\n",
      "early stop after plateauing for 2 iters\n",
      "FINISHED RUNNING: FINAL FITNESS OF 6.058855235044807e-08 ON PERMUTATION ['M', 'N', 'S', 'Q', 'P', 'R', 'C']\n",
      " TIMELOOP MAPPER CALLED 65 NUMBER OF TIMES\n"
     ]
    }
   ],
   "source": [
    "stream = open('fc1_2x8.yaml', 'r')\n",
    "known_values = yaml.safe_load(stream)\n",
    "workload='layer_shapes/fc1.yaml'\n",
    "pe_dims={'pe_meshX': 2, 'pe_meshY': 8}\n",
    "\n",
    "fc1_2x8 = GeneticAlgorithm(\n",
    "    workload=workload,\n",
    "    pe_dims=pe_dims,\n",
    "    known_values=known_values\n",
    "    )\n",
    "best_df, f = fc1_2x8.run(g=1)\n",
    "\n",
    "print(f'FINISHED RUNNING: FINAL FITNESS OF {f} ON PERMUTATION {best_df}\\n TIMELOOP MAPPER CALLED {fc1_2x8.mapper_call_count} NUMBER OF TIMES')"
   ]
  },
  {
   "cell_type": "code",
   "execution_count": 6,
   "metadata": {},
   "outputs": [
    {
     "name": "stdout",
     "output_type": "stream",
     "text": [
      "RMSQPNC\n",
      "PSRCQNM\n",
      "RNSQMPC\n",
      "SQNMCPR\n",
      "NSPCMQR\n",
      "RMSQPCN\n",
      "PMSQRNC\n",
      "RMQSPNC\n",
      "CMSQPNR\n",
      "PSQCRNM\n",
      "PSRNQCM\n",
      "PMRCQNS\n",
      "SPRCQNM\n",
      "RNSQCPM\n",
      "RNQSMPC\n",
      "QNSRMPC\n",
      "MNSQRPC\n",
      "SPNMCQR\n",
      "SRNMCPQ\n",
      "QSNMCPR\n",
      "SNQMCPR\n",
      "PSNCMQR\n",
      "NSPMCQR\n",
      "RSPCMQN\n",
      "NSPQCRM\n",
      "MNSQPRC\n",
      "CMSQRPN\n",
      "NMSQPRC\n",
      "MNSRPQC\n",
      "MQSNPRC\n",
      "RNSQPMC\n",
      "SNMQRPC\n",
      "MRSQNPC\n",
      "MNSQRCP\n",
      "MNSCRPQ\n",
      "CPSQRMN\n",
      "RMSQCPN\n",
      "CMSQNPR\n",
      "SMCQRPN\n",
      "QMSCPNR\n",
      "CMSPQNR\n",
      "PMSQCNR\n",
      "CMSQPRN\n",
      "MSPQCRN\n",
      "CSPQNRM\n",
      "NSCQPRM\n",
      "NSPMCRQ\n",
      "MRNSPQC\n",
      "MQNSCRP\n",
      "MRQSPNC\n",
      "MSNRPQC\n",
      "MRNSQPC\n",
      "MSNQCRP\n",
      "PQNSCRM\n",
      "MQNSRCP\n",
      "QMNSCRP\n",
      "SNMQRCP\n",
      "MNRQSCP\n",
      "RNSQMCP\n",
      "MRPQCSN\n",
      "MSPQNRC\n",
      "MRPQNSC\n",
      "MRSQNCP\n",
      "MRSPNQC\n",
      "PRSQNMC\n",
      "2.8973064784699996e-08\n",
      "2.8973064784699996e-08\n",
      "2.8973064784699996e-08\n",
      "2.8973064784699996e-08\n",
      "5.1423568943784577e-08\n",
      "2.8973064784699996e-08\n",
      "2.8973064784699996e-08\n",
      "2.8973064784699996e-08\n",
      "5.7788610188548055e-08\n",
      "2.8973064784699996e-08\n",
      "2.8973064784699996e-08\n",
      "2.8973064784699996e-08\n",
      "2.8973064784699996e-08\n",
      "2.8973064784699996e-08\n",
      "2.8973064784699996e-08\n",
      "2.8973064784699996e-08\n",
      "6.058855235044807e-08\n",
      "2.8973064784699996e-08\n",
      "2.8973064784699996e-08\n",
      "2.8973064784699996e-08\n",
      "2.8973064784699996e-08\n",
      "2.8973064784699996e-08\n",
      "5.1423568943784577e-08\n",
      "2.8973064784699996e-08\n",
      "5.1423568943784577e-08\n",
      "6.058855235044807e-08\n",
      "5.7788610188548055e-08\n",
      "5.1423568943784577e-08\n",
      "6.058855235044807e-08\n",
      "6.058855235044807e-08\n",
      "2.8973064784699996e-08\n",
      "2.8973064784699996e-08\n",
      "6.058855235044807e-08\n",
      "6.058855235044807e-08\n",
      "6.058855235044807e-08\n",
      "5.7788610188548055e-08\n",
      "2.8973064784699996e-08\n",
      "5.7788610188548055e-08\n",
      "2.8973064784699996e-08\n",
      "2.8973064784699996e-08\n",
      "5.7788610188548055e-08\n",
      "2.8973064784699996e-08\n",
      "5.7788610188548055e-08\n",
      "6.058855235044807e-08\n",
      "5.7788610188548055e-08\n",
      "5.1423568943784577e-08\n",
      "5.1423568943784577e-08\n",
      "6.058855235044807e-08\n",
      "6.058855235044807e-08\n",
      "6.058855235044807e-08\n",
      "6.058855235044807e-08\n",
      "6.058855235044807e-08\n",
      "6.058855235044807e-08\n",
      "2.8973064784699996e-08\n",
      "6.058855235044807e-08\n",
      "2.8973064784699996e-08\n",
      "2.8973064784699996e-08\n",
      "6.058855235044807e-08\n",
      "2.8973064784699996e-08\n",
      "6.058855235044807e-08\n",
      "6.058855235044807e-08\n",
      "6.058855235044807e-08\n",
      "6.058855235044807e-08\n",
      "6.058855235044807e-08\n",
      "2.8973064784699996e-08\n"
     ]
    }
   ],
   "source": [
    "for call in fc1_2x8.mapper_calls:\n",
    "    print(call[0])\n",
    "for call in fc1_2x8.mapper_calls:\n",
    "    print(call[1])\n",
    "\n",
    "# for call in fc1_2x8.mapper_calls:\n",
    "#     print(call[0])\n",
    "# for call in fc1_2x8.mapper_calls:\n",
    "#     print(call[1])"
   ]
  },
  {
   "cell_type": "code",
   "execution_count": 8,
   "metadata": {},
   "outputs": [
    {
     "name": "stdout",
     "output_type": "stream",
     "text": [
      "186\n"
     ]
    }
   ],
   "source": [
    "# saving this shit so we can save some time later\n",
    "print(len(fc1_2x8.known_values))\n",
    "with open(f'fc1_2x8.yaml', 'w') as file:\n",
    "    yaml.dump(fc1_2x8.known_values, file, default_flow_style=False)"
   ]
  },
  {
   "cell_type": "markdown",
   "metadata": {},
   "source": [
    "## Workload: CONV1, PE: 1x16, 2x8, and 4x4"
   ]
  },
  {
   "cell_type": "code",
   "execution_count": 62,
   "metadata": {
    "scrolled": true
   },
   "outputs": [
    {
     "name": "stdout",
     "output_type": "stream",
     "text": [
      "Initializing\n",
      "[INFO] 2025-05-02 05:13:41,586 - pytimeloop.accelergy_interface - Running Accelergy with command: accelergy /home/workspace/output_dir/parsed-processed-input.yaml -o ./output_dir/ -v\n"
     ]
    },
    {
     "name": "stderr",
     "output_type": "stream",
     "text": [
      "INFO:pytimeloop.accelergy_interface:Running Accelergy with command: accelergy /home/workspace/output_dir/parsed-processed-input.yaml -o ./output_dir/ -v\n"
     ]
    },
    {
     "name": "stdout",
     "output_type": "stream",
     "text": [
      "68.57 245000\n",
      "['C', 'N', 'P', 'Q', 'M', 'R', 'S'] has a fitness of 5.9525049629010125e-08\n",
      "[INFO] 2025-05-02 05:14:51,859 - pytimeloop.accelergy_interface - Running Accelergy with command: accelergy /home/workspace/output_dir/parsed-processed-input.yaml -o ./output_dir/ -v\n"
     ]
    },
    {
     "name": "stderr",
     "output_type": "stream",
     "text": [
      "INFO:pytimeloop.accelergy_interface:Running Accelergy with command: accelergy /home/workspace/output_dir/parsed-processed-input.yaml -o ./output_dir/ -v\n"
     ]
    },
    {
     "name": "stdout",
     "output_type": "stream",
     "text": [
      "61.61 280000\n",
      "['M', 'P', 'S', 'Q', 'N', 'C', 'R'] has a fitness of 5.796832610661535e-08\n",
      "[INFO] 2025-05-02 05:15:59,156 - pytimeloop.accelergy_interface - Running Accelergy with command: accelergy /home/workspace/output_dir/parsed-processed-input.yaml -o ./output_dir/ -v\n"
     ]
    },
    {
     "name": "stderr",
     "output_type": "stream",
     "text": [
      "INFO:pytimeloop.accelergy_interface:Running Accelergy with command: accelergy /home/workspace/output_dir/parsed-processed-input.yaml -o ./output_dir/ -v\n"
     ]
    },
    {
     "name": "stdout",
     "output_type": "stream",
     "text": [
      "68.57 245000\n",
      "['C', 'S', 'N', 'M', 'R', 'P', 'Q'] has a fitness of 5.9525049629010125e-08\n",
      "[INFO] 2025-05-02 05:17:15,941 - pytimeloop.accelergy_interface - Running Accelergy with command: accelergy /home/workspace/output_dir/parsed-processed-input.yaml -o ./output_dir/ -v\n"
     ]
    },
    {
     "name": "stderr",
     "output_type": "stream",
     "text": [
      "INFO:pytimeloop.accelergy_interface:Running Accelergy with command: accelergy /home/workspace/output_dir/parsed-processed-input.yaml -o ./output_dir/ -v\n"
     ]
    },
    {
     "name": "stdout",
     "output_type": "stream",
     "text": [
      "68.57 245000\n",
      "['P', 'M', 'N', 'Q', 'S', 'C', 'R'] has a fitness of 5.9525049629010125e-08\n",
      "[INFO] 2025-05-02 05:18:02,215 - pytimeloop.accelergy_interface - Running Accelergy with command: accelergy /home/workspace/output_dir/parsed-processed-input.yaml -o ./output_dir/ -v\n"
     ]
    },
    {
     "name": "stderr",
     "output_type": "stream",
     "text": [
      "INFO:pytimeloop.accelergy_interface:Running Accelergy with command: accelergy /home/workspace/output_dir/parsed-processed-input.yaml -o ./output_dir/ -v\n"
     ]
    },
    {
     "name": "stdout",
     "output_type": "stream",
     "text": [
      "55.09 245000\n",
      "['Q', 'C', 'P', 'S', 'N', 'R', 'M'] has a fitness of 7.40902641688369e-08\n",
      "\n",
      "ITERATION:  0\n",
      "selection\n",
      "1/20 candidate\n",
      "[INFO] 2025-05-02 05:19:01,508 - pytimeloop.accelergy_interface - Running Accelergy with command: accelergy /home/workspace/output_dir/parsed-processed-input.yaml -o ./output_dir/ -v\n"
     ]
    },
    {
     "name": "stderr",
     "output_type": "stream",
     "text": [
      "INFO:pytimeloop.accelergy_interface:Running Accelergy with command: accelergy /home/workspace/output_dir/parsed-processed-input.yaml -o ./output_dir/ -v\n"
     ]
    },
    {
     "name": "stdout",
     "output_type": "stream",
     "text": [
      "68.57 245000\n",
      "['C', 'N', 'Q', 'P', 'M', 'R', 'S'] has a fitness of 5.9525049629010125e-08\n",
      "2/20 candidate\n",
      "[INFO] 2025-05-02 05:20:09,469 - pytimeloop.accelergy_interface - Running Accelergy with command: accelergy /home/workspace/output_dir/parsed-processed-input.yaml -o ./output_dir/ -v\n"
     ]
    },
    {
     "name": "stderr",
     "output_type": "stream",
     "text": [
      "INFO:pytimeloop.accelergy_interface:Running Accelergy with command: accelergy /home/workspace/output_dir/parsed-processed-input.yaml -o ./output_dir/ -v\n"
     ]
    },
    {
     "name": "stdout",
     "output_type": "stream",
     "text": [
      "68.57 245000\n",
      "['C', 'R', 'P', 'Q', 'M', 'N', 'S'] has a fitness of 5.9525049629010125e-08\n",
      "3/20 candidate\n",
      "[INFO] 2025-05-02 05:21:21,121 - pytimeloop.accelergy_interface - Running Accelergy with command: accelergy /home/workspace/output_dir/parsed-processed-input.yaml -o ./output_dir/ -v\n"
     ]
    },
    {
     "name": "stderr",
     "output_type": "stream",
     "text": [
      "INFO:pytimeloop.accelergy_interface:Running Accelergy with command: accelergy /home/workspace/output_dir/parsed-processed-input.yaml -o ./output_dir/ -v\n"
     ]
    },
    {
     "name": "stdout",
     "output_type": "stream",
     "text": [
      "68.57 245000\n",
      "['C', 'N', 'P', 'Q', 'M', 'S', 'R'] has a fitness of 5.9525049629010125e-08\n",
      "4/20 candidate\n",
      "[INFO] 2025-05-02 05:22:30,091 - pytimeloop.accelergy_interface - Running Accelergy with command: accelergy /home/workspace/output_dir/parsed-processed-input.yaml -o ./output_dir/ -v\n"
     ]
    },
    {
     "name": "stderr",
     "output_type": "stream",
     "text": [
      "INFO:pytimeloop.accelergy_interface:Running Accelergy with command: accelergy /home/workspace/output_dir/parsed-processed-input.yaml -o ./output_dir/ -v\n"
     ]
    },
    {
     "name": "stdout",
     "output_type": "stream",
     "text": [
      "68.57 245000\n",
      "['R', 'N', 'P', 'Q', 'M', 'C', 'S'] has a fitness of 5.9525049629010125e-08\n",
      "5/20 candidate\n",
      "[INFO] 2025-05-02 05:23:41,530 - pytimeloop.accelergy_interface - Running Accelergy with command: accelergy /home/workspace/output_dir/parsed-processed-input.yaml -o ./output_dir/ -v\n"
     ]
    },
    {
     "name": "stderr",
     "output_type": "stream",
     "text": [
      "INFO:pytimeloop.accelergy_interface:Running Accelergy with command: accelergy /home/workspace/output_dir/parsed-processed-input.yaml -o ./output_dir/ -v\n"
     ]
    },
    {
     "name": "stdout",
     "output_type": "stream",
     "text": [
      "68.57 245000\n",
      "['S', 'P', 'M', 'Q', 'N', 'C', 'R'] has a fitness of 5.9525049629010125e-08\n",
      "6/20 candidate\n",
      "[INFO] 2025-05-02 05:24:54,403 - pytimeloop.accelergy_interface - Running Accelergy with command: accelergy /home/workspace/output_dir/parsed-processed-input.yaml -o ./output_dir/ -v\n"
     ]
    },
    {
     "name": "stderr",
     "output_type": "stream",
     "text": [
      "INFO:pytimeloop.accelergy_interface:Running Accelergy with command: accelergy /home/workspace/output_dir/parsed-processed-input.yaml -o ./output_dir/ -v\n"
     ]
    },
    {
     "name": "stdout",
     "output_type": "stream",
     "text": [
      "61.61 280000\n",
      "['M', 'P', 'C', 'Q', 'N', 'S', 'R'] has a fitness of 5.796832610661535e-08\n",
      "7/20 candidate\n",
      "[INFO] 2025-05-02 05:25:57,949 - pytimeloop.accelergy_interface - Running Accelergy with command: accelergy /home/workspace/output_dir/parsed-processed-input.yaml -o ./output_dir/ -v\n"
     ]
    },
    {
     "name": "stderr",
     "output_type": "stream",
     "text": [
      "INFO:pytimeloop.accelergy_interface:Running Accelergy with command: accelergy /home/workspace/output_dir/parsed-processed-input.yaml -o ./output_dir/ -v\n"
     ]
    },
    {
     "name": "stdout",
     "output_type": "stream",
     "text": [
      "55.09 245000\n",
      "['Q', 'P', 'S', 'M', 'N', 'C', 'R'] has a fitness of 7.40902641688369e-08\n",
      "8/20 candidate\n",
      "[INFO] 2025-05-02 05:26:53,958 - pytimeloop.accelergy_interface - Running Accelergy with command: accelergy /home/workspace/output_dir/parsed-processed-input.yaml -o ./output_dir/ -v\n"
     ]
    },
    {
     "name": "stderr",
     "output_type": "stream",
     "text": [
      "INFO:pytimeloop.accelergy_interface:Running Accelergy with command: accelergy /home/workspace/output_dir/parsed-processed-input.yaml -o ./output_dir/ -v\n"
     ]
    },
    {
     "name": "stdout",
     "output_type": "stream",
     "text": [
      "61.61 280000\n",
      "['M', 'P', 'N', 'Q', 'S', 'C', 'R'] has a fitness of 5.796832610661535e-08\n",
      "9/20 candidate\n",
      "[INFO] 2025-05-02 05:27:57,200 - pytimeloop.accelergy_interface - Running Accelergy with command: accelergy /home/workspace/output_dir/parsed-processed-input.yaml -o ./output_dir/ -v\n"
     ]
    },
    {
     "name": "stderr",
     "output_type": "stream",
     "text": [
      "INFO:pytimeloop.accelergy_interface:Running Accelergy with command: accelergy /home/workspace/output_dir/parsed-processed-input.yaml -o ./output_dir/ -v\n"
     ]
    },
    {
     "name": "stdout",
     "output_type": "stream",
     "text": [
      "68.57 245000\n",
      "['C', 'M', 'N', 'S', 'R', 'P', 'Q'] has a fitness of 5.9525049629010125e-08\n",
      "10/20 candidate\n",
      "[INFO] 2025-05-02 05:29:03,313 - pytimeloop.accelergy_interface - Running Accelergy with command: accelergy /home/workspace/output_dir/parsed-processed-input.yaml -o ./output_dir/ -v\n"
     ]
    },
    {
     "name": "stderr",
     "output_type": "stream",
     "text": [
      "INFO:pytimeloop.accelergy_interface:Running Accelergy with command: accelergy /home/workspace/output_dir/parsed-processed-input.yaml -o ./output_dir/ -v\n"
     ]
    },
    {
     "name": "stdout",
     "output_type": "stream",
     "text": [
      "55.09 245000\n",
      "['Q', 'S', 'N', 'M', 'R', 'P', 'C'] has a fitness of 7.40902641688369e-08\n",
      "11/20 candidate\n",
      "already visited CMNSRPQ\n",
      "12/20 candidate\n",
      "[INFO] 2025-05-02 05:29:59,515 - pytimeloop.accelergy_interface - Running Accelergy with command: accelergy /home/workspace/output_dir/parsed-processed-input.yaml -o ./output_dir/ -v\n"
     ]
    },
    {
     "name": "stderr",
     "output_type": "stream",
     "text": [
      "INFO:pytimeloop.accelergy_interface:Running Accelergy with command: accelergy /home/workspace/output_dir/parsed-processed-input.yaml -o ./output_dir/ -v\n"
     ]
    },
    {
     "name": "stdout",
     "output_type": "stream",
     "text": [
      "68.57 245000\n",
      "['C', 'S', 'N', 'R', 'M', 'P', 'Q'] has a fitness of 5.9525049629010125e-08\n",
      "13/20 candidate\n",
      "[INFO] 2025-05-02 05:31:05,465 - pytimeloop.accelergy_interface - Running Accelergy with command: accelergy /home/workspace/output_dir/parsed-processed-input.yaml -o ./output_dir/ -v\n"
     ]
    },
    {
     "name": "stderr",
     "output_type": "stream",
     "text": [
      "INFO:pytimeloop.accelergy_interface:Running Accelergy with command: accelergy /home/workspace/output_dir/parsed-processed-input.yaml -o ./output_dir/ -v\n"
     ]
    },
    {
     "name": "stdout",
     "output_type": "stream",
     "text": [
      "68.57 245000\n",
      "['P', 'M', 'N', 'Q', 'S', 'R', 'C'] has a fitness of 5.9525049629010125e-08\n",
      "14/20 candidate\n",
      "[INFO] 2025-05-02 05:31:48,813 - pytimeloop.accelergy_interface - Running Accelergy with command: accelergy /home/workspace/output_dir/parsed-processed-input.yaml -o ./output_dir/ -v\n"
     ]
    },
    {
     "name": "stderr",
     "output_type": "stream",
     "text": [
      "INFO:pytimeloop.accelergy_interface:Running Accelergy with command: accelergy /home/workspace/output_dir/parsed-processed-input.yaml -o ./output_dir/ -v\n"
     ]
    },
    {
     "name": "stdout",
     "output_type": "stream",
     "text": [
      "68.57 245000\n",
      "['P', 'M', 'N', 'Q', 'C', 'S', 'R'] has a fitness of 5.9525049629010125e-08\n",
      "15/20 candidate\n",
      "[INFO] 2025-05-02 05:32:32,015 - pytimeloop.accelergy_interface - Running Accelergy with command: accelergy /home/workspace/output_dir/parsed-processed-input.yaml -o ./output_dir/ -v\n"
     ]
    },
    {
     "name": "stderr",
     "output_type": "stream",
     "text": [
      "INFO:pytimeloop.accelergy_interface:Running Accelergy with command: accelergy /home/workspace/output_dir/parsed-processed-input.yaml -o ./output_dir/ -v\n"
     ]
    },
    {
     "name": "stdout",
     "output_type": "stream",
     "text": [
      "68.57 245000\n",
      "['P', 'M', 'R', 'Q', 'S', 'C', 'N'] has a fitness of 5.9525049629010125e-08\n",
      "16/20 candidate\n",
      "[INFO] 2025-05-02 05:33:15,804 - pytimeloop.accelergy_interface - Running Accelergy with command: accelergy /home/workspace/output_dir/parsed-processed-input.yaml -o ./output_dir/ -v\n"
     ]
    },
    {
     "name": "stderr",
     "output_type": "stream",
     "text": [
      "INFO:pytimeloop.accelergy_interface:Running Accelergy with command: accelergy /home/workspace/output_dir/parsed-processed-input.yaml -o ./output_dir/ -v\n"
     ]
    },
    {
     "name": "stdout",
     "output_type": "stream",
     "text": [
      "68.57 245000\n",
      "['P', 'M', 'N', 'C', 'S', 'Q', 'R'] has a fitness of 5.9525049629010125e-08\n",
      "17/20 candidate\n",
      "[INFO] 2025-05-02 05:33:58,608 - pytimeloop.accelergy_interface - Running Accelergy with command: accelergy /home/workspace/output_dir/parsed-processed-input.yaml -o ./output_dir/ -v\n"
     ]
    },
    {
     "name": "stderr",
     "output_type": "stream",
     "text": [
      "INFO:pytimeloop.accelergy_interface:Running Accelergy with command: accelergy /home/workspace/output_dir/parsed-processed-input.yaml -o ./output_dir/ -v\n"
     ]
    },
    {
     "name": "stdout",
     "output_type": "stream",
     "text": [
      "55.09 245000\n",
      "['Q', 'C', 'R', 'S', 'N', 'P', 'M'] has a fitness of 7.40902641688369e-08\n",
      "18/20 candidate\n",
      "[INFO] 2025-05-02 05:34:53,725 - pytimeloop.accelergy_interface - Running Accelergy with command: accelergy /home/workspace/output_dir/parsed-processed-input.yaml -o ./output_dir/ -v\n"
     ]
    },
    {
     "name": "stderr",
     "output_type": "stream",
     "text": [
      "INFO:pytimeloop.accelergy_interface:Running Accelergy with command: accelergy /home/workspace/output_dir/parsed-processed-input.yaml -o ./output_dir/ -v\n"
     ]
    },
    {
     "name": "stdout",
     "output_type": "stream",
     "text": [
      "55.09 245000\n",
      "['Q', 'C', 'P', 'M', 'N', 'R', 'S'] has a fitness of 7.40902641688369e-08\n",
      "19/20 candidate\n",
      "already visited QCRSNPM\n",
      "20/20 candidate\n",
      "already visited QCRSNPM\n",
      "crossover\n",
      "1/15 candidate in crossover\n",
      "[INFO] 2025-05-02 05:35:51,362 - pytimeloop.accelergy_interface - Running Accelergy with command: accelergy /home/workspace/output_dir/parsed-processed-input.yaml -o ./output_dir/ -v\n"
     ]
    },
    {
     "name": "stderr",
     "output_type": "stream",
     "text": [
      "INFO:pytimeloop.accelergy_interface:Running Accelergy with command: accelergy /home/workspace/output_dir/parsed-processed-input.yaml -o ./output_dir/ -v\n"
     ]
    },
    {
     "name": "stdout",
     "output_type": "stream",
     "text": [
      "68.57 245000\n",
      "['R', 'N', 'P', 'Q', 'C', 'M', 'S'] has a fitness of 5.9525049629010125e-08\n",
      "2/15 candidate in crossover\n",
      "[INFO] 2025-05-02 05:37:00,735 - pytimeloop.accelergy_interface - Running Accelergy with command: accelergy /home/workspace/output_dir/parsed-processed-input.yaml -o ./output_dir/ -v\n"
     ]
    },
    {
     "name": "stderr",
     "output_type": "stream",
     "text": [
      "INFO:pytimeloop.accelergy_interface:Running Accelergy with command: accelergy /home/workspace/output_dir/parsed-processed-input.yaml -o ./output_dir/ -v\n"
     ]
    },
    {
     "name": "stdout",
     "output_type": "stream",
     "text": [
      "55.09 245000\n",
      "['Q', 'C', 'P', 'M', 'R', 'S', 'N'] has a fitness of 7.40902641688369e-08\n",
      "3/15 candidate in crossover\n",
      "[INFO] 2025-05-02 05:37:56,735 - pytimeloop.accelergy_interface - Running Accelergy with command: accelergy /home/workspace/output_dir/parsed-processed-input.yaml -o ./output_dir/ -v\n"
     ]
    },
    {
     "name": "stderr",
     "output_type": "stream",
     "text": [
      "INFO:pytimeloop.accelergy_interface:Running Accelergy with command: accelergy /home/workspace/output_dir/parsed-processed-input.yaml -o ./output_dir/ -v\n"
     ]
    },
    {
     "name": "stdout",
     "output_type": "stream",
     "text": [
      "55.09 245000\n",
      "['Q', 'C', 'N', 'P', 'M', 'S', 'R'] has a fitness of 7.40902641688369e-08\n",
      "4/15 candidate in crossover\n",
      "[INFO] 2025-05-02 05:38:52,897 - pytimeloop.accelergy_interface - Running Accelergy with command: accelergy /home/workspace/output_dir/parsed-processed-input.yaml -o ./output_dir/ -v\n"
     ]
    },
    {
     "name": "stderr",
     "output_type": "stream",
     "text": [
      "INFO:pytimeloop.accelergy_interface:Running Accelergy with command: accelergy /home/workspace/output_dir/parsed-processed-input.yaml -o ./output_dir/ -v\n"
     ]
    },
    {
     "name": "stdout",
     "output_type": "stream",
     "text": [
      "68.57 245000\n",
      "['C', 'N', 'Q', 'R', 'S', 'P', 'M'] has a fitness of 5.9525049629010125e-08\n",
      "5/15 candidate in crossover\n",
      "[INFO] 2025-05-02 05:39:58,206 - pytimeloop.accelergy_interface - Running Accelergy with command: accelergy /home/workspace/output_dir/parsed-processed-input.yaml -o ./output_dir/ -v\n"
     ]
    },
    {
     "name": "stderr",
     "output_type": "stream",
     "text": [
      "INFO:pytimeloop.accelergy_interface:Running Accelergy with command: accelergy /home/workspace/output_dir/parsed-processed-input.yaml -o ./output_dir/ -v\n"
     ]
    },
    {
     "name": "stdout",
     "output_type": "stream",
     "text": [
      "55.09 245000\n",
      "['Q', 'P', 'S', 'M', 'N', 'R', 'C'] has a fitness of 7.40902641688369e-08\n",
      "6/15 candidate in crossover\n",
      "already visited RNPQMCS\n",
      "7/15 candidate in crossover\n",
      "already visited CRPQMNS\n",
      "8/15 candidate in crossover\n",
      "already visited QCPMNRS\n",
      "9/15 candidate in crossover\n",
      "already visited QCRSNPM\n",
      "10/15 candidate in crossover\n",
      "already visited QCRSNPM\n",
      "11/15 candidate in crossover\n",
      "already visited CNPQMSR\n",
      "12/15 candidate in crossover\n",
      "already visited CNQPMRS\n",
      "13/15 candidate in crossover\n",
      "already visited QCRSNPM\n",
      "14/15 candidate in crossover\n",
      "already visited QPSMNCR\n",
      "15/15 candidate in crossover\n",
      "already visited QSNMRPC\n",
      "\n",
      "ITERATION:  1\n",
      "selection\n",
      "1/20 candidate\n",
      "[INFO] 2025-05-02 05:40:54,908 - pytimeloop.accelergy_interface - Running Accelergy with command: accelergy /home/workspace/output_dir/parsed-processed-input.yaml -o ./output_dir/ -v\n"
     ]
    },
    {
     "name": "stderr",
     "output_type": "stream",
     "text": [
      "INFO:pytimeloop.accelergy_interface:Running Accelergy with command: accelergy /home/workspace/output_dir/parsed-processed-input.yaml -o ./output_dir/ -v\n"
     ]
    },
    {
     "name": "stdout",
     "output_type": "stream",
     "text": [
      "68.57 245000\n",
      "['S', 'N', 'P', 'Q', 'M', 'R', 'C'] has a fitness of 5.9525049629010125e-08\n",
      "2/20 candidate\n",
      "[INFO] 2025-05-02 05:42:03,570 - pytimeloop.accelergy_interface - Running Accelergy with command: accelergy /home/workspace/output_dir/parsed-processed-input.yaml -o ./output_dir/ -v\n"
     ]
    },
    {
     "name": "stderr",
     "output_type": "stream",
     "text": [
      "INFO:pytimeloop.accelergy_interface:Running Accelergy with command: accelergy /home/workspace/output_dir/parsed-processed-input.yaml -o ./output_dir/ -v\n"
     ]
    },
    {
     "name": "stdout",
     "output_type": "stream",
     "text": [
      "68.57 245000\n",
      "['P', 'N', 'C', 'Q', 'M', 'R', 'S'] has a fitness of 5.9525049629010125e-08\n",
      "3/20 candidate\n",
      "already visited CNQPMRS\n",
      "4/20 candidate\n",
      "already visited RNPQMCS\n",
      "5/20 candidate\n",
      "[INFO] 2025-05-02 05:42:46,599 - pytimeloop.accelergy_interface - Running Accelergy with command: accelergy /home/workspace/output_dir/parsed-processed-input.yaml -o ./output_dir/ -v\n"
     ]
    },
    {
     "name": "stderr",
     "output_type": "stream",
     "text": [
      "INFO:pytimeloop.accelergy_interface:Running Accelergy with command: accelergy /home/workspace/output_dir/parsed-processed-input.yaml -o ./output_dir/ -v\n"
     ]
    },
    {
     "name": "stdout",
     "output_type": "stream",
     "text": [
      "68.57 245000\n",
      "['P', 'M', 'S', 'Q', 'N', 'C', 'R'] has a fitness of 5.9525049629010125e-08\n",
      "6/20 candidate\n",
      "[INFO] 2025-05-02 05:43:31,628 - pytimeloop.accelergy_interface - Running Accelergy with command: accelergy /home/workspace/output_dir/parsed-processed-input.yaml -o ./output_dir/ -v\n"
     ]
    },
    {
     "name": "stderr",
     "output_type": "stream",
     "text": [
      "INFO:pytimeloop.accelergy_interface:Running Accelergy with command: accelergy /home/workspace/output_dir/parsed-processed-input.yaml -o ./output_dir/ -v\n"
     ]
    },
    {
     "name": "stdout",
     "output_type": "stream",
     "text": [
      "61.61 280000\n",
      "['M', 'P', 'S', 'C', 'N', 'Q', 'R'] has a fitness of 5.796832610661535e-08\n",
      "7/20 candidate\n",
      "[INFO] 2025-05-02 05:44:34,240 - pytimeloop.accelergy_interface - Running Accelergy with command: accelergy /home/workspace/output_dir/parsed-processed-input.yaml -o ./output_dir/ -v\n"
     ]
    },
    {
     "name": "stderr",
     "output_type": "stream",
     "text": [
      "INFO:pytimeloop.accelergy_interface:Running Accelergy with command: accelergy /home/workspace/output_dir/parsed-processed-input.yaml -o ./output_dir/ -v\n"
     ]
    },
    {
     "name": "stdout",
     "output_type": "stream",
     "text": [
      "68.56 245000\n",
      "['N', 'P', 'S', 'Q', 'M', 'C', 'R'] has a fitness of 5.953373181244493e-08\n",
      "8/20 candidate\n",
      "already visited PMSQNCR\n",
      "9/20 candidate\n",
      "[INFO] 2025-05-02 05:45:39,423 - pytimeloop.accelergy_interface - Running Accelergy with command: accelergy /home/workspace/output_dir/parsed-processed-input.yaml -o ./output_dir/ -v\n"
     ]
    },
    {
     "name": "stderr",
     "output_type": "stream",
     "text": [
      "INFO:pytimeloop.accelergy_interface:Running Accelergy with command: accelergy /home/workspace/output_dir/parsed-processed-input.yaml -o ./output_dir/ -v\n"
     ]
    },
    {
     "name": "stdout",
     "output_type": "stream",
     "text": [
      "68.57 245000\n",
      "['C', 'S', 'Q', 'M', 'R', 'P', 'N'] has a fitness of 5.9525049629010125e-08\n",
      "10/20 candidate\n",
      "[INFO] 2025-05-02 05:46:45,382 - pytimeloop.accelergy_interface - Running Accelergy with command: accelergy /home/workspace/output_dir/parsed-processed-input.yaml -o ./output_dir/ -v\n"
     ]
    },
    {
     "name": "stderr",
     "output_type": "stream",
     "text": [
      "INFO:pytimeloop.accelergy_interface:Running Accelergy with command: accelergy /home/workspace/output_dir/parsed-processed-input.yaml -o ./output_dir/ -v\n"
     ]
    },
    {
     "name": "stdout",
     "output_type": "stream",
     "text": [
      "68.57 245000\n",
      "['C', 'P', 'N', 'M', 'R', 'S', 'Q'] has a fitness of 5.9525049629010125e-08\n",
      "11/20 candidate\n",
      "[INFO] 2025-05-02 05:47:51,612 - pytimeloop.accelergy_interface - Running Accelergy with command: accelergy /home/workspace/output_dir/parsed-processed-input.yaml -o ./output_dir/ -v\n"
     ]
    },
    {
     "name": "stderr",
     "output_type": "stream",
     "text": [
      "INFO:pytimeloop.accelergy_interface:Running Accelergy with command: accelergy /home/workspace/output_dir/parsed-processed-input.yaml -o ./output_dir/ -v\n"
     ]
    },
    {
     "name": "stdout",
     "output_type": "stream",
     "text": [
      "68.56 245000\n",
      "['N', 'S', 'C', 'M', 'R', 'P', 'Q'] has a fitness of 5.953373181244493e-08\n",
      "12/20 candidate\n",
      "[INFO] 2025-05-02 05:48:58,882 - pytimeloop.accelergy_interface - Running Accelergy with command: accelergy /home/workspace/output_dir/parsed-processed-input.yaml -o ./output_dir/ -v\n"
     ]
    },
    {
     "name": "stderr",
     "output_type": "stream",
     "text": [
      "INFO:pytimeloop.accelergy_interface:Running Accelergy with command: accelergy /home/workspace/output_dir/parsed-processed-input.yaml -o ./output_dir/ -v\n"
     ]
    },
    {
     "name": "stdout",
     "output_type": "stream",
     "text": [
      "61.61 280000\n",
      "['M', 'S', 'N', 'C', 'R', 'P', 'Q'] has a fitness of 5.796832610661535e-08\n",
      "13/20 candidate\n",
      "already visited PMNCSQR\n",
      "14/20 candidate\n",
      "[INFO] 2025-05-02 05:50:04,207 - pytimeloop.accelergy_interface - Running Accelergy with command: accelergy /home/workspace/output_dir/parsed-processed-input.yaml -o ./output_dir/ -v\n"
     ]
    },
    {
     "name": "stderr",
     "output_type": "stream",
     "text": [
      "INFO:pytimeloop.accelergy_interface:Running Accelergy with command: accelergy /home/workspace/output_dir/parsed-processed-input.yaml -o ./output_dir/ -v\n"
     ]
    },
    {
     "name": "stdout",
     "output_type": "stream",
     "text": [
      "68.57 245000\n",
      "['P', 'M', 'C', 'Q', 'S', 'N', 'R'] has a fitness of 5.9525049629010125e-08\n",
      "15/20 candidate\n",
      "[INFO] 2025-05-02 05:50:48,161 - pytimeloop.accelergy_interface - Running Accelergy with command: accelergy /home/workspace/output_dir/parsed-processed-input.yaml -o ./output_dir/ -v\n"
     ]
    },
    {
     "name": "stderr",
     "output_type": "stream",
     "text": [
      "INFO:pytimeloop.accelergy_interface:Running Accelergy with command: accelergy /home/workspace/output_dir/parsed-processed-input.yaml -o ./output_dir/ -v\n"
     ]
    },
    {
     "name": "stdout",
     "output_type": "stream",
     "text": [
      "68.57 245000\n",
      "['C', 'M', 'N', 'Q', 'S', 'P', 'R'] has a fitness of 5.9525049629010125e-08\n",
      "16/20 candidate\n",
      "[INFO] 2025-05-02 05:51:53,953 - pytimeloop.accelergy_interface - Running Accelergy with command: accelergy /home/workspace/output_dir/parsed-processed-input.yaml -o ./output_dir/ -v\n"
     ]
    },
    {
     "name": "stderr",
     "output_type": "stream",
     "text": [
      "INFO:pytimeloop.accelergy_interface:Running Accelergy with command: accelergy /home/workspace/output_dir/parsed-processed-input.yaml -o ./output_dir/ -v\n"
     ]
    },
    {
     "name": "stdout",
     "output_type": "stream",
     "text": [
      "68.57 245000\n",
      "['P', 'M', 'N', 'R', 'S', 'C', 'Q'] has a fitness of 5.9525049629010125e-08\n",
      "17/20 candidate\n",
      "[INFO] 2025-05-02 05:52:37,722 - pytimeloop.accelergy_interface - Running Accelergy with command: accelergy /home/workspace/output_dir/parsed-processed-input.yaml -o ./output_dir/ -v\n"
     ]
    },
    {
     "name": "stderr",
     "output_type": "stream",
     "text": [
      "INFO:pytimeloop.accelergy_interface:Running Accelergy with command: accelergy /home/workspace/output_dir/parsed-processed-input.yaml -o ./output_dir/ -v\n"
     ]
    },
    {
     "name": "stdout",
     "output_type": "stream",
     "text": [
      "55.09 245000\n",
      "['Q', 'C', 'S', 'P', 'N', 'R', 'M'] has a fitness of 7.40902641688369e-08\n",
      "18/20 candidate\n",
      "[INFO] 2025-05-02 05:53:35,219 - pytimeloop.accelergy_interface - Running Accelergy with command: accelergy /home/workspace/output_dir/parsed-processed-input.yaml -o ./output_dir/ -v\n"
     ]
    },
    {
     "name": "stderr",
     "output_type": "stream",
     "text": [
      "INFO:pytimeloop.accelergy_interface:Running Accelergy with command: accelergy /home/workspace/output_dir/parsed-processed-input.yaml -o ./output_dir/ -v\n"
     ]
    },
    {
     "name": "stdout",
     "output_type": "stream",
     "text": [
      "55.09 245000\n",
      "['Q', 'C', 'P', 'S', 'M', 'R', 'N'] has a fitness of 7.40902641688369e-08\n",
      "19/20 candidate\n",
      "[INFO] 2025-05-02 05:54:33,119 - pytimeloop.accelergy_interface - Running Accelergy with command: accelergy /home/workspace/output_dir/parsed-processed-input.yaml -o ./output_dir/ -v\n"
     ]
    },
    {
     "name": "stderr",
     "output_type": "stream",
     "text": [
      "INFO:pytimeloop.accelergy_interface:Running Accelergy with command: accelergy /home/workspace/output_dir/parsed-processed-input.yaml -o ./output_dir/ -v\n"
     ]
    },
    {
     "name": "stdout",
     "output_type": "stream",
     "text": [
      "55.09 245000\n",
      "['Q', 'C', 'M', 'S', 'N', 'R', 'P'] has a fitness of 7.40902641688369e-08\n",
      "20/20 candidate\n",
      "[INFO] 2025-05-02 05:55:30,629 - pytimeloop.accelergy_interface - Running Accelergy with command: accelergy /home/workspace/output_dir/parsed-processed-input.yaml -o ./output_dir/ -v\n"
     ]
    },
    {
     "name": "stderr",
     "output_type": "stream",
     "text": [
      "INFO:pytimeloop.accelergy_interface:Running Accelergy with command: accelergy /home/workspace/output_dir/parsed-processed-input.yaml -o ./output_dir/ -v\n"
     ]
    },
    {
     "name": "stdout",
     "output_type": "stream",
     "text": [
      "55.09 245000\n",
      "['Q', 'C', 'P', 'S', 'N', 'M', 'R'] has a fitness of 7.40902641688369e-08\n",
      "crossover\n",
      "1/15 candidate in crossover\n",
      "[INFO] 2025-05-02 05:56:27,160 - pytimeloop.accelergy_interface - Running Accelergy with command: accelergy /home/workspace/output_dir/parsed-processed-input.yaml -o ./output_dir/ -v\n"
     ]
    },
    {
     "name": "stderr",
     "output_type": "stream",
     "text": [
      "INFO:pytimeloop.accelergy_interface:Running Accelergy with command: accelergy /home/workspace/output_dir/parsed-processed-input.yaml -o ./output_dir/ -v\n"
     ]
    },
    {
     "name": "stdout",
     "output_type": "stream",
     "text": [
      "68.56 245000\n",
      "['N', 'S', 'C', 'P', 'Q', 'M', 'R'] has a fitness of 5.953373181244493e-08\n",
      "2/15 candidate in crossover\n",
      "[INFO] 2025-05-02 05:57:36,103 - pytimeloop.accelergy_interface - Running Accelergy with command: accelergy /home/workspace/output_dir/parsed-processed-input.yaml -o ./output_dir/ -v\n"
     ]
    },
    {
     "name": "stderr",
     "output_type": "stream",
     "text": [
      "INFO:pytimeloop.accelergy_interface:Running Accelergy with command: accelergy /home/workspace/output_dir/parsed-processed-input.yaml -o ./output_dir/ -v\n"
     ]
    },
    {
     "name": "stdout",
     "output_type": "stream",
     "text": [
      "68.56 245000\n",
      "['N', 'C', 'Q', 'P', 'M', 'R', 'S'] has a fitness of 5.953373181244493e-08\n",
      "3/15 candidate in crossover\n",
      "[INFO] 2025-05-02 05:58:43,689 - pytimeloop.accelergy_interface - Running Accelergy with command: accelergy /home/workspace/output_dir/parsed-processed-input.yaml -o ./output_dir/ -v\n"
     ]
    },
    {
     "name": "stderr",
     "output_type": "stream",
     "text": [
      "INFO:pytimeloop.accelergy_interface:Running Accelergy with command: accelergy /home/workspace/output_dir/parsed-processed-input.yaml -o ./output_dir/ -v\n"
     ]
    },
    {
     "name": "stdout",
     "output_type": "stream",
     "text": [
      "68.57 245000\n",
      "['S', 'N', 'Q', 'C', 'P', 'M', 'R'] has a fitness of 5.9525049629010125e-08\n",
      "4/15 candidate in crossover\n",
      "already visited QCPSMRN\n",
      "5/15 candidate in crossover\n",
      "already visited QCSPNRM\n",
      "6/15 candidate in crossover\n",
      "already visited NSCMRPQ\n",
      "7/15 candidate in crossover\n",
      "already visited PNCQMRS\n",
      "8/15 candidate in crossover\n",
      "already visited NPSQMCR\n",
      "9/15 candidate in crossover\n",
      "already visited CNQPMRS\n",
      "10/15 candidate in crossover\n",
      "already visited SNPQMRC\n",
      "11/15 candidate in crossover\n",
      "already visited QCPSNMR\n",
      "12/15 candidate in crossover\n",
      "already visited QCPSMRN\n",
      "13/15 candidate in crossover\n",
      "already visited RNPQMCS\n",
      "14/15 candidate in crossover\n",
      "already visited QCMSNRP\n",
      "15/15 candidate in crossover\n",
      "already visited QCSPNRM\n",
      "\n",
      "ITERATION:  2\n",
      "selection\n",
      "1/20 candidate\n",
      "already visited RNPQMCS\n",
      "2/20 candidate\n",
      "[INFO] 2025-05-02 05:59:54,638 - pytimeloop.accelergy_interface - Running Accelergy with command: accelergy /home/workspace/output_dir/parsed-processed-input.yaml -o ./output_dir/ -v\n"
     ]
    },
    {
     "name": "stderr",
     "output_type": "stream",
     "text": [
      "INFO:pytimeloop.accelergy_interface:Running Accelergy with command: accelergy /home/workspace/output_dir/parsed-processed-input.yaml -o ./output_dir/ -v\n"
     ]
    },
    {
     "name": "stdout",
     "output_type": "stream",
     "text": [
      "68.57 245000\n",
      "['C', 'N', 'P', 'Q', 'S', 'R', 'M'] has a fitness of 5.9525049629010125e-08\n",
      "3/20 candidate\n",
      "[INFO] 2025-05-02 06:01:02,070 - pytimeloop.accelergy_interface - Running Accelergy with command: accelergy /home/workspace/output_dir/parsed-processed-input.yaml -o ./output_dir/ -v\n"
     ]
    },
    {
     "name": "stderr",
     "output_type": "stream",
     "text": [
      "INFO:pytimeloop.accelergy_interface:Running Accelergy with command: accelergy /home/workspace/output_dir/parsed-processed-input.yaml -o ./output_dir/ -v\n"
     ]
    },
    {
     "name": "stdout",
     "output_type": "stream",
     "text": [
      "68.57 245000\n",
      "['C', 'Q', 'P', 'N', 'M', 'R', 'S'] has a fitness of 5.9525049629010125e-08\n",
      "4/20 candidate\n",
      "already visited SNPQMRC\n",
      "5/20 candidate\n",
      "already visited MPNQSCR\n",
      "6/20 candidate\n",
      "[INFO] 2025-05-02 06:02:10,509 - pytimeloop.accelergy_interface - Running Accelergy with command: accelergy /home/workspace/output_dir/parsed-processed-input.yaml -o ./output_dir/ -v\n"
     ]
    },
    {
     "name": "stderr",
     "output_type": "stream",
     "text": [
      "INFO:pytimeloop.accelergy_interface:Running Accelergy with command: accelergy /home/workspace/output_dir/parsed-processed-input.yaml -o ./output_dir/ -v\n"
     ]
    },
    {
     "name": "stdout",
     "output_type": "stream",
     "text": [
      "61.61 280000\n",
      "['M', 'P', 'S', 'Q', 'R', 'C', 'N'] has a fitness of 5.796832610661535e-08\n",
      "7/20 candidate\n",
      "already visited NPSQMCR\n",
      "8/20 candidate\n",
      "[INFO] 2025-05-02 06:03:15,409 - pytimeloop.accelergy_interface - Running Accelergy with command: accelergy /home/workspace/output_dir/parsed-processed-input.yaml -o ./output_dir/ -v\n"
     ]
    },
    {
     "name": "stderr",
     "output_type": "stream",
     "text": [
      "INFO:pytimeloop.accelergy_interface:Running Accelergy with command: accelergy /home/workspace/output_dir/parsed-processed-input.yaml -o ./output_dir/ -v\n"
     ]
    },
    {
     "name": "stdout",
     "output_type": "stream",
     "text": [
      "61.61 280000\n",
      "['M', 'R', 'S', 'Q', 'N', 'C', 'P'] has a fitness of 5.796832610661535e-08\n",
      "9/20 candidate\n",
      "[INFO] 2025-05-02 06:04:20,260 - pytimeloop.accelergy_interface - Running Accelergy with command: accelergy /home/workspace/output_dir/parsed-processed-input.yaml -o ./output_dir/ -v\n"
     ]
    },
    {
     "name": "stderr",
     "output_type": "stream",
     "text": [
      "INFO:pytimeloop.accelergy_interface:Running Accelergy with command: accelergy /home/workspace/output_dir/parsed-processed-input.yaml -o ./output_dir/ -v\n"
     ]
    },
    {
     "name": "stdout",
     "output_type": "stream",
     "text": [
      "68.57 245000\n",
      "['C', 'S', 'N', 'Q', 'R', 'P', 'M'] has a fitness of 5.9525049629010125e-08\n",
      "10/20 candidate\n",
      "[INFO] 2025-05-02 06:05:26,831 - pytimeloop.accelergy_interface - Running Accelergy with command: accelergy /home/workspace/output_dir/parsed-processed-input.yaml -o ./output_dir/ -v\n"
     ]
    },
    {
     "name": "stderr",
     "output_type": "stream",
     "text": [
      "INFO:pytimeloop.accelergy_interface:Running Accelergy with command: accelergy /home/workspace/output_dir/parsed-processed-input.yaml -o ./output_dir/ -v\n"
     ]
    },
    {
     "name": "stdout",
     "output_type": "stream",
     "text": [
      "68.57 245000\n",
      "['C', 'N', 'S', 'M', 'R', 'P', 'Q'] has a fitness of 5.9525049629010125e-08\n",
      "11/20 candidate\n",
      "already visited QSNMRPC\n",
      "12/20 candidate\n",
      "[INFO] 2025-05-02 06:06:33,187 - pytimeloop.accelergy_interface - Running Accelergy with command: accelergy /home/workspace/output_dir/parsed-processed-input.yaml -o ./output_dir/ -v\n"
     ]
    },
    {
     "name": "stderr",
     "output_type": "stream",
     "text": [
      "INFO:pytimeloop.accelergy_interface:Running Accelergy with command: accelergy /home/workspace/output_dir/parsed-processed-input.yaml -o ./output_dir/ -v\n"
     ]
    },
    {
     "name": "stdout",
     "output_type": "stream",
     "text": [
      "68.57 245000\n",
      "['C', 'S', 'P', 'M', 'R', 'N', 'Q'] has a fitness of 5.9525049629010125e-08\n",
      "13/20 candidate\n",
      "already visited PMNQSRC\n",
      "14/20 candidate\n",
      "[INFO] 2025-05-02 06:07:39,847 - pytimeloop.accelergy_interface - Running Accelergy with command: accelergy /home/workspace/output_dir/parsed-processed-input.yaml -o ./output_dir/ -v\n"
     ]
    },
    {
     "name": "stderr",
     "output_type": "stream",
     "text": [
      "INFO:pytimeloop.accelergy_interface:Running Accelergy with command: accelergy /home/workspace/output_dir/parsed-processed-input.yaml -o ./output_dir/ -v\n"
     ]
    },
    {
     "name": "stdout",
     "output_type": "stream",
     "text": [
      "68.57 245000\n",
      "['P', 'Q', 'N', 'M', 'S', 'C', 'R'] has a fitness of 5.9525049629010125e-08\n",
      "15/20 candidate\n",
      "[INFO] 2025-05-02 06:08:25,137 - pytimeloop.accelergy_interface - Running Accelergy with command: accelergy /home/workspace/output_dir/parsed-processed-input.yaml -o ./output_dir/ -v\n"
     ]
    },
    {
     "name": "stderr",
     "output_type": "stream",
     "text": [
      "INFO:pytimeloop.accelergy_interface:Running Accelergy with command: accelergy /home/workspace/output_dir/parsed-processed-input.yaml -o ./output_dir/ -v\n"
     ]
    },
    {
     "name": "stdout",
     "output_type": "stream",
     "text": [
      "68.57 245000\n",
      "['S', 'M', 'N', 'Q', 'P', 'C', 'R'] has a fitness of 5.9525049629010125e-08\n",
      "16/20 candidate\n",
      "already visited PMNQSRC\n",
      "17/20 candidate\n",
      "already visited QCSPNRM\n",
      "18/20 candidate\n",
      "already visited QCPSMRN\n",
      "19/20 candidate\n",
      "[INFO] 2025-05-02 06:09:34,703 - pytimeloop.accelergy_interface - Running Accelergy with command: accelergy /home/workspace/output_dir/parsed-processed-input.yaml -o ./output_dir/ -v\n"
     ]
    },
    {
     "name": "stderr",
     "output_type": "stream",
     "text": [
      "INFO:pytimeloop.accelergy_interface:Running Accelergy with command: accelergy /home/workspace/output_dir/parsed-processed-input.yaml -o ./output_dir/ -v\n"
     ]
    },
    {
     "name": "stdout",
     "output_type": "stream",
     "text": [
      "68.57 245000\n",
      "['P', 'C', 'Q', 'S', 'N', 'R', 'M'] has a fitness of 5.9525049629010125e-08\n",
      "20/20 candidate\n",
      "[INFO] 2025-05-02 06:10:17,775 - pytimeloop.accelergy_interface - Running Accelergy with command: accelergy /home/workspace/output_dir/parsed-processed-input.yaml -o ./output_dir/ -v\n"
     ]
    },
    {
     "name": "stderr",
     "output_type": "stream",
     "text": [
      "INFO:pytimeloop.accelergy_interface:Running Accelergy with command: accelergy /home/workspace/output_dir/parsed-processed-input.yaml -o ./output_dir/ -v\n"
     ]
    },
    {
     "name": "stdout",
     "output_type": "stream",
     "text": [
      "68.56 245000\n",
      "['N', 'C', 'P', 'S', 'Q', 'R', 'M'] has a fitness of 5.953373181244493e-08\n",
      "crossover\n",
      "1/15 candidate in crossover\n",
      "[INFO] 2025-05-02 06:11:25,691 - pytimeloop.accelergy_interface - Running Accelergy with command: accelergy /home/workspace/output_dir/parsed-processed-input.yaml -o ./output_dir/ -v\n"
     ]
    },
    {
     "name": "stderr",
     "output_type": "stream",
     "text": [
      "INFO:pytimeloop.accelergy_interface:Running Accelergy with command: accelergy /home/workspace/output_dir/parsed-processed-input.yaml -o ./output_dir/ -v\n"
     ]
    },
    {
     "name": "stdout",
     "output_type": "stream",
     "text": [
      "68.56 245000\n",
      "['N', 'P', 'S', 'Q', 'M', 'R', 'C'] has a fitness of 5.953373181244493e-08\n",
      "2/15 candidate in crossover\n",
      "[INFO] 2025-05-02 06:12:31,035 - pytimeloop.accelergy_interface - Running Accelergy with command: accelergy /home/workspace/output_dir/parsed-processed-input.yaml -o ./output_dir/ -v\n"
     ]
    },
    {
     "name": "stderr",
     "output_type": "stream",
     "text": [
      "INFO:pytimeloop.accelergy_interface:Running Accelergy with command: accelergy /home/workspace/output_dir/parsed-processed-input.yaml -o ./output_dir/ -v\n"
     ]
    },
    {
     "name": "stdout",
     "output_type": "stream",
     "text": [
      "68.57 245000\n",
      "['R', 'N', 'P', 'Q', 'C', 'S', 'M'] has a fitness of 5.9525049629010125e-08\n",
      "3/15 candidate in crossover\n",
      "[INFO] 2025-05-02 06:13:43,224 - pytimeloop.accelergy_interface - Running Accelergy with command: accelergy /home/workspace/output_dir/parsed-processed-input.yaml -o ./output_dir/ -v\n"
     ]
    },
    {
     "name": "stderr",
     "output_type": "stream",
     "text": [
      "INFO:pytimeloop.accelergy_interface:Running Accelergy with command: accelergy /home/workspace/output_dir/parsed-processed-input.yaml -o ./output_dir/ -v\n"
     ]
    },
    {
     "name": "stdout",
     "output_type": "stream",
     "text": [
      "68.57 245000\n",
      "['C', 'N', 'P', 'S', 'Q', 'R', 'M'] has a fitness of 5.9525049629010125e-08\n",
      "4/15 candidate in crossover\n",
      "already visited SNPQMRC\n",
      "5/15 candidate in crossover\n",
      "[INFO] 2025-05-02 06:14:49,213 - pytimeloop.accelergy_interface - Running Accelergy with command: accelergy /home/workspace/output_dir/parsed-processed-input.yaml -o ./output_dir/ -v\n"
     ]
    },
    {
     "name": "stderr",
     "output_type": "stream",
     "text": [
      "INFO:pytimeloop.accelergy_interface:Running Accelergy with command: accelergy /home/workspace/output_dir/parsed-processed-input.yaml -o ./output_dir/ -v\n"
     ]
    },
    {
     "name": "stdout",
     "output_type": "stream",
     "text": [
      "55.09 245000\n",
      "['Q', 'C', 'S', 'P', 'N', 'M', 'R'] has a fitness of 7.40902641688369e-08\n",
      "6/15 candidate in crossover\n",
      "already visited NPSQMCR\n",
      "7/15 candidate in crossover\n",
      "already visited QSNMRPC\n",
      "8/15 candidate in crossover\n",
      "already visited RNPQMCS\n",
      "9/15 candidate in crossover\n",
      "already visited CSNQRPM\n",
      "10/15 candidate in crossover\n",
      "already visited CNPQSRM\n",
      "11/15 candidate in crossover\n",
      "already visited NCPSQRM\n",
      "12/15 candidate in crossover\n",
      "already visited SNPQMRC\n",
      "13/15 candidate in crossover\n",
      "already visited QCPSMRN\n",
      "14/15 candidate in crossover\n",
      "already visited QCSPNRM\n",
      "15/15 candidate in crossover\n",
      "already visited CQPNMRS\n",
      "\n",
      "ITERATION:  3\n",
      "selection\n",
      "1/20 candidate\n",
      "already visited CNPQSRM\n",
      "2/20 candidate\n",
      "already visited CNQPMRS\n",
      "3/20 candidate\n",
      "[INFO] 2025-05-02 06:15:44,804 - pytimeloop.accelergy_interface - Running Accelergy with command: accelergy /home/workspace/output_dir/parsed-processed-input.yaml -o ./output_dir/ -v\n"
     ]
    },
    {
     "name": "stderr",
     "output_type": "stream",
     "text": [
      "INFO:pytimeloop.accelergy_interface:Running Accelergy with command: accelergy /home/workspace/output_dir/parsed-processed-input.yaml -o ./output_dir/ -v\n"
     ]
    },
    {
     "name": "stdout",
     "output_type": "stream",
     "text": [
      "68.57 245000\n",
      "['C', 'N', 'M', 'Q', 'P', 'R', 'S'] has a fitness of 5.9525049629010125e-08\n",
      "4/20 candidate\n",
      "[INFO] 2025-05-02 06:16:50,078 - pytimeloop.accelergy_interface - Running Accelergy with command: accelergy /home/workspace/output_dir/parsed-processed-input.yaml -o ./output_dir/ -v\n"
     ]
    },
    {
     "name": "stderr",
     "output_type": "stream",
     "text": [
      "INFO:pytimeloop.accelergy_interface:Running Accelergy with command: accelergy /home/workspace/output_dir/parsed-processed-input.yaml -o ./output_dir/ -v\n"
     ]
    },
    {
     "name": "stdout",
     "output_type": "stream",
     "text": [
      "68.57 245000\n",
      "['C', 'N', 'P', 'M', 'Q', 'R', 'S'] has a fitness of 5.9525049629010125e-08\n",
      "5/20 candidate\n",
      "already visited NPSQMCR\n",
      "6/20 candidate\n",
      "[INFO] 2025-05-02 06:17:57,056 - pytimeloop.accelergy_interface - Running Accelergy with command: accelergy /home/workspace/output_dir/parsed-processed-input.yaml -o ./output_dir/ -v\n"
     ]
    },
    {
     "name": "stderr",
     "output_type": "stream",
     "text": [
      "INFO:pytimeloop.accelergy_interface:Running Accelergy with command: accelergy /home/workspace/output_dir/parsed-processed-input.yaml -o ./output_dir/ -v\n"
     ]
    },
    {
     "name": "stdout",
     "output_type": "stream",
     "text": [
      "61.61 280000\n",
      "['M', 'P', 'S', 'R', 'N', 'C', 'Q'] has a fitness of 5.796832610661535e-08\n",
      "7/20 candidate\n",
      "already visited PMSQNCR\n",
      "8/20 candidate\n",
      "already visited SPMQNCR\n",
      "9/20 candidate\n",
      "already visited CSPMRNQ\n",
      "10/20 candidate\n",
      "already visited CNSMRPQ\n",
      "11/20 candidate\n",
      "already visited QSNMRPC\n",
      "12/20 candidate\n",
      "[INFO] 2025-05-02 06:19:00,048 - pytimeloop.accelergy_interface - Running Accelergy with command: accelergy /home/workspace/output_dir/parsed-processed-input.yaml -o ./output_dir/ -v\n"
     ]
    },
    {
     "name": "stderr",
     "output_type": "stream",
     "text": [
      "INFO:pytimeloop.accelergy_interface:Running Accelergy with command: accelergy /home/workspace/output_dir/parsed-processed-input.yaml -o ./output_dir/ -v\n"
     ]
    },
    {
     "name": "stdout",
     "output_type": "stream",
     "text": [
      "68.57 245000\n",
      "['C', 'S', 'N', 'M', 'Q', 'P', 'R'] has a fitness of 5.9525049629010125e-08\n",
      "13/20 candidate\n",
      "[INFO] 2025-05-02 06:20:05,806 - pytimeloop.accelergy_interface - Running Accelergy with command: accelergy /home/workspace/output_dir/parsed-processed-input.yaml -o ./output_dir/ -v\n"
     ]
    },
    {
     "name": "stderr",
     "output_type": "stream",
     "text": [
      "INFO:pytimeloop.accelergy_interface:Running Accelergy with command: accelergy /home/workspace/output_dir/parsed-processed-input.yaml -o ./output_dir/ -v\n"
     ]
    },
    {
     "name": "stdout",
     "output_type": "stream",
     "text": [
      "55.09 245000\n",
      "['Q', 'M', 'N', 'P', 'S', 'C', 'R'] has a fitness of 7.40902641688369e-08\n",
      "14/20 candidate\n",
      "already visited CMNQSPR\n",
      "15/20 candidate\n",
      "already visited PQNMSCR\n",
      "16/20 candidate\n",
      "[INFO] 2025-05-02 06:21:01,505 - pytimeloop.accelergy_interface - Running Accelergy with command: accelergy /home/workspace/output_dir/parsed-processed-input.yaml -o ./output_dir/ -v\n"
     ]
    },
    {
     "name": "stderr",
     "output_type": "stream",
     "text": [
      "INFO:pytimeloop.accelergy_interface:Running Accelergy with command: accelergy /home/workspace/output_dir/parsed-processed-input.yaml -o ./output_dir/ -v\n"
     ]
    },
    {
     "name": "stdout",
     "output_type": "stream",
     "text": [
      "68.56 245000\n",
      "['N', 'M', 'P', 'Q', 'S', 'C', 'R'] has a fitness of 5.953373181244493e-08\n",
      "17/20 candidate\n",
      "already visited QCMSNRP\n",
      "18/20 candidate\n",
      "[INFO] 2025-05-02 06:22:08,880 - pytimeloop.accelergy_interface - Running Accelergy with command: accelergy /home/workspace/output_dir/parsed-processed-input.yaml -o ./output_dir/ -v\n"
     ]
    },
    {
     "name": "stderr",
     "output_type": "stream",
     "text": [
      "INFO:pytimeloop.accelergy_interface:Running Accelergy with command: accelergy /home/workspace/output_dir/parsed-processed-input.yaml -o ./output_dir/ -v\n"
     ]
    },
    {
     "name": "stdout",
     "output_type": "stream",
     "text": [
      "55.09 245000\n",
      "['Q', 'N', 'P', 'S', 'C', 'R', 'M'] has a fitness of 7.40902641688369e-08\n",
      "19/20 candidate\n",
      "[INFO] 2025-05-02 06:23:04,916 - pytimeloop.accelergy_interface - Running Accelergy with command: accelergy /home/workspace/output_dir/parsed-processed-input.yaml -o ./output_dir/ -v\n"
     ]
    },
    {
     "name": "stderr",
     "output_type": "stream",
     "text": [
      "INFO:pytimeloop.accelergy_interface:Running Accelergy with command: accelergy /home/workspace/output_dir/parsed-processed-input.yaml -o ./output_dir/ -v\n"
     ]
    },
    {
     "name": "stdout",
     "output_type": "stream",
     "text": [
      "55.09 245000\n",
      "['Q', 'P', 'C', 'S', 'N', 'R', 'M'] has a fitness of 7.40902641688369e-08\n",
      "20/20 candidate\n",
      "already visited NCPSQRM\n",
      "crossover\n",
      "1/15 candidate in crossover\n",
      "[INFO] 2025-05-02 06:24:00,652 - pytimeloop.accelergy_interface - Running Accelergy with command: accelergy /home/workspace/output_dir/parsed-processed-input.yaml -o ./output_dir/ -v\n"
     ]
    },
    {
     "name": "stderr",
     "output_type": "stream",
     "text": [
      "INFO:pytimeloop.accelergy_interface:Running Accelergy with command: accelergy /home/workspace/output_dir/parsed-processed-input.yaml -o ./output_dir/ -v\n"
     ]
    },
    {
     "name": "stdout",
     "output_type": "stream",
     "text": [
      "68.56 245000\n",
      "['N', 'P', 'S', 'C', 'Q', 'R', 'M'] has a fitness of 5.953373181244493e-08\n",
      "2/15 candidate in crossover\n",
      "already visited QPCSNRM\n",
      "3/15 candidate in crossover\n",
      "already visited QSNMRPC\n",
      "4/15 candidate in crossover\n",
      "already visited QNPSCRM\n",
      "5/15 candidate in crossover\n",
      "[INFO] 2025-05-02 06:25:05,931 - pytimeloop.accelergy_interface - Running Accelergy with command: accelergy /home/workspace/output_dir/parsed-processed-input.yaml -o ./output_dir/ -v\n"
     ]
    },
    {
     "name": "stderr",
     "output_type": "stream",
     "text": [
      "INFO:pytimeloop.accelergy_interface:Running Accelergy with command: accelergy /home/workspace/output_dir/parsed-processed-input.yaml -o ./output_dir/ -v\n"
     ]
    },
    {
     "name": "stdout",
     "output_type": "stream",
     "text": [
      "55.09 245000\n",
      "['Q', 'M', 'C', 'N', 'P', 'R', 'S'] has a fitness of 7.40902641688369e-08\n",
      "6/15 candidate in crossover\n",
      "already visited NPSQMCR\n",
      "7/15 candidate in crossover\n",
      "already visited CNPQSRM\n",
      "8/15 candidate in crossover\n",
      "already visited QPCSNRM\n",
      "9/15 candidate in crossover\n",
      "already visited NCPSQRM\n",
      "10/15 candidate in crossover\n",
      "already visited QSNMRPC\n",
      "11/15 candidate in crossover\n",
      "already visited NMPQSCR\n",
      "12/15 candidate in crossover\n",
      "already visited QNPSCRM\n",
      "13/15 candidate in crossover\n",
      "already visited QCMSNRP\n",
      "14/15 candidate in crossover\n",
      "already visited QMNPSCR\n",
      "15/15 candidate in crossover\n",
      "already visited CNQPMRS\n",
      "\n",
      "ITERATION:  4\n",
      "selection\n",
      "1/20 candidate\n",
      "already visited CNPQSRM\n",
      "2/20 candidate\n",
      "already visited CNMQPRS\n",
      "3/20 candidate\n",
      "[INFO] 2025-05-02 06:26:02,934 - pytimeloop.accelergy_interface - Running Accelergy with command: accelergy /home/workspace/output_dir/parsed-processed-input.yaml -o ./output_dir/ -v\n"
     ]
    },
    {
     "name": "stderr",
     "output_type": "stream",
     "text": [
      "INFO:pytimeloop.accelergy_interface:Running Accelergy with command: accelergy /home/workspace/output_dir/parsed-processed-input.yaml -o ./output_dir/ -v\n"
     ]
    },
    {
     "name": "stdout",
     "output_type": "stream",
     "text": [
      "68.56 245000\n",
      "['N', 'C', 'P', 'Q', 'M', 'R', 'S'] has a fitness of 5.953373181244493e-08\n",
      "4/20 candidate\n",
      "already visited CRPQMNS\n",
      "5/20 candidate\n",
      "already visited MPCQNSR\n",
      "6/20 candidate\n",
      "[INFO] 2025-05-02 06:27:09,019 - pytimeloop.accelergy_interface - Running Accelergy with command: accelergy /home/workspace/output_dir/parsed-processed-input.yaml -o ./output_dir/ -v\n"
     ]
    },
    {
     "name": "stderr",
     "output_type": "stream",
     "text": [
      "INFO:pytimeloop.accelergy_interface:Running Accelergy with command: accelergy /home/workspace/output_dir/parsed-processed-input.yaml -o ./output_dir/ -v\n"
     ]
    },
    {
     "name": "stdout",
     "output_type": "stream",
     "text": [
      "61.61 280000\n",
      "['M', 'P', 'R', 'Q', 'N', 'C', 'S'] has a fitness of 5.796832610661535e-08\n",
      "7/20 candidate\n",
      "already visited QPSMNCR\n",
      "8/20 candidate\n",
      "[INFO] 2025-05-02 06:28:12,110 - pytimeloop.accelergy_interface - Running Accelergy with command: accelergy /home/workspace/output_dir/parsed-processed-input.yaml -o ./output_dir/ -v\n"
     ]
    },
    {
     "name": "stderr",
     "output_type": "stream",
     "text": [
      "INFO:pytimeloop.accelergy_interface:Running Accelergy with command: accelergy /home/workspace/output_dir/parsed-processed-input.yaml -o ./output_dir/ -v\n"
     ]
    },
    {
     "name": "stdout",
     "output_type": "stream",
     "text": [
      "68.57 245000\n",
      "['R', 'P', 'S', 'Q', 'N', 'C', 'M'] has a fitness of 5.9525049629010125e-08\n",
      "9/20 candidate\n",
      "[INFO] 2025-05-02 06:29:20,776 - pytimeloop.accelergy_interface - Running Accelergy with command: accelergy /home/workspace/output_dir/parsed-processed-input.yaml -o ./output_dir/ -v\n"
     ]
    },
    {
     "name": "stderr",
     "output_type": "stream",
     "text": [
      "INFO:pytimeloop.accelergy_interface:Running Accelergy with command: accelergy /home/workspace/output_dir/parsed-processed-input.yaml -o ./output_dir/ -v\n"
     ]
    },
    {
     "name": "stdout",
     "output_type": "stream",
     "text": [
      "68.57 245000\n",
      "['P', 'S', 'N', 'M', 'R', 'C', 'Q'] has a fitness of 5.9525049629010125e-08\n",
      "10/20 candidate\n",
      "[INFO] 2025-05-02 06:30:03,923 - pytimeloop.accelergy_interface - Running Accelergy with command: accelergy /home/workspace/output_dir/parsed-processed-input.yaml -o ./output_dir/ -v\n"
     ]
    },
    {
     "name": "stderr",
     "output_type": "stream",
     "text": [
      "INFO:pytimeloop.accelergy_interface:Running Accelergy with command: accelergy /home/workspace/output_dir/parsed-processed-input.yaml -o ./output_dir/ -v\n"
     ]
    },
    {
     "name": "stdout",
     "output_type": "stream",
     "text": [
      "68.57 245000\n",
      "['C', 'Q', 'N', 'M', 'R', 'P', 'S'] has a fitness of 5.9525049629010125e-08\n",
      "11/20 candidate\n",
      "[INFO] 2025-05-02 06:31:09,910 - pytimeloop.accelergy_interface - Running Accelergy with command: accelergy /home/workspace/output_dir/parsed-processed-input.yaml -o ./output_dir/ -v\n"
     ]
    },
    {
     "name": "stderr",
     "output_type": "stream",
     "text": [
      "INFO:pytimeloop.accelergy_interface:Running Accelergy with command: accelergy /home/workspace/output_dir/parsed-processed-input.yaml -o ./output_dir/ -v\n"
     ]
    },
    {
     "name": "stdout",
     "output_type": "stream",
     "text": [
      "68.57 245000\n",
      "['R', 'S', 'N', 'M', 'C', 'P', 'Q'] has a fitness of 5.9525049629010125e-08\n",
      "12/20 candidate\n",
      "already visited CSQMRPN\n",
      "13/20 candidate\n",
      "already visited PMNQCSR\n",
      "14/20 candidate\n",
      "already visited PMNQSRC\n",
      "15/20 candidate\n",
      "already visited PMNQCSR\n",
      "16/20 candidate\n",
      "already visited SMNQPCR\n",
      "17/20 candidate\n",
      "already visited QNPSCRM\n",
      "18/20 candidate\n",
      "already visited QPCSNRM\n",
      "19/20 candidate\n",
      "[INFO] 2025-05-02 06:32:17,945 - pytimeloop.accelergy_interface - Running Accelergy with command: accelergy /home/workspace/output_dir/parsed-processed-input.yaml -o ./output_dir/ -v\n"
     ]
    },
    {
     "name": "stderr",
     "output_type": "stream",
     "text": [
      "INFO:pytimeloop.accelergy_interface:Running Accelergy with command: accelergy /home/workspace/output_dir/parsed-processed-input.yaml -o ./output_dir/ -v\n"
     ]
    },
    {
     "name": "stdout",
     "output_type": "stream",
     "text": [
      "68.57 245000\n",
      "['C', 'Q', 'P', 'S', 'N', 'R', 'M'] has a fitness of 5.9525049629010125e-08\n",
      "20/20 candidate\n",
      "[INFO] 2025-05-02 06:33:24,922 - pytimeloop.accelergy_interface - Running Accelergy with command: accelergy /home/workspace/output_dir/parsed-processed-input.yaml -o ./output_dir/ -v\n"
     ]
    },
    {
     "name": "stderr",
     "output_type": "stream",
     "text": [
      "INFO:pytimeloop.accelergy_interface:Running Accelergy with command: accelergy /home/workspace/output_dir/parsed-processed-input.yaml -o ./output_dir/ -v\n"
     ]
    },
    {
     "name": "stdout",
     "output_type": "stream",
     "text": [
      "55.09 245000\n",
      "['Q', 'M', 'P', 'S', 'N', 'R', 'C'] has a fitness of 7.40902641688369e-08\n",
      "crossover\n",
      "1/15 candidate in crossover\n",
      "[INFO] 2025-05-02 06:34:21,494 - pytimeloop.accelergy_interface - Running Accelergy with command: accelergy /home/workspace/output_dir/parsed-processed-input.yaml -o ./output_dir/ -v\n"
     ]
    },
    {
     "name": "stderr",
     "output_type": "stream",
     "text": [
      "INFO:pytimeloop.accelergy_interface:Running Accelergy with command: accelergy /home/workspace/output_dir/parsed-processed-input.yaml -o ./output_dir/ -v\n"
     ]
    },
    {
     "name": "stdout",
     "output_type": "stream",
     "text": [
      "55.09 245000\n",
      "['Q', 'N', 'P', 'S', 'M', 'R', 'C'] has a fitness of 7.40902641688369e-08\n",
      "2/15 candidate in crossover\n",
      "[INFO] 2025-05-02 06:35:17,672 - pytimeloop.accelergy_interface - Running Accelergy with command: accelergy /home/workspace/output_dir/parsed-processed-input.yaml -o ./output_dir/ -v\n"
     ]
    },
    {
     "name": "stderr",
     "output_type": "stream",
     "text": [
      "INFO:pytimeloop.accelergy_interface:Running Accelergy with command: accelergy /home/workspace/output_dir/parsed-processed-input.yaml -o ./output_dir/ -v\n"
     ]
    },
    {
     "name": "stdout",
     "output_type": "stream",
     "text": [
      "68.57 245000\n",
      "['R', 'C', 'P', 'Q', 'M', 'N', 'S'] has a fitness of 5.9525049629010125e-08\n",
      "3/15 candidate in crossover\n",
      "already visited CNPQSRM\n",
      "4/15 candidate in crossover\n",
      "already visited QPSMNCR\n",
      "5/15 candidate in crossover\n",
      "[INFO] 2025-05-02 06:36:26,830 - pytimeloop.accelergy_interface - Running Accelergy with command: accelergy /home/workspace/output_dir/parsed-processed-input.yaml -o ./output_dir/ -v\n"
     ]
    },
    {
     "name": "stderr",
     "output_type": "stream",
     "text": [
      "INFO:pytimeloop.accelergy_interface:Running Accelergy with command: accelergy /home/workspace/output_dir/parsed-processed-input.yaml -o ./output_dir/ -v\n"
     ]
    },
    {
     "name": "stdout",
     "output_type": "stream",
     "text": [
      "55.09 245000\n",
      "['Q', 'M', 'P', 'S', 'N', 'C', 'R'] has a fitness of 7.40902641688369e-08\n",
      "6/15 candidate in crossover\n",
      "already visited QNPSCRM\n",
      "7/15 candidate in crossover\n",
      "already visited PSNMRCQ\n",
      "8/15 candidate in crossover\n",
      "already visited RPSQNCM\n",
      "9/15 candidate in crossover\n",
      "already visited CRPQMNS\n",
      "10/15 candidate in crossover\n",
      "already visited CNMQPRS\n",
      "11/15 candidate in crossover\n",
      "already visited CNPQSRM\n",
      "12/15 candidate in crossover\n",
      "already visited QPCSNRM\n",
      "13/15 candidate in crossover\n",
      "already visited QPSMNCR\n",
      "14/15 candidate in crossover\n",
      "already visited QMPSNRC\n",
      "15/15 candidate in crossover\n",
      "already visited NCPQMRS\n",
      "\n",
      "ITERATION:  5\n",
      "selection\n",
      "1/20 candidate\n",
      "[INFO] 2025-05-02 06:37:23,063 - pytimeloop.accelergy_interface - Running Accelergy with command: accelergy /home/workspace/output_dir/parsed-processed-input.yaml -o ./output_dir/ -v\n"
     ]
    },
    {
     "name": "stderr",
     "output_type": "stream",
     "text": [
      "INFO:pytimeloop.accelergy_interface:Running Accelergy with command: accelergy /home/workspace/output_dir/parsed-processed-input.yaml -o ./output_dir/ -v\n"
     ]
    },
    {
     "name": "stdout",
     "output_type": "stream",
     "text": [
      "68.57 245000\n",
      "['C', 'M', 'P', 'Q', 'N', 'R', 'S'] has a fitness of 5.9525049629010125e-08\n",
      "2/20 candidate\n",
      "[INFO] 2025-05-02 06:38:31,753 - pytimeloop.accelergy_interface - Running Accelergy with command: accelergy /home/workspace/output_dir/parsed-processed-input.yaml -o ./output_dir/ -v\n"
     ]
    },
    {
     "name": "stderr",
     "output_type": "stream",
     "text": [
      "INFO:pytimeloop.accelergy_interface:Running Accelergy with command: accelergy /home/workspace/output_dir/parsed-processed-input.yaml -o ./output_dir/ -v\n"
     ]
    },
    {
     "name": "stdout",
     "output_type": "stream",
     "text": [
      "61.61 280000\n",
      "['M', 'N', 'P', 'Q', 'C', 'R', 'S'] has a fitness of 5.796832610661535e-08\n",
      "3/20 candidate\n",
      "already visited SNPQMRC\n",
      "4/20 candidate\n",
      "already visited CNQPMRS\n",
      "5/20 candidate\n",
      "already visited MPSCNQR\n",
      "6/20 candidate\n",
      "[INFO] 2025-05-02 06:39:36,045 - pytimeloop.accelergy_interface - Running Accelergy with command: accelergy /home/workspace/output_dir/parsed-processed-input.yaml -o ./output_dir/ -v\n"
     ]
    },
    {
     "name": "stderr",
     "output_type": "stream",
     "text": [
      "INFO:pytimeloop.accelergy_interface:Running Accelergy with command: accelergy /home/workspace/output_dir/parsed-processed-input.yaml -o ./output_dir/ -v\n"
     ]
    },
    {
     "name": "stdout",
     "output_type": "stream",
     "text": [
      "61.61 280000\n",
      "['M', 'N', 'S', 'Q', 'P', 'C', 'R'] has a fitness of 5.796832610661535e-08\n",
      "7/20 candidate\n",
      "already visited RPSQNCM\n",
      "8/20 candidate\n",
      "[INFO] 2025-05-02 06:40:40,464 - pytimeloop.accelergy_interface - Running Accelergy with command: accelergy /home/workspace/output_dir/parsed-processed-input.yaml -o ./output_dir/ -v\n"
     ]
    },
    {
     "name": "stderr",
     "output_type": "stream",
     "text": [
      "INFO:pytimeloop.accelergy_interface:Running Accelergy with command: accelergy /home/workspace/output_dir/parsed-processed-input.yaml -o ./output_dir/ -v\n"
     ]
    },
    {
     "name": "stdout",
     "output_type": "stream",
     "text": [
      "61.61 280000\n",
      "['M', 'P', 'S', 'Q', 'C', 'N', 'R'] has a fitness of 5.796832610661535e-08\n",
      "9/20 candidate\n",
      "already visited QSNMRPC\n",
      "10/20 candidate\n",
      "already visited CNSMRPQ\n",
      "11/20 candidate\n",
      "already visited MSNCRPQ\n",
      "12/20 candidate\n",
      "already visited QSNMRPC\n",
      "13/20 candidate\n",
      "already visited SMNQPCR\n",
      "14/20 candidate\n",
      "already visited PMCQSNR\n",
      "15/20 candidate\n",
      "already visited PMNCSQR\n",
      "16/20 candidate\n",
      "already visited NMPQSCR\n",
      "17/20 candidate\n",
      "already visited PCQSNRM\n",
      "18/20 candidate\n",
      "[INFO] 2025-05-02 06:41:45,254 - pytimeloop.accelergy_interface - Running Accelergy with command: accelergy /home/workspace/output_dir/parsed-processed-input.yaml -o ./output_dir/ -v\n"
     ]
    },
    {
     "name": "stderr",
     "output_type": "stream",
     "text": [
      "INFO:pytimeloop.accelergy_interface:Running Accelergy with command: accelergy /home/workspace/output_dir/parsed-processed-input.yaml -o ./output_dir/ -v\n"
     ]
    },
    {
     "name": "stdout",
     "output_type": "stream",
     "text": [
      "55.09 245000\n",
      "['Q', 'R', 'P', 'S', 'N', 'C', 'M'] has a fitness of 7.40902641688369e-08\n",
      "19/20 candidate\n",
      "already visited QCPSMRN\n",
      "20/20 candidate\n",
      "[INFO] 2025-05-02 06:42:41,682 - pytimeloop.accelergy_interface - Running Accelergy with command: accelergy /home/workspace/output_dir/parsed-processed-input.yaml -o ./output_dir/ -v\n"
     ]
    },
    {
     "name": "stderr",
     "output_type": "stream",
     "text": [
      "INFO:pytimeloop.accelergy_interface:Running Accelergy with command: accelergy /home/workspace/output_dir/parsed-processed-input.yaml -o ./output_dir/ -v\n"
     ]
    },
    {
     "name": "stdout",
     "output_type": "stream",
     "text": [
      "68.57 245000\n",
      "['R', 'C', 'P', 'S', 'N', 'Q', 'M'] has a fitness of 5.9525049629010125e-08\n",
      "crossover\n",
      "1/15 candidate in crossover\n",
      "[INFO] 2025-05-02 06:43:51,795 - pytimeloop.accelergy_interface - Running Accelergy with command: accelergy /home/workspace/output_dir/parsed-processed-input.yaml -o ./output_dir/ -v\n"
     ]
    },
    {
     "name": "stderr",
     "output_type": "stream",
     "text": [
      "INFO:pytimeloop.accelergy_interface:Running Accelergy with command: accelergy /home/workspace/output_dir/parsed-processed-input.yaml -o ./output_dir/ -v\n"
     ]
    },
    {
     "name": "stdout",
     "output_type": "stream",
     "text": [
      "55.09 245000\n",
      "['Q', 'S', 'N', 'P', 'M', 'R', 'C'] has a fitness of 7.40902641688369e-08\n",
      "2/15 candidate in crossover\n",
      "[INFO] 2025-05-02 06:44:47,908 - pytimeloop.accelergy_interface - Running Accelergy with command: accelergy /home/workspace/output_dir/parsed-processed-input.yaml -o ./output_dir/ -v\n"
     ]
    },
    {
     "name": "stderr",
     "output_type": "stream",
     "text": [
      "INFO:pytimeloop.accelergy_interface:Running Accelergy with command: accelergy /home/workspace/output_dir/parsed-processed-input.yaml -o ./output_dir/ -v\n"
     ]
    },
    {
     "name": "stdout",
     "output_type": "stream",
     "text": [
      "68.57 245000\n",
      "['C', 'Q', 'P', 'S', 'M', 'R', 'N'] has a fitness of 5.9525049629010125e-08\n",
      "3/15 candidate in crossover\n",
      "[INFO] 2025-05-02 06:45:53,860 - pytimeloop.accelergy_interface - Running Accelergy with command: accelergy /home/workspace/output_dir/parsed-processed-input.yaml -o ./output_dir/ -v\n"
     ]
    },
    {
     "name": "stderr",
     "output_type": "stream",
     "text": [
      "INFO:pytimeloop.accelergy_interface:Running Accelergy with command: accelergy /home/workspace/output_dir/parsed-processed-input.yaml -o ./output_dir/ -v\n"
     ]
    },
    {
     "name": "stdout",
     "output_type": "stream",
     "text": [
      "68.56 245000\n",
      "['N', 'M', 'P', 'C', 'Q', 'R', 'S'] has a fitness of 5.953373181244493e-08\n",
      "4/15 candidate in crossover\n",
      "[INFO] 2025-05-02 06:47:00,658 - pytimeloop.accelergy_interface - Running Accelergy with command: accelergy /home/workspace/output_dir/parsed-processed-input.yaml -o ./output_dir/ -v\n"
     ]
    },
    {
     "name": "stderr",
     "output_type": "stream",
     "text": [
      "INFO:pytimeloop.accelergy_interface:Running Accelergy with command: accelergy /home/workspace/output_dir/parsed-processed-input.yaml -o ./output_dir/ -v\n"
     ]
    },
    {
     "name": "stdout",
     "output_type": "stream",
     "text": [
      "68.57 245000\n",
      "['C', 'Q', 'S', 'N', 'M', 'R', 'P'] has a fitness of 5.9525049629010125e-08\n",
      "5/15 candidate in crossover\n",
      "[INFO] 2025-05-02 06:48:06,848 - pytimeloop.accelergy_interface - Running Accelergy with command: accelergy /home/workspace/output_dir/parsed-processed-input.yaml -o ./output_dir/ -v\n"
     ]
    },
    {
     "name": "stderr",
     "output_type": "stream",
     "text": [
      "INFO:pytimeloop.accelergy_interface:Running Accelergy with command: accelergy /home/workspace/output_dir/parsed-processed-input.yaml -o ./output_dir/ -v\n"
     ]
    },
    {
     "name": "stdout",
     "output_type": "stream",
     "text": [
      "68.57 245000\n",
      "['R', 'P', 'Q', 'S', 'N', 'C', 'M'] has a fitness of 5.9525049629010125e-08\n",
      "6/15 candidate in crossover\n",
      "already visited QSNMRPC\n",
      "7/15 candidate in crossover\n",
      "already visited SNPQMRC\n",
      "8/15 candidate in crossover\n",
      "already visited CNSMRPQ\n",
      "9/15 candidate in crossover\n",
      "already visited QCPSMRN\n",
      "10/15 candidate in crossover\n",
      "already visited NMPQSCR\n",
      "11/15 candidate in crossover\n",
      "already visited CMPQNRS\n",
      "12/15 candidate in crossover\n",
      "already visited CNQPMRS\n",
      "13/15 candidate in crossover\n",
      "already visited QSNMRPC\n",
      "14/15 candidate in crossover\n",
      "already visited RPSQNCM\n",
      "15/15 candidate in crossover\n",
      "already visited QRPSNCM\n",
      "\n",
      "ITERATION:  6\n",
      "selection\n",
      "1/20 candidate\n",
      "already visited CMPQNRS\n",
      "2/20 candidate\n",
      "already visited NCPQMRS\n",
      "3/20 candidate\n",
      "already visited CMPQNRS\n",
      "4/20 candidate\n",
      "already visited CQPNMRS\n",
      "5/20 candidate\n",
      "[INFO] 2025-05-02 06:49:15,858 - pytimeloop.accelergy_interface - Running Accelergy with command: accelergy /home/workspace/output_dir/parsed-processed-input.yaml -o ./output_dir/ -v\n"
     ]
    },
    {
     "name": "stderr",
     "output_type": "stream",
     "text": [
      "INFO:pytimeloop.accelergy_interface:Running Accelergy with command: accelergy /home/workspace/output_dir/parsed-processed-input.yaml -o ./output_dir/ -v\n"
     ]
    },
    {
     "name": "stdout",
     "output_type": "stream",
     "text": [
      "68.57 245000\n",
      "['C', 'P', 'S', 'Q', 'N', 'M', 'R'] has a fitness of 5.9525049629010125e-08\n",
      "6/20 candidate\n",
      "already visited MPSQRCN\n",
      "7/20 candidate\n",
      "already visited PMSQNCR\n",
      "8/20 candidate\n",
      "[INFO] 2025-05-02 06:50:22,680 - pytimeloop.accelergy_interface - Running Accelergy with command: accelergy /home/workspace/output_dir/parsed-processed-input.yaml -o ./output_dir/ -v\n"
     ]
    },
    {
     "name": "stderr",
     "output_type": "stream",
     "text": [
      "INFO:pytimeloop.accelergy_interface:Running Accelergy with command: accelergy /home/workspace/output_dir/parsed-processed-input.yaml -o ./output_dir/ -v\n"
     ]
    },
    {
     "name": "stdout",
     "output_type": "stream",
     "text": [
      "61.61 280000\n",
      "['M', 'P', 'Q', 'S', 'N', 'C', 'R'] has a fitness of 5.796832610661535e-08\n",
      "9/20 candidate\n",
      "already visited CQNMRPS\n",
      "10/20 candidate\n",
      "already visited CQNMRPS\n",
      "11/20 candidate\n",
      "already visited CSNQRPM\n",
      "12/20 candidate\n",
      "already visited CNSMRPQ\n",
      "13/20 candidate\n",
      "already visited PQNMSCR\n",
      "14/20 candidate\n",
      "already visited PMRQSCN\n",
      "15/20 candidate\n",
      "already visited PMNRSCQ\n",
      "16/20 candidate\n",
      "already visited PMRQSCN\n",
      "17/20 candidate\n",
      "[INFO] 2025-05-02 06:51:26,186 - pytimeloop.accelergy_interface - Running Accelergy with command: accelergy /home/workspace/output_dir/parsed-processed-input.yaml -o ./output_dir/ -v\n"
     ]
    },
    {
     "name": "stderr",
     "output_type": "stream",
     "text": [
      "INFO:pytimeloop.accelergy_interface:Running Accelergy with command: accelergy /home/workspace/output_dir/parsed-processed-input.yaml -o ./output_dir/ -v\n"
     ]
    },
    {
     "name": "stdout",
     "output_type": "stream",
     "text": [
      "55.09 245000\n",
      "['Q', 'S', 'P', 'C', 'N', 'R', 'M'] has a fitness of 7.40902641688369e-08\n",
      "18/20 candidate\n",
      "[INFO] 2025-05-02 06:52:23,225 - pytimeloop.accelergy_interface - Running Accelergy with command: accelergy /home/workspace/output_dir/parsed-processed-input.yaml -o ./output_dir/ -v\n"
     ]
    },
    {
     "name": "stderr",
     "output_type": "stream",
     "text": [
      "INFO:pytimeloop.accelergy_interface:Running Accelergy with command: accelergy /home/workspace/output_dir/parsed-processed-input.yaml -o ./output_dir/ -v\n"
     ]
    },
    {
     "name": "stdout",
     "output_type": "stream",
     "text": [
      "61.61 280000\n",
      "['M', 'C', 'P', 'S', 'N', 'R', 'Q'] has a fitness of 5.796832610661535e-08\n",
      "19/20 candidate\n",
      "already visited QPCSNRM\n",
      "20/20 candidate\n",
      "already visited QRPSNCM\n",
      "crossover\n",
      "1/15 candidate in crossover\n",
      "[INFO] 2025-05-02 06:53:26,786 - pytimeloop.accelergy_interface - Running Accelergy with command: accelergy /home/workspace/output_dir/parsed-processed-input.yaml -o ./output_dir/ -v\n"
     ]
    },
    {
     "name": "stderr",
     "output_type": "stream",
     "text": [
      "INFO:pytimeloop.accelergy_interface:Running Accelergy with command: accelergy /home/workspace/output_dir/parsed-processed-input.yaml -o ./output_dir/ -v\n"
     ]
    },
    {
     "name": "stdout",
     "output_type": "stream",
     "text": [
      "68.57 245000\n",
      "['C', 'P', 'S', 'Q', 'R', 'N', 'M'] has a fitness of 5.9525049629010125e-08\n",
      "2/15 candidate in crossover\n",
      "[INFO] 2025-05-02 06:54:33,124 - pytimeloop.accelergy_interface - Running Accelergy with command: accelergy /home/workspace/output_dir/parsed-processed-input.yaml -o ./output_dir/ -v\n"
     ]
    },
    {
     "name": "stderr",
     "output_type": "stream",
     "text": [
      "INFO:pytimeloop.accelergy_interface:Running Accelergy with command: accelergy /home/workspace/output_dir/parsed-processed-input.yaml -o ./output_dir/ -v\n"
     ]
    },
    {
     "name": "stdout",
     "output_type": "stream",
     "text": [
      "68.57 245000\n",
      "['P', 'Q', 'C', 'S', 'N', 'R', 'M'] has a fitness of 5.9525049629010125e-08\n",
      "3/15 candidate in crossover\n",
      "already visited NCPQMRS\n",
      "4/15 candidate in crossover\n",
      "[INFO] 2025-05-02 06:55:16,812 - pytimeloop.accelergy_interface - Running Accelergy with command: accelergy /home/workspace/output_dir/parsed-processed-input.yaml -o ./output_dir/ -v\n"
     ]
    },
    {
     "name": "stderr",
     "output_type": "stream",
     "text": [
      "INFO:pytimeloop.accelergy_interface:Running Accelergy with command: accelergy /home/workspace/output_dir/parsed-processed-input.yaml -o ./output_dir/ -v\n"
     ]
    },
    {
     "name": "stdout",
     "output_type": "stream",
     "text": [
      "68.57 245000\n",
      "['C', 'Q', 'M', 'P', 'N', 'R', 'S'] has a fitness of 5.9525049629010125e-08\n",
      "5/15 candidate in crossover\n",
      "[INFO] 2025-05-02 06:56:23,856 - pytimeloop.accelergy_interface - Running Accelergy with command: accelergy /home/workspace/output_dir/parsed-processed-input.yaml -o ./output_dir/ -v\n"
     ]
    },
    {
     "name": "stderr",
     "output_type": "stream",
     "text": [
      "INFO:pytimeloop.accelergy_interface:Running Accelergy with command: accelergy /home/workspace/output_dir/parsed-processed-input.yaml -o ./output_dir/ -v\n"
     ]
    },
    {
     "name": "stdout",
     "output_type": "stream",
     "text": [
      "68.57 245000\n",
      "['C', 'M', 'Q', 'S', 'P', 'N', 'R'] has a fitness of 5.9525049629010125e-08\n",
      "6/15 candidate in crossover\n",
      "already visited CPSQNMR\n",
      "7/15 candidate in crossover\n",
      "already visited QRPSNCM\n",
      "8/15 candidate in crossover\n",
      "already visited PMSQNCR\n",
      "9/15 candidate in crossover\n",
      "already visited QPCSNRM\n",
      "10/15 candidate in crossover\n",
      "already visited NCPQMRS\n",
      "11/15 candidate in crossover\n",
      "already visited CQNMRPS\n",
      "12/15 candidate in crossover\n",
      "already visited CQPNMRS\n",
      "13/15 candidate in crossover\n",
      "already visited CMPQNRS\n",
      "14/15 candidate in crossover\n",
      "already visited CMPQNRS\n",
      "15/15 candidate in crossover\n",
      "already visited QSPCNRM\n",
      "\n",
      "ITERATION:  7\n",
      "selection\n",
      "1/20 candidate\n",
      "already visited CRPQMNS\n",
      "2/20 candidate\n",
      "already visited RNPQMCS\n",
      "3/20 candidate\n",
      "already visited CMPQNRS\n",
      "4/20 candidate\n",
      "already visited CNPQSRM\n",
      "5/20 candidate\n",
      "already visited MPCQNSR\n",
      "6/20 candidate\n",
      "already visited CPSQNMR\n",
      "7/20 candidate\n",
      "already visited MPRQNCS\n",
      "8/20 candidate\n",
      "already visited MPSQRCN\n",
      "9/20 candidate\n",
      "already visited CMNSRPQ\n",
      "10/20 candidate\n",
      "already visited CSNQRPM\n",
      "11/20 candidate\n",
      "already visited CSNQRPM\n",
      "12/20 candidate\n",
      "already visited CSQMRPN\n",
      "13/20 candidate\n",
      "already visited PMNQCSR\n",
      "14/20 candidate\n",
      "already visited MPNQSCR\n",
      "15/20 candidate\n",
      "already visited SMNQPCR\n",
      "16/20 candidate\n",
      "[INFO] 2025-05-02 06:57:29,514 - pytimeloop.accelergy_interface - Running Accelergy with command: accelergy /home/workspace/output_dir/parsed-processed-input.yaml -o ./output_dir/ -v\n"
     ]
    },
    {
     "name": "stderr",
     "output_type": "stream",
     "text": [
      "INFO:pytimeloop.accelergy_interface:Running Accelergy with command: accelergy /home/workspace/output_dir/parsed-processed-input.yaml -o ./output_dir/ -v\n"
     ]
    },
    {
     "name": "stdout",
     "output_type": "stream",
     "text": [
      "68.57 245000\n",
      "['P', 'C', 'N', 'Q', 'S', 'M', 'R'] has a fitness of 5.9525049629010125e-08\n",
      "17/20 candidate\n",
      "already visited QMPSNRC\n",
      "18/20 candidate\n",
      "already visited QCPMNRS\n",
      "19/20 candidate\n",
      "already visited QCPSMRN\n",
      "20/20 candidate\n",
      "[INFO] 2025-05-02 06:58:13,750 - pytimeloop.accelergy_interface - Running Accelergy with command: accelergy /home/workspace/output_dir/parsed-processed-input.yaml -o ./output_dir/ -v\n"
     ]
    },
    {
     "name": "stderr",
     "output_type": "stream",
     "text": [
      "INFO:pytimeloop.accelergy_interface:Running Accelergy with command: accelergy /home/workspace/output_dir/parsed-processed-input.yaml -o ./output_dir/ -v\n"
     ]
    },
    {
     "name": "stdout",
     "output_type": "stream",
     "text": [
      "55.09 245000\n",
      "['Q', 'C', 'P', 'N', 'S', 'R', 'M'] has a fitness of 7.40902641688369e-08\n",
      "crossover\n",
      "1/15 candidate in crossover\n",
      "already visited CRPQMNS\n",
      "2/15 candidate in crossover\n",
      "already visited CPSQNMR\n",
      "3/15 candidate in crossover\n",
      "[INFO] 2025-05-02 06:59:09,715 - pytimeloop.accelergy_interface - Running Accelergy with command: accelergy /home/workspace/output_dir/parsed-processed-input.yaml -o ./output_dir/ -v\n"
     ]
    },
    {
     "name": "stderr",
     "output_type": "stream",
     "text": [
      "INFO:pytimeloop.accelergy_interface:Running Accelergy with command: accelergy /home/workspace/output_dir/parsed-processed-input.yaml -o ./output_dir/ -v\n"
     ]
    },
    {
     "name": "stdout",
     "output_type": "stream",
     "text": [
      "68.57 245000\n",
      "['C', 'M', 'N', 'Q', 'P', 'R', 'S'] has a fitness of 5.9525049629010125e-08\n",
      "4/15 candidate in crossover\n",
      "[INFO] 2025-05-02 07:00:15,245 - pytimeloop.accelergy_interface - Running Accelergy with command: accelergy /home/workspace/output_dir/parsed-processed-input.yaml -o ./output_dir/ -v\n"
     ]
    },
    {
     "name": "stderr",
     "output_type": "stream",
     "text": [
      "INFO:pytimeloop.accelergy_interface:Running Accelergy with command: accelergy /home/workspace/output_dir/parsed-processed-input.yaml -o ./output_dir/ -v\n"
     ]
    },
    {
     "name": "stdout",
     "output_type": "stream",
     "text": [
      "68.57 245000\n",
      "['C', 'Q', 'P', 'N', 'S', 'R', 'M'] has a fitness of 5.9525049629010125e-08\n",
      "5/15 candidate in crossover\n",
      "[INFO] 2025-05-02 07:01:22,094 - pytimeloop.accelergy_interface - Running Accelergy with command: accelergy /home/workspace/output_dir/parsed-processed-input.yaml -o ./output_dir/ -v\n"
     ]
    },
    {
     "name": "stderr",
     "output_type": "stream",
     "text": [
      "INFO:pytimeloop.accelergy_interface:Running Accelergy with command: accelergy /home/workspace/output_dir/parsed-processed-input.yaml -o ./output_dir/ -v\n"
     ]
    },
    {
     "name": "stdout",
     "output_type": "stream",
     "text": [
      "55.09 245000\n",
      "['Q', 'C', 'M', 'P', 'S', 'N', 'R'] has a fitness of 7.40902641688369e-08\n",
      "6/15 candidate in crossover\n",
      "already visited CRPQMNS\n",
      "7/15 candidate in crossover\n",
      "already visited RNPQMCS\n",
      "8/15 candidate in crossover\n",
      "already visited CPSQNMR\n",
      "9/15 candidate in crossover\n",
      "already visited CMPQNRS\n",
      "10/15 candidate in crossover\n",
      "already visited CMNSRPQ\n",
      "11/15 candidate in crossover\n",
      "already visited QCPMNRS\n",
      "12/15 candidate in crossover\n",
      "already visited CNPQSRM\n",
      "13/15 candidate in crossover\n",
      "already visited QCPNSRM\n",
      "14/15 candidate in crossover\n",
      "already visited QCPSMRN\n",
      "15/15 candidate in crossover\n",
      "already visited QMPSNRC\n",
      "\n",
      "ITERATION:  8\n",
      "selection\n",
      "1/20 candidate\n",
      "already visited CNQPMRS\n",
      "2/20 candidate\n",
      "[INFO] 2025-05-02 07:02:19,269 - pytimeloop.accelergy_interface - Running Accelergy with command: accelergy /home/workspace/output_dir/parsed-processed-input.yaml -o ./output_dir/ -v\n"
     ]
    },
    {
     "name": "stderr",
     "output_type": "stream",
     "text": [
      "INFO:pytimeloop.accelergy_interface:Running Accelergy with command: accelergy /home/workspace/output_dir/parsed-processed-input.yaml -o ./output_dir/ -v\n"
     ]
    },
    {
     "name": "stdout",
     "output_type": "stream",
     "text": [
      "68.57 245000\n",
      "['C', 'P', 'N', 'Q', 'M', 'R', 'S'] has a fitness of 5.9525049629010125e-08\n",
      "3/20 candidate\n",
      "already visited CNMQPRS\n",
      "4/20 candidate\n",
      "already visited SNPQMRC\n",
      "5/20 candidate\n",
      "already visited CPSQNMR\n",
      "6/20 candidate\n",
      "already visited MPSQRCN\n",
      "7/20 candidate\n",
      "already visited SPMQNCR\n",
      "8/20 candidate\n",
      "already visited MPCQNSR\n",
      "9/20 candidate\n",
      "already visited CNSMRPQ\n",
      "10/20 candidate\n",
      "already visited CSQMRPN\n",
      "11/20 candidate\n",
      "already visited CSNMQPR\n",
      "12/20 candidate\n",
      "already visited CSQMRPN\n",
      "13/20 candidate\n",
      "[INFO] 2025-05-02 07:03:26,035 - pytimeloop.accelergy_interface - Running Accelergy with command: accelergy /home/workspace/output_dir/parsed-processed-input.yaml -o ./output_dir/ -v\n"
     ]
    },
    {
     "name": "stderr",
     "output_type": "stream",
     "text": [
      "INFO:pytimeloop.accelergy_interface:Running Accelergy with command: accelergy /home/workspace/output_dir/parsed-processed-input.yaml -o ./output_dir/ -v\n"
     ]
    },
    {
     "name": "stdout",
     "output_type": "stream",
     "text": [
      "68.57 245000\n",
      "['P', 'R', 'N', 'Q', 'S', 'C', 'M'] has a fitness of 5.9525049629010125e-08\n",
      "14/20 candidate\n",
      "already visited PRNQSCM\n",
      "15/20 candidate\n",
      "already visited PQNMSCR\n",
      "16/20 candidate\n",
      "already visited PMRQSCN\n",
      "17/20 candidate\n",
      "already visited QCPSMRN\n",
      "18/20 candidate\n",
      "[INFO] 2025-05-02 07:04:09,546 - pytimeloop.accelergy_interface - Running Accelergy with command: accelergy /home/workspace/output_dir/parsed-processed-input.yaml -o ./output_dir/ -v\n"
     ]
    },
    {
     "name": "stderr",
     "output_type": "stream",
     "text": [
      "INFO:pytimeloop.accelergy_interface:Running Accelergy with command: accelergy /home/workspace/output_dir/parsed-processed-input.yaml -o ./output_dir/ -v\n"
     ]
    },
    {
     "name": "stdout",
     "output_type": "stream",
     "text": [
      "68.57 245000\n",
      "['S', 'C', 'P', 'Q', 'N', 'R', 'M'] has a fitness of 5.9525049629010125e-08\n",
      "19/20 candidate\n",
      "[INFO] 2025-05-02 07:05:19,115 - pytimeloop.accelergy_interface - Running Accelergy with command: accelergy /home/workspace/output_dir/parsed-processed-input.yaml -o ./output_dir/ -v\n"
     ]
    },
    {
     "name": "stderr",
     "output_type": "stream",
     "text": [
      "INFO:pytimeloop.accelergy_interface:Running Accelergy with command: accelergy /home/workspace/output_dir/parsed-processed-input.yaml -o ./output_dir/ -v\n"
     ]
    },
    {
     "name": "stdout",
     "output_type": "stream",
     "text": [
      "55.09 245000\n",
      "['Q', 'C', 'N', 'S', 'P', 'R', 'M'] has a fitness of 7.40902641688369e-08\n",
      "20/20 candidate\n",
      "already visited QPCSNRM\n",
      "crossover\n",
      "1/15 candidate in crossover\n",
      "already visited QPCSNRM\n",
      "2/15 candidate in crossover\n",
      "[INFO] 2025-05-02 07:06:15,996 - pytimeloop.accelergy_interface - Running Accelergy with command: accelergy /home/workspace/output_dir/parsed-processed-input.yaml -o ./output_dir/ -v\n"
     ]
    },
    {
     "name": "stderr",
     "output_type": "stream",
     "text": [
      "INFO:pytimeloop.accelergy_interface:Running Accelergy with command: accelergy /home/workspace/output_dir/parsed-processed-input.yaml -o ./output_dir/ -v\n"
     ]
    },
    {
     "name": "stdout",
     "output_type": "stream",
     "text": [
      "55.09 245000\n",
      "['Q', 'C', 'N', 'S', 'M', 'R', 'P'] has a fitness of 7.40902641688369e-08\n",
      "3/15 candidate in crossover\n",
      "[INFO] 2025-05-02 07:07:13,180 - pytimeloop.accelergy_interface - Running Accelergy with command: accelergy /home/workspace/output_dir/parsed-processed-input.yaml -o ./output_dir/ -v\n"
     ]
    },
    {
     "name": "stderr",
     "output_type": "stream",
     "text": [
      "INFO:pytimeloop.accelergy_interface:Running Accelergy with command: accelergy /home/workspace/output_dir/parsed-processed-input.yaml -o ./output_dir/ -v\n"
     ]
    },
    {
     "name": "stdout",
     "output_type": "stream",
     "text": [
      "68.57 245000\n",
      "['C', 'N', 'Q', 'M', 'P', 'R', 'S'] has a fitness of 5.9525049629010125e-08\n",
      "4/15 candidate in crossover\n",
      "[INFO] 2025-05-02 07:08:21,796 - pytimeloop.accelergy_interface - Running Accelergy with command: accelergy /home/workspace/output_dir/parsed-processed-input.yaml -o ./output_dir/ -v\n"
     ]
    },
    {
     "name": "stderr",
     "output_type": "stream",
     "text": [
      "INFO:pytimeloop.accelergy_interface:Running Accelergy with command: accelergy /home/workspace/output_dir/parsed-processed-input.yaml -o ./output_dir/ -v\n"
     ]
    },
    {
     "name": "stdout",
     "output_type": "stream",
     "text": [
      "68.57 245000\n",
      "['C', 'P', 'N', 'Q', 'S', 'M', 'R'] has a fitness of 5.9525049629010125e-08\n",
      "5/15 candidate in crossover\n",
      "[INFO] 2025-05-02 07:09:27,851 - pytimeloop.accelergy_interface - Running Accelergy with command: accelergy /home/workspace/output_dir/parsed-processed-input.yaml -o ./output_dir/ -v\n"
     ]
    },
    {
     "name": "stderr",
     "output_type": "stream",
     "text": [
      "INFO:pytimeloop.accelergy_interface:Running Accelergy with command: accelergy /home/workspace/output_dir/parsed-processed-input.yaml -o ./output_dir/ -v\n"
     ]
    },
    {
     "name": "stdout",
     "output_type": "stream",
     "text": [
      "68.57 245000\n",
      "['C', 'P', 'Q', 'N', 'S', 'R', 'M'] has a fitness of 5.9525049629010125e-08\n",
      "6/15 candidate in crossover\n",
      "already visited QPCSNRM\n",
      "7/15 candidate in crossover\n",
      "already visited SNPQMRC\n",
      "8/15 candidate in crossover\n",
      "already visited QCPSMRN\n",
      "9/15 candidate in crossover\n",
      "already visited CNSMRPQ\n",
      "10/15 candidate in crossover\n",
      "already visited CNQPMRS\n",
      "11/15 candidate in crossover\n",
      "already visited CNMQPRS\n",
      "12/15 candidate in crossover\n",
      "already visited CPNQMRS\n",
      "13/15 candidate in crossover\n",
      "already visited SPMQNCR\n",
      "14/15 candidate in crossover\n",
      "already visited CPSQNMR\n",
      "15/15 candidate in crossover\n",
      "already visited QCNSPRM\n",
      "\n",
      "ITERATION:  9\n",
      "selection\n",
      "1/20 candidate\n",
      "already visited MNPQCRS\n",
      "2/20 candidate\n",
      "[INFO] 2025-05-02 07:10:34,741 - pytimeloop.accelergy_interface - Running Accelergy with command: accelergy /home/workspace/output_dir/parsed-processed-input.yaml -o ./output_dir/ -v\n"
     ]
    },
    {
     "name": "stderr",
     "output_type": "stream",
     "text": [
      "INFO:pytimeloop.accelergy_interface:Running Accelergy with command: accelergy /home/workspace/output_dir/parsed-processed-input.yaml -o ./output_dir/ -v\n"
     ]
    },
    {
     "name": "stdout",
     "output_type": "stream",
     "text": [
      "68.57 245000\n",
      "['C', 'N', 'R', 'Q', 'M', 'P', 'S'] has a fitness of 5.9525049629010125e-08\n",
      "3/20 candidate\n",
      "already visited CRPQMNS\n",
      "4/20 candidate\n",
      "already visited CNPQSRM\n",
      "5/20 candidate\n",
      "already visited MRSQNCP\n",
      "6/20 candidate\n",
      "already visited PMSQNCR\n",
      "7/20 candidate\n",
      "already visited MPSRNCQ\n",
      "8/20 candidate\n",
      "already visited MPSRNCQ\n",
      "9/20 candidate\n",
      "[INFO] 2025-05-02 07:11:40,684 - pytimeloop.accelergy_interface - Running Accelergy with command: accelergy /home/workspace/output_dir/parsed-processed-input.yaml -o ./output_dir/ -v\n"
     ]
    },
    {
     "name": "stderr",
     "output_type": "stream",
     "text": [
      "INFO:pytimeloop.accelergy_interface:Running Accelergy with command: accelergy /home/workspace/output_dir/parsed-processed-input.yaml -o ./output_dir/ -v\n"
     ]
    },
    {
     "name": "stdout",
     "output_type": "stream",
     "text": [
      "68.57 245000\n",
      "['C', 'S', 'N', 'M', 'P', 'R', 'Q'] has a fitness of 5.9525049629010125e-08\n",
      "10/20 candidate\n",
      "already visited CSNMQPR\n",
      "11/20 candidate\n",
      "[INFO] 2025-05-02 07:12:46,439 - pytimeloop.accelergy_interface - Running Accelergy with command: accelergy /home/workspace/output_dir/parsed-processed-input.yaml -o ./output_dir/ -v\n"
     ]
    },
    {
     "name": "stderr",
     "output_type": "stream",
     "text": [
      "INFO:pytimeloop.accelergy_interface:Running Accelergy with command: accelergy /home/workspace/output_dir/parsed-processed-input.yaml -o ./output_dir/ -v\n"
     ]
    },
    {
     "name": "stdout",
     "output_type": "stream",
     "text": [
      "68.57 245000\n",
      "['C', 'R', 'N', 'M', 'S', 'P', 'Q'] has a fitness of 5.9525049629010125e-08\n",
      "12/20 candidate\n",
      "already visited CQNMRPS\n",
      "13/20 candidate\n",
      "already visited SMNQPCR\n",
      "14/20 candidate\n",
      "already visited PQNMSCR\n",
      "15/20 candidate\n",
      "[INFO] 2025-05-02 07:13:53,858 - pytimeloop.accelergy_interface - Running Accelergy with command: accelergy /home/workspace/output_dir/parsed-processed-input.yaml -o ./output_dir/ -v\n"
     ]
    },
    {
     "name": "stderr",
     "output_type": "stream",
     "text": [
      "INFO:pytimeloop.accelergy_interface:Running Accelergy with command: accelergy /home/workspace/output_dir/parsed-processed-input.yaml -o ./output_dir/ -v\n"
     ]
    },
    {
     "name": "stdout",
     "output_type": "stream",
     "text": [
      "68.57 245000\n",
      "['P', 'S', 'N', 'Q', 'M', 'C', 'R'] has a fitness of 5.9525049629010125e-08\n",
      "16/20 candidate\n",
      "already visited PCNQSMR\n",
      "17/20 candidate\n",
      "already visited QCRSNPM\n",
      "18/20 candidate\n",
      "already visited QCMSNRP\n",
      "19/20 candidate\n",
      "already visited QCPSNMR\n",
      "20/20 candidate\n",
      "already visited QCPSMRN\n",
      "crossover\n",
      "1/15 candidate in crossover\n",
      "[INFO] 2025-05-02 07:14:37,089 - pytimeloop.accelergy_interface - Running Accelergy with command: accelergy /home/workspace/output_dir/parsed-processed-input.yaml -o ./output_dir/ -v\n"
     ]
    },
    {
     "name": "stderr",
     "output_type": "stream",
     "text": [
      "INFO:pytimeloop.accelergy_interface:Running Accelergy with command: accelergy /home/workspace/output_dir/parsed-processed-input.yaml -o ./output_dir/ -v\n"
     ]
    },
    {
     "name": "stdout",
     "output_type": "stream",
     "text": [
      "68.57 245000\n",
      "['C', 'N', 'R', 'S', 'M', 'Q', 'P'] has a fitness of 5.9525049629010125e-08\n",
      "2/15 candidate in crossover\n",
      "[INFO] 2025-05-02 07:15:42,642 - pytimeloop.accelergy_interface - Running Accelergy with command: accelergy /home/workspace/output_dir/parsed-processed-input.yaml -o ./output_dir/ -v\n"
     ]
    },
    {
     "name": "stderr",
     "output_type": "stream",
     "text": [
      "INFO:pytimeloop.accelergy_interface:Running Accelergy with command: accelergy /home/workspace/output_dir/parsed-processed-input.yaml -o ./output_dir/ -v\n"
     ]
    },
    {
     "name": "stdout",
     "output_type": "stream",
     "text": [
      "55.09 245000\n",
      "['Q', 'C', 'P', 'S', 'M', 'N', 'R'] has a fitness of 7.40902641688369e-08\n",
      "3/15 candidate in crossover\n",
      "already visited QCPNSRM\n",
      "4/15 candidate in crossover\n",
      "already visited CSNMPRQ\n",
      "5/15 candidate in crossover\n",
      "[INFO] 2025-05-02 07:16:38,775 - pytimeloop.accelergy_interface - Running Accelergy with command: accelergy /home/workspace/output_dir/parsed-processed-input.yaml -o ./output_dir/ -v\n"
     ]
    },
    {
     "name": "stderr",
     "output_type": "stream",
     "text": [
      "INFO:pytimeloop.accelergy_interface:Running Accelergy with command: accelergy /home/workspace/output_dir/parsed-processed-input.yaml -o ./output_dir/ -v\n"
     ]
    },
    {
     "name": "stdout",
     "output_type": "stream",
     "text": [
      "55.09 245000\n",
      "['Q', 'C', 'M', 'S', 'R', 'P', 'N'] has a fitness of 7.40902641688369e-08\n",
      "6/15 candidate in crossover\n",
      "already visited CNRQMPS\n",
      "7/15 candidate in crossover\n",
      "already visited CSNMQPR\n",
      "8/15 candidate in crossover\n",
      "already visited QCPSMRN\n",
      "9/15 candidate in crossover\n",
      "already visited PMSQNCR\n",
      "10/15 candidate in crossover\n",
      "already visited QCPSNMR\n",
      "11/15 candidate in crossover\n",
      "already visited CNPQSRM\n",
      "12/15 candidate in crossover\n",
      "already visited CSNMPRQ\n",
      "13/15 candidate in crossover\n",
      "already visited QCRSNPM\n",
      "14/15 candidate in crossover\n",
      "already visited QCMSNRP\n",
      "15/15 candidate in crossover\n",
      "already visited CRPQMNS\n",
      "Finished running conv1, 1x16: best fitness 7.40902641688369e-08 on permutation ['Q', 'C', 'P', 'S', 'N', 'R', 'M']\n",
      " Timeloop mapper called 121 times\n"
     ]
    }
   ],
   "source": [
    "stream = open('conv1_1x16.yaml', 'r')\n",
    "visited = yaml.safe_load(stream)\n",
    "\n",
    "conv1_1x16 = GeneticAlgorithm(workload='layer_shapes/conv1.yaml', pe_dims={'pe_meshX': 1, 'pe_meshY': 16})\n",
    "best_df, f = conv1_1x16.run(g=1)\n",
    "print(f'Finished running conv1, 1x16: best fitness {f} on permutation {best_df}\\n Timeloop mapper called {conv1_1x16.mapper_call_count} times')"
   ]
  },
  {
   "cell_type": "code",
   "execution_count": 63,
   "metadata": {},
   "outputs": [
    {
     "name": "stdout",
     "output_type": "stream",
     "text": [
      "CNPQMRS\n",
      "MPSQNCR\n",
      "CSNMRPQ\n",
      "PMNQSCR\n",
      "QCPSNRM\n",
      "CNQPMRS\n",
      "CRPQMNS\n",
      "CNPQMSR\n",
      "RNPQMCS\n",
      "SPMQNCR\n",
      "MPCQNSR\n",
      "QPSMNCR\n",
      "MPNQSCR\n",
      "CMNSRPQ\n",
      "QSNMRPC\n",
      "CSNRMPQ\n",
      "PMNQSRC\n",
      "PMNQCSR\n",
      "PMRQSCN\n",
      "PMNCSQR\n",
      "QCRSNPM\n",
      "QCPMNRS\n",
      "RNPQCMS\n",
      "QCPMRSN\n",
      "QCNPMSR\n",
      "CNQRSPM\n",
      "QPSMNRC\n",
      "SNPQMRC\n",
      "PNCQMRS\n",
      "PMSQNCR\n",
      "MPSCNQR\n",
      "NPSQMCR\n",
      "CSQMRPN\n",
      "CPNMRSQ\n",
      "NSCMRPQ\n",
      "MSNCRPQ\n",
      "PMCQSNR\n",
      "CMNQSPR\n",
      "PMNRSCQ\n",
      "QCSPNRM\n",
      "QCPSMRN\n",
      "QCMSNRP\n",
      "QCPSNMR\n",
      "NSCPQMR\n",
      "NCQPMRS\n",
      "SNQCPMR\n",
      "CNPQSRM\n",
      "CQPNMRS\n",
      "MPSQRCN\n",
      "MRSQNCP\n",
      "CSNQRPM\n",
      "CNSMRPQ\n",
      "CSPMRNQ\n",
      "PQNMSCR\n",
      "SMNQPCR\n",
      "PCQSNRM\n",
      "NCPSQRM\n",
      "NPSQMRC\n",
      "RNPQCSM\n",
      "CNPSQRM\n",
      "QCSPNMR\n",
      "CNMQPRS\n",
      "CNPMQRS\n",
      "MPSRNCQ\n",
      "CSNMQPR\n",
      "QMNPSCR\n",
      "NMPQSCR\n",
      "QNPSCRM\n",
      "QPCSNRM\n",
      "NPSCQRM\n",
      "QMCNPRS\n",
      "NCPQMRS\n",
      "MPRQNCS\n",
      "RPSQNCM\n",
      "PSNMRCQ\n",
      "CQNMRPS\n",
      "RSNMCPQ\n",
      "CQPSNRM\n",
      "QMPSNRC\n",
      "QNPSMRC\n",
      "RCPQMNS\n",
      "QMPSNCR\n",
      "CMPQNRS\n",
      "MNPQCRS\n",
      "MNSQPCR\n",
      "MPSQCNR\n",
      "QRPSNCM\n",
      "RCPSNQM\n",
      "QSNPMRC\n",
      "CQPSMRN\n",
      "NMPCQRS\n",
      "CQSNMRP\n",
      "RPQSNCM\n",
      "CPSQNMR\n",
      "MPQSNCR\n",
      "QSPCNRM\n",
      "MCPSNRQ\n",
      "CPSQRNM\n",
      "PQCSNRM\n",
      "CQMPNRS\n",
      "CMQSPNR\n",
      "PCNQSMR\n",
      "QCPNSRM\n",
      "CMNQPRS\n",
      "CQPNSRM\n",
      "QCMPSNR\n",
      "CPNQMRS\n",
      "PRNQSCM\n",
      "SCPQNRM\n",
      "QCNSPRM\n",
      "QCNSMRP\n",
      "CNQMPRS\n",
      "CPNQSMR\n",
      "CPQNSRM\n",
      "CNRQMPS\n",
      "CSNMPRQ\n",
      "CRNMSPQ\n",
      "PSNQMCR\n",
      "CNRSMQP\n",
      "QCPSMNR\n",
      "QCMSRPN\n",
      "5.9525049629010125e-08\n",
      "5.796832610661535e-08\n",
      "5.9525049629010125e-08\n",
      "5.9525049629010125e-08\n",
      "7.40902641688369e-08\n",
      "5.9525049629010125e-08\n",
      "5.9525049629010125e-08\n",
      "5.9525049629010125e-08\n",
      "5.9525049629010125e-08\n",
      "5.9525049629010125e-08\n",
      "5.796832610661535e-08\n",
      "7.40902641688369e-08\n",
      "5.796832610661535e-08\n",
      "5.9525049629010125e-08\n",
      "7.40902641688369e-08\n",
      "5.9525049629010125e-08\n",
      "5.9525049629010125e-08\n",
      "5.9525049629010125e-08\n",
      "5.9525049629010125e-08\n",
      "5.9525049629010125e-08\n",
      "7.40902641688369e-08\n",
      "7.40902641688369e-08\n",
      "5.9525049629010125e-08\n",
      "7.40902641688369e-08\n",
      "7.40902641688369e-08\n",
      "5.9525049629010125e-08\n",
      "7.40902641688369e-08\n",
      "5.9525049629010125e-08\n",
      "5.9525049629010125e-08\n",
      "5.9525049629010125e-08\n",
      "5.796832610661535e-08\n",
      "5.953373181244493e-08\n",
      "5.9525049629010125e-08\n",
      "5.9525049629010125e-08\n",
      "5.953373181244493e-08\n",
      "5.796832610661535e-08\n",
      "5.9525049629010125e-08\n",
      "5.9525049629010125e-08\n",
      "5.9525049629010125e-08\n",
      "7.40902641688369e-08\n",
      "7.40902641688369e-08\n",
      "7.40902641688369e-08\n",
      "7.40902641688369e-08\n",
      "5.953373181244493e-08\n",
      "5.953373181244493e-08\n",
      "5.9525049629010125e-08\n",
      "5.9525049629010125e-08\n",
      "5.9525049629010125e-08\n",
      "5.796832610661535e-08\n",
      "5.796832610661535e-08\n",
      "5.9525049629010125e-08\n",
      "5.9525049629010125e-08\n",
      "5.9525049629010125e-08\n",
      "5.9525049629010125e-08\n",
      "5.9525049629010125e-08\n",
      "5.9525049629010125e-08\n",
      "5.953373181244493e-08\n",
      "5.953373181244493e-08\n",
      "5.9525049629010125e-08\n",
      "5.9525049629010125e-08\n",
      "7.40902641688369e-08\n",
      "5.9525049629010125e-08\n",
      "5.9525049629010125e-08\n",
      "5.796832610661535e-08\n",
      "5.9525049629010125e-08\n",
      "7.40902641688369e-08\n",
      "5.953373181244493e-08\n",
      "7.40902641688369e-08\n",
      "7.40902641688369e-08\n",
      "5.953373181244493e-08\n",
      "7.40902641688369e-08\n",
      "5.953373181244493e-08\n",
      "5.796832610661535e-08\n",
      "5.9525049629010125e-08\n",
      "5.9525049629010125e-08\n",
      "5.9525049629010125e-08\n",
      "5.9525049629010125e-08\n",
      "5.9525049629010125e-08\n",
      "7.40902641688369e-08\n",
      "7.40902641688369e-08\n",
      "5.9525049629010125e-08\n",
      "7.40902641688369e-08\n",
      "5.9525049629010125e-08\n",
      "5.796832610661535e-08\n",
      "5.796832610661535e-08\n",
      "5.796832610661535e-08\n",
      "7.40902641688369e-08\n",
      "5.9525049629010125e-08\n",
      "7.40902641688369e-08\n",
      "5.9525049629010125e-08\n",
      "5.953373181244493e-08\n",
      "5.9525049629010125e-08\n",
      "5.9525049629010125e-08\n",
      "5.9525049629010125e-08\n",
      "5.796832610661535e-08\n",
      "7.40902641688369e-08\n",
      "5.796832610661535e-08\n",
      "5.9525049629010125e-08\n",
      "5.9525049629010125e-08\n",
      "5.9525049629010125e-08\n",
      "5.9525049629010125e-08\n",
      "5.9525049629010125e-08\n",
      "7.40902641688369e-08\n",
      "5.9525049629010125e-08\n",
      "5.9525049629010125e-08\n",
      "7.40902641688369e-08\n",
      "5.9525049629010125e-08\n",
      "5.9525049629010125e-08\n",
      "5.9525049629010125e-08\n",
      "7.40902641688369e-08\n",
      "7.40902641688369e-08\n",
      "5.9525049629010125e-08\n",
      "5.9525049629010125e-08\n",
      "5.9525049629010125e-08\n",
      "5.9525049629010125e-08\n",
      "5.9525049629010125e-08\n",
      "5.9525049629010125e-08\n",
      "5.9525049629010125e-08\n",
      "5.9525049629010125e-08\n",
      "7.40902641688369e-08\n",
      "7.40902641688369e-08\n"
     ]
    }
   ],
   "source": [
    "for call in conv1_1x16.mapper_calls:\n",
    "    print(call[0])\n",
    "\n",
    "for call in conv1_1x16.mapper_calls:\n",
    "    print(call[1])\n",
    "\n",
    "with open('conv1_1x16.yaml', 'w') as file:\n",
    "    yaml.dump(conv1_1x16.VISITED, file, default_flow_style=False)"
   ]
  },
  {
   "cell_type": "code",
   "execution_count": 64,
   "metadata": {},
   "outputs": [
    {
     "name": "stdout",
     "output_type": "stream",
     "text": [
      "Initializing\n",
      "[INFO] 2025-05-02 07:17:36,243 - pytimeloop.accelergy_interface - Running Accelergy with command: accelergy /home/workspace/output_dir/parsed-processed-input.yaml -o ./output_dir/ -v\n"
     ]
    },
    {
     "name": "stderr",
     "output_type": "stream",
     "text": [
      "INFO:pytimeloop.accelergy_interface:Running Accelergy with command: accelergy /home/workspace/output_dir/parsed-processed-input.yaml -o ./output_dir/ -v\n"
     ]
    },
    {
     "name": "stdout",
     "output_type": "stream",
     "text": [
      "68.56 245000\n",
      "['P', 'S', 'Q', 'C', 'M', 'R', 'N'] has a fitness of 5.953373181244493e-08\n",
      "[INFO] 2025-05-02 07:18:31,091 - pytimeloop.accelergy_interface - Running Accelergy with command: accelergy /home/workspace/output_dir/parsed-processed-input.yaml -o ./output_dir/ -v\n"
     ]
    },
    {
     "name": "stderr",
     "output_type": "stream",
     "text": [
      "INFO:pytimeloop.accelergy_interface:Running Accelergy with command: accelergy /home/workspace/output_dir/parsed-processed-input.yaml -o ./output_dir/ -v\n"
     ]
    },
    {
     "name": "stdout",
     "output_type": "stream",
     "text": [
      "68.56 245000\n",
      "['P', 'R', 'S', 'C', 'M', 'Q', 'N'] has a fitness of 5.953373181244493e-08\n",
      "[INFO] 2025-05-02 07:19:24,917 - pytimeloop.accelergy_interface - Running Accelergy with command: accelergy /home/workspace/output_dir/parsed-processed-input.yaml -o ./output_dir/ -v\n"
     ]
    },
    {
     "name": "stderr",
     "output_type": "stream",
     "text": [
      "INFO:pytimeloop.accelergy_interface:Running Accelergy with command: accelergy /home/workspace/output_dir/parsed-processed-input.yaml -o ./output_dir/ -v\n"
     ]
    },
    {
     "name": "stdout",
     "output_type": "stream",
     "text": [
      "55.09 245000\n",
      "['N', 'P', 'C', 'S', 'Q', 'M', 'R'] has a fitness of 7.40902641688369e-08\n",
      "[INFO] 2025-05-02 07:20:25,175 - pytimeloop.accelergy_interface - Running Accelergy with command: accelergy /home/workspace/output_dir/parsed-processed-input.yaml -o ./output_dir/ -v\n"
     ]
    },
    {
     "name": "stderr",
     "output_type": "stream",
     "text": [
      "INFO:pytimeloop.accelergy_interface:Running Accelergy with command: accelergy /home/workspace/output_dir/parsed-processed-input.yaml -o ./output_dir/ -v\n"
     ]
    },
    {
     "name": "stdout",
     "output_type": "stream",
     "text": [
      "57.57 490000\n",
      "['R', 'N', 'C', 'Q', 'P', 'M', 'S'] has a fitness of 3.544930218048658e-08\n",
      "[INFO] 2025-05-02 07:21:25,714 - pytimeloop.accelergy_interface - Running Accelergy with command: accelergy /home/workspace/output_dir/parsed-processed-input.yaml -o ./output_dir/ -v\n"
     ]
    },
    {
     "name": "stderr",
     "output_type": "stream",
     "text": [
      "INFO:pytimeloop.accelergy_interface:Running Accelergy with command: accelergy /home/workspace/output_dir/parsed-processed-input.yaml -o ./output_dir/ -v\n"
     ]
    },
    {
     "name": "stdout",
     "output_type": "stream",
     "text": [
      "57.57 490000\n",
      "['C', 'S', 'M', 'Q', 'R', 'N', 'P'] has a fitness of 3.544930218048658e-08\n",
      "\n",
      "ITERATION:  0\n",
      "selection\n",
      "1/20 candidate\n",
      "[INFO] 2025-05-02 07:22:27,086 - pytimeloop.accelergy_interface - Running Accelergy with command: accelergy /home/workspace/output_dir/parsed-processed-input.yaml -o ./output_dir/ -v\n"
     ]
    },
    {
     "name": "stderr",
     "output_type": "stream",
     "text": [
      "INFO:pytimeloop.accelergy_interface:Running Accelergy with command: accelergy /home/workspace/output_dir/parsed-processed-input.yaml -o ./output_dir/ -v\n"
     ]
    },
    {
     "name": "stdout",
     "output_type": "stream",
     "text": [
      "68.56 245000\n",
      "['P', 'C', 'Q', 'S', 'M', 'R', 'N'] has a fitness of 5.953373181244493e-08\n",
      "2/20 candidate\n",
      "[INFO] 2025-05-02 07:23:22,530 - pytimeloop.accelergy_interface - Running Accelergy with command: accelergy /home/workspace/output_dir/parsed-processed-input.yaml -o ./output_dir/ -v\n"
     ]
    },
    {
     "name": "stderr",
     "output_type": "stream",
     "text": [
      "INFO:pytimeloop.accelergy_interface:Running Accelergy with command: accelergy /home/workspace/output_dir/parsed-processed-input.yaml -o ./output_dir/ -v\n"
     ]
    },
    {
     "name": "stdout",
     "output_type": "stream",
     "text": [
      "68.56 245000\n",
      "['Q', 'S', 'P', 'C', 'M', 'R', 'N'] has a fitness of 5.953373181244493e-08\n",
      "3/20 candidate\n",
      "[INFO] 2025-05-02 07:24:07,079 - pytimeloop.accelergy_interface - Running Accelergy with command: accelergy /home/workspace/output_dir/parsed-processed-input.yaml -o ./output_dir/ -v\n"
     ]
    },
    {
     "name": "stderr",
     "output_type": "stream",
     "text": [
      "INFO:pytimeloop.accelergy_interface:Running Accelergy with command: accelergy /home/workspace/output_dir/parsed-processed-input.yaml -o ./output_dir/ -v\n"
     ]
    },
    {
     "name": "stdout",
     "output_type": "stream",
     "text": [
      "68.56 245000\n",
      "['P', 'M', 'Q', 'C', 'S', 'R', 'N'] has a fitness of 5.953373181244493e-08\n",
      "4/20 candidate\n",
      "[INFO] 2025-05-02 07:25:00,903 - pytimeloop.accelergy_interface - Running Accelergy with command: accelergy /home/workspace/output_dir/parsed-processed-input.yaml -o ./output_dir/ -v\n"
     ]
    },
    {
     "name": "stderr",
     "output_type": "stream",
     "text": [
      "INFO:pytimeloop.accelergy_interface:Running Accelergy with command: accelergy /home/workspace/output_dir/parsed-processed-input.yaml -o ./output_dir/ -v\n"
     ]
    },
    {
     "name": "stdout",
     "output_type": "stream",
     "text": [
      "68.56 245000\n",
      "['P', 'S', 'R', 'C', 'M', 'Q', 'N'] has a fitness of 5.953373181244493e-08\n",
      "5/20 candidate\n",
      "[INFO] 2025-05-02 07:25:54,404 - pytimeloop.accelergy_interface - Running Accelergy with command: accelergy /home/workspace/output_dir/parsed-processed-input.yaml -o ./output_dir/ -v\n"
     ]
    },
    {
     "name": "stderr",
     "output_type": "stream",
     "text": [
      "INFO:pytimeloop.accelergy_interface:Running Accelergy with command: accelergy /home/workspace/output_dir/parsed-processed-input.yaml -o ./output_dir/ -v\n"
     ]
    },
    {
     "name": "stdout",
     "output_type": "stream",
     "text": [
      "68.56 245000\n",
      "['P', 'R', 'M', 'C', 'S', 'Q', 'N'] has a fitness of 5.953373181244493e-08\n",
      "6/20 candidate\n",
      "already visited PRMCSQN\n",
      "7/20 candidate\n",
      "[INFO] 2025-05-02 07:26:49,546 - pytimeloop.accelergy_interface - Running Accelergy with command: accelergy /home/workspace/output_dir/parsed-processed-input.yaml -o ./output_dir/ -v\n"
     ]
    },
    {
     "name": "stderr",
     "output_type": "stream",
     "text": [
      "INFO:pytimeloop.accelergy_interface:Running Accelergy with command: accelergy /home/workspace/output_dir/parsed-processed-input.yaml -o ./output_dir/ -v\n"
     ]
    },
    {
     "name": "stdout",
     "output_type": "stream",
     "text": [
      "68.56 245000\n",
      "['P', 'N', 'S', 'C', 'M', 'Q', 'R'] has a fitness of 5.953373181244493e-08\n",
      "8/20 candidate\n",
      "[INFO] 2025-05-02 07:27:45,013 - pytimeloop.accelergy_interface - Running Accelergy with command: accelergy /home/workspace/output_dir/parsed-processed-input.yaml -o ./output_dir/ -v\n"
     ]
    },
    {
     "name": "stderr",
     "output_type": "stream",
     "text": [
      "INFO:pytimeloop.accelergy_interface:Running Accelergy with command: accelergy /home/workspace/output_dir/parsed-processed-input.yaml -o ./output_dir/ -v\n"
     ]
    },
    {
     "name": "stdout",
     "output_type": "stream",
     "text": [
      "68.56 245000\n",
      "['P', 'C', 'S', 'R', 'M', 'Q', 'N'] has a fitness of 5.953373181244493e-08\n",
      "9/20 candidate\n",
      "[INFO] 2025-05-02 07:28:39,745 - pytimeloop.accelergy_interface - Running Accelergy with command: accelergy /home/workspace/output_dir/parsed-processed-input.yaml -o ./output_dir/ -v\n"
     ]
    },
    {
     "name": "stderr",
     "output_type": "stream",
     "text": [
      "INFO:pytimeloop.accelergy_interface:Running Accelergy with command: accelergy /home/workspace/output_dir/parsed-processed-input.yaml -o ./output_dir/ -v\n"
     ]
    },
    {
     "name": "stdout",
     "output_type": "stream",
     "text": [
      "55.09 245000\n",
      "['N', 'Q', 'C', 'S', 'P', 'M', 'R'] has a fitness of 7.40902641688369e-08\n",
      "10/20 candidate\n",
      "[INFO] 2025-05-02 07:29:39,114 - pytimeloop.accelergy_interface - Running Accelergy with command: accelergy /home/workspace/output_dir/parsed-processed-input.yaml -o ./output_dir/ -v\n"
     ]
    },
    {
     "name": "stderr",
     "output_type": "stream",
     "text": [
      "INFO:pytimeloop.accelergy_interface:Running Accelergy with command: accelergy /home/workspace/output_dir/parsed-processed-input.yaml -o ./output_dir/ -v\n"
     ]
    },
    {
     "name": "stdout",
     "output_type": "stream",
     "text": [
      "57.57 490000\n",
      "['R', 'P', 'C', 'S', 'Q', 'M', 'N'] has a fitness of 3.544930218048658e-08\n",
      "11/20 candidate\n",
      "[INFO] 2025-05-02 07:30:40,494 - pytimeloop.accelergy_interface - Running Accelergy with command: accelergy /home/workspace/output_dir/parsed-processed-input.yaml -o ./output_dir/ -v\n"
     ]
    },
    {
     "name": "stderr",
     "output_type": "stream",
     "text": [
      "INFO:pytimeloop.accelergy_interface:Running Accelergy with command: accelergy /home/workspace/output_dir/parsed-processed-input.yaml -o ./output_dir/ -v\n"
     ]
    },
    {
     "name": "stdout",
     "output_type": "stream",
     "text": [
      "55.09 245000\n",
      "['N', 'P', 'C', 'R', 'Q', 'M', 'S'] has a fitness of 7.40902641688369e-08\n",
      "12/20 candidate\n",
      "already visited RPCSQMN\n",
      "13/20 candidate\n",
      "[INFO] 2025-05-02 07:31:40,215 - pytimeloop.accelergy_interface - Running Accelergy with command: accelergy /home/workspace/output_dir/parsed-processed-input.yaml -o ./output_dir/ -v\n"
     ]
    },
    {
     "name": "stderr",
     "output_type": "stream",
     "text": [
      "INFO:pytimeloop.accelergy_interface:Running Accelergy with command: accelergy /home/workspace/output_dir/parsed-processed-input.yaml -o ./output_dir/ -v\n"
     ]
    },
    {
     "name": "stdout",
     "output_type": "stream",
     "text": [
      "57.57 490000\n",
      "['R', 'N', 'Q', 'C', 'P', 'M', 'S'] has a fitness of 3.544930218048658e-08\n",
      "14/20 candidate\n",
      "[INFO] 2025-05-02 07:32:43,335 - pytimeloop.accelergy_interface - Running Accelergy with command: accelergy /home/workspace/output_dir/parsed-processed-input.yaml -o ./output_dir/ -v\n"
     ]
    },
    {
     "name": "stderr",
     "output_type": "stream",
     "text": [
      "INFO:pytimeloop.accelergy_interface:Running Accelergy with command: accelergy /home/workspace/output_dir/parsed-processed-input.yaml -o ./output_dir/ -v\n"
     ]
    },
    {
     "name": "stdout",
     "output_type": "stream",
     "text": [
      "71.06 245000\n",
      "['M', 'N', 'C', 'Q', 'P', 'R', 'S'] has a fitness of 5.743924364003975e-08\n",
      "15/20 candidate\n",
      "already visited MNCQPRS\n",
      "16/20 candidate\n",
      "[INFO] 2025-05-02 07:33:46,656 - pytimeloop.accelergy_interface - Running Accelergy with command: accelergy /home/workspace/output_dir/parsed-processed-input.yaml -o ./output_dir/ -v\n"
     ]
    },
    {
     "name": "stderr",
     "output_type": "stream",
     "text": [
      "INFO:pytimeloop.accelergy_interface:Running Accelergy with command: accelergy /home/workspace/output_dir/parsed-processed-input.yaml -o ./output_dir/ -v\n"
     ]
    },
    {
     "name": "stdout",
     "output_type": "stream",
     "text": [
      "57.57 490000\n",
      "['R', 'N', 'C', 'P', 'Q', 'M', 'S'] has a fitness of 3.544930218048658e-08\n",
      "17/20 candidate\n",
      "[INFO] 2025-05-02 07:34:47,621 - pytimeloop.accelergy_interface - Running Accelergy with command: accelergy /home/workspace/output_dir/parsed-processed-input.yaml -o ./output_dir/ -v\n"
     ]
    },
    {
     "name": "stderr",
     "output_type": "stream",
     "text": [
      "INFO:pytimeloop.accelergy_interface:Running Accelergy with command: accelergy /home/workspace/output_dir/parsed-processed-input.yaml -o ./output_dir/ -v\n"
     ]
    },
    {
     "name": "stdout",
     "output_type": "stream",
     "text": [
      "71.06 245000\n",
      "['M', 'S', 'C', 'Q', 'R', 'N', 'P'] has a fitness of 5.743924364003975e-08\n",
      "18/20 candidate\n",
      "[INFO] 2025-05-02 07:35:49,689 - pytimeloop.accelergy_interface - Running Accelergy with command: accelergy /home/workspace/output_dir/parsed-processed-input.yaml -o ./output_dir/ -v\n"
     ]
    },
    {
     "name": "stderr",
     "output_type": "stream",
     "text": [
      "INFO:pytimeloop.accelergy_interface:Running Accelergy with command: accelergy /home/workspace/output_dir/parsed-processed-input.yaml -o ./output_dir/ -v\n"
     ]
    },
    {
     "name": "stdout",
     "output_type": "stream",
     "text": [
      "68.56 245000\n",
      "['Q', 'S', 'M', 'C', 'R', 'N', 'P'] has a fitness of 5.953373181244493e-08\n",
      "19/20 candidate\n",
      "[INFO] 2025-05-02 07:36:34,394 - pytimeloop.accelergy_interface - Running Accelergy with command: accelergy /home/workspace/output_dir/parsed-processed-input.yaml -o ./output_dir/ -v\n"
     ]
    },
    {
     "name": "stderr",
     "output_type": "stream",
     "text": [
      "INFO:pytimeloop.accelergy_interface:Running Accelergy with command: accelergy /home/workspace/output_dir/parsed-processed-input.yaml -o ./output_dir/ -v\n"
     ]
    },
    {
     "name": "stdout",
     "output_type": "stream",
     "text": [
      "57.57 490000\n",
      "['S', 'C', 'M', 'Q', 'R', 'N', 'P'] has a fitness of 3.544930218048658e-08\n",
      "20/20 candidate\n",
      "already visited MSCQRNP\n",
      "crossover\n",
      "1/15 candidate in crossover\n",
      "[INFO] 2025-05-02 07:37:35,326 - pytimeloop.accelergy_interface - Running Accelergy with command: accelergy /home/workspace/output_dir/parsed-processed-input.yaml -o ./output_dir/ -v\n"
     ]
    },
    {
     "name": "stderr",
     "output_type": "stream",
     "text": [
      "INFO:pytimeloop.accelergy_interface:Running Accelergy with command: accelergy /home/workspace/output_dir/parsed-processed-input.yaml -o ./output_dir/ -v\n"
     ]
    },
    {
     "name": "stdout",
     "output_type": "stream",
     "text": [
      "68.56 245000\n",
      "['P', 'N', 'S', 'C', 'M', 'R', 'Q'] has a fitness of 5.953373181244493e-08\n",
      "2/15 candidate in crossover\n",
      "already visited QSPCMRN\n",
      "3/15 candidate in crossover\n",
      "already visited PMQCSRN\n",
      "4/15 candidate in crossover\n",
      "already visited PRMCSQN\n",
      "5/15 candidate in crossover\n",
      "[INFO] 2025-05-02 07:38:30,112 - pytimeloop.accelergy_interface - Running Accelergy with command: accelergy /home/workspace/output_dir/parsed-processed-input.yaml -o ./output_dir/ -v\n"
     ]
    },
    {
     "name": "stderr",
     "output_type": "stream",
     "text": [
      "INFO:pytimeloop.accelergy_interface:Running Accelergy with command: accelergy /home/workspace/output_dir/parsed-processed-input.yaml -o ./output_dir/ -v\n"
     ]
    },
    {
     "name": "stdout",
     "output_type": "stream",
     "text": [
      "55.09 245000\n",
      "['N', 'Q', 'C', 'S', 'P', 'R', 'M'] has a fitness of 7.40902641688369e-08\n",
      "6/15 candidate in crossover\n",
      "already visited PNSCMQR\n",
      "7/15 candidate in crossover\n",
      "already visited NPCRQMS\n",
      "8/15 candidate in crossover\n",
      "already visited QSPCMRN\n",
      "9/15 candidate in crossover\n",
      "already visited PCQSMRN\n",
      "10/15 candidate in crossover\n",
      "already visited PMQCSRN\n",
      "11/15 candidate in crossover\n",
      "already visited PCSRMQN\n",
      "12/15 candidate in crossover\n",
      "already visited PRMCSQN\n",
      "13/15 candidate in crossover\n",
      "already visited PSRCMQN\n",
      "14/15 candidate in crossover\n",
      "already visited NQCSPMR\n",
      "15/15 candidate in crossover\n",
      "already visited PRMCSQN\n",
      "\n",
      "ITERATION:  1\n",
      "selection\n",
      "1/20 candidate\n",
      "[INFO] 2025-05-02 07:39:30,070 - pytimeloop.accelergy_interface - Running Accelergy with command: accelergy /home/workspace/output_dir/parsed-processed-input.yaml -o ./output_dir/ -v\n"
     ]
    },
    {
     "name": "stderr",
     "output_type": "stream",
     "text": [
      "INFO:pytimeloop.accelergy_interface:Running Accelergy with command: accelergy /home/workspace/output_dir/parsed-processed-input.yaml -o ./output_dir/ -v\n"
     ]
    },
    {
     "name": "stdout",
     "output_type": "stream",
     "text": [
      "57.57 490000\n",
      "['R', 'S', 'Q', 'C', 'M', 'P', 'N'] has a fitness of 3.544930218048658e-08\n",
      "2/20 candidate\n",
      "[INFO] 2025-05-02 07:40:32,624 - pytimeloop.accelergy_interface - Running Accelergy with command: accelergy /home/workspace/output_dir/parsed-processed-input.yaml -o ./output_dir/ -v\n"
     ]
    },
    {
     "name": "stderr",
     "output_type": "stream",
     "text": [
      "INFO:pytimeloop.accelergy_interface:Running Accelergy with command: accelergy /home/workspace/output_dir/parsed-processed-input.yaml -o ./output_dir/ -v\n"
     ]
    },
    {
     "name": "stdout",
     "output_type": "stream",
     "text": [
      "68.56 245000\n",
      "['P', 'S', 'Q', 'R', 'M', 'C', 'N'] has a fitness of 5.953373181244493e-08\n",
      "3/20 candidate\n",
      "[INFO] 2025-05-02 07:41:26,664 - pytimeloop.accelergy_interface - Running Accelergy with command: accelergy /home/workspace/output_dir/parsed-processed-input.yaml -o ./output_dir/ -v\n"
     ]
    },
    {
     "name": "stderr",
     "output_type": "stream",
     "text": [
      "INFO:pytimeloop.accelergy_interface:Running Accelergy with command: accelergy /home/workspace/output_dir/parsed-processed-input.yaml -o ./output_dir/ -v\n"
     ]
    },
    {
     "name": "stdout",
     "output_type": "stream",
     "text": [
      "68.56 245000\n",
      "['P', 'S', 'Q', 'N', 'M', 'R', 'C'] has a fitness of 5.953373181244493e-08\n",
      "4/20 candidate\n",
      "[INFO] 2025-05-02 07:42:20,799 - pytimeloop.accelergy_interface - Running Accelergy with command: accelergy /home/workspace/output_dir/parsed-processed-input.yaml -o ./output_dir/ -v\n"
     ]
    },
    {
     "name": "stderr",
     "output_type": "stream",
     "text": [
      "INFO:pytimeloop.accelergy_interface:Running Accelergy with command: accelergy /home/workspace/output_dir/parsed-processed-input.yaml -o ./output_dir/ -v\n"
     ]
    },
    {
     "name": "stdout",
     "output_type": "stream",
     "text": [
      "57.57 490000\n",
      "['C', 'S', 'Q', 'P', 'M', 'R', 'N'] has a fitness of 3.544930218048658e-08\n",
      "5/20 candidate\n",
      "[INFO] 2025-05-02 07:43:22,613 - pytimeloop.accelergy_interface - Running Accelergy with command: accelergy /home/workspace/output_dir/parsed-processed-input.yaml -o ./output_dir/ -v\n"
     ]
    },
    {
     "name": "stderr",
     "output_type": "stream",
     "text": [
      "INFO:pytimeloop.accelergy_interface:Running Accelergy with command: accelergy /home/workspace/output_dir/parsed-processed-input.yaml -o ./output_dir/ -v\n"
     ]
    },
    {
     "name": "stdout",
     "output_type": "stream",
     "text": [
      "68.56 245000\n",
      "['P', 'R', 'S', 'C', 'Q', 'M', 'N'] has a fitness of 5.953373181244493e-08\n",
      "6/20 candidate\n",
      "[INFO] 2025-05-02 07:44:16,640 - pytimeloop.accelergy_interface - Running Accelergy with command: accelergy /home/workspace/output_dir/parsed-processed-input.yaml -o ./output_dir/ -v\n"
     ]
    },
    {
     "name": "stderr",
     "output_type": "stream",
     "text": [
      "INFO:pytimeloop.accelergy_interface:Running Accelergy with command: accelergy /home/workspace/output_dir/parsed-processed-input.yaml -o ./output_dir/ -v\n"
     ]
    },
    {
     "name": "stdout",
     "output_type": "stream",
     "text": [
      "57.57 490000\n",
      "['S', 'R', 'P', 'C', 'M', 'Q', 'N'] has a fitness of 3.544930218048658e-08\n",
      "7/20 candidate\n",
      "[INFO] 2025-05-02 07:45:17,172 - pytimeloop.accelergy_interface - Running Accelergy with command: accelergy /home/workspace/output_dir/parsed-processed-input.yaml -o ./output_dir/ -v\n"
     ]
    },
    {
     "name": "stderr",
     "output_type": "stream",
     "text": [
      "INFO:pytimeloop.accelergy_interface:Running Accelergy with command: accelergy /home/workspace/output_dir/parsed-processed-input.yaml -o ./output_dir/ -v\n"
     ]
    },
    {
     "name": "stdout",
     "output_type": "stream",
     "text": [
      "68.56 245000\n",
      "['Q', 'R', 'S', 'C', 'M', 'P', 'N'] has a fitness of 5.953373181244493e-08\n",
      "8/20 candidate\n",
      "already visited PSRCMQN\n",
      "9/20 candidate\n",
      "[INFO] 2025-05-02 07:46:00,865 - pytimeloop.accelergy_interface - Running Accelergy with command: accelergy /home/workspace/output_dir/parsed-processed-input.yaml -o ./output_dir/ -v\n"
     ]
    },
    {
     "name": "stderr",
     "output_type": "stream",
     "text": [
      "INFO:pytimeloop.accelergy_interface:Running Accelergy with command: accelergy /home/workspace/output_dir/parsed-processed-input.yaml -o ./output_dir/ -v\n"
     ]
    },
    {
     "name": "stdout",
     "output_type": "stream",
     "text": [
      "55.09 245000\n",
      "['N', 'R', 'C', 'S', 'Q', 'M', 'P'] has a fitness of 7.40902641688369e-08\n",
      "10/20 candidate\n",
      "[INFO] 2025-05-02 07:47:00,857 - pytimeloop.accelergy_interface - Running Accelergy with command: accelergy /home/workspace/output_dir/parsed-processed-input.yaml -o ./output_dir/ -v\n"
     ]
    },
    {
     "name": "stderr",
     "output_type": "stream",
     "text": [
      "INFO:pytimeloop.accelergy_interface:Running Accelergy with command: accelergy /home/workspace/output_dir/parsed-processed-input.yaml -o ./output_dir/ -v\n"
     ]
    },
    {
     "name": "stdout",
     "output_type": "stream",
     "text": [
      "55.09 245000\n",
      "['N', 'P', 'Q', 'S', 'C', 'M', 'R'] has a fitness of 7.40902641688369e-08\n",
      "11/20 candidate\n",
      "[INFO] 2025-05-02 07:48:00,367 - pytimeloop.accelergy_interface - Running Accelergy with command: accelergy /home/workspace/output_dir/parsed-processed-input.yaml -o ./output_dir/ -v\n"
     ]
    },
    {
     "name": "stderr",
     "output_type": "stream",
     "text": [
      "INFO:pytimeloop.accelergy_interface:Running Accelergy with command: accelergy /home/workspace/output_dir/parsed-processed-input.yaml -o ./output_dir/ -v\n"
     ]
    },
    {
     "name": "stdout",
     "output_type": "stream",
     "text": [
      "57.57 490000\n",
      "['S', 'P', 'C', 'N', 'Q', 'M', 'R'] has a fitness of 3.544930218048658e-08\n",
      "12/20 candidate\n",
      "[INFO] 2025-05-02 07:49:03,297 - pytimeloop.accelergy_interface - Running Accelergy with command: accelergy /home/workspace/output_dir/parsed-processed-input.yaml -o ./output_dir/ -v\n"
     ]
    },
    {
     "name": "stderr",
     "output_type": "stream",
     "text": [
      "INFO:pytimeloop.accelergy_interface:Running Accelergy with command: accelergy /home/workspace/output_dir/parsed-processed-input.yaml -o ./output_dir/ -v\n"
     ]
    },
    {
     "name": "stdout",
     "output_type": "stream",
     "text": [
      "55.09 245000\n",
      "['N', 'P', 'R', 'S', 'Q', 'M', 'C'] has a fitness of 7.40902641688369e-08\n",
      "13/20 candidate\n",
      "[INFO] 2025-05-02 07:50:03,857 - pytimeloop.accelergy_interface - Running Accelergy with command: accelergy /home/workspace/output_dir/parsed-processed-input.yaml -o ./output_dir/ -v\n"
     ]
    },
    {
     "name": "stderr",
     "output_type": "stream",
     "text": [
      "INFO:pytimeloop.accelergy_interface:Running Accelergy with command: accelergy /home/workspace/output_dir/parsed-processed-input.yaml -o ./output_dir/ -v\n"
     ]
    },
    {
     "name": "stdout",
     "output_type": "stream",
     "text": [
      "68.56 245000\n",
      "['Q', 'N', 'C', 'R', 'P', 'M', 'S'] has a fitness of 5.953373181244493e-08\n",
      "14/20 candidate\n",
      "[INFO] 2025-05-02 07:50:47,319 - pytimeloop.accelergy_interface - Running Accelergy with command: accelergy /home/workspace/output_dir/parsed-processed-input.yaml -o ./output_dir/ -v\n"
     ]
    },
    {
     "name": "stderr",
     "output_type": "stream",
     "text": [
      "INFO:pytimeloop.accelergy_interface:Running Accelergy with command: accelergy /home/workspace/output_dir/parsed-processed-input.yaml -o ./output_dir/ -v\n"
     ]
    },
    {
     "name": "stdout",
     "output_type": "stream",
     "text": [
      "57.57 490000\n",
      "['R', 'Q', 'C', 'N', 'P', 'M', 'S'] has a fitness of 3.544930218048658e-08\n",
      "15/20 candidate\n",
      "already visited QNCRPMS\n",
      "16/20 candidate\n",
      "[INFO] 2025-05-02 07:51:48,285 - pytimeloop.accelergy_interface - Running Accelergy with command: accelergy /home/workspace/output_dir/parsed-processed-input.yaml -o ./output_dir/ -v\n"
     ]
    },
    {
     "name": "stderr",
     "output_type": "stream",
     "text": [
      "INFO:pytimeloop.accelergy_interface:Running Accelergy with command: accelergy /home/workspace/output_dir/parsed-processed-input.yaml -o ./output_dir/ -v\n"
     ]
    },
    {
     "name": "stdout",
     "output_type": "stream",
     "text": [
      "57.57 490000\n",
      "['R', 'N', 'C', 'Q', 'P', 'S', 'M'] has a fitness of 3.544930218048658e-08\n",
      "17/20 candidate\n",
      "already visited SCMQRNP\n",
      "18/20 candidate\n",
      "[INFO] 2025-05-02 07:52:50,707 - pytimeloop.accelergy_interface - Running Accelergy with command: accelergy /home/workspace/output_dir/parsed-processed-input.yaml -o ./output_dir/ -v\n"
     ]
    },
    {
     "name": "stderr",
     "output_type": "stream",
     "text": [
      "INFO:pytimeloop.accelergy_interface:Running Accelergy with command: accelergy /home/workspace/output_dir/parsed-processed-input.yaml -o ./output_dir/ -v\n"
     ]
    },
    {
     "name": "stdout",
     "output_type": "stream",
     "text": [
      "57.57 490000\n",
      "['C', 'S', 'M', 'Q', 'P', 'N', 'R'] has a fitness of 3.544930218048658e-08\n",
      "19/20 candidate\n",
      "[INFO] 2025-05-02 07:53:51,413 - pytimeloop.accelergy_interface - Running Accelergy with command: accelergy /home/workspace/output_dir/parsed-processed-input.yaml -o ./output_dir/ -v\n"
     ]
    },
    {
     "name": "stderr",
     "output_type": "stream",
     "text": [
      "INFO:pytimeloop.accelergy_interface:Running Accelergy with command: accelergy /home/workspace/output_dir/parsed-processed-input.yaml -o ./output_dir/ -v\n"
     ]
    },
    {
     "name": "stdout",
     "output_type": "stream",
     "text": [
      "68.56 245000\n",
      "['P', 'S', 'M', 'Q', 'R', 'N', 'C'] has a fitness of 5.953373181244493e-08\n",
      "20/20 candidate\n",
      "[INFO] 2025-05-02 07:54:45,665 - pytimeloop.accelergy_interface - Running Accelergy with command: accelergy /home/workspace/output_dir/parsed-processed-input.yaml -o ./output_dir/ -v\n"
     ]
    },
    {
     "name": "stderr",
     "output_type": "stream",
     "text": [
      "INFO:pytimeloop.accelergy_interface:Running Accelergy with command: accelergy /home/workspace/output_dir/parsed-processed-input.yaml -o ./output_dir/ -v\n"
     ]
    },
    {
     "name": "stdout",
     "output_type": "stream",
     "text": [
      "57.57 490000\n",
      "['C', 'S', 'M', 'Q', 'R', 'P', 'N'] has a fitness of 3.544930218048658e-08\n",
      "crossover\n",
      "1/15 candidate in crossover\n",
      "[INFO] 2025-05-02 07:55:45,389 - pytimeloop.accelergy_interface - Running Accelergy with command: accelergy /home/workspace/output_dir/parsed-processed-input.yaml -o ./output_dir/ -v\n"
     ]
    },
    {
     "name": "stderr",
     "output_type": "stream",
     "text": [
      "INFO:pytimeloop.accelergy_interface:Running Accelergy with command: accelergy /home/workspace/output_dir/parsed-processed-input.yaml -o ./output_dir/ -v\n"
     ]
    },
    {
     "name": "stdout",
     "output_type": "stream",
     "text": [
      "68.56 245000\n",
      "['Q', 'N', 'C', 'R', 'S', 'M', 'P'] has a fitness of 5.953373181244493e-08\n",
      "2/15 candidate in crossover\n",
      "[INFO] 2025-05-02 07:56:28,779 - pytimeloop.accelergy_interface - Running Accelergy with command: accelergy /home/workspace/output_dir/parsed-processed-input.yaml -o ./output_dir/ -v\n"
     ]
    },
    {
     "name": "stderr",
     "output_type": "stream",
     "text": [
      "INFO:pytimeloop.accelergy_interface:Running Accelergy with command: accelergy /home/workspace/output_dir/parsed-processed-input.yaml -o ./output_dir/ -v\n"
     ]
    },
    {
     "name": "stdout",
     "output_type": "stream",
     "text": [
      "68.56 245000\n",
      "['P', 'R', 'S', 'Q', 'N', 'M', 'C'] has a fitness of 5.953373181244493e-08\n",
      "3/15 candidate in crossover\n",
      "already visited NPRSQMC\n",
      "4/15 candidate in crossover\n",
      "[INFO] 2025-05-02 07:57:23,611 - pytimeloop.accelergy_interface - Running Accelergy with command: accelergy /home/workspace/output_dir/parsed-processed-input.yaml -o ./output_dir/ -v\n"
     ]
    },
    {
     "name": "stderr",
     "output_type": "stream",
     "text": [
      "INFO:pytimeloop.accelergy_interface:Running Accelergy with command: accelergy /home/workspace/output_dir/parsed-processed-input.yaml -o ./output_dir/ -v\n"
     ]
    },
    {
     "name": "stdout",
     "output_type": "stream",
     "text": [
      "68.56 245000\n",
      "['Q', 'N', 'C', 'R', 'P', 'S', 'M'] has a fitness of 5.953373181244493e-08\n",
      "5/15 candidate in crossover\n",
      "[INFO] 2025-05-02 07:58:08,812 - pytimeloop.accelergy_interface - Running Accelergy with command: accelergy /home/workspace/output_dir/parsed-processed-input.yaml -o ./output_dir/ -v\n"
     ]
    },
    {
     "name": "stderr",
     "output_type": "stream",
     "text": [
      "INFO:pytimeloop.accelergy_interface:Running Accelergy with command: accelergy /home/workspace/output_dir/parsed-processed-input.yaml -o ./output_dir/ -v\n"
     ]
    },
    {
     "name": "stdout",
     "output_type": "stream",
     "text": [
      "68.56 245000\n",
      "['P', 'S', 'N', 'Q', 'C', 'M', 'R'] has a fitness of 5.953373181244493e-08\n",
      "6/15 candidate in crossover\n",
      "already visited QNCRPMS\n",
      "7/15 candidate in crossover\n",
      "already visited QRSCMPN\n",
      "8/15 candidate in crossover\n",
      "already visited PRSCQMN\n",
      "9/15 candidate in crossover\n",
      "already visited PSQNMRC\n",
      "10/15 candidate in crossover\n",
      "already visited NPRSQMC\n",
      "11/15 candidate in crossover\n",
      "already visited PSRCMQN\n",
      "12/15 candidate in crossover\n",
      "already visited QNCRPMS\n",
      "13/15 candidate in crossover\n",
      "already visited NRCSQMP\n",
      "14/15 candidate in crossover\n",
      "already visited PSQRMCN\n",
      "15/15 candidate in crossover\n",
      "already visited NPQSCMR\n",
      "\n",
      "ITERATION:  2\n",
      "selection\n",
      "1/20 candidate\n",
      "[INFO] 2025-05-02 07:59:02,679 - pytimeloop.accelergy_interface - Running Accelergy with command: accelergy /home/workspace/output_dir/parsed-processed-input.yaml -o ./output_dir/ -v\n"
     ]
    },
    {
     "name": "stderr",
     "output_type": "stream",
     "text": [
      "INFO:pytimeloop.accelergy_interface:Running Accelergy with command: accelergy /home/workspace/output_dir/parsed-processed-input.yaml -o ./output_dir/ -v\n"
     ]
    },
    {
     "name": "stdout",
     "output_type": "stream",
     "text": [
      "68.56 245000\n",
      "['P', 'S', 'Q', 'M', 'C', 'R', 'N'] has a fitness of 5.953373181244493e-08\n",
      "2/20 candidate\n",
      "[INFO] 2025-05-02 07:59:58,210 - pytimeloop.accelergy_interface - Running Accelergy with command: accelergy /home/workspace/output_dir/parsed-processed-input.yaml -o ./output_dir/ -v\n"
     ]
    },
    {
     "name": "stderr",
     "output_type": "stream",
     "text": [
      "INFO:pytimeloop.accelergy_interface:Running Accelergy with command: accelergy /home/workspace/output_dir/parsed-processed-input.yaml -o ./output_dir/ -v\n"
     ]
    },
    {
     "name": "stdout",
     "output_type": "stream",
     "text": [
      "68.56 245000\n",
      "['P', 'S', 'M', 'C', 'Q', 'R', 'N'] has a fitness of 5.953373181244493e-08\n",
      "3/20 candidate\n",
      "[INFO] 2025-05-02 08:00:54,619 - pytimeloop.accelergy_interface - Running Accelergy with command: accelergy /home/workspace/output_dir/parsed-processed-input.yaml -o ./output_dir/ -v\n"
     ]
    },
    {
     "name": "stderr",
     "output_type": "stream",
     "text": [
      "INFO:pytimeloop.accelergy_interface:Running Accelergy with command: accelergy /home/workspace/output_dir/parsed-processed-input.yaml -o ./output_dir/ -v\n"
     ]
    },
    {
     "name": "stdout",
     "output_type": "stream",
     "text": [
      "68.56 245000\n",
      "['P', 'N', 'Q', 'C', 'M', 'R', 'S'] has a fitness of 5.953373181244493e-08\n",
      "4/20 candidate\n",
      "already visited PSQNMRC\n",
      "5/20 candidate\n",
      "already visited PNSCMQR\n",
      "6/20 candidate\n",
      "already visited PSRCMQN\n",
      "7/20 candidate\n",
      "[INFO] 2025-05-02 08:01:49,201 - pytimeloop.accelergy_interface - Running Accelergy with command: accelergy /home/workspace/output_dir/parsed-processed-input.yaml -o ./output_dir/ -v\n"
     ]
    },
    {
     "name": "stderr",
     "output_type": "stream",
     "text": [
      "INFO:pytimeloop.accelergy_interface:Running Accelergy with command: accelergy /home/workspace/output_dir/parsed-processed-input.yaml -o ./output_dir/ -v\n"
     ]
    },
    {
     "name": "stdout",
     "output_type": "stream",
     "text": [
      "68.56 245000\n",
      "['P', 'R', 'S', 'C', 'M', 'N', 'Q'] has a fitness of 5.953373181244493e-08\n",
      "8/20 candidate\n",
      "already visited PRSCQMN\n",
      "9/20 candidate\n",
      "already visited NPRSQMC\n",
      "10/20 candidate\n",
      "[INFO] 2025-05-02 08:02:44,247 - pytimeloop.accelergy_interface - Running Accelergy with command: accelergy /home/workspace/output_dir/parsed-processed-input.yaml -o ./output_dir/ -v\n"
     ]
    },
    {
     "name": "stderr",
     "output_type": "stream",
     "text": [
      "INFO:pytimeloop.accelergy_interface:Running Accelergy with command: accelergy /home/workspace/output_dir/parsed-processed-input.yaml -o ./output_dir/ -v\n"
     ]
    },
    {
     "name": "stdout",
     "output_type": "stream",
     "text": [
      "57.57 490000\n",
      "['C', 'P', 'N', 'S', 'Q', 'M', 'R'] has a fitness of 3.544930218048658e-08\n",
      "11/20 candidate\n",
      "[INFO] 2025-05-02 08:03:44,832 - pytimeloop.accelergy_interface - Running Accelergy with command: accelergy /home/workspace/output_dir/parsed-processed-input.yaml -o ./output_dir/ -v\n"
     ]
    },
    {
     "name": "stderr",
     "output_type": "stream",
     "text": [
      "INFO:pytimeloop.accelergy_interface:Running Accelergy with command: accelergy /home/workspace/output_dir/parsed-processed-input.yaml -o ./output_dir/ -v\n"
     ]
    },
    {
     "name": "stdout",
     "output_type": "stream",
     "text": [
      "68.56 245000\n",
      "['Q', 'P', 'C', 'S', 'N', 'M', 'R'] has a fitness of 5.953373181244493e-08\n",
      "12/20 candidate\n",
      "[INFO] 2025-05-02 08:04:29,293 - pytimeloop.accelergy_interface - Running Accelergy with command: accelergy /home/workspace/output_dir/parsed-processed-input.yaml -o ./output_dir/ -v\n"
     ]
    },
    {
     "name": "stderr",
     "output_type": "stream",
     "text": [
      "INFO:pytimeloop.accelergy_interface:Running Accelergy with command: accelergy /home/workspace/output_dir/parsed-processed-input.yaml -o ./output_dir/ -v\n"
     ]
    },
    {
     "name": "stdout",
     "output_type": "stream",
     "text": [
      "68.56 245000\n",
      "['P', 'N', 'C', 'S', 'Q', 'M', 'R'] has a fitness of 5.953373181244493e-08\n",
      "13/20 candidate\n",
      "[INFO] 2025-05-02 08:05:25,802 - pytimeloop.accelergy_interface - Running Accelergy with command: accelergy /home/workspace/output_dir/parsed-processed-input.yaml -o ./output_dir/ -v\n"
     ]
    },
    {
     "name": "stderr",
     "output_type": "stream",
     "text": [
      "INFO:pytimeloop.accelergy_interface:Running Accelergy with command: accelergy /home/workspace/output_dir/parsed-processed-input.yaml -o ./output_dir/ -v\n"
     ]
    },
    {
     "name": "stdout",
     "output_type": "stream",
     "text": [
      "57.57 490000\n",
      "['R', 'N', 'C', 'Q', 'M', 'P', 'S'] has a fitness of 3.544930218048658e-08\n",
      "14/20 candidate\n",
      "already visited RNQCPMS\n",
      "15/20 candidate\n",
      "[INFO] 2025-05-02 08:06:27,010 - pytimeloop.accelergy_interface - Running Accelergy with command: accelergy /home/workspace/output_dir/parsed-processed-input.yaml -o ./output_dir/ -v\n"
     ]
    },
    {
     "name": "stderr",
     "output_type": "stream",
     "text": [
      "INFO:pytimeloop.accelergy_interface:Running Accelergy with command: accelergy /home/workspace/output_dir/parsed-processed-input.yaml -o ./output_dir/ -v\n"
     ]
    },
    {
     "name": "stdout",
     "output_type": "stream",
     "text": [
      "57.57 490000\n",
      "['C', 'N', 'R', 'Q', 'P', 'M', 'S'] has a fitness of 3.544930218048658e-08\n",
      "16/20 candidate\n",
      "already visited QNCRPMS\n",
      "17/20 candidate\n",
      "[INFO] 2025-05-02 08:07:27,616 - pytimeloop.accelergy_interface - Running Accelergy with command: accelergy /home/workspace/output_dir/parsed-processed-input.yaml -o ./output_dir/ -v\n"
     ]
    },
    {
     "name": "stderr",
     "output_type": "stream",
     "text": [
      "INFO:pytimeloop.accelergy_interface:Running Accelergy with command: accelergy /home/workspace/output_dir/parsed-processed-input.yaml -o ./output_dir/ -v\n"
     ]
    },
    {
     "name": "stdout",
     "output_type": "stream",
     "text": [
      "57.57 490000\n",
      "['C', 'Q', 'M', 'S', 'R', 'N', 'P'] has a fitness of 3.544930218048658e-08\n",
      "18/20 candidate\n",
      "already visited MSCQRNP\n",
      "19/20 candidate\n",
      "already visited PSMQRNC\n",
      "20/20 candidate\n",
      "[INFO] 2025-05-02 08:08:28,809 - pytimeloop.accelergy_interface - Running Accelergy with command: accelergy /home/workspace/output_dir/parsed-processed-input.yaml -o ./output_dir/ -v\n"
     ]
    },
    {
     "name": "stderr",
     "output_type": "stream",
     "text": [
      "INFO:pytimeloop.accelergy_interface:Running Accelergy with command: accelergy /home/workspace/output_dir/parsed-processed-input.yaml -o ./output_dir/ -v\n"
     ]
    },
    {
     "name": "stdout",
     "output_type": "stream",
     "text": [
      "57.57 490000\n",
      "['C', 'S', 'M', 'Q', 'N', 'R', 'P'] has a fitness of 3.544930218048658e-08\n",
      "crossover\n",
      "1/15 candidate in crossover\n",
      "already visited PRSCMNQ\n",
      "2/15 candidate in crossover\n",
      "already visited PSQNMRC\n",
      "3/15 candidate in crossover\n",
      "already visited PRSCMQN\n",
      "4/15 candidate in crossover\n",
      "[INFO] 2025-05-02 08:09:30,487 - pytimeloop.accelergy_interface - Running Accelergy with command: accelergy /home/workspace/output_dir/parsed-processed-input.yaml -o ./output_dir/ -v\n"
     ]
    },
    {
     "name": "stderr",
     "output_type": "stream",
     "text": [
      "INFO:pytimeloop.accelergy_interface:Running Accelergy with command: accelergy /home/workspace/output_dir/parsed-processed-input.yaml -o ./output_dir/ -v\n"
     ]
    },
    {
     "name": "stdout",
     "output_type": "stream",
     "text": [
      "68.56 245000\n",
      "['Q', 'P', 'N', 'C', 'M', 'R', 'S'] has a fitness of 5.953373181244493e-08\n",
      "5/15 candidate in crossover\n",
      "[INFO] 2025-05-02 08:10:15,174 - pytimeloop.accelergy_interface - Running Accelergy with command: accelergy /home/workspace/output_dir/parsed-processed-input.yaml -o ./output_dir/ -v\n"
     ]
    },
    {
     "name": "stderr",
     "output_type": "stream",
     "text": [
      "INFO:pytimeloop.accelergy_interface:Running Accelergy with command: accelergy /home/workspace/output_dir/parsed-processed-input.yaml -o ./output_dir/ -v\n"
     ]
    },
    {
     "name": "stdout",
     "output_type": "stream",
     "text": [
      "68.56 245000\n",
      "['P', 'S', 'N', 'R', 'Q', 'M', 'C'] has a fitness of 5.953373181244493e-08\n",
      "6/15 candidate in crossover\n",
      "already visited PSQMCRN\n",
      "7/15 candidate in crossover\n",
      "already visited PRSCMNQ\n",
      "8/15 candidate in crossover\n",
      "already visited PNSCMQR\n",
      "9/15 candidate in crossover\n",
      "already visited PSQNMRC\n",
      "10/15 candidate in crossover\n",
      "already visited PRSCQMN\n",
      "11/15 candidate in crossover\n",
      "already visited PSRCMQN\n",
      "12/15 candidate in crossover\n",
      "already visited QPCSNMR\n",
      "13/15 candidate in crossover\n",
      "already visited PNQCMRS\n",
      "14/15 candidate in crossover\n",
      "already visited PSMCQRN\n",
      "15/15 candidate in crossover\n",
      "already visited NPRSQMC\n",
      "\n",
      "ITERATION:  3\n",
      "selection\n",
      "1/20 candidate\n",
      "already visited PSQMCRN\n",
      "2/20 candidate\n",
      "already visited CSQPMRN\n",
      "3/20 candidate\n",
      "already visited QSPCMRN\n",
      "4/20 candidate\n",
      "already visited PSQNMRC\n",
      "5/20 candidate\n",
      "already visited PRMCSQN\n",
      "6/20 candidate\n",
      "[INFO] 2025-05-02 08:11:10,325 - pytimeloop.accelergy_interface - Running Accelergy with command: accelergy /home/workspace/output_dir/parsed-processed-input.yaml -o ./output_dir/ -v\n"
     ]
    },
    {
     "name": "stderr",
     "output_type": "stream",
     "text": [
      "INFO:pytimeloop.accelergy_interface:Running Accelergy with command: accelergy /home/workspace/output_dir/parsed-processed-input.yaml -o ./output_dir/ -v\n"
     ]
    },
    {
     "name": "stdout",
     "output_type": "stream",
     "text": [
      "68.56 245000\n",
      "['P', 'R', 'S', 'N', 'M', 'Q', 'C'] has a fitness of 5.953373181244493e-08\n",
      "7/20 candidate\n",
      "[INFO] 2025-05-02 08:12:04,493 - pytimeloop.accelergy_interface - Running Accelergy with command: accelergy /home/workspace/output_dir/parsed-processed-input.yaml -o ./output_dir/ -v\n"
     ]
    },
    {
     "name": "stderr",
     "output_type": "stream",
     "text": [
      "INFO:pytimeloop.accelergy_interface:Running Accelergy with command: accelergy /home/workspace/output_dir/parsed-processed-input.yaml -o ./output_dir/ -v\n"
     ]
    },
    {
     "name": "stdout",
     "output_type": "stream",
     "text": [
      "68.56 245000\n",
      "['P', 'R', 'S', 'Q', 'M', 'C', 'N'] has a fitness of 5.953373181244493e-08\n",
      "8/20 candidate\n",
      "already visited PRSCMNQ\n",
      "9/20 candidate\n",
      "[INFO] 2025-05-02 08:13:00,187 - pytimeloop.accelergy_interface - Running Accelergy with command: accelergy /home/workspace/output_dir/parsed-processed-input.yaml -o ./output_dir/ -v\n"
     ]
    },
    {
     "name": "stderr",
     "output_type": "stream",
     "text": [
      "INFO:pytimeloop.accelergy_interface:Running Accelergy with command: accelergy /home/workspace/output_dir/parsed-processed-input.yaml -o ./output_dir/ -v\n"
     ]
    },
    {
     "name": "stdout",
     "output_type": "stream",
     "text": [
      "55.09 245000\n",
      "['N', 'P', 'M', 'S', 'Q', 'C', 'R'] has a fitness of 7.40902641688369e-08\n",
      "10/20 candidate\n",
      "[INFO] 2025-05-02 08:14:01,674 - pytimeloop.accelergy_interface - Running Accelergy with command: accelergy /home/workspace/output_dir/parsed-processed-input.yaml -o ./output_dir/ -v\n"
     ]
    },
    {
     "name": "stderr",
     "output_type": "stream",
     "text": [
      "INFO:pytimeloop.accelergy_interface:Running Accelergy with command: accelergy /home/workspace/output_dir/parsed-processed-input.yaml -o ./output_dir/ -v\n"
     ]
    },
    {
     "name": "stdout",
     "output_type": "stream",
     "text": [
      "55.09 245000\n",
      "['N', 'P', 'C', 'S', 'R', 'M', 'Q'] has a fitness of 7.40902641688369e-08\n",
      "11/20 candidate\n",
      "already visited NQCSPMR\n",
      "12/20 candidate\n",
      "already visited NPRSQMC\n",
      "13/20 candidate\n",
      "already visited CNRQPMS\n",
      "14/20 candidate\n",
      "[INFO] 2025-05-02 08:15:03,111 - pytimeloop.accelergy_interface - Running Accelergy with command: accelergy /home/workspace/output_dir/parsed-processed-input.yaml -o ./output_dir/ -v\n"
     ]
    },
    {
     "name": "stderr",
     "output_type": "stream",
     "text": [
      "INFO:pytimeloop.accelergy_interface:Running Accelergy with command: accelergy /home/workspace/output_dir/parsed-processed-input.yaml -o ./output_dir/ -v\n"
     ]
    },
    {
     "name": "stdout",
     "output_type": "stream",
     "text": [
      "57.57 490000\n",
      "['R', 'N', 'C', 'Q', 'S', 'M', 'P'] has a fitness of 3.544930218048658e-08\n",
      "15/20 candidate\n",
      "[INFO] 2025-05-02 08:16:04,359 - pytimeloop.accelergy_interface - Running Accelergy with command: accelergy /home/workspace/output_dir/parsed-processed-input.yaml -o ./output_dir/ -v\n"
     ]
    },
    {
     "name": "stderr",
     "output_type": "stream",
     "text": [
      "INFO:pytimeloop.accelergy_interface:Running Accelergy with command: accelergy /home/workspace/output_dir/parsed-processed-input.yaml -o ./output_dir/ -v\n"
     ]
    },
    {
     "name": "stdout",
     "output_type": "stream",
     "text": [
      "68.56 245000\n",
      "['P', 'N', 'C', 'Q', 'R', 'M', 'S'] has a fitness of 5.953373181244493e-08\n",
      "16/20 candidate\n",
      "already visited CNRQPMS\n",
      "17/20 candidate\n",
      "already visited QSMCRNP\n",
      "18/20 candidate\n",
      "[INFO] 2025-05-02 08:16:59,528 - pytimeloop.accelergy_interface - Running Accelergy with command: accelergy /home/workspace/output_dir/parsed-processed-input.yaml -o ./output_dir/ -v\n"
     ]
    },
    {
     "name": "stderr",
     "output_type": "stream",
     "text": [
      "INFO:pytimeloop.accelergy_interface:Running Accelergy with command: accelergy /home/workspace/output_dir/parsed-processed-input.yaml -o ./output_dir/ -v\n"
     ]
    },
    {
     "name": "stdout",
     "output_type": "stream",
     "text": [
      "57.57 490000\n",
      "['R', 'S', 'M', 'Q', 'C', 'N', 'P'] has a fitness of 3.544930218048658e-08\n",
      "19/20 candidate\n",
      "[INFO] 2025-05-02 08:18:01,428 - pytimeloop.accelergy_interface - Running Accelergy with command: accelergy /home/workspace/output_dir/parsed-processed-input.yaml -o ./output_dir/ -v\n"
     ]
    },
    {
     "name": "stderr",
     "output_type": "stream",
     "text": [
      "INFO:pytimeloop.accelergy_interface:Running Accelergy with command: accelergy /home/workspace/output_dir/parsed-processed-input.yaml -o ./output_dir/ -v\n"
     ]
    },
    {
     "name": "stdout",
     "output_type": "stream",
     "text": [
      "57.57 490000\n",
      "['C', 'M', 'S', 'Q', 'R', 'N', 'P'] has a fitness of 3.544930218048658e-08\n",
      "20/20 candidate\n",
      "[INFO] 2025-05-02 08:19:01,351 - pytimeloop.accelergy_interface - Running Accelergy with command: accelergy /home/workspace/output_dir/parsed-processed-input.yaml -o ./output_dir/ -v\n"
     ]
    },
    {
     "name": "stderr",
     "output_type": "stream",
     "text": [
      "INFO:pytimeloop.accelergy_interface:Running Accelergy with command: accelergy /home/workspace/output_dir/parsed-processed-input.yaml -o ./output_dir/ -v\n"
     ]
    },
    {
     "name": "stdout",
     "output_type": "stream",
     "text": [
      "57.57 490000\n",
      "['C', 'S', 'M', 'P', 'R', 'N', 'Q'] has a fitness of 3.544930218048658e-08\n",
      "crossover\n",
      "1/15 candidate in crossover\n",
      "already visited NPCSRMQ\n",
      "2/15 candidate in crossover\n",
      "already visited NPRSQMC\n",
      "3/15 candidate in crossover\n",
      "already visited PRMCSQN\n",
      "4/15 candidate in crossover\n",
      "already visited PSQNMRC\n",
      "5/15 candidate in crossover\n",
      "[INFO] 2025-05-02 08:20:03,735 - pytimeloop.accelergy_interface - Running Accelergy with command: accelergy /home/workspace/output_dir/parsed-processed-input.yaml -o ./output_dir/ -v\n"
     ]
    },
    {
     "name": "stderr",
     "output_type": "stream",
     "text": [
      "INFO:pytimeloop.accelergy_interface:Running Accelergy with command: accelergy /home/workspace/output_dir/parsed-processed-input.yaml -o ./output_dir/ -v\n"
     ]
    },
    {
     "name": "stdout",
     "output_type": "stream",
     "text": [
      "68.56 245000\n",
      "['Q', 'S', 'P', 'R', 'N', 'M', 'C'] has a fitness of 5.953373181244493e-08\n",
      "6/15 candidate in crossover\n",
      "already visited NPMSQCR\n",
      "7/15 candidate in crossover\n",
      "already visited NPCSRMQ\n",
      "8/15 candidate in crossover\n",
      "already visited NPRSQMC\n",
      "9/15 candidate in crossover\n",
      "already visited PRSQMCN\n",
      "10/15 candidate in crossover\n",
      "already visited PRMCSQN\n",
      "11/15 candidate in crossover\n",
      "already visited NQCSPMR\n",
      "12/15 candidate in crossover\n",
      "already visited PSQNMRC\n",
      "13/15 candidate in crossover\n",
      "already visited PSQMCRN\n",
      "14/15 candidate in crossover\n",
      "already visited QSPCMRN\n",
      "15/15 candidate in crossover\n",
      "already visited PRSNMQC\n",
      "\n",
      "ITERATION:  4\n",
      "selection\n",
      "1/20 candidate\n",
      "already visited QSPCMRN\n",
      "2/20 candidate\n",
      "already visited QSPCMRN\n",
      "3/20 candidate\n",
      "already visited PMQCSRN\n",
      "4/20 candidate\n",
      "[INFO] 2025-05-02 08:20:48,442 - pytimeloop.accelergy_interface - Running Accelergy with command: accelergy /home/workspace/output_dir/parsed-processed-input.yaml -o ./output_dir/ -v\n"
     ]
    },
    {
     "name": "stderr",
     "output_type": "stream",
     "text": [
      "INFO:pytimeloop.accelergy_interface:Running Accelergy with command: accelergy /home/workspace/output_dir/parsed-processed-input.yaml -o ./output_dir/ -v\n"
     ]
    },
    {
     "name": "stdout",
     "output_type": "stream",
     "text": [
      "68.56 245000\n",
      "['P', 'S', 'Q', 'C', 'M', 'N', 'R'] has a fitness of 5.953373181244493e-08\n",
      "5/20 candidate\n",
      "already visited PCSRMQN\n",
      "6/20 candidate\n",
      "[INFO] 2025-05-02 08:21:43,595 - pytimeloop.accelergy_interface - Running Accelergy with command: accelergy /home/workspace/output_dir/parsed-processed-input.yaml -o ./output_dir/ -v\n"
     ]
    },
    {
     "name": "stderr",
     "output_type": "stream",
     "text": [
      "INFO:pytimeloop.accelergy_interface:Running Accelergy with command: accelergy /home/workspace/output_dir/parsed-processed-input.yaml -o ./output_dir/ -v\n"
     ]
    },
    {
     "name": "stdout",
     "output_type": "stream",
     "text": [
      "71.06 245000\n",
      "['M', 'R', 'S', 'C', 'P', 'Q', 'N'] has a fitness of 5.743924364003975e-08\n",
      "7/20 candidate\n",
      "[INFO] 2025-05-02 08:22:46,117 - pytimeloop.accelergy_interface - Running Accelergy with command: accelergy /home/workspace/output_dir/parsed-processed-input.yaml -o ./output_dir/ -v\n"
     ]
    },
    {
     "name": "stderr",
     "output_type": "stream",
     "text": [
      "INFO:pytimeloop.accelergy_interface:Running Accelergy with command: accelergy /home/workspace/output_dir/parsed-processed-input.yaml -o ./output_dir/ -v\n"
     ]
    },
    {
     "name": "stdout",
     "output_type": "stream",
     "text": [
      "68.56 245000\n",
      "['P', 'M', 'S', 'C', 'R', 'Q', 'N'] has a fitness of 5.953373181244493e-08\n",
      "8/20 candidate\n",
      "already visited PSRCMQN\n",
      "9/20 candidate\n",
      "[INFO] 2025-05-02 08:23:40,383 - pytimeloop.accelergy_interface - Running Accelergy with command: accelergy /home/workspace/output_dir/parsed-processed-input.yaml -o ./output_dir/ -v\n"
     ]
    },
    {
     "name": "stderr",
     "output_type": "stream",
     "text": [
      "INFO:pytimeloop.accelergy_interface:Running Accelergy with command: accelergy /home/workspace/output_dir/parsed-processed-input.yaml -o ./output_dir/ -v\n"
     ]
    },
    {
     "name": "stdout",
     "output_type": "stream",
     "text": [
      "55.09 245000\n",
      "['N', 'P', 'C', 'S', 'Q', 'R', 'M'] has a fitness of 7.40902641688369e-08\n",
      "10/20 candidate\n",
      "already visited NQCSPMR\n",
      "11/20 candidate\n",
      "already visited PNCSQMR\n",
      "12/20 candidate\n",
      "[INFO] 2025-05-02 08:24:39,949 - pytimeloop.accelergy_interface - Running Accelergy with command: accelergy /home/workspace/output_dir/parsed-processed-input.yaml -o ./output_dir/ -v\n"
     ]
    },
    {
     "name": "stderr",
     "output_type": "stream",
     "text": [
      "INFO:pytimeloop.accelergy_interface:Running Accelergy with command: accelergy /home/workspace/output_dir/parsed-processed-input.yaml -o ./output_dir/ -v\n"
     ]
    },
    {
     "name": "stdout",
     "output_type": "stream",
     "text": [
      "71.06 245000\n",
      "['M', 'P', 'C', 'S', 'Q', 'N', 'R'] has a fitness of 5.743924364003975e-08\n",
      "13/20 candidate\n",
      "[INFO] 2025-05-02 08:25:42,137 - pytimeloop.accelergy_interface - Running Accelergy with command: accelergy /home/workspace/output_dir/parsed-processed-input.yaml -o ./output_dir/ -v\n"
     ]
    },
    {
     "name": "stderr",
     "output_type": "stream",
     "text": [
      "INFO:pytimeloop.accelergy_interface:Running Accelergy with command: accelergy /home/workspace/output_dir/parsed-processed-input.yaml -o ./output_dir/ -v\n"
     ]
    },
    {
     "name": "stdout",
     "output_type": "stream",
     "text": [
      "57.57 490000\n",
      "['R', 'M', 'C', 'Q', 'P', 'N', 'S'] has a fitness of 3.544930218048658e-08\n",
      "14/20 candidate\n",
      "[INFO] 2025-05-02 08:26:45,987 - pytimeloop.accelergy_interface - Running Accelergy with command: accelergy /home/workspace/output_dir/parsed-processed-input.yaml -o ./output_dir/ -v\n"
     ]
    },
    {
     "name": "stderr",
     "output_type": "stream",
     "text": [
      "INFO:pytimeloop.accelergy_interface:Running Accelergy with command: accelergy /home/workspace/output_dir/parsed-processed-input.yaml -o ./output_dir/ -v\n"
     ]
    },
    {
     "name": "stdout",
     "output_type": "stream",
     "text": [
      "57.57 490000\n",
      "['R', 'N', 'M', 'Q', 'P', 'C', 'S'] has a fitness of 3.544930218048658e-08\n",
      "15/20 candidate\n",
      "[INFO] 2025-05-02 08:27:49,427 - pytimeloop.accelergy_interface - Running Accelergy with command: accelergy /home/workspace/output_dir/parsed-processed-input.yaml -o ./output_dir/ -v\n"
     ]
    },
    {
     "name": "stderr",
     "output_type": "stream",
     "text": [
      "INFO:pytimeloop.accelergy_interface:Running Accelergy with command: accelergy /home/workspace/output_dir/parsed-processed-input.yaml -o ./output_dir/ -v\n"
     ]
    },
    {
     "name": "stdout",
     "output_type": "stream",
     "text": [
      "57.57 490000\n",
      "['R', 'N', 'S', 'Q', 'P', 'M', 'C'] has a fitness of 3.544930218048658e-08\n",
      "16/20 candidate\n",
      "already visited RNCPQMS\n",
      "17/20 candidate\n",
      "[INFO] 2025-05-02 08:28:51,812 - pytimeloop.accelergy_interface - Running Accelergy with command: accelergy /home/workspace/output_dir/parsed-processed-input.yaml -o ./output_dir/ -v\n"
     ]
    },
    {
     "name": "stderr",
     "output_type": "stream",
     "text": [
      "INFO:pytimeloop.accelergy_interface:Running Accelergy with command: accelergy /home/workspace/output_dir/parsed-processed-input.yaml -o ./output_dir/ -v\n"
     ]
    },
    {
     "name": "stdout",
     "output_type": "stream",
     "text": [
      "57.57 490000\n",
      "['C', 'P', 'M', 'Q', 'R', 'N', 'S'] has a fitness of 3.544930218048658e-08\n",
      "18/20 candidate\n",
      "already visited CSMQNRP\n",
      "19/20 candidate\n",
      "already visited CSMPRNQ\n",
      "20/20 candidate\n",
      "already visited CSMQRPN\n",
      "crossover\n",
      "1/15 candidate in crossover\n",
      "already visited PSQCMNR\n",
      "2/15 candidate in crossover\n",
      "[INFO] 2025-05-02 08:29:52,211 - pytimeloop.accelergy_interface - Running Accelergy with command: accelergy /home/workspace/output_dir/parsed-processed-input.yaml -o ./output_dir/ -v\n"
     ]
    },
    {
     "name": "stderr",
     "output_type": "stream",
     "text": [
      "INFO:pytimeloop.accelergy_interface:Running Accelergy with command: accelergy /home/workspace/output_dir/parsed-processed-input.yaml -o ./output_dir/ -v\n"
     ]
    },
    {
     "name": "stdout",
     "output_type": "stream",
     "text": [
      "55.09 245000\n",
      "['N', 'P', 'C', 'S', 'M', 'Q', 'R'] has a fitness of 7.40902641688369e-08\n",
      "3/15 candidate in crossover\n",
      "already visited PNCSQMR\n",
      "4/15 candidate in crossover\n",
      "already visited QSPCMRN\n",
      "5/15 candidate in crossover\n",
      "[INFO] 2025-05-02 08:30:51,865 - pytimeloop.accelergy_interface - Running Accelergy with command: accelergy /home/workspace/output_dir/parsed-processed-input.yaml -o ./output_dir/ -v\n"
     ]
    },
    {
     "name": "stderr",
     "output_type": "stream",
     "text": [
      "INFO:pytimeloop.accelergy_interface:Running Accelergy with command: accelergy /home/workspace/output_dir/parsed-processed-input.yaml -o ./output_dir/ -v\n"
     ]
    },
    {
     "name": "stdout",
     "output_type": "stream",
     "text": [
      "55.09 245000\n",
      "['N', 'Q', 'P', 'S', 'R', 'C', 'M'] has a fitness of 7.40902641688369e-08\n",
      "6/15 candidate in crossover\n",
      "already visited PMSCRQN\n",
      "7/15 candidate in crossover\n",
      "already visited PSQCMNR\n",
      "8/15 candidate in crossover\n",
      "already visited NPCSQRM\n",
      "9/15 candidate in crossover\n",
      "already visited PMQCSRN\n",
      "10/15 candidate in crossover\n",
      "already visited PNCSQMR\n",
      "11/15 candidate in crossover\n",
      "already visited QSPCMRN\n",
      "12/15 candidate in crossover\n",
      "already visited QSPCMRN\n",
      "13/15 candidate in crossover\n",
      "already visited PCSRMQN\n",
      "14/15 candidate in crossover\n",
      "already visited NQCSPMR\n",
      "15/15 candidate in crossover\n",
      "already visited PSRCMQN\n",
      "\n",
      "ITERATION:  5\n",
      "selection\n",
      "1/20 candidate\n",
      "already visited PCQSMRN\n",
      "2/20 candidate\n",
      "[INFO] 2025-05-02 08:31:51,620 - pytimeloop.accelergy_interface - Running Accelergy with command: accelergy /home/workspace/output_dir/parsed-processed-input.yaml -o ./output_dir/ -v\n"
     ]
    },
    {
     "name": "stderr",
     "output_type": "stream",
     "text": [
      "INFO:pytimeloop.accelergy_interface:Running Accelergy with command: accelergy /home/workspace/output_dir/parsed-processed-input.yaml -o ./output_dir/ -v\n"
     ]
    },
    {
     "name": "stdout",
     "output_type": "stream",
     "text": [
      "68.56 245000\n",
      "['P', 'S', 'N', 'C', 'M', 'R', 'Q'] has a fitness of 5.953373181244493e-08\n",
      "3/20 candidate\n",
      "already visited PSQRMCN\n",
      "4/20 candidate\n",
      "[INFO] 2025-05-02 08:32:45,438 - pytimeloop.accelergy_interface - Running Accelergy with command: accelergy /home/workspace/output_dir/parsed-processed-input.yaml -o ./output_dir/ -v\n"
     ]
    },
    {
     "name": "stderr",
     "output_type": "stream",
     "text": [
      "INFO:pytimeloop.accelergy_interface:Running Accelergy with command: accelergy /home/workspace/output_dir/parsed-processed-input.yaml -o ./output_dir/ -v\n"
     ]
    },
    {
     "name": "stdout",
     "output_type": "stream",
     "text": [
      "68.56 245000\n",
      "['P', 'S', 'Q', 'C', 'N', 'R', 'M'] has a fitness of 5.953373181244493e-08\n",
      "5/20 candidate\n",
      "[INFO] 2025-05-02 08:33:40,326 - pytimeloop.accelergy_interface - Running Accelergy with command: accelergy /home/workspace/output_dir/parsed-processed-input.yaml -o ./output_dir/ -v\n"
     ]
    },
    {
     "name": "stderr",
     "output_type": "stream",
     "text": [
      "INFO:pytimeloop.accelergy_interface:Running Accelergy with command: accelergy /home/workspace/output_dir/parsed-processed-input.yaml -o ./output_dir/ -v\n"
     ]
    },
    {
     "name": "stdout",
     "output_type": "stream",
     "text": [
      "68.56 245000\n",
      "['P', 'Q', 'S', 'C', 'M', 'R', 'N'] has a fitness of 5.953373181244493e-08\n",
      "6/20 candidate\n",
      "already visited PRSCQMN\n",
      "7/20 candidate\n",
      "already visited PRSCQMN\n",
      "8/20 candidate\n",
      "already visited PQSCMRN\n",
      "9/20 candidate\n",
      "already visited SPCNQMR\n",
      "10/20 candidate\n",
      "already visited RPCSQMN\n",
      "11/20 candidate\n",
      "already visited NRCSQMP\n",
      "12/20 candidate\n",
      "[INFO] 2025-05-02 08:34:34,687 - pytimeloop.accelergy_interface - Running Accelergy with command: accelergy /home/workspace/output_dir/parsed-processed-input.yaml -o ./output_dir/ -v\n"
     ]
    },
    {
     "name": "stderr",
     "output_type": "stream",
     "text": [
      "INFO:pytimeloop.accelergy_interface:Running Accelergy with command: accelergy /home/workspace/output_dir/parsed-processed-input.yaml -o ./output_dir/ -v\n"
     ]
    },
    {
     "name": "stdout",
     "output_type": "stream",
     "text": [
      "55.09 245000\n",
      "['N', 'M', 'C', 'S', 'Q', 'P', 'R'] has a fitness of 7.40902641688369e-08\n",
      "13/20 candidate\n",
      "[INFO] 2025-05-02 08:35:35,219 - pytimeloop.accelergy_interface - Running Accelergy with command: accelergy /home/workspace/output_dir/parsed-processed-input.yaml -o ./output_dir/ -v\n"
     ]
    },
    {
     "name": "stderr",
     "output_type": "stream",
     "text": [
      "INFO:pytimeloop.accelergy_interface:Running Accelergy with command: accelergy /home/workspace/output_dir/parsed-processed-input.yaml -o ./output_dir/ -v\n"
     ]
    },
    {
     "name": "stdout",
     "output_type": "stream",
     "text": [
      "57.57 490000\n",
      "['R', 'S', 'C', 'Q', 'P', 'M', 'N'] has a fitness of 3.544930218048658e-08\n",
      "14/20 candidate\n",
      "already visited RNMQPCS\n",
      "15/20 candidate\n",
      "[INFO] 2025-05-02 08:36:37,275 - pytimeloop.accelergy_interface - Running Accelergy with command: accelergy /home/workspace/output_dir/parsed-processed-input.yaml -o ./output_dir/ -v\n"
     ]
    },
    {
     "name": "stderr",
     "output_type": "stream",
     "text": [
      "INFO:pytimeloop.accelergy_interface:Running Accelergy with command: accelergy /home/workspace/output_dir/parsed-processed-input.yaml -o ./output_dir/ -v\n"
     ]
    },
    {
     "name": "stdout",
     "output_type": "stream",
     "text": [
      "57.57 490000\n",
      "['S', 'N', 'C', 'Q', 'P', 'M', 'R'] has a fitness of 3.544930218048658e-08\n",
      "16/20 candidate\n",
      "already visited SNCQPMR\n",
      "17/20 candidate\n",
      "already visited CMSQRNP\n",
      "18/20 candidate\n",
      "[INFO] 2025-05-02 08:37:38,555 - pytimeloop.accelergy_interface - Running Accelergy with command: accelergy /home/workspace/output_dir/parsed-processed-input.yaml -o ./output_dir/ -v\n"
     ]
    },
    {
     "name": "stderr",
     "output_type": "stream",
     "text": [
      "INFO:pytimeloop.accelergy_interface:Running Accelergy with command: accelergy /home/workspace/output_dir/parsed-processed-input.yaml -o ./output_dir/ -v\n"
     ]
    },
    {
     "name": "stdout",
     "output_type": "stream",
     "text": [
      "55.09 245000\n",
      "['N', 'S', 'M', 'Q', 'R', 'C', 'P'] has a fitness of 7.40902641688369e-08\n",
      "19/20 candidate\n",
      "already visited CSMQNRP\n",
      "20/20 candidate\n",
      "already visited NSMQRCP\n",
      "crossover\n",
      "1/15 candidate in crossover\n",
      "already visited NRCSQMP\n",
      "2/15 candidate in crossover\n",
      "[INFO] 2025-05-02 08:38:41,005 - pytimeloop.accelergy_interface - Running Accelergy with command: accelergy /home/workspace/output_dir/parsed-processed-input.yaml -o ./output_dir/ -v\n"
     ]
    },
    {
     "name": "stderr",
     "output_type": "stream",
     "text": [
      "INFO:pytimeloop.accelergy_interface:Running Accelergy with command: accelergy /home/workspace/output_dir/parsed-processed-input.yaml -o ./output_dir/ -v\n"
     ]
    },
    {
     "name": "stdout",
     "output_type": "stream",
     "text": [
      "68.56 245000\n",
      "['P', 'R', 'S', 'N', 'C', 'M', 'Q'] has a fitness of 5.953373181244493e-08\n",
      "3/15 candidate in crossover\n",
      "[INFO] 2025-05-02 08:39:35,335 - pytimeloop.accelergy_interface - Running Accelergy with command: accelergy /home/workspace/output_dir/parsed-processed-input.yaml -o ./output_dir/ -v\n"
     ]
    },
    {
     "name": "stderr",
     "output_type": "stream",
     "text": [
      "INFO:pytimeloop.accelergy_interface:Running Accelergy with command: accelergy /home/workspace/output_dir/parsed-processed-input.yaml -o ./output_dir/ -v\n"
     ]
    },
    {
     "name": "stdout",
     "output_type": "stream",
     "text": [
      "68.56 245000\n",
      "['P', 'C', 'S', 'Q', 'R', 'M', 'N'] has a fitness of 5.953373181244493e-08\n",
      "4/15 candidate in crossover\n",
      "already visited NSMQRCP\n",
      "5/15 candidate in crossover\n",
      "already visited PSQCMRN\n",
      "6/15 candidate in crossover\n",
      "already visited NMCSQPR\n",
      "7/15 candidate in crossover\n",
      "already visited NRCSQMP\n",
      "8/15 candidate in crossover\n",
      "already visited PRSCQMN\n",
      "9/15 candidate in crossover\n",
      "already visited PSNCMRQ\n",
      "10/15 candidate in crossover\n",
      "already visited PCQSMRN\n",
      "11/15 candidate in crossover\n",
      "already visited PSQRMCN\n",
      "12/15 candidate in crossover\n",
      "already visited NSMQRCP\n",
      "13/15 candidate in crossover\n",
      "already visited NSMQRCP\n",
      "14/15 candidate in crossover\n",
      "already visited PSQCNRM\n",
      "15/15 candidate in crossover\n",
      "already visited PQSCMRN\n",
      "\n",
      "ITERATION:  6\n",
      "selection\n",
      "1/20 candidate\n",
      "[INFO] 2025-05-02 08:40:29,505 - pytimeloop.accelergy_interface - Running Accelergy with command: accelergy /home/workspace/output_dir/parsed-processed-input.yaml -o ./output_dir/ -v\n"
     ]
    },
    {
     "name": "stderr",
     "output_type": "stream",
     "text": [
      "INFO:pytimeloop.accelergy_interface:Running Accelergy with command: accelergy /home/workspace/output_dir/parsed-processed-input.yaml -o ./output_dir/ -v\n"
     ]
    },
    {
     "name": "stdout",
     "output_type": "stream",
     "text": [
      "68.56 245000\n",
      "['P', 'R', 'Q', 'C', 'M', 'S', 'N'] has a fitness of 5.953373181244493e-08\n",
      "2/20 candidate\n",
      "[INFO] 2025-05-02 08:41:23,328 - pytimeloop.accelergy_interface - Running Accelergy with command: accelergy /home/workspace/output_dir/parsed-processed-input.yaml -o ./output_dir/ -v\n"
     ]
    },
    {
     "name": "stderr",
     "output_type": "stream",
     "text": [
      "INFO:pytimeloop.accelergy_interface:Running Accelergy with command: accelergy /home/workspace/output_dir/parsed-processed-input.yaml -o ./output_dir/ -v\n"
     ]
    },
    {
     "name": "stdout",
     "output_type": "stream",
     "text": [
      "57.57 490000\n",
      "['S', 'P', 'Q', 'C', 'M', 'R', 'N'] has a fitness of 3.544930218048658e-08\n",
      "3/20 candidate\n",
      "already visited SPQCMRN\n",
      "4/20 candidate\n",
      "[INFO] 2025-05-02 08:42:24,560 - pytimeloop.accelergy_interface - Running Accelergy with command: accelergy /home/workspace/output_dir/parsed-processed-input.yaml -o ./output_dir/ -v\n"
     ]
    },
    {
     "name": "stderr",
     "output_type": "stream",
     "text": [
      "INFO:pytimeloop.accelergy_interface:Running Accelergy with command: accelergy /home/workspace/output_dir/parsed-processed-input.yaml -o ./output_dir/ -v\n"
     ]
    },
    {
     "name": "stdout",
     "output_type": "stream",
     "text": [
      "55.09 245000\n",
      "['N', 'S', 'Q', 'C', 'M', 'R', 'P'] has a fitness of 7.40902641688369e-08\n",
      "5/20 candidate\n",
      "already visited PCSRMQN\n",
      "6/20 candidate\n",
      "already visited PRSCMNQ\n",
      "7/20 candidate\n",
      "already visited PQSCMRN\n",
      "8/20 candidate\n",
      "already visited PQSCMRN\n",
      "9/20 candidate\n",
      "already visited RPCSQMN\n",
      "10/20 candidate\n",
      "already visited SPCNQMR\n",
      "11/20 candidate\n",
      "already visited NPCSQRM\n",
      "12/20 candidate\n",
      "[INFO] 2025-05-02 08:43:27,064 - pytimeloop.accelergy_interface - Running Accelergy with command: accelergy /home/workspace/output_dir/parsed-processed-input.yaml -o ./output_dir/ -v\n"
     ]
    },
    {
     "name": "stderr",
     "output_type": "stream",
     "text": [
      "INFO:pytimeloop.accelergy_interface:Running Accelergy with command: accelergy /home/workspace/output_dir/parsed-processed-input.yaml -o ./output_dir/ -v\n"
     ]
    },
    {
     "name": "stdout",
     "output_type": "stream",
     "text": [
      "55.09 245000\n",
      "['N', 'P', 'C', 'M', 'Q', 'S', 'R'] has a fitness of 7.40902641688369e-08\n",
      "13/20 candidate\n",
      "already visited RNCQSMP\n",
      "14/20 candidate\n",
      "already visited RNCQSMP\n",
      "15/20 candidate\n",
      "already visited PNCQRMS\n",
      "16/20 candidate\n",
      "[INFO] 2025-05-02 08:44:28,991 - pytimeloop.accelergy_interface - Running Accelergy with command: accelergy /home/workspace/output_dir/parsed-processed-input.yaml -o ./output_dir/ -v\n"
     ]
    },
    {
     "name": "stderr",
     "output_type": "stream",
     "text": [
      "INFO:pytimeloop.accelergy_interface:Running Accelergy with command: accelergy /home/workspace/output_dir/parsed-processed-input.yaml -o ./output_dir/ -v\n"
     ]
    },
    {
     "name": "stdout",
     "output_type": "stream",
     "text": [
      "57.57 490000\n",
      "['R', 'C', 'N', 'Q', 'P', 'M', 'S'] has a fitness of 3.544930218048658e-08\n",
      "17/20 candidate\n",
      "already visited CQMSRNP\n",
      "18/20 candidate\n",
      "already visited CSMQRPN\n",
      "19/20 candidate\n",
      "[INFO] 2025-05-02 08:45:30,143 - pytimeloop.accelergy_interface - Running Accelergy with command: accelergy /home/workspace/output_dir/parsed-processed-input.yaml -o ./output_dir/ -v\n"
     ]
    },
    {
     "name": "stderr",
     "output_type": "stream",
     "text": [
      "INFO:pytimeloop.accelergy_interface:Running Accelergy with command: accelergy /home/workspace/output_dir/parsed-processed-input.yaml -o ./output_dir/ -v\n"
     ]
    },
    {
     "name": "stdout",
     "output_type": "stream",
     "text": [
      "57.57 490000\n",
      "['C', 'R', 'M', 'Q', 'S', 'N', 'P'] has a fitness of 3.544930218048658e-08\n",
      "20/20 candidate\n",
      "already visited QSMCRNP\n",
      "crossover\n",
      "1/15 candidate in crossover\n",
      "already visited PCSRMQN\n",
      "2/15 candidate in crossover\n",
      "already visited NPCRQMS\n",
      "3/15 candidate in crossover\n",
      "[INFO] 2025-05-02 08:46:31,637 - pytimeloop.accelergy_interface - Running Accelergy with command: accelergy /home/workspace/output_dir/parsed-processed-input.yaml -o ./output_dir/ -v\n"
     ]
    },
    {
     "name": "stderr",
     "output_type": "stream",
     "text": [
      "INFO:pytimeloop.accelergy_interface:Running Accelergy with command: accelergy /home/workspace/output_dir/parsed-processed-input.yaml -o ./output_dir/ -v\n"
     ]
    },
    {
     "name": "stdout",
     "output_type": "stream",
     "text": [
      "68.56 245000\n",
      "['Q', 'S', 'M', 'C', 'P', 'R', 'N'] has a fitness of 5.953373181244493e-08\n",
      "4/15 candidate in crossover\n",
      "already visited PQSCMRN\n",
      "5/15 candidate in crossover\n",
      "[INFO] 2025-05-02 08:47:16,152 - pytimeloop.accelergy_interface - Running Accelergy with command: accelergy /home/workspace/output_dir/parsed-processed-input.yaml -o ./output_dir/ -v\n"
     ]
    },
    {
     "name": "stderr",
     "output_type": "stream",
     "text": [
      "INFO:pytimeloop.accelergy_interface:Running Accelergy with command: accelergy /home/workspace/output_dir/parsed-processed-input.yaml -o ./output_dir/ -v\n"
     ]
    },
    {
     "name": "stdout",
     "output_type": "stream",
     "text": [
      "55.09 245000\n",
      "['N', 'P', 'C', 'M', 'Q', 'R', 'S'] has a fitness of 7.40902641688369e-08\n",
      "6/15 candidate in crossover\n",
      "already visited PCSRMQN\n",
      "7/15 candidate in crossover\n",
      "already visited NSQCMRP\n",
      "8/15 candidate in crossover\n",
      "already visited NPCSQRM\n",
      "9/15 candidate in crossover\n",
      "already visited PRQCMSN\n",
      "10/15 candidate in crossover\n",
      "already visited QSMCRNP\n",
      "11/15 candidate in crossover\n",
      "already visited PRSCMNQ\n",
      "12/15 candidate in crossover\n",
      "already visited PQSCMRN\n",
      "13/15 candidate in crossover\n",
      "already visited PQSCMRN\n",
      "14/15 candidate in crossover\n",
      "already visited NPCMQSR\n",
      "15/15 candidate in crossover\n",
      "already visited PNCQRMS\n",
      "\n",
      "ITERATION:  7\n",
      "selection\n",
      "1/20 candidate\n",
      "already visited CSQPMRN\n",
      "2/20 candidate\n",
      "already visited PSMCQRN\n",
      "3/20 candidate\n",
      "already visited PSNCMRQ\n",
      "4/20 candidate\n",
      "already visited CSQPMRN\n",
      "5/20 candidate\n",
      "already visited PCSRMQN\n",
      "6/20 candidate\n",
      "already visited PRSNMQC\n",
      "7/20 candidate\n",
      "[INFO] 2025-05-02 08:48:20,322 - pytimeloop.accelergy_interface - Running Accelergy with command: accelergy /home/workspace/output_dir/parsed-processed-input.yaml -o ./output_dir/ -v\n"
     ]
    },
    {
     "name": "stderr",
     "output_type": "stream",
     "text": [
      "INFO:pytimeloop.accelergy_interface:Running Accelergy with command: accelergy /home/workspace/output_dir/parsed-processed-input.yaml -o ./output_dir/ -v\n"
     ]
    },
    {
     "name": "stdout",
     "output_type": "stream",
     "text": [
      "68.56 245000\n",
      "['P', 'R', 'S', 'C', 'N', 'Q', 'M'] has a fitness of 5.953373181244493e-08\n",
      "8/20 candidate\n",
      "already visited PRSNMQC\n",
      "9/20 candidate\n",
      "[INFO] 2025-05-02 08:49:14,501 - pytimeloop.accelergy_interface - Running Accelergy with command: accelergy /home/workspace/output_dir/parsed-processed-input.yaml -o ./output_dir/ -v\n"
     ]
    },
    {
     "name": "stderr",
     "output_type": "stream",
     "text": [
      "INFO:pytimeloop.accelergy_interface:Running Accelergy with command: accelergy /home/workspace/output_dir/parsed-processed-input.yaml -o ./output_dir/ -v\n"
     ]
    },
    {
     "name": "stdout",
     "output_type": "stream",
     "text": [
      "55.09 245000\n",
      "['N', 'C', 'P', 'S', 'Q', 'M', 'R'] has a fitness of 7.40902641688369e-08\n",
      "10/20 candidate\n",
      "already visited PNCSQMR\n",
      "11/20 candidate\n",
      "already visited SPCNQMR\n",
      "12/20 candidate\n",
      "already visited NPCSQRM\n",
      "13/20 candidate\n",
      "already visited RNSQPMC\n",
      "14/20 candidate\n",
      "already visited SNCQPMR\n",
      "15/20 candidate\n",
      "already visited MNCQPRS\n",
      "16/20 candidate\n",
      "[INFO] 2025-05-02 08:50:14,491 - pytimeloop.accelergy_interface - Running Accelergy with command: accelergy /home/workspace/output_dir/parsed-processed-input.yaml -o ./output_dir/ -v\n"
     ]
    },
    {
     "name": "stderr",
     "output_type": "stream",
     "text": [
      "INFO:pytimeloop.accelergy_interface:Running Accelergy with command: accelergy /home/workspace/output_dir/parsed-processed-input.yaml -o ./output_dir/ -v\n"
     ]
    },
    {
     "name": "stdout",
     "output_type": "stream",
     "text": [
      "57.57 490000\n",
      "['R', 'N', 'C', 'S', 'P', 'M', 'Q'] has a fitness of 3.544930218048658e-08\n",
      "17/20 candidate\n",
      "already visited CPMQRNS\n",
      "18/20 candidate\n",
      "[INFO] 2025-05-02 08:51:15,822 - pytimeloop.accelergy_interface - Running Accelergy with command: accelergy /home/workspace/output_dir/parsed-processed-input.yaml -o ./output_dir/ -v\n"
     ]
    },
    {
     "name": "stderr",
     "output_type": "stream",
     "text": [
      "INFO:pytimeloop.accelergy_interface:Running Accelergy with command: accelergy /home/workspace/output_dir/parsed-processed-input.yaml -o ./output_dir/ -v\n"
     ]
    },
    {
     "name": "stdout",
     "output_type": "stream",
     "text": [
      "57.57 490000\n",
      "['C', 'S', 'N', 'Q', 'R', 'M', 'P'] has a fitness of 3.544930218048658e-08\n",
      "19/20 candidate\n",
      "[INFO] 2025-05-02 08:52:17,941 - pytimeloop.accelergy_interface - Running Accelergy with command: accelergy /home/workspace/output_dir/parsed-processed-input.yaml -o ./output_dir/ -v\n"
     ]
    },
    {
     "name": "stderr",
     "output_type": "stream",
     "text": [
      "INFO:pytimeloop.accelergy_interface:Running Accelergy with command: accelergy /home/workspace/output_dir/parsed-processed-input.yaml -o ./output_dir/ -v\n"
     ]
    },
    {
     "name": "stdout",
     "output_type": "stream",
     "text": [
      "57.57 490000\n",
      "['C', 'S', 'Q', 'M', 'R', 'N', 'P'] has a fitness of 3.544930218048658e-08\n",
      "20/20 candidate\n",
      "already visited CRMQSNP\n",
      "crossover\n",
      "1/15 candidate in crossover\n",
      "already visited PRSCNQM\n",
      "2/15 candidate in crossover\n",
      "already visited PNCSQMR\n",
      "3/15 candidate in crossover\n",
      "[INFO] 2025-05-02 08:53:20,740 - pytimeloop.accelergy_interface - Running Accelergy with command: accelergy /home/workspace/output_dir/parsed-processed-input.yaml -o ./output_dir/ -v\n"
     ]
    },
    {
     "name": "stderr",
     "output_type": "stream",
     "text": [
      "INFO:pytimeloop.accelergy_interface:Running Accelergy with command: accelergy /home/workspace/output_dir/parsed-processed-input.yaml -o ./output_dir/ -v\n"
     ]
    },
    {
     "name": "stdout",
     "output_type": "stream",
     "text": [
      "68.56 245000\n",
      "['P', 'R', 'N', 'C', 'S', 'Q', 'M'] has a fitness of 5.953373181244493e-08\n",
      "4/15 candidate in crossover\n",
      "[INFO] 2025-05-02 08:54:16,173 - pytimeloop.accelergy_interface - Running Accelergy with command: accelergy /home/workspace/output_dir/parsed-processed-input.yaml -o ./output_dir/ -v\n"
     ]
    },
    {
     "name": "stderr",
     "output_type": "stream",
     "text": [
      "INFO:pytimeloop.accelergy_interface:Running Accelergy with command: accelergy /home/workspace/output_dir/parsed-processed-input.yaml -o ./output_dir/ -v\n"
     ]
    },
    {
     "name": "stdout",
     "output_type": "stream",
     "text": [
      "71.06 245000\n",
      "['M', 'N', 'C', 'Q', 'P', 'S', 'R'] has a fitness of 5.743924364003975e-08\n",
      "5/15 candidate in crossover\n",
      "already visited PSNCMRQ\n",
      "6/15 candidate in crossover\n",
      "already visited PRSCNQM\n",
      "7/15 candidate in crossover\n",
      "already visited NPCSQRM\n",
      "8/15 candidate in crossover\n",
      "already visited PRSNMQC\n",
      "9/15 candidate in crossover\n",
      "already visited NCPSQMR\n",
      "10/15 candidate in crossover\n",
      "already visited PRSNMQC\n",
      "11/15 candidate in crossover\n",
      "already visited PNCSQMR\n",
      "12/15 candidate in crossover\n",
      "already visited MNCQPRS\n",
      "13/15 candidate in crossover\n",
      "already visited PCSRMQN\n",
      "14/15 candidate in crossover\n",
      "already visited PSMCQRN\n",
      "15/15 candidate in crossover\n",
      "already visited PSNCMRQ\n",
      "\n",
      "ITERATION:  8\n",
      "selection\n",
      "1/20 candidate\n",
      "already visited PSQRMCN\n",
      "2/20 candidate\n",
      "already visited PSQCNRM\n",
      "3/20 candidate\n",
      "already visited PSRCMQN\n",
      "4/20 candidate\n",
      "already visited PRQCMSN\n",
      "5/20 candidate\n",
      "already visited PRSQMCN\n",
      "6/20 candidate\n",
      "already visited PRSCQMN\n",
      "7/20 candidate\n",
      "already visited PQSCMRN\n",
      "8/20 candidate\n",
      "already visited MRSCPQN\n",
      "9/20 candidate\n",
      "already visited SPCNQMR\n",
      "10/20 candidate\n",
      "already visited SPCNQMR\n",
      "11/20 candidate\n",
      "already visited NPCMQSR\n",
      "12/20 candidate\n",
      "already visited QPCSNMR\n",
      "13/20 candidate\n",
      "already visited QNCRPMS\n",
      "14/20 candidate\n",
      "already visited PNCQRMS\n",
      "15/20 candidate\n",
      "already visited CNRQPMS\n",
      "16/20 candidate\n",
      "[INFO] 2025-05-02 08:55:17,237 - pytimeloop.accelergy_interface - Running Accelergy with command: accelergy /home/workspace/output_dir/parsed-processed-input.yaml -o ./output_dir/ -v\n"
     ]
    },
    {
     "name": "stderr",
     "output_type": "stream",
     "text": [
      "INFO:pytimeloop.accelergy_interface:Running Accelergy with command: accelergy /home/workspace/output_dir/parsed-processed-input.yaml -o ./output_dir/ -v\n"
     ]
    },
    {
     "name": "stdout",
     "output_type": "stream",
     "text": [
      "57.57 490000\n",
      "['R', 'N', 'P', 'Q', 'C', 'M', 'S'] has a fitness of 3.544930218048658e-08\n",
      "17/20 candidate\n",
      "already visited CMSQRNP\n",
      "18/20 candidate\n",
      "already visited CSQMRNP\n",
      "19/20 candidate\n",
      "[INFO] 2025-05-02 08:56:18,229 - pytimeloop.accelergy_interface - Running Accelergy with command: accelergy /home/workspace/output_dir/parsed-processed-input.yaml -o ./output_dir/ -v\n"
     ]
    },
    {
     "name": "stderr",
     "output_type": "stream",
     "text": [
      "INFO:pytimeloop.accelergy_interface:Running Accelergy with command: accelergy /home/workspace/output_dir/parsed-processed-input.yaml -o ./output_dir/ -v\n"
     ]
    },
    {
     "name": "stdout",
     "output_type": "stream",
     "text": [
      "57.57 490000\n",
      "['C', 'S', 'P', 'Q', 'R', 'N', 'M'] has a fitness of 3.544930218048658e-08\n",
      "20/20 candidate\n",
      "already visited SCMQRNP\n",
      "crossover\n",
      "1/15 candidate in crossover\n",
      "already visited NPCMQSR\n",
      "2/15 candidate in crossover\n",
      "[INFO] 2025-05-02 08:57:19,870 - pytimeloop.accelergy_interface - Running Accelergy with command: accelergy /home/workspace/output_dir/parsed-processed-input.yaml -o ./output_dir/ -v\n"
     ]
    },
    {
     "name": "stderr",
     "output_type": "stream",
     "text": [
      "INFO:pytimeloop.accelergy_interface:Running Accelergy with command: accelergy /home/workspace/output_dir/parsed-processed-input.yaml -o ./output_dir/ -v\n"
     ]
    },
    {
     "name": "stdout",
     "output_type": "stream",
     "text": [
      "68.56 245000\n",
      "['P', 'R', 'Q', 'S', 'C', 'N', 'M'] has a fitness of 5.953373181244493e-08\n",
      "3/15 candidate in crossover\n",
      "already visited PRSQMCN\n",
      "4/15 candidate in crossover\n",
      "[INFO] 2025-05-02 08:58:18,465 - pytimeloop.accelergy_interface - Running Accelergy with command: accelergy /home/workspace/output_dir/parsed-processed-input.yaml -o ./output_dir/ -v\n"
     ]
    },
    {
     "name": "stderr",
     "output_type": "stream",
     "text": [
      "INFO:pytimeloop.accelergy_interface:Running Accelergy with command: accelergy /home/workspace/output_dir/parsed-processed-input.yaml -o ./output_dir/ -v\n"
     ]
    },
    {
     "name": "stdout",
     "output_type": "stream",
     "text": [
      "68.56 245000\n",
      "['P', 'S', 'R', 'C', 'Q', 'N', 'M'] has a fitness of 5.953373181244493e-08\n",
      "5/15 candidate in crossover\n",
      "[INFO] 2025-05-02 08:59:13,464 - pytimeloop.accelergy_interface - Running Accelergy with command: accelergy /home/workspace/output_dir/parsed-processed-input.yaml -o ./output_dir/ -v\n"
     ]
    },
    {
     "name": "stderr",
     "output_type": "stream",
     "text": [
      "INFO:pytimeloop.accelergy_interface:Running Accelergy with command: accelergy /home/workspace/output_dir/parsed-processed-input.yaml -o ./output_dir/ -v\n"
     ]
    },
    {
     "name": "stdout",
     "output_type": "stream",
     "text": [
      "68.56 245000\n",
      "['P', 'R', 'S', 'C', 'Q', 'N', 'M'] has a fitness of 5.953373181244493e-08\n",
      "6/15 candidate in crossover\n",
      "already visited NPCMQSR\n",
      "7/15 candidate in crossover\n",
      "already visited PQSCMRN\n",
      "8/15 candidate in crossover\n",
      "already visited PRQCMSN\n",
      "9/15 candidate in crossover\n",
      "already visited PSQCNRM\n",
      "10/15 candidate in crossover\n",
      "already visited PRSQMCN\n",
      "11/15 candidate in crossover\n",
      "already visited PSQRMCN\n",
      "12/15 candidate in crossover\n",
      "already visited PSRCMQN\n",
      "13/15 candidate in crossover\n",
      "already visited QPCSNMR\n",
      "14/15 candidate in crossover\n",
      "already visited PRSCQMN\n",
      "15/15 candidate in crossover\n",
      "already visited QNCRPMS\n",
      "\n",
      "ITERATION:  9\n",
      "selection\n",
      "1/20 candidate\n",
      "already visited PSQRMCN\n",
      "2/20 candidate\n",
      "already visited QSPCMRN\n",
      "3/20 candidate\n",
      "already visited PSQRMCN\n",
      "4/20 candidate\n",
      "[INFO] 2025-05-02 09:00:07,364 - pytimeloop.accelergy_interface - Running Accelergy with command: accelergy /home/workspace/output_dir/parsed-processed-input.yaml -o ./output_dir/ -v\n"
     ]
    },
    {
     "name": "stderr",
     "output_type": "stream",
     "text": [
      "INFO:pytimeloop.accelergy_interface:Running Accelergy with command: accelergy /home/workspace/output_dir/parsed-processed-input.yaml -o ./output_dir/ -v\n"
     ]
    },
    {
     "name": "stdout",
     "output_type": "stream",
     "text": [
      "68.56 245000\n",
      "['P', 'S', 'Q', 'C', 'R', 'M', 'N'] has a fitness of 5.953373181244493e-08\n",
      "5/20 candidate\n",
      "already visited SRPCMQN\n",
      "6/20 candidate\n",
      "[INFO] 2025-05-02 09:01:02,849 - pytimeloop.accelergy_interface - Running Accelergy with command: accelergy /home/workspace/output_dir/parsed-processed-input.yaml -o ./output_dir/ -v\n"
     ]
    },
    {
     "name": "stderr",
     "output_type": "stream",
     "text": [
      "INFO:pytimeloop.accelergy_interface:Running Accelergy with command: accelergy /home/workspace/output_dir/parsed-processed-input.yaml -o ./output_dir/ -v\n"
     ]
    },
    {
     "name": "stdout",
     "output_type": "stream",
     "text": [
      "68.56 245000\n",
      "['P', 'R', 'N', 'C', 'M', 'Q', 'S'] has a fitness of 5.953373181244493e-08\n",
      "7/20 candidate\n",
      "[INFO] 2025-05-02 09:01:56,879 - pytimeloop.accelergy_interface - Running Accelergy with command: accelergy /home/workspace/output_dir/parsed-processed-input.yaml -o ./output_dir/ -v\n"
     ]
    },
    {
     "name": "stderr",
     "output_type": "stream",
     "text": [
      "INFO:pytimeloop.accelergy_interface:Running Accelergy with command: accelergy /home/workspace/output_dir/parsed-processed-input.yaml -o ./output_dir/ -v\n"
     ]
    },
    {
     "name": "stdout",
     "output_type": "stream",
     "text": [
      "55.09 245000\n",
      "['N', 'R', 'S', 'C', 'M', 'Q', 'P'] has a fitness of 7.40902641688369e-08\n",
      "8/20 candidate\n",
      "already visited PRMCSQN\n",
      "9/20 candidate\n",
      "already visited NPCRQMS\n",
      "10/20 candidate\n",
      "[INFO] 2025-05-02 09:02:58,108 - pytimeloop.accelergy_interface - Running Accelergy with command: accelergy /home/workspace/output_dir/parsed-processed-input.yaml -o ./output_dir/ -v\n"
     ]
    },
    {
     "name": "stderr",
     "output_type": "stream",
     "text": [
      "INFO:pytimeloop.accelergy_interface:Running Accelergy with command: accelergy /home/workspace/output_dir/parsed-processed-input.yaml -o ./output_dir/ -v\n"
     ]
    },
    {
     "name": "stdout",
     "output_type": "stream",
     "text": [
      "55.09 245000\n",
      "['N', 'S', 'C', 'P', 'Q', 'M', 'R'] has a fitness of 7.40902641688369e-08\n",
      "11/20 candidate\n",
      "[INFO] 2025-05-02 09:03:58,346 - pytimeloop.accelergy_interface - Running Accelergy with command: accelergy /home/workspace/output_dir/parsed-processed-input.yaml -o ./output_dir/ -v\n"
     ]
    },
    {
     "name": "stderr",
     "output_type": "stream",
     "text": [
      "INFO:pytimeloop.accelergy_interface:Running Accelergy with command: accelergy /home/workspace/output_dir/parsed-processed-input.yaml -o ./output_dir/ -v\n"
     ]
    },
    {
     "name": "stdout",
     "output_type": "stream",
     "text": [
      "55.09 245000\n",
      "['N', 'P', 'C', 'Q', 'S', 'M', 'R'] has a fitness of 7.40902641688369e-08\n",
      "12/20 candidate\n",
      "already visited CPNSQMR\n",
      "13/20 candidate\n",
      "[INFO] 2025-05-02 09:04:57,875 - pytimeloop.accelergy_interface - Running Accelergy with command: accelergy /home/workspace/output_dir/parsed-processed-input.yaml -o ./output_dir/ -v\n"
     ]
    },
    {
     "name": "stderr",
     "output_type": "stream",
     "text": [
      "INFO:pytimeloop.accelergy_interface:Running Accelergy with command: accelergy /home/workspace/output_dir/parsed-processed-input.yaml -o ./output_dir/ -v\n"
     ]
    },
    {
     "name": "stdout",
     "output_type": "stream",
     "text": [
      "57.57 490000\n",
      "['R', 'P', 'C', 'Q', 'N', 'M', 'S'] has a fitness of 3.544930218048658e-08\n",
      "14/20 candidate\n",
      "already visited RNCSPMQ\n",
      "15/20 candidate\n",
      "already visited RNCQPSM\n",
      "16/20 candidate\n",
      "already visited MNCQPRS\n",
      "17/20 candidate\n",
      "already visited CSPQRNM\n",
      "18/20 candidate\n",
      "already visited SCMQRNP\n",
      "19/20 candidate\n",
      "[INFO] 2025-05-02 09:05:59,174 - pytimeloop.accelergy_interface - Running Accelergy with command: accelergy /home/workspace/output_dir/parsed-processed-input.yaml -o ./output_dir/ -v\n"
     ]
    },
    {
     "name": "stderr",
     "output_type": "stream",
     "text": [
      "INFO:pytimeloop.accelergy_interface:Running Accelergy with command: accelergy /home/workspace/output_dir/parsed-processed-input.yaml -o ./output_dir/ -v\n"
     ]
    },
    {
     "name": "stdout",
     "output_type": "stream",
     "text": [
      "57.57 490000\n",
      "['C', 'S', 'M', 'R', 'Q', 'N', 'P'] has a fitness of 3.544930218048658e-08\n",
      "20/20 candidate\n",
      "already visited CSPQRNM\n",
      "crossover\n",
      "1/15 candidate in crossover\n",
      "already visited PRNCMQS\n",
      "2/15 candidate in crossover\n",
      "[INFO] 2025-05-02 09:07:01,193 - pytimeloop.accelergy_interface - Running Accelergy with command: accelergy /home/workspace/output_dir/parsed-processed-input.yaml -o ./output_dir/ -v\n"
     ]
    },
    {
     "name": "stderr",
     "output_type": "stream",
     "text": [
      "INFO:pytimeloop.accelergy_interface:Running Accelergy with command: accelergy /home/workspace/output_dir/parsed-processed-input.yaml -o ./output_dir/ -v\n"
     ]
    },
    {
     "name": "stdout",
     "output_type": "stream",
     "text": [
      "55.09 245000\n",
      "['N', 'R', 'P', 'S', 'Q', 'C', 'M'] has a fitness of 7.40902641688369e-08\n",
      "3/15 candidate in crossover\n",
      "[INFO] 2025-05-02 09:08:02,197 - pytimeloop.accelergy_interface - Running Accelergy with command: accelergy /home/workspace/output_dir/parsed-processed-input.yaml -o ./output_dir/ -v\n"
     ]
    },
    {
     "name": "stderr",
     "output_type": "stream",
     "text": [
      "INFO:pytimeloop.accelergy_interface:Running Accelergy with command: accelergy /home/workspace/output_dir/parsed-processed-input.yaml -o ./output_dir/ -v\n"
     ]
    },
    {
     "name": "stdout",
     "output_type": "stream",
     "text": [
      "68.56 245000\n",
      "['Q', 'S', 'P', 'R', 'M', 'C', 'N'] has a fitness of 5.953373181244493e-08\n",
      "4/15 candidate in crossover\n",
      "already visited NPCRQMS\n",
      "5/15 candidate in crossover\n",
      "already visited PSQRMCN\n",
      "6/15 candidate in crossover\n",
      "already visited PRNCMQS\n",
      "7/15 candidate in crossover\n",
      "already visited NPCQSMR\n",
      "8/15 candidate in crossover\n",
      "already visited NRSCMQP\n",
      "9/15 candidate in crossover\n",
      "already visited PSQCRMN\n",
      "10/15 candidate in crossover\n",
      "already visited QSPCMRN\n",
      "11/15 candidate in crossover\n",
      "already visited PSQRMCN\n",
      "12/15 candidate in crossover\n",
      "already visited NSCPQMR\n",
      "13/15 candidate in crossover\n",
      "already visited NPCRQMS\n",
      "14/15 candidate in crossover\n",
      "already visited PSQRMCN\n",
      "15/15 candidate in crossover\n",
      "already visited PRMCSQN\n",
      "Finished running conv1, 2x8: best fitness 7.40902641688369e-08 on permutation ['N', 'P', 'C', 'S', 'Q', 'M', 'R']\n",
      " Timeloop mapper called 116 times\n"
     ]
    }
   ],
   "source": [
    "conv1_2x8 = GeneticAlgorithm(workload='layer_shapes/conv1.yaml', pe_dims={'pe_meshX': 2, 'pe_meshY': 8})\n",
    "best_df, f = conv1_2x8.run(g=1)\n",
    "print(f'Finished running conv1, 2x8: best fitness {f} on permutation {best_df}\\n Timeloop mapper called {conv1_2x8.mapper_call_count} times')"
   ]
  },
  {
   "cell_type": "code",
   "execution_count": 65,
   "metadata": {},
   "outputs": [
    {
     "name": "stdout",
     "output_type": "stream",
     "text": [
      "PSQCMRN\n",
      "PRSCMQN\n",
      "NPCSQMR\n",
      "RNCQPMS\n",
      "CSMQRNP\n",
      "PCQSMRN\n",
      "QSPCMRN\n",
      "PMQCSRN\n",
      "PSRCMQN\n",
      "PRMCSQN\n",
      "PNSCMQR\n",
      "PCSRMQN\n",
      "NQCSPMR\n",
      "RPCSQMN\n",
      "NPCRQMS\n",
      "RNQCPMS\n",
      "MNCQPRS\n",
      "RNCPQMS\n",
      "MSCQRNP\n",
      "QSMCRNP\n",
      "SCMQRNP\n",
      "PNSCMRQ\n",
      "NQCSPRM\n",
      "RSQCMPN\n",
      "PSQRMCN\n",
      "PSQNMRC\n",
      "CSQPMRN\n",
      "PRSCQMN\n",
      "SRPCMQN\n",
      "QRSCMPN\n",
      "NRCSQMP\n",
      "NPQSCMR\n",
      "SPCNQMR\n",
      "NPRSQMC\n",
      "QNCRPMS\n",
      "RQCNPMS\n",
      "RNCQPSM\n",
      "CSMQPNR\n",
      "PSMQRNC\n",
      "CSMQRPN\n",
      "QNCRSMP\n",
      "PRSQNMC\n",
      "QNCRPSM\n",
      "PSNQCMR\n",
      "PSQMCRN\n",
      "PSMCQRN\n",
      "PNQCMRS\n",
      "PRSCMNQ\n",
      "CPNSQMR\n",
      "QPCSNMR\n",
      "PNCSQMR\n",
      "RNCQMPS\n",
      "CNRQPMS\n",
      "CQMSRNP\n",
      "CSMQNRP\n",
      "QPNCMRS\n",
      "PSNRQMC\n",
      "PRSNMQC\n",
      "PRSQMCN\n",
      "NPMSQCR\n",
      "NPCSRMQ\n",
      "RNCQSMP\n",
      "PNCQRMS\n",
      "RSMQCNP\n",
      "CMSQRNP\n",
      "CSMPRNQ\n",
      "QSPRNMC\n",
      "PSQCMNR\n",
      "MRSCPQN\n",
      "PMSCRQN\n",
      "NPCSQRM\n",
      "MPCSQNR\n",
      "RMCQPNS\n",
      "RNMQPCS\n",
      "RNSQPMC\n",
      "CPMQRNS\n",
      "NPCSMQR\n",
      "NQPSRCM\n",
      "PSNCMRQ\n",
      "PSQCNRM\n",
      "PQSCMRN\n",
      "NMCSQPR\n",
      "RSCQPMN\n",
      "SNCQPMR\n",
      "NSMQRCP\n",
      "PRSNCMQ\n",
      "PCSQRMN\n",
      "PRQCMSN\n",
      "SPQCMRN\n",
      "NSQCMRP\n",
      "NPCMQSR\n",
      "RCNQPMS\n",
      "CRMQSNP\n",
      "QSMCPRN\n",
      "NPCMQRS\n",
      "PRSCNQM\n",
      "NCPSQMR\n",
      "RNCSPMQ\n",
      "CSNQRMP\n",
      "CSQMRNP\n",
      "PRNCSQM\n",
      "MNCQPSR\n",
      "RNPQCMS\n",
      "CSPQRNM\n",
      "PRQSCNM\n",
      "PSRCQNM\n",
      "PRSCQNM\n",
      "PSQCRMN\n",
      "PRNCMQS\n",
      "NRSCMQP\n",
      "NSCPQMR\n",
      "NPCQSMR\n",
      "RPCQNMS\n",
      "CSMRQNP\n",
      "NRPSQCM\n",
      "QSPRMCN\n",
      "5.953373181244493e-08\n",
      "5.953373181244493e-08\n",
      "7.40902641688369e-08\n",
      "3.544930218048658e-08\n",
      "3.544930218048658e-08\n",
      "5.953373181244493e-08\n",
      "5.953373181244493e-08\n",
      "5.953373181244493e-08\n",
      "5.953373181244493e-08\n",
      "5.953373181244493e-08\n",
      "5.953373181244493e-08\n",
      "5.953373181244493e-08\n",
      "7.40902641688369e-08\n",
      "3.544930218048658e-08\n",
      "7.40902641688369e-08\n",
      "3.544930218048658e-08\n",
      "5.743924364003975e-08\n",
      "3.544930218048658e-08\n",
      "5.743924364003975e-08\n",
      "5.953373181244493e-08\n",
      "3.544930218048658e-08\n",
      "5.953373181244493e-08\n",
      "7.40902641688369e-08\n",
      "3.544930218048658e-08\n",
      "5.953373181244493e-08\n",
      "5.953373181244493e-08\n",
      "3.544930218048658e-08\n",
      "5.953373181244493e-08\n",
      "3.544930218048658e-08\n",
      "5.953373181244493e-08\n",
      "7.40902641688369e-08\n",
      "7.40902641688369e-08\n",
      "3.544930218048658e-08\n",
      "7.40902641688369e-08\n",
      "5.953373181244493e-08\n",
      "3.544930218048658e-08\n",
      "3.544930218048658e-08\n",
      "3.544930218048658e-08\n",
      "5.953373181244493e-08\n",
      "3.544930218048658e-08\n",
      "5.953373181244493e-08\n",
      "5.953373181244493e-08\n",
      "5.953373181244493e-08\n",
      "5.953373181244493e-08\n",
      "5.953373181244493e-08\n",
      "5.953373181244493e-08\n",
      "5.953373181244493e-08\n",
      "5.953373181244493e-08\n",
      "3.544930218048658e-08\n",
      "5.953373181244493e-08\n",
      "5.953373181244493e-08\n",
      "3.544930218048658e-08\n",
      "3.544930218048658e-08\n",
      "3.544930218048658e-08\n",
      "3.544930218048658e-08\n",
      "5.953373181244493e-08\n",
      "5.953373181244493e-08\n",
      "5.953373181244493e-08\n",
      "5.953373181244493e-08\n",
      "7.40902641688369e-08\n",
      "7.40902641688369e-08\n",
      "3.544930218048658e-08\n",
      "5.953373181244493e-08\n",
      "3.544930218048658e-08\n",
      "3.544930218048658e-08\n",
      "3.544930218048658e-08\n",
      "5.953373181244493e-08\n",
      "5.953373181244493e-08\n",
      "5.743924364003975e-08\n",
      "5.953373181244493e-08\n",
      "7.40902641688369e-08\n",
      "5.743924364003975e-08\n",
      "3.544930218048658e-08\n",
      "3.544930218048658e-08\n",
      "3.544930218048658e-08\n",
      "3.544930218048658e-08\n",
      "7.40902641688369e-08\n",
      "7.40902641688369e-08\n",
      "5.953373181244493e-08\n",
      "5.953373181244493e-08\n",
      "5.953373181244493e-08\n",
      "7.40902641688369e-08\n",
      "3.544930218048658e-08\n",
      "3.544930218048658e-08\n",
      "7.40902641688369e-08\n",
      "5.953373181244493e-08\n",
      "5.953373181244493e-08\n",
      "5.953373181244493e-08\n",
      "3.544930218048658e-08\n",
      "7.40902641688369e-08\n",
      "7.40902641688369e-08\n",
      "3.544930218048658e-08\n",
      "3.544930218048658e-08\n",
      "5.953373181244493e-08\n",
      "7.40902641688369e-08\n",
      "5.953373181244493e-08\n",
      "7.40902641688369e-08\n",
      "3.544930218048658e-08\n",
      "3.544930218048658e-08\n",
      "3.544930218048658e-08\n",
      "5.953373181244493e-08\n",
      "5.743924364003975e-08\n",
      "3.544930218048658e-08\n",
      "3.544930218048658e-08\n",
      "5.953373181244493e-08\n",
      "5.953373181244493e-08\n",
      "5.953373181244493e-08\n",
      "5.953373181244493e-08\n",
      "5.953373181244493e-08\n",
      "7.40902641688369e-08\n",
      "7.40902641688369e-08\n",
      "7.40902641688369e-08\n",
      "3.544930218048658e-08\n",
      "3.544930218048658e-08\n",
      "7.40902641688369e-08\n",
      "5.953373181244493e-08\n"
     ]
    }
   ],
   "source": [
    "for call in conv1_2x8.mapper_calls:\n",
    "    print(call[0])\n",
    "\n",
    "for call in conv1_2x8.mapper_calls:\n",
    "    print(call[1])\n",
    "\n",
    "with open('conv1_2x8.yaml', 'w') as file:\n",
    "    yaml.dump(conv1_2x8.VISITED, file, default_flow_style=False)"
   ]
  },
  {
   "cell_type": "code",
   "execution_count": null,
   "metadata": {},
   "outputs": [],
   "source": []
  }
 ],
 "metadata": {
  "kernelspec": {
   "display_name": "Python 3 (ipykernel)",
   "language": "python",
   "name": "python3"
  },
  "language_info": {
   "codemirror_mode": {
    "name": "ipython",
    "version": 3
   },
   "file_extension": ".py",
   "mimetype": "text/x-python",
   "name": "python",
   "nbconvert_exporter": "python",
   "pygments_lexer": "ipython3",
   "version": "3.10.12"
  }
 },
 "nbformat": 4,
 "nbformat_minor": 4
}
