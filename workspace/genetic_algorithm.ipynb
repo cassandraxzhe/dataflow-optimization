{
 "cells": [
  {
   "cell_type": "markdown",
   "metadata": {},
   "source": [
    "We will define our genetic algorithm mapper with the following algorithm. For our algorithm, we use the following definition of fitness.\n",
    "fitness = 1 / (latency  energy)\n",
    "n = 5, k = 20, p = 10\n",
    "\n",
    "1. Generate n = 5 randomly ordered strings of the valid dataflow, that is a random permutation of [R, S, P, Q, C, M, N]. Initialize f to 0.\n",
    "2. Initialize a goal fitness g, dependent on latency and energy.\n",
    "3. While f>g,\n",
    "    Mutation: For i from 1 to n mutations, mutate each permutation k/n times to get k mutations. For each mutation, pick two parameters at random and swap them.\n",
    "    Selection: Calculate latency and energy and evaluate the fitness of each k mutations. Take the p = 10 with the highest fitness.\n",
    "    Crossover: Take pairs of p = 10 mutations and crossover to get n = 5 permutations. Let f = top fitness from these permutations.\n",
    "4. Return best permutation."
   ]
  },
  {
   "cell_type": "code",
   "execution_count": 34,
   "metadata": {},
   "outputs": [],
   "source": [
    "import random\n",
    "import pandas as pd\n",
    "import numpy as np\n",
    "import matplotlib.pyplot as plt\n",
    "from loaders import *\n",
    "import yaml\n",
    "from yaml import load"
   ]
  },
  {
   "cell_type": "code",
   "execution_count": 35,
   "metadata": {
    "collapsed": true,
    "jupyter": {
     "outputs_hidden": true
    }
   },
   "outputs": [
    {
     "name": "stdout",
     "output_type": "stream",
     "text": [
      "constraints:\n",
      "  version: 0.4\n",
      "  targets:\n",
      "  - target: DRAM\n",
      "    type: dataspace\n",
      "    keep: [Inputs, Outputs, Weights]\n",
      "    bypass: []\n",
      "  - target: DRAM\n",
      "    type: temporal\n",
      "    permutation: [R, S, Q, P, C, M, N]\n",
      "  - target: global_buffer\n",
      "    type: dataspace\n",
      "    keep: [Inputs, Outputs, Weights]\n",
      "    bypass: []\n",
      "  - target: global_buffer\n",
      "    type: temporal\n",
      "    permutation: [S, R, Q, P, C, M, N]\n",
      "  - target: PE\n",
      "    type: spatial\n",
      "    permutation: [C, M, R, S, P, Q, N]\n",
      "    split: 1\n",
      "  - target: scratchpad\n",
      "    type: dataspace\n",
      "    keep: [Weights]\n",
      "    bypass: [Inputs, Outputs]\n",
      "  - target: scratchpad\n",
      "    type: temporal\n",
      "    permutation: [Q, P, N, C, M, S, R]\n",
      "\n",
      "  - target: weight_reg\n",
      "    type: dataspace\n",
      "    keep: [Weights]\n",
      "    bypass: [Inputs, Outputs]\n",
      "  - target: weight_reg\n",
      "    type: temporal\n",
      "    permutation: [R, S, P, Q, C, M, N]\n",
      "  - target: input_activation_reg\n",
      "    type: dataspace\n",
      "    keep: [Inputs]\n",
      "    bypass: [Weights, Outputs]\n",
      "  - target: input_activation_reg\n",
      "    type: temporal\n",
      "    permutation: [R, S, P, Q, C, M, N]\n",
      "  - target: output_activation_reg\n",
      "    type: dataspace\n",
      "    keep: [Outputs]\n",
      "    bypass: [Weights, Inputs]\n",
      "  - target: output_activation_reg\n",
      "    type: temporal\n",
      "    permutation: [R, S, P, Q, C, M, N]\n",
      "\n"
     ]
    }
   ],
   "source": [
    "show_config('designs/system/constraints.yaml')"
   ]
  },
  {
   "cell_type": "code",
   "execution_count": 42,
   "metadata": {},
   "outputs": [],
   "source": [
    "def dummy_fitness(dataflow):\n",
    "    return random.uniform(0, 1.0e-7)   "
   ]
  },
  {
   "cell_type": "code",
   "execution_count": 57,
   "metadata": {
    "collapsed": true,
    "jupyter": {
     "outputs_hidden": true
    }
   },
   "outputs": [
    {
     "name": "stdout",
     "output_type": "stream",
     "text": [
      "Initializing\n",
      "[INFO] 2025-05-02 03:10:40,325 - pytimeloop.accelergy_interface - Running Accelergy with command: accelergy /home/workspace/output_dir/parsed-processed-input.yaml -o ./output_dir/ -v\n"
     ]
    },
    {
     "name": "stderr",
     "output_type": "stream",
     "text": [
      "INFO:pytimeloop.accelergy_interface:Running Accelergy with command: accelergy /home/workspace/output_dir/parsed-processed-input.yaml -o ./output_dir/ -v\n"
     ]
    },
    {
     "name": "stdout",
     "output_type": "stream",
     "text": [
      "55.03 627200\n",
      "['R', 'Q', 'M', 'S', 'C', 'N', 'P'] has a fitness of 2.8973064784699996e-08\n",
      "[INFO] 2025-05-02 03:11:35,159 - pytimeloop.accelergy_interface - Running Accelergy with command: accelergy /home/workspace/output_dir/parsed-processed-input.yaml -o ./output_dir/ -v\n"
     ]
    },
    {
     "name": "stderr",
     "output_type": "stream",
     "text": [
      "INFO:pytimeloop.accelergy_interface:Running Accelergy with command: accelergy /home/workspace/output_dir/parsed-processed-input.yaml -o ./output_dir/ -v\n"
     ]
    },
    {
     "name": "stdout",
     "output_type": "stream",
     "text": [
      "55.18 313600\n",
      "['C', 'R', 'M', 'Q', 'P', 'S', 'N'] has a fitness of 5.7788610188548055e-08\n",
      "[INFO] 2025-05-02 03:11:49,616 - pytimeloop.accelergy_interface - Running Accelergy with command: accelergy /home/workspace/output_dir/parsed-processed-input.yaml -o ./output_dir/ -v\n"
     ]
    },
    {
     "name": "stderr",
     "output_type": "stream",
     "text": [
      "INFO:pytimeloop.accelergy_interface:Running Accelergy with command: accelergy /home/workspace/output_dir/parsed-processed-input.yaml -o ./output_dir/ -v\n"
     ]
    },
    {
     "name": "stdout",
     "output_type": "stream",
     "text": [
      "55.03 627200\n",
      "['Q', 'R', 'P', 'C', 'N', 'S', 'M'] has a fitness of 2.8973064784699996e-08\n",
      "[INFO] 2025-05-02 03:12:45,036 - pytimeloop.accelergy_interface - Running Accelergy with command: accelergy /home/workspace/output_dir/parsed-processed-input.yaml -o ./output_dir/ -v\n"
     ]
    },
    {
     "name": "stderr",
     "output_type": "stream",
     "text": [
      "INFO:pytimeloop.accelergy_interface:Running Accelergy with command: accelergy /home/workspace/output_dir/parsed-processed-input.yaml -o ./output_dir/ -v\n"
     ]
    },
    {
     "name": "stdout",
     "output_type": "stream",
     "text": [
      "55.03 627200\n",
      "['P', 'M', 'C', 'S', 'N', 'Q', 'R'] has a fitness of 2.8973064784699996e-08\n",
      "[INFO] 2025-05-02 03:13:39,002 - pytimeloop.accelergy_interface - Running Accelergy with command: accelergy /home/workspace/output_dir/parsed-processed-input.yaml -o ./output_dir/ -v\n"
     ]
    },
    {
     "name": "stderr",
     "output_type": "stream",
     "text": [
      "INFO:pytimeloop.accelergy_interface:Running Accelergy with command: accelergy /home/workspace/output_dir/parsed-processed-input.yaml -o ./output_dir/ -v\n"
     ]
    },
    {
     "name": "stdout",
     "output_type": "stream",
     "text": [
      "55.03 627200\n",
      "['S', 'M', 'Q', 'C', 'P', 'N', 'R'] has a fitness of 2.8973064784699996e-08\n",
      "\n",
      "ITERATION:  0\n",
      "selection\n",
      "1/20 candidate\n",
      "[INFO] 2025-05-02 03:14:32,658 - pytimeloop.accelergy_interface - Running Accelergy with command: accelergy /home/workspace/output_dir/parsed-processed-input.yaml -o ./output_dir/ -v\n"
     ]
    },
    {
     "name": "stderr",
     "output_type": "stream",
     "text": [
      "INFO:pytimeloop.accelergy_interface:Running Accelergy with command: accelergy /home/workspace/output_dir/parsed-processed-input.yaml -o ./output_dir/ -v\n"
     ]
    },
    {
     "name": "stdout",
     "output_type": "stream",
     "text": [
      "55.18 313600\n",
      "['C', 'Q', 'M', 'S', 'R', 'N', 'P'] has a fitness of 5.7788610188548055e-08\n",
      "2/20 candidate\n",
      "[INFO] 2025-05-02 03:14:46,792 - pytimeloop.accelergy_interface - Running Accelergy with command: accelergy /home/workspace/output_dir/parsed-processed-input.yaml -o ./output_dir/ -v\n"
     ]
    },
    {
     "name": "stderr",
     "output_type": "stream",
     "text": [
      "INFO:pytimeloop.accelergy_interface:Running Accelergy with command: accelergy /home/workspace/output_dir/parsed-processed-input.yaml -o ./output_dir/ -v\n"
     ]
    },
    {
     "name": "stdout",
     "output_type": "stream",
     "text": [
      "55.03 627200\n",
      "['R', 'Q', 'C', 'S', 'M', 'N', 'P'] has a fitness of 2.8973064784699996e-08\n",
      "3/20 candidate\n",
      "[INFO] 2025-05-02 03:15:39,592 - pytimeloop.accelergy_interface - Running Accelergy with command: accelergy /home/workspace/output_dir/parsed-processed-input.yaml -o ./output_dir/ -v\n"
     ]
    },
    {
     "name": "stderr",
     "output_type": "stream",
     "text": [
      "INFO:pytimeloop.accelergy_interface:Running Accelergy with command: accelergy /home/workspace/output_dir/parsed-processed-input.yaml -o ./output_dir/ -v\n"
     ]
    },
    {
     "name": "stdout",
     "output_type": "stream",
     "text": [
      "55.03 627200\n",
      "['S', 'Q', 'M', 'R', 'C', 'N', 'P'] has a fitness of 2.8973064784699996e-08\n",
      "4/20 candidate\n",
      "[INFO] 2025-05-02 03:16:32,971 - pytimeloop.accelergy_interface - Running Accelergy with command: accelergy /home/workspace/output_dir/parsed-processed-input.yaml -o ./output_dir/ -v\n"
     ]
    },
    {
     "name": "stderr",
     "output_type": "stream",
     "text": [
      "INFO:pytimeloop.accelergy_interface:Running Accelergy with command: accelergy /home/workspace/output_dir/parsed-processed-input.yaml -o ./output_dir/ -v\n"
     ]
    },
    {
     "name": "stdout",
     "output_type": "stream",
     "text": [
      "55.03 627200\n",
      "['R', 'S', 'M', 'Q', 'C', 'N', 'P'] has a fitness of 2.8973064784699996e-08\n",
      "5/20 candidate\n",
      "[INFO] 2025-05-02 03:17:26,658 - pytimeloop.accelergy_interface - Running Accelergy with command: accelergy /home/workspace/output_dir/parsed-processed-input.yaml -o ./output_dir/ -v\n"
     ]
    },
    {
     "name": "stderr",
     "output_type": "stream",
     "text": [
      "INFO:pytimeloop.accelergy_interface:Running Accelergy with command: accelergy /home/workspace/output_dir/parsed-processed-input.yaml -o ./output_dir/ -v\n"
     ]
    },
    {
     "name": "stdout",
     "output_type": "stream",
     "text": [
      "55.03 627200\n",
      "['S', 'R', 'M', 'Q', 'P', 'C', 'N'] has a fitness of 2.8973064784699996e-08\n",
      "6/20 candidate\n",
      "already visited SRMQPCN\n",
      "7/20 candidate\n",
      "[INFO] 2025-05-02 03:18:20,850 - pytimeloop.accelergy_interface - Running Accelergy with command: accelergy /home/workspace/output_dir/parsed-processed-input.yaml -o ./output_dir/ -v\n"
     ]
    },
    {
     "name": "stderr",
     "output_type": "stream",
     "text": [
      "INFO:pytimeloop.accelergy_interface:Running Accelergy with command: accelergy /home/workspace/output_dir/parsed-processed-input.yaml -o ./output_dir/ -v\n"
     ]
    },
    {
     "name": "stdout",
     "output_type": "stream",
     "text": [
      "62.01 313600\n",
      "['N', 'R', 'M', 'Q', 'P', 'S', 'C'] has a fitness of 5.1423568943784577e-08\n",
      "8/20 candidate\n",
      "already visited NRMQPSC\n",
      "9/20 candidate\n",
      "[INFO] 2025-05-02 03:18:42,764 - pytimeloop.accelergy_interface - Running Accelergy with command: accelergy /home/workspace/output_dir/parsed-processed-input.yaml -o ./output_dir/ -v\n"
     ]
    },
    {
     "name": "stderr",
     "output_type": "stream",
     "text": [
      "INFO:pytimeloop.accelergy_interface:Running Accelergy with command: accelergy /home/workspace/output_dir/parsed-processed-input.yaml -o ./output_dir/ -v\n"
     ]
    },
    {
     "name": "stdout",
     "output_type": "stream",
     "text": [
      "55.03 627200\n",
      "['P', 'R', 'Q', 'C', 'N', 'S', 'M'] has a fitness of 2.8973064784699996e-08\n",
      "10/20 candidate\n",
      "[INFO] 2025-05-02 03:19:36,489 - pytimeloop.accelergy_interface - Running Accelergy with command: accelergy /home/workspace/output_dir/parsed-processed-input.yaml -o ./output_dir/ -v\n"
     ]
    },
    {
     "name": "stderr",
     "output_type": "stream",
     "text": [
      "INFO:pytimeloop.accelergy_interface:Running Accelergy with command: accelergy /home/workspace/output_dir/parsed-processed-input.yaml -o ./output_dir/ -v\n"
     ]
    },
    {
     "name": "stdout",
     "output_type": "stream",
     "text": [
      "55.03 627200\n",
      "['Q', 'N', 'P', 'C', 'R', 'S', 'M'] has a fitness of 2.8973064784699996e-08\n",
      "11/20 candidate\n",
      "[INFO] 2025-05-02 03:20:29,671 - pytimeloop.accelergy_interface - Running Accelergy with command: accelergy /home/workspace/output_dir/parsed-processed-input.yaml -o ./output_dir/ -v\n"
     ]
    },
    {
     "name": "stderr",
     "output_type": "stream",
     "text": [
      "INFO:pytimeloop.accelergy_interface:Running Accelergy with command: accelergy /home/workspace/output_dir/parsed-processed-input.yaml -o ./output_dir/ -v\n"
     ]
    },
    {
     "name": "stdout",
     "output_type": "stream",
     "text": [
      "55.03 627200\n",
      "['Q', 'M', 'P', 'C', 'N', 'S', 'R'] has a fitness of 2.8973064784699996e-08\n",
      "12/20 candidate\n",
      "[INFO] 2025-05-02 03:21:24,243 - pytimeloop.accelergy_interface - Running Accelergy with command: accelergy /home/workspace/output_dir/parsed-processed-input.yaml -o ./output_dir/ -v\n"
     ]
    },
    {
     "name": "stderr",
     "output_type": "stream",
     "text": [
      "INFO:pytimeloop.accelergy_interface:Running Accelergy with command: accelergy /home/workspace/output_dir/parsed-processed-input.yaml -o ./output_dir/ -v\n"
     ]
    },
    {
     "name": "stdout",
     "output_type": "stream",
     "text": [
      "55.03 627200\n",
      "['S', 'R', 'P', 'C', 'N', 'Q', 'M'] has a fitness of 2.8973064784699996e-08\n",
      "13/20 candidate\n",
      "[INFO] 2025-05-02 03:22:17,228 - pytimeloop.accelergy_interface - Running Accelergy with command: accelergy /home/workspace/output_dir/parsed-processed-input.yaml -o ./output_dir/ -v\n"
     ]
    },
    {
     "name": "stderr",
     "output_type": "stream",
     "text": [
      "INFO:pytimeloop.accelergy_interface:Running Accelergy with command: accelergy /home/workspace/output_dir/parsed-processed-input.yaml -o ./output_dir/ -v\n"
     ]
    },
    {
     "name": "stdout",
     "output_type": "stream",
     "text": [
      "55.03 627200\n",
      "['P', 'M', 'R', 'S', 'N', 'Q', 'C'] has a fitness of 2.8973064784699996e-08\n",
      "14/20 candidate\n",
      "[INFO] 2025-05-02 03:23:11,959 - pytimeloop.accelergy_interface - Running Accelergy with command: accelergy /home/workspace/output_dir/parsed-processed-input.yaml -o ./output_dir/ -v\n"
     ]
    },
    {
     "name": "stderr",
     "output_type": "stream",
     "text": [
      "INFO:pytimeloop.accelergy_interface:Running Accelergy with command: accelergy /home/workspace/output_dir/parsed-processed-input.yaml -o ./output_dir/ -v\n"
     ]
    },
    {
     "name": "stdout",
     "output_type": "stream",
     "text": [
      "55.03 627200\n",
      "['P', 'N', 'C', 'S', 'M', 'Q', 'R'] has a fitness of 2.8973064784699996e-08\n",
      "15/20 candidate\n",
      "[INFO] 2025-05-02 03:24:04,834 - pytimeloop.accelergy_interface - Running Accelergy with command: accelergy /home/workspace/output_dir/parsed-processed-input.yaml -o ./output_dir/ -v\n"
     ]
    },
    {
     "name": "stderr",
     "output_type": "stream",
     "text": [
      "INFO:pytimeloop.accelergy_interface:Running Accelergy with command: accelergy /home/workspace/output_dir/parsed-processed-input.yaml -o ./output_dir/ -v\n"
     ]
    },
    {
     "name": "stdout",
     "output_type": "stream",
     "text": [
      "55.03 627200\n",
      "['R', 'M', 'C', 'S', 'N', 'Q', 'P'] has a fitness of 2.8973064784699996e-08\n",
      "16/20 candidate\n",
      "[INFO] 2025-05-02 03:24:58,715 - pytimeloop.accelergy_interface - Running Accelergy with command: accelergy /home/workspace/output_dir/parsed-processed-input.yaml -o ./output_dir/ -v\n"
     ]
    },
    {
     "name": "stderr",
     "output_type": "stream",
     "text": [
      "INFO:pytimeloop.accelergy_interface:Running Accelergy with command: accelergy /home/workspace/output_dir/parsed-processed-input.yaml -o ./output_dir/ -v\n"
     ]
    },
    {
     "name": "stdout",
     "output_type": "stream",
     "text": [
      "52.63 313600\n",
      "['M', 'P', 'C', 'S', 'N', 'Q', 'R'] has a fitness of 6.058855235044807e-08\n",
      "17/20 candidate\n",
      "[INFO] 2025-05-02 03:25:10,873 - pytimeloop.accelergy_interface - Running Accelergy with command: accelergy /home/workspace/output_dir/parsed-processed-input.yaml -o ./output_dir/ -v\n"
     ]
    },
    {
     "name": "stderr",
     "output_type": "stream",
     "text": [
      "INFO:pytimeloop.accelergy_interface:Running Accelergy with command: accelergy /home/workspace/output_dir/parsed-processed-input.yaml -o ./output_dir/ -v\n"
     ]
    },
    {
     "name": "stdout",
     "output_type": "stream",
     "text": [
      "55.03 627200\n",
      "['S', 'M', 'Q', 'C', 'P', 'R', 'N'] has a fitness of 2.8973064784699996e-08\n",
      "18/20 candidate\n",
      "already visited SMQCPRN\n",
      "19/20 candidate\n",
      "[INFO] 2025-05-02 03:26:04,227 - pytimeloop.accelergy_interface - Running Accelergy with command: accelergy /home/workspace/output_dir/parsed-processed-input.yaml -o ./output_dir/ -v\n"
     ]
    },
    {
     "name": "stderr",
     "output_type": "stream",
     "text": [
      "INFO:pytimeloop.accelergy_interface:Running Accelergy with command: accelergy /home/workspace/output_dir/parsed-processed-input.yaml -o ./output_dir/ -v\n"
     ]
    },
    {
     "name": "stdout",
     "output_type": "stream",
     "text": [
      "55.03 627200\n",
      "['S', 'M', 'Q', 'C', 'R', 'N', 'P'] has a fitness of 2.8973064784699996e-08\n",
      "20/20 candidate\n",
      "[INFO] 2025-05-02 03:26:58,251 - pytimeloop.accelergy_interface - Running Accelergy with command: accelergy /home/workspace/output_dir/parsed-processed-input.yaml -o ./output_dir/ -v\n"
     ]
    },
    {
     "name": "stderr",
     "output_type": "stream",
     "text": [
      "INFO:pytimeloop.accelergy_interface:Running Accelergy with command: accelergy /home/workspace/output_dir/parsed-processed-input.yaml -o ./output_dir/ -v\n"
     ]
    },
    {
     "name": "stdout",
     "output_type": "stream",
     "text": [
      "55.03 627200\n",
      "['S', 'Q', 'M', 'C', 'P', 'N', 'R'] has a fitness of 2.8973064784699996e-08\n",
      "crossover\n",
      "1/15 candidate in crossover\n",
      "[INFO] 2025-05-02 03:27:51,866 - pytimeloop.accelergy_interface - Running Accelergy with command: accelergy /home/workspace/output_dir/parsed-processed-input.yaml -o ./output_dir/ -v\n"
     ]
    },
    {
     "name": "stderr",
     "output_type": "stream",
     "text": [
      "INFO:pytimeloop.accelergy_interface:Running Accelergy with command: accelergy /home/workspace/output_dir/parsed-processed-input.yaml -o ./output_dir/ -v\n"
     ]
    },
    {
     "name": "stdout",
     "output_type": "stream",
     "text": [
      "52.63 313600\n",
      "['M', 'P', 'C', 'S', 'Q', 'R', 'N'] has a fitness of 6.058855235044807e-08\n",
      "2/15 candidate in crossover\n",
      "[INFO] 2025-05-02 03:28:03,914 - pytimeloop.accelergy_interface - Running Accelergy with command: accelergy /home/workspace/output_dir/parsed-processed-input.yaml -o ./output_dir/ -v\n"
     ]
    },
    {
     "name": "stderr",
     "output_type": "stream",
     "text": [
      "INFO:pytimeloop.accelergy_interface:Running Accelergy with command: accelergy /home/workspace/output_dir/parsed-processed-input.yaml -o ./output_dir/ -v\n"
     ]
    },
    {
     "name": "stdout",
     "output_type": "stream",
     "text": [
      "55.03 627200\n",
      "['R', 'Q', 'S', 'M', 'P', 'C', 'N'] has a fitness of 2.8973064784699996e-08\n",
      "3/15 candidate in crossover\n",
      "[INFO] 2025-05-02 03:28:57,146 - pytimeloop.accelergy_interface - Running Accelergy with command: accelergy /home/workspace/output_dir/parsed-processed-input.yaml -o ./output_dir/ -v\n"
     ]
    },
    {
     "name": "stderr",
     "output_type": "stream",
     "text": [
      "INFO:pytimeloop.accelergy_interface:Running Accelergy with command: accelergy /home/workspace/output_dir/parsed-processed-input.yaml -o ./output_dir/ -v\n"
     ]
    },
    {
     "name": "stdout",
     "output_type": "stream",
     "text": [
      "62.01 313600\n",
      "['N', 'R', 'M', 'Q', 'S', 'C', 'P'] has a fitness of 5.1423568943784577e-08\n",
      "4/15 candidate in crossover\n",
      "[INFO] 2025-05-02 03:29:19,206 - pytimeloop.accelergy_interface - Running Accelergy with command: accelergy /home/workspace/output_dir/parsed-processed-input.yaml -o ./output_dir/ -v\n"
     ]
    },
    {
     "name": "stderr",
     "output_type": "stream",
     "text": [
      "INFO:pytimeloop.accelergy_interface:Running Accelergy with command: accelergy /home/workspace/output_dir/parsed-processed-input.yaml -o ./output_dir/ -v\n"
     ]
    },
    {
     "name": "stdout",
     "output_type": "stream",
     "text": [
      "55.03 627200\n",
      "['P', 'N', 'R', 'M', 'Q', 'S', 'C'] has a fitness of 2.8973064784699996e-08\n",
      "5/15 candidate in crossover\n",
      "[INFO] 2025-05-02 03:30:12,163 - pytimeloop.accelergy_interface - Running Accelergy with command: accelergy /home/workspace/output_dir/parsed-processed-input.yaml -o ./output_dir/ -v\n"
     ]
    },
    {
     "name": "stderr",
     "output_type": "stream",
     "text": [
      "INFO:pytimeloop.accelergy_interface:Running Accelergy with command: accelergy /home/workspace/output_dir/parsed-processed-input.yaml -o ./output_dir/ -v\n"
     ]
    },
    {
     "name": "stdout",
     "output_type": "stream",
     "text": [
      "55.03 627200\n",
      "['S', 'C', 'Q', 'M', 'R', 'N', 'P'] has a fitness of 2.8973064784699996e-08\n",
      "6/15 candidate in crossover\n",
      "already visited MPCSNQR\n",
      "7/15 candidate in crossover\n",
      "already visited SQMRCNP\n",
      "8/15 candidate in crossover\n",
      "already visited RQCSMNP\n",
      "9/15 candidate in crossover\n",
      "already visited SRMQPCN\n",
      "10/15 candidate in crossover\n",
      "already visited NRMQPSC\n",
      "11/15 candidate in crossover\n",
      "already visited RSMQCNP\n",
      "12/15 candidate in crossover\n",
      "already visited PRQCNSM\n",
      "13/15 candidate in crossover\n",
      "already visited NRMQPSC\n",
      "14/15 candidate in crossover\n",
      "already visited SRMQPCN\n",
      "15/15 candidate in crossover\n",
      "already visited CQMSRNP\n",
      "new best trial: ['M', 'P', 'C', 'S', 'Q', 'R', 'N'] with fitness 6.058855235044807e-08\n",
      "\n",
      "ITERATION:  1\n",
      "selection\n",
      "1/20 candidate\n",
      "[INFO] 2025-05-02 03:31:05,540 - pytimeloop.accelergy_interface - Running Accelergy with command: accelergy /home/workspace/output_dir/parsed-processed-input.yaml -o ./output_dir/ -v\n"
     ]
    },
    {
     "name": "stderr",
     "output_type": "stream",
     "text": [
      "INFO:pytimeloop.accelergy_interface:Running Accelergy with command: accelergy /home/workspace/output_dir/parsed-processed-input.yaml -o ./output_dir/ -v\n"
     ]
    },
    {
     "name": "stdout",
     "output_type": "stream",
     "text": [
      "55.03 627200\n",
      "['R', 'P', 'M', 'S', 'C', 'N', 'Q'] has a fitness of 2.8973064784699996e-08\n",
      "2/20 candidate\n",
      "[INFO] 2025-05-02 03:31:58,572 - pytimeloop.accelergy_interface - Running Accelergy with command: accelergy /home/workspace/output_dir/parsed-processed-input.yaml -o ./output_dir/ -v\n"
     ]
    },
    {
     "name": "stderr",
     "output_type": "stream",
     "text": [
      "INFO:pytimeloop.accelergy_interface:Running Accelergy with command: accelergy /home/workspace/output_dir/parsed-processed-input.yaml -o ./output_dir/ -v\n"
     ]
    },
    {
     "name": "stdout",
     "output_type": "stream",
     "text": [
      "55.03 627200\n",
      "['R', 'Q', 'N', 'S', 'C', 'M', 'P'] has a fitness of 2.8973064784699996e-08\n",
      "3/20 candidate\n",
      "[INFO] 2025-05-02 03:32:52,472 - pytimeloop.accelergy_interface - Running Accelergy with command: accelergy /home/workspace/output_dir/parsed-processed-input.yaml -o ./output_dir/ -v\n"
     ]
    },
    {
     "name": "stderr",
     "output_type": "stream",
     "text": [
      "INFO:pytimeloop.accelergy_interface:Running Accelergy with command: accelergy /home/workspace/output_dir/parsed-processed-input.yaml -o ./output_dir/ -v\n"
     ]
    },
    {
     "name": "stdout",
     "output_type": "stream",
     "text": [
      "55.03 627200\n",
      "['P', 'Q', 'M', 'S', 'C', 'N', 'R'] has a fitness of 2.8973064784699996e-08\n",
      "4/20 candidate\n",
      "[INFO] 2025-05-02 03:33:45,727 - pytimeloop.accelergy_interface - Running Accelergy with command: accelergy /home/workspace/output_dir/parsed-processed-input.yaml -o ./output_dir/ -v\n"
     ]
    },
    {
     "name": "stderr",
     "output_type": "stream",
     "text": [
      "INFO:pytimeloop.accelergy_interface:Running Accelergy with command: accelergy /home/workspace/output_dir/parsed-processed-input.yaml -o ./output_dir/ -v\n"
     ]
    },
    {
     "name": "stdout",
     "output_type": "stream",
     "text": [
      "55.03 627200\n",
      "['R', 'C', 'M', 'S', 'Q', 'N', 'P'] has a fitness of 2.8973064784699996e-08\n",
      "5/20 candidate\n",
      "[INFO] 2025-05-02 03:34:38,940 - pytimeloop.accelergy_interface - Running Accelergy with command: accelergy /home/workspace/output_dir/parsed-processed-input.yaml -o ./output_dir/ -v\n"
     ]
    },
    {
     "name": "stderr",
     "output_type": "stream",
     "text": [
      "INFO:pytimeloop.accelergy_interface:Running Accelergy with command: accelergy /home/workspace/output_dir/parsed-processed-input.yaml -o ./output_dir/ -v\n"
     ]
    },
    {
     "name": "stdout",
     "output_type": "stream",
     "text": [
      "55.03 627200\n",
      "['Q', 'R', 'M', 'C', 'P', 'S', 'N'] has a fitness of 2.8973064784699996e-08\n",
      "6/20 candidate\n",
      "[INFO] 2025-05-02 03:35:33,064 - pytimeloop.accelergy_interface - Running Accelergy with command: accelergy /home/workspace/output_dir/parsed-processed-input.yaml -o ./output_dir/ -v\n"
     ]
    },
    {
     "name": "stderr",
     "output_type": "stream",
     "text": [
      "INFO:pytimeloop.accelergy_interface:Running Accelergy with command: accelergy /home/workspace/output_dir/parsed-processed-input.yaml -o ./output_dir/ -v\n"
     ]
    },
    {
     "name": "stdout",
     "output_type": "stream",
     "text": [
      "55.03 627200\n",
      "['R', 'C', 'M', 'Q', 'P', 'S', 'N'] has a fitness of 2.8973064784699996e-08\n",
      "7/20 candidate\n",
      "[INFO] 2025-05-02 03:36:26,862 - pytimeloop.accelergy_interface - Running Accelergy with command: accelergy /home/workspace/output_dir/parsed-processed-input.yaml -o ./output_dir/ -v\n"
     ]
    },
    {
     "name": "stderr",
     "output_type": "stream",
     "text": [
      "INFO:pytimeloop.accelergy_interface:Running Accelergy with command: accelergy /home/workspace/output_dir/parsed-processed-input.yaml -o ./output_dir/ -v\n"
     ]
    },
    {
     "name": "stdout",
     "output_type": "stream",
     "text": [
      "52.63 313600\n",
      "['M', 'R', 'C', 'Q', 'P', 'S', 'N'] has a fitness of 6.058855235044807e-08\n",
      "8/20 candidate\n",
      "[INFO] 2025-05-02 03:36:39,218 - pytimeloop.accelergy_interface - Running Accelergy with command: accelergy /home/workspace/output_dir/parsed-processed-input.yaml -o ./output_dir/ -v\n"
     ]
    },
    {
     "name": "stderr",
     "output_type": "stream",
     "text": [
      "INFO:pytimeloop.accelergy_interface:Running Accelergy with command: accelergy /home/workspace/output_dir/parsed-processed-input.yaml -o ./output_dir/ -v\n"
     ]
    },
    {
     "name": "stdout",
     "output_type": "stream",
     "text": [
      "55.18 313600\n",
      "['C', 'R', 'M', 'S', 'P', 'Q', 'N'] has a fitness of 5.7788610188548055e-08\n",
      "9/20 candidate\n",
      "already visited QMPCNSR\n",
      "10/20 candidate\n",
      "[INFO] 2025-05-02 03:36:53,400 - pytimeloop.accelergy_interface - Running Accelergy with command: accelergy /home/workspace/output_dir/parsed-processed-input.yaml -o ./output_dir/ -v\n"
     ]
    },
    {
     "name": "stderr",
     "output_type": "stream",
     "text": [
      "INFO:pytimeloop.accelergy_interface:Running Accelergy with command: accelergy /home/workspace/output_dir/parsed-processed-input.yaml -o ./output_dir/ -v\n"
     ]
    },
    {
     "name": "stdout",
     "output_type": "stream",
     "text": [
      "55.03 627200\n",
      "['Q', 'R', 'P', 'C', 'N', 'M', 'S'] has a fitness of 2.8973064784699996e-08\n",
      "11/20 candidate\n",
      "[INFO] 2025-05-02 03:37:47,459 - pytimeloop.accelergy_interface - Running Accelergy with command: accelergy /home/workspace/output_dir/parsed-processed-input.yaml -o ./output_dir/ -v\n"
     ]
    },
    {
     "name": "stderr",
     "output_type": "stream",
     "text": [
      "INFO:pytimeloop.accelergy_interface:Running Accelergy with command: accelergy /home/workspace/output_dir/parsed-processed-input.yaml -o ./output_dir/ -v\n"
     ]
    },
    {
     "name": "stdout",
     "output_type": "stream",
     "text": [
      "55.03 627200\n",
      "['R', 'Q', 'P', 'C', 'N', 'S', 'M'] has a fitness of 2.8973064784699996e-08\n",
      "12/20 candidate\n",
      "[INFO] 2025-05-02 03:38:40,809 - pytimeloop.accelergy_interface - Running Accelergy with command: accelergy /home/workspace/output_dir/parsed-processed-input.yaml -o ./output_dir/ -v\n"
     ]
    },
    {
     "name": "stderr",
     "output_type": "stream",
     "text": [
      "INFO:pytimeloop.accelergy_interface:Running Accelergy with command: accelergy /home/workspace/output_dir/parsed-processed-input.yaml -o ./output_dir/ -v\n"
     ]
    },
    {
     "name": "stdout",
     "output_type": "stream",
     "text": [
      "62.01 313600\n",
      "['N', 'R', 'P', 'C', 'Q', 'S', 'M'] has a fitness of 5.1423568943784577e-08\n",
      "13/20 candidate\n",
      "[INFO] 2025-05-02 03:39:03,167 - pytimeloop.accelergy_interface - Running Accelergy with command: accelergy /home/workspace/output_dir/parsed-processed-input.yaml -o ./output_dir/ -v\n"
     ]
    },
    {
     "name": "stderr",
     "output_type": "stream",
     "text": [
      "INFO:pytimeloop.accelergy_interface:Running Accelergy with command: accelergy /home/workspace/output_dir/parsed-processed-input.yaml -o ./output_dir/ -v\n"
     ]
    },
    {
     "name": "stdout",
     "output_type": "stream",
     "text": [
      "55.03 627200\n",
      "['P', 'M', 'N', 'S', 'C', 'Q', 'R'] has a fitness of 2.8973064784699996e-08\n",
      "14/20 candidate\n",
      "[INFO] 2025-05-02 03:39:56,152 - pytimeloop.accelergy_interface - Running Accelergy with command: accelergy /home/workspace/output_dir/parsed-processed-input.yaml -o ./output_dir/ -v\n"
     ]
    },
    {
     "name": "stderr",
     "output_type": "stream",
     "text": [
      "INFO:pytimeloop.accelergy_interface:Running Accelergy with command: accelergy /home/workspace/output_dir/parsed-processed-input.yaml -o ./output_dir/ -v\n"
     ]
    },
    {
     "name": "stdout",
     "output_type": "stream",
     "text": [
      "55.03 627200\n",
      "['P', 'C', 'M', 'S', 'N', 'Q', 'R'] has a fitness of 2.8973064784699996e-08\n",
      "15/20 candidate\n",
      "[INFO] 2025-05-02 03:40:52,565 - pytimeloop.accelergy_interface - Running Accelergy with command: accelergy /home/workspace/output_dir/parsed-processed-input.yaml -o ./output_dir/ -v\n"
     ]
    },
    {
     "name": "stderr",
     "output_type": "stream",
     "text": [
      "INFO:pytimeloop.accelergy_interface:Running Accelergy with command: accelergy /home/workspace/output_dir/parsed-processed-input.yaml -o ./output_dir/ -v\n"
     ]
    },
    {
     "name": "stdout",
     "output_type": "stream",
     "text": [
      "55.03 627200\n",
      "['P', 'S', 'C', 'M', 'N', 'Q', 'R'] has a fitness of 2.8973064784699996e-08\n",
      "16/20 candidate\n",
      "already visited PCMSNQR\n",
      "17/20 candidate\n",
      "[INFO] 2025-05-02 03:41:45,741 - pytimeloop.accelergy_interface - Running Accelergy with command: accelergy /home/workspace/output_dir/parsed-processed-input.yaml -o ./output_dir/ -v\n"
     ]
    },
    {
     "name": "stderr",
     "output_type": "stream",
     "text": [
      "INFO:pytimeloop.accelergy_interface:Running Accelergy with command: accelergy /home/workspace/output_dir/parsed-processed-input.yaml -o ./output_dir/ -v\n"
     ]
    },
    {
     "name": "stdout",
     "output_type": "stream",
     "text": [
      "55.03 627200\n",
      "['S', 'M', 'Q', 'C', 'N', 'P', 'R'] has a fitness of 2.8973064784699996e-08\n",
      "18/20 candidate\n",
      "[INFO] 2025-05-02 03:42:38,723 - pytimeloop.accelergy_interface - Running Accelergy with command: accelergy /home/workspace/output_dir/parsed-processed-input.yaml -o ./output_dir/ -v\n"
     ]
    },
    {
     "name": "stderr",
     "output_type": "stream",
     "text": [
      "INFO:pytimeloop.accelergy_interface:Running Accelergy with command: accelergy /home/workspace/output_dir/parsed-processed-input.yaml -o ./output_dir/ -v\n"
     ]
    },
    {
     "name": "stdout",
     "output_type": "stream",
     "text": [
      "55.03 627200\n",
      "['S', 'N', 'Q', 'C', 'P', 'M', 'R'] has a fitness of 2.8973064784699996e-08\n",
      "19/20 candidate\n",
      "[INFO] 2025-05-02 03:43:33,150 - pytimeloop.accelergy_interface - Running Accelergy with command: accelergy /home/workspace/output_dir/parsed-processed-input.yaml -o ./output_dir/ -v\n"
     ]
    },
    {
     "name": "stderr",
     "output_type": "stream",
     "text": [
      "INFO:pytimeloop.accelergy_interface:Running Accelergy with command: accelergy /home/workspace/output_dir/parsed-processed-input.yaml -o ./output_dir/ -v\n"
     ]
    },
    {
     "name": "stdout",
     "output_type": "stream",
     "text": [
      "55.03 627200\n",
      "['S', 'C', 'Q', 'M', 'P', 'N', 'R'] has a fitness of 2.8973064784699996e-08\n",
      "20/20 candidate\n",
      "[INFO] 2025-05-02 03:44:27,120 - pytimeloop.accelergy_interface - Running Accelergy with command: accelergy /home/workspace/output_dir/parsed-processed-input.yaml -o ./output_dir/ -v\n"
     ]
    },
    {
     "name": "stderr",
     "output_type": "stream",
     "text": [
      "INFO:pytimeloop.accelergy_interface:Running Accelergy with command: accelergy /home/workspace/output_dir/parsed-processed-input.yaml -o ./output_dir/ -v\n"
     ]
    },
    {
     "name": "stdout",
     "output_type": "stream",
     "text": [
      "55.03 627200\n",
      "['S', 'M', 'Q', 'P', 'C', 'N', 'R'] has a fitness of 2.8973064784699996e-08\n",
      "crossover\n",
      "1/15 candidate in crossover\n",
      "[INFO] 2025-05-02 03:45:20,744 - pytimeloop.accelergy_interface - Running Accelergy with command: accelergy /home/workspace/output_dir/parsed-processed-input.yaml -o ./output_dir/ -v\n"
     ]
    },
    {
     "name": "stderr",
     "output_type": "stream",
     "text": [
      "INFO:pytimeloop.accelergy_interface:Running Accelergy with command: accelergy /home/workspace/output_dir/parsed-processed-input.yaml -o ./output_dir/ -v\n"
     ]
    },
    {
     "name": "stdout",
     "output_type": "stream",
     "text": [
      "55.03 627200\n",
      "['R', 'N', 'P', 'C', 'Q', 'S', 'M'] has a fitness of 2.8973064784699996e-08\n",
      "2/15 candidate in crossover\n",
      "already visited RQNSCMP\n",
      "3/15 candidate in crossover\n",
      "[INFO] 2025-05-02 03:46:14,453 - pytimeloop.accelergy_interface - Running Accelergy with command: accelergy /home/workspace/output_dir/parsed-processed-input.yaml -o ./output_dir/ -v\n"
     ]
    },
    {
     "name": "stderr",
     "output_type": "stream",
     "text": [
      "INFO:pytimeloop.accelergy_interface:Running Accelergy with command: accelergy /home/workspace/output_dir/parsed-processed-input.yaml -o ./output_dir/ -v\n"
     ]
    },
    {
     "name": "stdout",
     "output_type": "stream",
     "text": [
      "55.03 627200\n",
      "['R', 'P', 'M', 'S', 'C', 'Q', 'N'] has a fitness of 2.8973064784699996e-08\n",
      "4/15 candidate in crossover\n",
      "[INFO] 2025-05-02 03:47:08,877 - pytimeloop.accelergy_interface - Running Accelergy with command: accelergy /home/workspace/output_dir/parsed-processed-input.yaml -o ./output_dir/ -v\n"
     ]
    },
    {
     "name": "stderr",
     "output_type": "stream",
     "text": [
      "INFO:pytimeloop.accelergy_interface:Running Accelergy with command: accelergy /home/workspace/output_dir/parsed-processed-input.yaml -o ./output_dir/ -v\n"
     ]
    },
    {
     "name": "stdout",
     "output_type": "stream",
     "text": [
      "55.03 627200\n",
      "['Q', 'R', 'M', 'P', 'C', 'N', 'S'] has a fitness of 2.8973064784699996e-08\n",
      "5/15 candidate in crossover\n",
      "already visited CRMSPQN\n",
      "6/15 candidate in crossover\n",
      "already visited RCMQPSN\n",
      "7/15 candidate in crossover\n",
      "already visited NRPCQSM\n",
      "8/15 candidate in crossover\n",
      "already visited RQNSCMP\n",
      "9/15 candidate in crossover\n",
      "already visited RCMSQNP\n",
      "10/15 candidate in crossover\n",
      "already visited RPMSCNQ\n",
      "11/15 candidate in crossover\n",
      "already visited MRCQPSN\n",
      "12/15 candidate in crossover\n",
      "already visited QRMCPSN\n",
      "13/15 candidate in crossover\n",
      "already visited QMPCNSR\n",
      "14/15 candidate in crossover\n",
      "already visited CRMSPQN\n",
      "15/15 candidate in crossover\n",
      "already visited PQMSCNR\n",
      "\n",
      "ITERATION:  2\n",
      "selection\n",
      "1/20 candidate\n",
      "already visited RCMSQNP\n",
      "2/20 candidate\n",
      "[INFO] 2025-05-02 03:48:02,454 - pytimeloop.accelergy_interface - Running Accelergy with command: accelergy /home/workspace/output_dir/parsed-processed-input.yaml -o ./output_dir/ -v\n"
     ]
    },
    {
     "name": "stderr",
     "output_type": "stream",
     "text": [
      "INFO:pytimeloop.accelergy_interface:Running Accelergy with command: accelergy /home/workspace/output_dir/parsed-processed-input.yaml -o ./output_dir/ -v\n"
     ]
    },
    {
     "name": "stdout",
     "output_type": "stream",
     "text": [
      "55.03 627200\n",
      "['R', 'N', 'M', 'S', 'C', 'Q', 'P'] has a fitness of 2.8973064784699996e-08\n",
      "3/20 candidate\n",
      "already visited SQMRCNP\n",
      "4/20 candidate\n",
      "already visited SQMRCNP\n",
      "5/20 candidate\n",
      "already visited MRCQPSN\n",
      "6/20 candidate\n",
      "[INFO] 2025-05-02 03:48:55,617 - pytimeloop.accelergy_interface - Running Accelergy with command: accelergy /home/workspace/output_dir/parsed-processed-input.yaml -o ./output_dir/ -v\n"
     ]
    },
    {
     "name": "stderr",
     "output_type": "stream",
     "text": [
      "INFO:pytimeloop.accelergy_interface:Running Accelergy with command: accelergy /home/workspace/output_dir/parsed-processed-input.yaml -o ./output_dir/ -v\n"
     ]
    },
    {
     "name": "stdout",
     "output_type": "stream",
     "text": [
      "55.18 313600\n",
      "['C', 'R', 'Q', 'M', 'P', 'S', 'N'] has a fitness of 5.7788610188548055e-08\n",
      "7/20 candidate\n",
      "[INFO] 2025-05-02 03:49:09,365 - pytimeloop.accelergy_interface - Running Accelergy with command: accelergy /home/workspace/output_dir/parsed-processed-input.yaml -o ./output_dir/ -v\n"
     ]
    },
    {
     "name": "stderr",
     "output_type": "stream",
     "text": [
      "INFO:pytimeloop.accelergy_interface:Running Accelergy with command: accelergy /home/workspace/output_dir/parsed-processed-input.yaml -o ./output_dir/ -v\n"
     ]
    },
    {
     "name": "stdout",
     "output_type": "stream",
     "text": [
      "55.18 313600\n",
      "['C', 'R', 'M', 'Q', 'S', 'P', 'N'] has a fitness of 5.7788610188548055e-08\n",
      "8/20 candidate\n",
      "already visited MRCQPSN\n",
      "9/20 candidate\n",
      "[INFO] 2025-05-02 03:49:23,379 - pytimeloop.accelergy_interface - Running Accelergy with command: accelergy /home/workspace/output_dir/parsed-processed-input.yaml -o ./output_dir/ -v\n"
     ]
    },
    {
     "name": "stderr",
     "output_type": "stream",
     "text": [
      "INFO:pytimeloop.accelergy_interface:Running Accelergy with command: accelergy /home/workspace/output_dir/parsed-processed-input.yaml -o ./output_dir/ -v\n"
     ]
    },
    {
     "name": "stdout",
     "output_type": "stream",
     "text": [
      "55.03 627200\n",
      "['Q', 'R', 'P', 'N', 'C', 'S', 'M'] has a fitness of 2.8973064784699996e-08\n",
      "10/20 candidate\n",
      "[INFO] 2025-05-02 03:50:17,288 - pytimeloop.accelergy_interface - Running Accelergy with command: accelergy /home/workspace/output_dir/parsed-processed-input.yaml -o ./output_dir/ -v\n"
     ]
    },
    {
     "name": "stderr",
     "output_type": "stream",
     "text": [
      "INFO:pytimeloop.accelergy_interface:Running Accelergy with command: accelergy /home/workspace/output_dir/parsed-processed-input.yaml -o ./output_dir/ -v\n"
     ]
    },
    {
     "name": "stdout",
     "output_type": "stream",
     "text": [
      "55.03 627200\n",
      "['Q', 'R', 'P', 'M', 'N', 'S', 'C'] has a fitness of 2.8973064784699996e-08\n",
      "11/20 candidate\n",
      "already visited QNPCRSM\n",
      "12/20 candidate\n",
      "[INFO] 2025-05-02 03:51:10,897 - pytimeloop.accelergy_interface - Running Accelergy with command: accelergy /home/workspace/output_dir/parsed-processed-input.yaml -o ./output_dir/ -v\n"
     ]
    },
    {
     "name": "stderr",
     "output_type": "stream",
     "text": [
      "INFO:pytimeloop.accelergy_interface:Running Accelergy with command: accelergy /home/workspace/output_dir/parsed-processed-input.yaml -o ./output_dir/ -v\n"
     ]
    },
    {
     "name": "stdout",
     "output_type": "stream",
     "text": [
      "55.18 313600\n",
      "['C', 'R', 'P', 'Q', 'N', 'S', 'M'] has a fitness of 5.7788610188548055e-08\n",
      "13/20 candidate\n",
      "[INFO] 2025-05-02 03:51:24,511 - pytimeloop.accelergy_interface - Running Accelergy with command: accelergy /home/workspace/output_dir/parsed-processed-input.yaml -o ./output_dir/ -v\n"
     ]
    },
    {
     "name": "stderr",
     "output_type": "stream",
     "text": [
      "INFO:pytimeloop.accelergy_interface:Running Accelergy with command: accelergy /home/workspace/output_dir/parsed-processed-input.yaml -o ./output_dir/ -v\n"
     ]
    },
    {
     "name": "stdout",
     "output_type": "stream",
     "text": [
      "55.03 627200\n",
      "['P', 'Q', 'C', 'S', 'N', 'M', 'R'] has a fitness of 2.8973064784699996e-08\n",
      "14/20 candidate\n",
      "[INFO] 2025-05-02 03:52:17,572 - pytimeloop.accelergy_interface - Running Accelergy with command: accelergy /home/workspace/output_dir/parsed-processed-input.yaml -o ./output_dir/ -v\n"
     ]
    },
    {
     "name": "stderr",
     "output_type": "stream",
     "text": [
      "INFO:pytimeloop.accelergy_interface:Running Accelergy with command: accelergy /home/workspace/output_dir/parsed-processed-input.yaml -o ./output_dir/ -v\n"
     ]
    },
    {
     "name": "stdout",
     "output_type": "stream",
     "text": [
      "55.03 627200\n",
      "['P', 'M', 'C', 'N', 'S', 'Q', 'R'] has a fitness of 2.8973064784699996e-08\n",
      "15/20 candidate\n",
      "[INFO] 2025-05-02 03:53:11,514 - pytimeloop.accelergy_interface - Running Accelergy with command: accelergy /home/workspace/output_dir/parsed-processed-input.yaml -o ./output_dir/ -v\n"
     ]
    },
    {
     "name": "stderr",
     "output_type": "stream",
     "text": [
      "INFO:pytimeloop.accelergy_interface:Running Accelergy with command: accelergy /home/workspace/output_dir/parsed-processed-input.yaml -o ./output_dir/ -v\n"
     ]
    },
    {
     "name": "stdout",
     "output_type": "stream",
     "text": [
      "55.03 627200\n",
      "['P', 'M', 'C', 'Q', 'N', 'S', 'R'] has a fitness of 2.8973064784699996e-08\n",
      "16/20 candidate\n",
      "already visited MPCSNQR\n",
      "17/20 candidate\n",
      "[INFO] 2025-05-02 03:54:05,823 - pytimeloop.accelergy_interface - Running Accelergy with command: accelergy /home/workspace/output_dir/parsed-processed-input.yaml -o ./output_dir/ -v\n"
     ]
    },
    {
     "name": "stderr",
     "output_type": "stream",
     "text": [
      "INFO:pytimeloop.accelergy_interface:Running Accelergy with command: accelergy /home/workspace/output_dir/parsed-processed-input.yaml -o ./output_dir/ -v\n"
     ]
    },
    {
     "name": "stdout",
     "output_type": "stream",
     "text": [
      "55.03 627200\n",
      "['S', 'M', 'N', 'C', 'P', 'Q', 'R'] has a fitness of 2.8973064784699996e-08\n",
      "18/20 candidate\n",
      "[INFO] 2025-05-02 03:55:00,059 - pytimeloop.accelergy_interface - Running Accelergy with command: accelergy /home/workspace/output_dir/parsed-processed-input.yaml -o ./output_dir/ -v\n"
     ]
    },
    {
     "name": "stderr",
     "output_type": "stream",
     "text": [
      "INFO:pytimeloop.accelergy_interface:Running Accelergy with command: accelergy /home/workspace/output_dir/parsed-processed-input.yaml -o ./output_dir/ -v\n"
     ]
    },
    {
     "name": "stdout",
     "output_type": "stream",
     "text": [
      "55.03 627200\n",
      "['S', 'M', 'R', 'C', 'P', 'N', 'Q'] has a fitness of 2.8973064784699996e-08\n",
      "19/20 candidate\n",
      "[INFO] 2025-05-02 03:55:53,671 - pytimeloop.accelergy_interface - Running Accelergy with command: accelergy /home/workspace/output_dir/parsed-processed-input.yaml -o ./output_dir/ -v\n"
     ]
    },
    {
     "name": "stderr",
     "output_type": "stream",
     "text": [
      "INFO:pytimeloop.accelergy_interface:Running Accelergy with command: accelergy /home/workspace/output_dir/parsed-processed-input.yaml -o ./output_dir/ -v\n"
     ]
    },
    {
     "name": "stdout",
     "output_type": "stream",
     "text": [
      "55.03 627200\n",
      "['S', 'M', 'Q', 'R', 'P', 'N', 'C'] has a fitness of 2.8973064784699996e-08\n",
      "20/20 candidate\n",
      "already visited SMNCPQR\n",
      "crossover\n",
      "1/15 candidate in crossover\n",
      "[INFO] 2025-05-02 03:56:48,417 - pytimeloop.accelergy_interface - Running Accelergy with command: accelergy /home/workspace/output_dir/parsed-processed-input.yaml -o ./output_dir/ -v\n"
     ]
    },
    {
     "name": "stderr",
     "output_type": "stream",
     "text": [
      "INFO:pytimeloop.accelergy_interface:Running Accelergy with command: accelergy /home/workspace/output_dir/parsed-processed-input.yaml -o ./output_dir/ -v\n"
     ]
    },
    {
     "name": "stdout",
     "output_type": "stream",
     "text": [
      "55.18 313600\n",
      "['C', 'M', 'P', 'S', 'N', 'Q', 'R'] has a fitness of 5.7788610188548055e-08\n",
      "2/15 candidate in crossover\n",
      "[INFO] 2025-05-02 03:57:02,270 - pytimeloop.accelergy_interface - Running Accelergy with command: accelergy /home/workspace/output_dir/parsed-processed-input.yaml -o ./output_dir/ -v\n"
     ]
    },
    {
     "name": "stderr",
     "output_type": "stream",
     "text": [
      "INFO:pytimeloop.accelergy_interface:Running Accelergy with command: accelergy /home/workspace/output_dir/parsed-processed-input.yaml -o ./output_dir/ -v\n"
     ]
    },
    {
     "name": "stdout",
     "output_type": "stream",
     "text": [
      "55.18 313600\n",
      "['C', 'R', 'M', 'S', 'Q', 'N', 'P'] has a fitness of 5.7788610188548055e-08\n",
      "3/15 candidate in crossover\n",
      "[INFO] 2025-05-02 03:57:15,952 - pytimeloop.accelergy_interface - Running Accelergy with command: accelergy /home/workspace/output_dir/parsed-processed-input.yaml -o ./output_dir/ -v\n"
     ]
    },
    {
     "name": "stderr",
     "output_type": "stream",
     "text": [
      "INFO:pytimeloop.accelergy_interface:Running Accelergy with command: accelergy /home/workspace/output_dir/parsed-processed-input.yaml -o ./output_dir/ -v\n"
     ]
    },
    {
     "name": "stdout",
     "output_type": "stream",
     "text": [
      "52.63 313600\n",
      "['M', 'R', 'S', 'Q', 'C', 'N', 'P'] has a fitness of 6.058855235044807e-08\n",
      "4/15 candidate in crossover\n",
      "already visited CRMQPSN\n",
      "5/15 candidate in crossover\n",
      "already visited RNMSCQP\n",
      "6/15 candidate in crossover\n",
      "already visited CRPQNSM\n",
      "7/15 candidate in crossover\n",
      "already visited MPCSNQR\n",
      "8/15 candidate in crossover\n",
      "already visited CRMQSPN\n",
      "9/15 candidate in crossover\n",
      "already visited RCMSQNP\n",
      "10/15 candidate in crossover\n",
      "already visited MRCQPSN\n",
      "11/15 candidate in crossover\n",
      "already visited SQMRCNP\n",
      "12/15 candidate in crossover\n",
      "already visited CRQMPSN\n",
      "13/15 candidate in crossover\n",
      "already visited MRCQPSN\n",
      "14/15 candidate in crossover\n",
      "already visited RNMSCQP\n",
      "15/15 candidate in crossover\n",
      "already visited SQMRCNP\n",
      "\n",
      "ITERATION:  3\n",
      "selection\n",
      "1/20 candidate\n",
      "[INFO] 2025-05-02 03:57:28,025 - pytimeloop.accelergy_interface - Running Accelergy with command: accelergy /home/workspace/output_dir/parsed-processed-input.yaml -o ./output_dir/ -v\n"
     ]
    },
    {
     "name": "stderr",
     "output_type": "stream",
     "text": [
      "INFO:pytimeloop.accelergy_interface:Running Accelergy with command: accelergy /home/workspace/output_dir/parsed-processed-input.yaml -o ./output_dir/ -v\n"
     ]
    },
    {
     "name": "stdout",
     "output_type": "stream",
     "text": [
      "55.03 627200\n",
      "['R', 'Q', 'M', 'S', 'N', 'C', 'P'] has a fitness of 2.8973064784699996e-08\n",
      "2/20 candidate\n",
      "[INFO] 2025-05-02 03:58:22,487 - pytimeloop.accelergy_interface - Running Accelergy with command: accelergy /home/workspace/output_dir/parsed-processed-input.yaml -o ./output_dir/ -v\n"
     ]
    },
    {
     "name": "stderr",
     "output_type": "stream",
     "text": [
      "INFO:pytimeloop.accelergy_interface:Running Accelergy with command: accelergy /home/workspace/output_dir/parsed-processed-input.yaml -o ./output_dir/ -v\n"
     ]
    },
    {
     "name": "stdout",
     "output_type": "stream",
     "text": [
      "55.03 627200\n",
      "['R', 'Q', 'M', 'N', 'C', 'S', 'P'] has a fitness of 2.8973064784699996e-08\n",
      "3/20 candidate\n",
      "already visited CQMSRNP\n",
      "4/20 candidate\n",
      "[INFO] 2025-05-02 03:59:17,204 - pytimeloop.accelergy_interface - Running Accelergy with command: accelergy /home/workspace/output_dir/parsed-processed-input.yaml -o ./output_dir/ -v\n"
     ]
    },
    {
     "name": "stderr",
     "output_type": "stream",
     "text": [
      "INFO:pytimeloop.accelergy_interface:Running Accelergy with command: accelergy /home/workspace/output_dir/parsed-processed-input.yaml -o ./output_dir/ -v\n"
     ]
    },
    {
     "name": "stdout",
     "output_type": "stream",
     "text": [
      "55.03 627200\n",
      "['R', 'Q', 'M', 'S', 'C', 'P', 'N'] has a fitness of 2.8973064784699996e-08\n",
      "5/20 candidate\n",
      "[INFO] 2025-05-02 04:00:11,199 - pytimeloop.accelergy_interface - Running Accelergy with command: accelergy /home/workspace/output_dir/parsed-processed-input.yaml -o ./output_dir/ -v\n"
     ]
    },
    {
     "name": "stderr",
     "output_type": "stream",
     "text": [
      "INFO:pytimeloop.accelergy_interface:Running Accelergy with command: accelergy /home/workspace/output_dir/parsed-processed-input.yaml -o ./output_dir/ -v\n"
     ]
    },
    {
     "name": "stdout",
     "output_type": "stream",
     "text": [
      "55.18 313600\n",
      "['C', 'R', 'S', 'Q', 'P', 'M', 'N'] has a fitness of 5.7788610188548055e-08\n",
      "6/20 candidate\n",
      "[INFO] 2025-05-02 04:00:24,981 - pytimeloop.accelergy_interface - Running Accelergy with command: accelergy /home/workspace/output_dir/parsed-processed-input.yaml -o ./output_dir/ -v\n"
     ]
    },
    {
     "name": "stderr",
     "output_type": "stream",
     "text": [
      "INFO:pytimeloop.accelergy_interface:Running Accelergy with command: accelergy /home/workspace/output_dir/parsed-processed-input.yaml -o ./output_dir/ -v\n"
     ]
    },
    {
     "name": "stdout",
     "output_type": "stream",
     "text": [
      "55.18 313600\n",
      "['C', 'R', 'P', 'Q', 'M', 'S', 'N'] has a fitness of 5.7788610188548055e-08\n",
      "7/20 candidate\n",
      "already visited NRMQPSC\n",
      "8/20 candidate\n",
      "already visited CRMSPQN\n",
      "9/20 candidate\n",
      "already visited QRPMNSC\n",
      "10/20 candidate\n",
      "already visited QRPNCSM\n",
      "11/20 candidate\n",
      "already visited SRPCNQM\n",
      "12/20 candidate\n",
      "[INFO] 2025-05-02 04:00:38,547 - pytimeloop.accelergy_interface - Running Accelergy with command: accelergy /home/workspace/output_dir/parsed-processed-input.yaml -o ./output_dir/ -v\n"
     ]
    },
    {
     "name": "stderr",
     "output_type": "stream",
     "text": [
      "INFO:pytimeloop.accelergy_interface:Running Accelergy with command: accelergy /home/workspace/output_dir/parsed-processed-input.yaml -o ./output_dir/ -v\n"
     ]
    },
    {
     "name": "stdout",
     "output_type": "stream",
     "text": [
      "55.03 627200\n",
      "['Q', 'R', 'N', 'C', 'P', 'S', 'M'] has a fitness of 2.8973064784699996e-08\n",
      "13/20 candidate\n",
      "[INFO] 2025-05-02 04:01:33,576 - pytimeloop.accelergy_interface - Running Accelergy with command: accelergy /home/workspace/output_dir/parsed-processed-input.yaml -o ./output_dir/ -v\n"
     ]
    },
    {
     "name": "stderr",
     "output_type": "stream",
     "text": [
      "INFO:pytimeloop.accelergy_interface:Running Accelergy with command: accelergy /home/workspace/output_dir/parsed-processed-input.yaml -o ./output_dir/ -v\n"
     ]
    },
    {
     "name": "stdout",
     "output_type": "stream",
     "text": [
      "55.03 627200\n",
      "['P', 'M', 'S', 'C', 'N', 'Q', 'R'] has a fitness of 2.8973064784699996e-08\n",
      "14/20 candidate\n",
      "[INFO] 2025-05-02 04:02:30,696 - pytimeloop.accelergy_interface - Running Accelergy with command: accelergy /home/workspace/output_dir/parsed-processed-input.yaml -o ./output_dir/ -v\n"
     ]
    },
    {
     "name": "stderr",
     "output_type": "stream",
     "text": [
      "INFO:pytimeloop.accelergy_interface:Running Accelergy with command: accelergy /home/workspace/output_dir/parsed-processed-input.yaml -o ./output_dir/ -v\n"
     ]
    },
    {
     "name": "stdout",
     "output_type": "stream",
     "text": [
      "55.03 627200\n",
      "['P', 'M', 'C', 'S', 'N', 'R', 'Q'] has a fitness of 2.8973064784699996e-08\n",
      "15/20 candidate\n",
      "already visited PSCMNQR\n",
      "16/20 candidate\n",
      "already visited RMCSNQP\n",
      "17/20 candidate\n",
      "already visited SMQCRNP\n",
      "18/20 candidate\n",
      "[INFO] 2025-05-02 04:03:25,177 - pytimeloop.accelergy_interface - Running Accelergy with command: accelergy /home/workspace/output_dir/parsed-processed-input.yaml -o ./output_dir/ -v\n"
     ]
    },
    {
     "name": "stderr",
     "output_type": "stream",
     "text": [
      "INFO:pytimeloop.accelergy_interface:Running Accelergy with command: accelergy /home/workspace/output_dir/parsed-processed-input.yaml -o ./output_dir/ -v\n"
     ]
    },
    {
     "name": "stdout",
     "output_type": "stream",
     "text": [
      "55.03 627200\n",
      "['S', 'M', 'P', 'C', 'Q', 'N', 'R'] has a fitness of 2.8973064784699996e-08\n",
      "19/20 candidate\n",
      "already visited SNQCPMR\n",
      "20/20 candidate\n",
      "already visited SMPCQNR\n",
      "crossover\n",
      "1/15 candidate in crossover\n",
      "[INFO] 2025-05-02 04:04:19,283 - pytimeloop.accelergy_interface - Running Accelergy with command: accelergy /home/workspace/output_dir/parsed-processed-input.yaml -o ./output_dir/ -v\n"
     ]
    },
    {
     "name": "stderr",
     "output_type": "stream",
     "text": [
      "INFO:pytimeloop.accelergy_interface:Running Accelergy with command: accelergy /home/workspace/output_dir/parsed-processed-input.yaml -o ./output_dir/ -v\n"
     ]
    },
    {
     "name": "stdout",
     "output_type": "stream",
     "text": [
      "55.18 313600\n",
      "['C', 'R', 'M', 'S', 'Q', 'P', 'N'] has a fitness of 5.7788610188548055e-08\n",
      "2/15 candidate in crossover\n",
      "already visited RQMSNCP\n",
      "3/15 candidate in crossover\n",
      "[INFO] 2025-05-02 04:04:32,952 - pytimeloop.accelergy_interface - Running Accelergy with command: accelergy /home/workspace/output_dir/parsed-processed-input.yaml -o ./output_dir/ -v\n"
     ]
    },
    {
     "name": "stderr",
     "output_type": "stream",
     "text": [
      "INFO:pytimeloop.accelergy_interface:Running Accelergy with command: accelergy /home/workspace/output_dir/parsed-processed-input.yaml -o ./output_dir/ -v\n"
     ]
    },
    {
     "name": "stdout",
     "output_type": "stream",
     "text": [
      "55.18 313600\n",
      "['C', 'Q', 'M', 'R', 'P', 'S', 'N'] has a fitness of 5.7788610188548055e-08\n",
      "4/15 candidate in crossover\n",
      "[INFO] 2025-05-02 04:04:47,210 - pytimeloop.accelergy_interface - Running Accelergy with command: accelergy /home/workspace/output_dir/parsed-processed-input.yaml -o ./output_dir/ -v\n"
     ]
    },
    {
     "name": "stderr",
     "output_type": "stream",
     "text": [
      "INFO:pytimeloop.accelergy_interface:Running Accelergy with command: accelergy /home/workspace/output_dir/parsed-processed-input.yaml -o ./output_dir/ -v\n"
     ]
    },
    {
     "name": "stdout",
     "output_type": "stream",
     "text": [
      "55.03 627200\n",
      "['Q', 'R', 'P', 'N', 'M', 'S', 'C'] has a fitness of 2.8973064784699996e-08\n",
      "5/15 candidate in crossover\n",
      "already visited CRSQPMN\n",
      "6/15 candidate in crossover\n",
      "already visited CRMSPQN\n",
      "7/15 candidate in crossover\n",
      "already visited QRPNCSM\n",
      "8/15 candidate in crossover\n",
      "already visited RQMSNCP\n",
      "9/15 candidate in crossover\n",
      "already visited RQMSCPN\n",
      "10/15 candidate in crossover\n",
      "already visited CQMSRNP\n",
      "11/15 candidate in crossover\n",
      "already visited CRPQMSN\n",
      "12/15 candidate in crossover\n",
      "already visited QRPMNSC\n",
      "13/15 candidate in crossover\n",
      "already visited NRMQPSC\n",
      "14/15 candidate in crossover\n",
      "already visited CRSQPMN\n",
      "15/15 candidate in crossover\n",
      "already visited RQMNCSP\n",
      "\n",
      "ITERATION:  4\n",
      "selection\n",
      "1/20 candidate\n",
      "already visited RNMSCQP\n",
      "2/20 candidate\n",
      "already visited CQMSRNP\n",
      "3/20 candidate\n",
      "[INFO] 2025-05-02 04:05:41,980 - pytimeloop.accelergy_interface - Running Accelergy with command: accelergy /home/workspace/output_dir/parsed-processed-input.yaml -o ./output_dir/ -v\n"
     ]
    },
    {
     "name": "stderr",
     "output_type": "stream",
     "text": [
      "INFO:pytimeloop.accelergy_interface:Running Accelergy with command: accelergy /home/workspace/output_dir/parsed-processed-input.yaml -o ./output_dir/ -v\n"
     ]
    },
    {
     "name": "stdout",
     "output_type": "stream",
     "text": [
      "55.03 627200\n",
      "['R', 'Q', 'P', 'S', 'C', 'N', 'M'] has a fitness of 2.8973064784699996e-08\n",
      "4/20 candidate\n",
      "[INFO] 2025-05-02 04:06:35,247 - pytimeloop.accelergy_interface - Running Accelergy with command: accelergy /home/workspace/output_dir/parsed-processed-input.yaml -o ./output_dir/ -v\n"
     ]
    },
    {
     "name": "stderr",
     "output_type": "stream",
     "text": [
      "INFO:pytimeloop.accelergy_interface:Running Accelergy with command: accelergy /home/workspace/output_dir/parsed-processed-input.yaml -o ./output_dir/ -v\n"
     ]
    },
    {
     "name": "stdout",
     "output_type": "stream",
     "text": [
      "52.63 313600\n",
      "['M', 'Q', 'R', 'S', 'C', 'N', 'P'] has a fitness of 6.058855235044807e-08\n",
      "5/20 candidate\n",
      "already visited CRQMPSN\n",
      "6/20 candidate\n",
      "already visited CRQMPSN\n",
      "7/20 candidate\n",
      "[INFO] 2025-05-02 04:06:47,853 - pytimeloop.accelergy_interface - Running Accelergy with command: accelergy /home/workspace/output_dir/parsed-processed-input.yaml -o ./output_dir/ -v\n"
     ]
    },
    {
     "name": "stderr",
     "output_type": "stream",
     "text": [
      "INFO:pytimeloop.accelergy_interface:Running Accelergy with command: accelergy /home/workspace/output_dir/parsed-processed-input.yaml -o ./output_dir/ -v\n"
     ]
    },
    {
     "name": "stdout",
     "output_type": "stream",
     "text": [
      "55.18 313600\n",
      "['C', 'R', 'M', 'Q', 'P', 'N', 'S'] has a fitness of 5.7788610188548055e-08\n",
      "8/20 candidate\n",
      "[INFO] 2025-05-02 04:07:01,639 - pytimeloop.accelergy_interface - Running Accelergy with command: accelergy /home/workspace/output_dir/parsed-processed-input.yaml -o ./output_dir/ -v\n"
     ]
    },
    {
     "name": "stderr",
     "output_type": "stream",
     "text": [
      "INFO:pytimeloop.accelergy_interface:Running Accelergy with command: accelergy /home/workspace/output_dir/parsed-processed-input.yaml -o ./output_dir/ -v\n"
     ]
    },
    {
     "name": "stdout",
     "output_type": "stream",
     "text": [
      "55.18 313600\n",
      "['C', 'S', 'M', 'Q', 'P', 'R', 'N'] has a fitness of 5.7788610188548055e-08\n",
      "9/20 candidate\n",
      "already visited QRNCPSM\n",
      "10/20 candidate\n",
      "[INFO] 2025-05-02 04:07:15,793 - pytimeloop.accelergy_interface - Running Accelergy with command: accelergy /home/workspace/output_dir/parsed-processed-input.yaml -o ./output_dir/ -v\n"
     ]
    },
    {
     "name": "stderr",
     "output_type": "stream",
     "text": [
      "INFO:pytimeloop.accelergy_interface:Running Accelergy with command: accelergy /home/workspace/output_dir/parsed-processed-input.yaml -o ./output_dir/ -v\n"
     ]
    },
    {
     "name": "stdout",
     "output_type": "stream",
     "text": [
      "55.03 627200\n",
      "['Q', 'S', 'P', 'C', 'N', 'R', 'M'] has a fitness of 2.8973064784699996e-08\n",
      "11/20 candidate\n",
      "already visited QRPCNMS\n",
      "12/20 candidate\n",
      "already visited QRPNCSM\n",
      "13/20 candidate\n",
      "already visited PMCNSQR\n",
      "14/20 candidate\n",
      "[INFO] 2025-05-02 04:08:11,689 - pytimeloop.accelergy_interface - Running Accelergy with command: accelergy /home/workspace/output_dir/parsed-processed-input.yaml -o ./output_dir/ -v\n"
     ]
    },
    {
     "name": "stderr",
     "output_type": "stream",
     "text": [
      "INFO:pytimeloop.accelergy_interface:Running Accelergy with command: accelergy /home/workspace/output_dir/parsed-processed-input.yaml -o ./output_dir/ -v\n"
     ]
    },
    {
     "name": "stdout",
     "output_type": "stream",
     "text": [
      "55.03 627200\n",
      "['P', 'M', 'C', 'R', 'N', 'Q', 'S'] has a fitness of 2.8973064784699996e-08\n",
      "15/20 candidate\n",
      "already visited PMCNSQR\n",
      "16/20 candidate\n",
      "[INFO] 2025-05-02 04:09:05,230 - pytimeloop.accelergy_interface - Running Accelergy with command: accelergy /home/workspace/output_dir/parsed-processed-input.yaml -o ./output_dir/ -v\n"
     ]
    },
    {
     "name": "stderr",
     "output_type": "stream",
     "text": [
      "INFO:pytimeloop.accelergy_interface:Running Accelergy with command: accelergy /home/workspace/output_dir/parsed-processed-input.yaml -o ./output_dir/ -v\n"
     ]
    },
    {
     "name": "stdout",
     "output_type": "stream",
     "text": [
      "55.03 627200\n",
      "['Q', 'M', 'C', 'S', 'N', 'P', 'R'] has a fitness of 2.8973064784699996e-08\n",
      "17/20 candidate\n",
      "[INFO] 2025-05-02 04:09:58,281 - pytimeloop.accelergy_interface - Running Accelergy with command: accelergy /home/workspace/output_dir/parsed-processed-input.yaml -o ./output_dir/ -v\n"
     ]
    },
    {
     "name": "stderr",
     "output_type": "stream",
     "text": [
      "INFO:pytimeloop.accelergy_interface:Running Accelergy with command: accelergy /home/workspace/output_dir/parsed-processed-input.yaml -o ./output_dir/ -v\n"
     ]
    },
    {
     "name": "stdout",
     "output_type": "stream",
     "text": [
      "62.01 313600\n",
      "['N', 'M', 'Q', 'C', 'P', 'S', 'R'] has a fitness of 5.1423568943784577e-08\n",
      "18/20 candidate\n",
      "already visited SMQCPRN\n",
      "19/20 candidate\n",
      "already visited SMRCPNQ\n",
      "20/20 candidate\n",
      "already visited SMQCNPR\n",
      "crossover\n",
      "1/15 candidate in crossover\n",
      "already visited RNMSCQP\n",
      "2/15 candidate in crossover\n",
      "already visited CRQMPSN\n",
      "3/15 candidate in crossover\n",
      "[INFO] 2025-05-02 04:10:20,007 - pytimeloop.accelergy_interface - Running Accelergy with command: accelergy /home/workspace/output_dir/parsed-processed-input.yaml -o ./output_dir/ -v\n"
     ]
    },
    {
     "name": "stderr",
     "output_type": "stream",
     "text": [
      "INFO:pytimeloop.accelergy_interface:Running Accelergy with command: accelergy /home/workspace/output_dir/parsed-processed-input.yaml -o ./output_dir/ -v\n"
     ]
    },
    {
     "name": "stdout",
     "output_type": "stream",
     "text": [
      "52.63 313600\n",
      "['M', 'Q', 'R', 'S', 'C', 'P', 'N'] has a fitness of 6.058855235044807e-08\n",
      "4/15 candidate in crossover\n",
      "already visited CQMSRNP\n",
      "5/15 candidate in crossover\n",
      "[INFO] 2025-05-02 04:10:31,913 - pytimeloop.accelergy_interface - Running Accelergy with command: accelergy /home/workspace/output_dir/parsed-processed-input.yaml -o ./output_dir/ -v\n"
     ]
    },
    {
     "name": "stderr",
     "output_type": "stream",
     "text": [
      "INFO:pytimeloop.accelergy_interface:Running Accelergy with command: accelergy /home/workspace/output_dir/parsed-processed-input.yaml -o ./output_dir/ -v\n"
     ]
    },
    {
     "name": "stdout",
     "output_type": "stream",
     "text": [
      "62.01 313600\n",
      "['N', 'M', 'C', 'S', 'Q', 'P', 'R'] has a fitness of 5.1423568943784577e-08\n",
      "6/15 candidate in crossover\n",
      "already visited RNMSCQP\n",
      "7/15 candidate in crossover\n",
      "already visited CRMQPNS\n",
      "8/15 candidate in crossover\n",
      "already visited CRQMPSN\n",
      "9/15 candidate in crossover\n",
      "already visited RQPSCNM\n",
      "10/15 candidate in crossover\n",
      "already visited MQRSCNP\n",
      "11/15 candidate in crossover\n",
      "already visited CRQMPSN\n",
      "12/15 candidate in crossover\n",
      "already visited CQMSRNP\n",
      "13/15 candidate in crossover\n",
      "already visited QRNCPSM\n",
      "14/15 candidate in crossover\n",
      "already visited NMQCPSR\n",
      "15/15 candidate in crossover\n",
      "already visited CSMQPRN\n",
      "\n",
      "ITERATION:  5\n",
      "selection\n",
      "1/20 candidate\n",
      "[INFO] 2025-05-02 04:10:54,589 - pytimeloop.accelergy_interface - Running Accelergy with command: accelergy /home/workspace/output_dir/parsed-processed-input.yaml -o ./output_dir/ -v\n"
     ]
    },
    {
     "name": "stderr",
     "output_type": "stream",
     "text": [
      "INFO:pytimeloop.accelergy_interface:Running Accelergy with command: accelergy /home/workspace/output_dir/parsed-processed-input.yaml -o ./output_dir/ -v\n"
     ]
    },
    {
     "name": "stdout",
     "output_type": "stream",
     "text": [
      "55.03 627200\n",
      "['R', 'Q', 'M', 'P', 'C', 'N', 'S'] has a fitness of 2.8973064784699996e-08\n",
      "2/20 candidate\n",
      "already visited RQMNCSP\n",
      "3/20 candidate\n",
      "already visited RCMSQNP\n",
      "4/20 candidate\n",
      "already visited MQRSCNP\n",
      "5/20 candidate\n",
      "already visited CRSQPMN\n",
      "6/20 candidate\n",
      "[INFO] 2025-05-02 04:11:47,605 - pytimeloop.accelergy_interface - Running Accelergy with command: accelergy /home/workspace/output_dir/parsed-processed-input.yaml -o ./output_dir/ -v\n"
     ]
    },
    {
     "name": "stderr",
     "output_type": "stream",
     "text": [
      "INFO:pytimeloop.accelergy_interface:Running Accelergy with command: accelergy /home/workspace/output_dir/parsed-processed-input.yaml -o ./output_dir/ -v\n"
     ]
    },
    {
     "name": "stdout",
     "output_type": "stream",
     "text": [
      "55.18 313600\n",
      "['C', 'P', 'M', 'Q', 'R', 'S', 'N'] has a fitness of 5.7788610188548055e-08\n",
      "7/20 candidate\n",
      "already visited CSMQPRN\n",
      "8/20 candidate\n",
      "already visited CRMQPNS\n",
      "9/20 candidate\n",
      "[INFO] 2025-05-02 04:12:01,271 - pytimeloop.accelergy_interface - Running Accelergy with command: accelergy /home/workspace/output_dir/parsed-processed-input.yaml -o ./output_dir/ -v\n"
     ]
    },
    {
     "name": "stderr",
     "output_type": "stream",
     "text": [
      "INFO:pytimeloop.accelergy_interface:Running Accelergy with command: accelergy /home/workspace/output_dir/parsed-processed-input.yaml -o ./output_dir/ -v\n"
     ]
    },
    {
     "name": "stdout",
     "output_type": "stream",
     "text": [
      "55.03 627200\n",
      "['Q', 'R', 'M', 'C', 'N', 'S', 'P'] has a fitness of 2.8973064784699996e-08\n",
      "10/20 candidate\n",
      "already visited QRPCNMS\n",
      "11/20 candidate\n",
      "already visited QMPCNSR\n",
      "12/20 candidate\n",
      "[INFO] 2025-05-02 04:12:56,135 - pytimeloop.accelergy_interface - Running Accelergy with command: accelergy /home/workspace/output_dir/parsed-processed-input.yaml -o ./output_dir/ -v\n"
     ]
    },
    {
     "name": "stderr",
     "output_type": "stream",
     "text": [
      "INFO:pytimeloop.accelergy_interface:Running Accelergy with command: accelergy /home/workspace/output_dir/parsed-processed-input.yaml -o ./output_dir/ -v\n"
     ]
    },
    {
     "name": "stdout",
     "output_type": "stream",
     "text": [
      "55.03 627200\n",
      "['Q', 'R', 'P', 'C', 'S', 'N', 'M'] has a fitness of 2.8973064784699996e-08\n",
      "13/20 candidate\n",
      "already visited MPCSNQR\n",
      "14/20 candidate\n",
      "[INFO] 2025-05-02 04:13:50,817 - pytimeloop.accelergy_interface - Running Accelergy with command: accelergy /home/workspace/output_dir/parsed-processed-input.yaml -o ./output_dir/ -v\n"
     ]
    },
    {
     "name": "stderr",
     "output_type": "stream",
     "text": [
      "INFO:pytimeloop.accelergy_interface:Running Accelergy with command: accelergy /home/workspace/output_dir/parsed-processed-input.yaml -o ./output_dir/ -v\n"
     ]
    },
    {
     "name": "stdout",
     "output_type": "stream",
     "text": [
      "55.03 627200\n",
      "['P', 'M', 'C', 'S', 'R', 'Q', 'N'] has a fitness of 2.8973064784699996e-08\n",
      "15/20 candidate\n",
      "already visited PMRSNQC\n",
      "16/20 candidate\n",
      "[INFO] 2025-05-02 04:14:44,474 - pytimeloop.accelergy_interface - Running Accelergy with command: accelergy /home/workspace/output_dir/parsed-processed-input.yaml -o ./output_dir/ -v\n"
     ]
    },
    {
     "name": "stderr",
     "output_type": "stream",
     "text": [
      "INFO:pytimeloop.accelergy_interface:Running Accelergy with command: accelergy /home/workspace/output_dir/parsed-processed-input.yaml -o ./output_dir/ -v\n"
     ]
    },
    {
     "name": "stdout",
     "output_type": "stream",
     "text": [
      "55.03 627200\n",
      "['S', 'M', 'C', 'P', 'N', 'Q', 'R'] has a fitness of 2.8973064784699996e-08\n",
      "17/20 candidate\n",
      "already visited SNQCPMR\n",
      "18/20 candidate\n",
      "already visited SMQCNPR\n",
      "19/20 candidate\n",
      "already visited SMPCQNR\n",
      "20/20 candidate\n",
      "already visited SMNCPQR\n",
      "crossover\n",
      "1/15 candidate in crossover\n",
      "[INFO] 2025-05-02 04:15:37,232 - pytimeloop.accelergy_interface - Running Accelergy with command: accelergy /home/workspace/output_dir/parsed-processed-input.yaml -o ./output_dir/ -v\n"
     ]
    },
    {
     "name": "stderr",
     "output_type": "stream",
     "text": [
      "INFO:pytimeloop.accelergy_interface:Running Accelergy with command: accelergy /home/workspace/output_dir/parsed-processed-input.yaml -o ./output_dir/ -v\n"
     ]
    },
    {
     "name": "stdout",
     "output_type": "stream",
     "text": [
      "55.03 627200\n",
      "['R', 'Q', 'M', 'P', 'C', 'S', 'N'] has a fitness of 2.8973064784699996e-08\n",
      "2/15 candidate in crossover\n",
      "[INFO] 2025-05-02 04:16:31,072 - pytimeloop.accelergy_interface - Running Accelergy with command: accelergy /home/workspace/output_dir/parsed-processed-input.yaml -o ./output_dir/ -v\n"
     ]
    },
    {
     "name": "stderr",
     "output_type": "stream",
     "text": [
      "INFO:pytimeloop.accelergy_interface:Running Accelergy with command: accelergy /home/workspace/output_dir/parsed-processed-input.yaml -o ./output_dir/ -v\n"
     ]
    },
    {
     "name": "stdout",
     "output_type": "stream",
     "text": [
      "55.18 313600\n",
      "['C', 'P', 'Q', 'R', 'M', 'N', 'S'] has a fitness of 5.7788610188548055e-08\n",
      "3/15 candidate in crossover\n",
      "[INFO] 2025-05-02 04:16:45,353 - pytimeloop.accelergy_interface - Running Accelergy with command: accelergy /home/workspace/output_dir/parsed-processed-input.yaml -o ./output_dir/ -v\n"
     ]
    },
    {
     "name": "stderr",
     "output_type": "stream",
     "text": [
      "INFO:pytimeloop.accelergy_interface:Running Accelergy with command: accelergy /home/workspace/output_dir/parsed-processed-input.yaml -o ./output_dir/ -v\n"
     ]
    },
    {
     "name": "stdout",
     "output_type": "stream",
     "text": [
      "55.18 313600\n",
      "['C', 'S', 'M', 'Q', 'R', 'N', 'P'] has a fitness of 5.7788610188548055e-08\n",
      "4/15 candidate in crossover\n",
      "already visited CRMQPSN\n",
      "5/15 candidate in crossover\n",
      "already visited CRSQPMN\n",
      "6/15 candidate in crossover\n",
      "already visited RQMPCNS\n",
      "7/15 candidate in crossover\n",
      "already visited MPCSNQR\n",
      "8/15 candidate in crossover\n",
      "already visited CPMQRSN\n",
      "9/15 candidate in crossover\n",
      "already visited QRMCNSP\n",
      "10/15 candidate in crossover\n",
      "already visited CSMQPRN\n",
      "11/15 candidate in crossover\n",
      "already visited RQMNCSP\n",
      "12/15 candidate in crossover\n",
      "already visited CRMQPNS\n",
      "13/15 candidate in crossover\n",
      "already visited RCMSQNP\n",
      "14/15 candidate in crossover\n",
      "already visited CRSQPMN\n",
      "15/15 candidate in crossover\n",
      "already visited MQRSCNP\n",
      "\n",
      "ITERATION:  6\n",
      "selection\n",
      "1/20 candidate\n",
      "already visited RCMSQNP\n",
      "2/20 candidate\n",
      "already visited RQMNCSP\n",
      "3/20 candidate\n",
      "already visited CQMSRNP\n",
      "4/20 candidate\n",
      "already visited RQMPCNS\n",
      "5/20 candidate\n",
      "already visited MRCQPSN\n",
      "6/20 candidate\n",
      "already visited QRMCPSN\n",
      "7/20 candidate\n",
      "already visited CRMQSPN\n",
      "8/20 candidate\n",
      "[INFO] 2025-05-02 04:16:59,622 - pytimeloop.accelergy_interface - Running Accelergy with command: accelergy /home/workspace/output_dir/parsed-processed-input.yaml -o ./output_dir/ -v\n"
     ]
    },
    {
     "name": "stderr",
     "output_type": "stream",
     "text": [
      "INFO:pytimeloop.accelergy_interface:Running Accelergy with command: accelergy /home/workspace/output_dir/parsed-processed-input.yaml -o ./output_dir/ -v\n"
     ]
    },
    {
     "name": "stdout",
     "output_type": "stream",
     "text": [
      "55.18 313600\n",
      "['C', 'N', 'M', 'Q', 'P', 'S', 'R'] has a fitness of 5.7788610188548055e-08\n",
      "9/20 candidate\n",
      "[INFO] 2025-05-02 04:17:13,323 - pytimeloop.accelergy_interface - Running Accelergy with command: accelergy /home/workspace/output_dir/parsed-processed-input.yaml -o ./output_dir/ -v\n"
     ]
    },
    {
     "name": "stderr",
     "output_type": "stream",
     "text": [
      "INFO:pytimeloop.accelergy_interface:Running Accelergy with command: accelergy /home/workspace/output_dir/parsed-processed-input.yaml -o ./output_dir/ -v\n"
     ]
    },
    {
     "name": "stdout",
     "output_type": "stream",
     "text": [
      "55.03 627200\n",
      "['Q', 'C', 'P', 'R', 'N', 'S', 'M'] has a fitness of 2.8973064784699996e-08\n",
      "10/20 candidate\n",
      "[INFO] 2025-05-02 04:18:07,295 - pytimeloop.accelergy_interface - Running Accelergy with command: accelergy /home/workspace/output_dir/parsed-processed-input.yaml -o ./output_dir/ -v\n"
     ]
    },
    {
     "name": "stderr",
     "output_type": "stream",
     "text": [
      "INFO:pytimeloop.accelergy_interface:Running Accelergy with command: accelergy /home/workspace/output_dir/parsed-processed-input.yaml -o ./output_dir/ -v\n"
     ]
    },
    {
     "name": "stdout",
     "output_type": "stream",
     "text": [
      "52.63 313600\n",
      "['M', 'R', 'P', 'C', 'N', 'S', 'Q'] has a fitness of 6.058855235044807e-08\n",
      "11/20 candidate\n",
      "already visited NRPCQSM\n",
      "12/20 candidate\n",
      "[INFO] 2025-05-02 04:18:19,503 - pytimeloop.accelergy_interface - Running Accelergy with command: accelergy /home/workspace/output_dir/parsed-processed-input.yaml -o ./output_dir/ -v\n"
     ]
    },
    {
     "name": "stderr",
     "output_type": "stream",
     "text": [
      "INFO:pytimeloop.accelergy_interface:Running Accelergy with command: accelergy /home/workspace/output_dir/parsed-processed-input.yaml -o ./output_dir/ -v\n"
     ]
    },
    {
     "name": "stdout",
     "output_type": "stream",
     "text": [
      "55.03 627200\n",
      "['Q', 'R', 'P', 'C', 'M', 'S', 'N'] has a fitness of 2.8973064784699996e-08\n",
      "13/20 candidate\n",
      "already visited MPCSNQR\n",
      "14/20 candidate\n",
      "already visited PMRSNQC\n",
      "15/20 candidate\n",
      "already visited PCMSNQR\n",
      "16/20 candidate\n",
      "[INFO] 2025-05-02 04:19:14,075 - pytimeloop.accelergy_interface - Running Accelergy with command: accelergy /home/workspace/output_dir/parsed-processed-input.yaml -o ./output_dir/ -v\n"
     ]
    },
    {
     "name": "stderr",
     "output_type": "stream",
     "text": [
      "INFO:pytimeloop.accelergy_interface:Running Accelergy with command: accelergy /home/workspace/output_dir/parsed-processed-input.yaml -o ./output_dir/ -v\n"
     ]
    },
    {
     "name": "stdout",
     "output_type": "stream",
     "text": [
      "55.03 627200\n",
      "['P', 'R', 'C', 'S', 'N', 'Q', 'M'] has a fitness of 2.8973064784699996e-08\n",
      "17/20 candidate\n",
      "[INFO] 2025-05-02 04:20:08,093 - pytimeloop.accelergy_interface - Running Accelergy with command: accelergy /home/workspace/output_dir/parsed-processed-input.yaml -o ./output_dir/ -v\n"
     ]
    },
    {
     "name": "stderr",
     "output_type": "stream",
     "text": [
      "INFO:pytimeloop.accelergy_interface:Running Accelergy with command: accelergy /home/workspace/output_dir/parsed-processed-input.yaml -o ./output_dir/ -v\n"
     ]
    },
    {
     "name": "stdout",
     "output_type": "stream",
     "text": [
      "55.03 627200\n",
      "['P', 'M', 'Q', 'C', 'S', 'N', 'R'] has a fitness of 2.8973064784699996e-08\n",
      "18/20 candidate\n",
      "already visited SMQCNPR\n",
      "19/20 candidate\n",
      "already visited SMNCPQR\n",
      "20/20 candidate\n",
      "[INFO] 2025-05-02 04:21:02,222 - pytimeloop.accelergy_interface - Running Accelergy with command: accelergy /home/workspace/output_dir/parsed-processed-input.yaml -o ./output_dir/ -v\n"
     ]
    },
    {
     "name": "stderr",
     "output_type": "stream",
     "text": [
      "INFO:pytimeloop.accelergy_interface:Running Accelergy with command: accelergy /home/workspace/output_dir/parsed-processed-input.yaml -o ./output_dir/ -v\n"
     ]
    },
    {
     "name": "stdout",
     "output_type": "stream",
     "text": [
      "55.03 627200\n",
      "['S', 'P', 'Q', 'C', 'M', 'N', 'R'] has a fitness of 2.8973064784699996e-08\n",
      "crossover\n",
      "1/15 candidate in crossover\n",
      "[INFO] 2025-05-02 04:21:55,645 - pytimeloop.accelergy_interface - Running Accelergy with command: accelergy /home/workspace/output_dir/parsed-processed-input.yaml -o ./output_dir/ -v\n"
     ]
    },
    {
     "name": "stderr",
     "output_type": "stream",
     "text": [
      "INFO:pytimeloop.accelergy_interface:Running Accelergy with command: accelergy /home/workspace/output_dir/parsed-processed-input.yaml -o ./output_dir/ -v\n"
     ]
    },
    {
     "name": "stdout",
     "output_type": "stream",
     "text": [
      "52.63 313600\n",
      "['M', 'R', 'C', 'Q', 'S', 'P', 'N'] has a fitness of 6.058855235044807e-08\n",
      "2/15 candidate in crossover\n",
      "[INFO] 2025-05-02 04:22:07,605 - pytimeloop.accelergy_interface - Running Accelergy with command: accelergy /home/workspace/output_dir/parsed-processed-input.yaml -o ./output_dir/ -v\n"
     ]
    },
    {
     "name": "stderr",
     "output_type": "stream",
     "text": [
      "INFO:pytimeloop.accelergy_interface:Running Accelergy with command: accelergy /home/workspace/output_dir/parsed-processed-input.yaml -o ./output_dir/ -v\n"
     ]
    },
    {
     "name": "stdout",
     "output_type": "stream",
     "text": [
      "55.18 313600\n",
      "['C', 'Q', 'M', 'S', 'N', 'R', 'P'] has a fitness of 5.7788610188548055e-08\n",
      "3/15 candidate in crossover\n",
      "[INFO] 2025-05-02 04:22:21,287 - pytimeloop.accelergy_interface - Running Accelergy with command: accelergy /home/workspace/output_dir/parsed-processed-input.yaml -o ./output_dir/ -v\n"
     ]
    },
    {
     "name": "stderr",
     "output_type": "stream",
     "text": [
      "INFO:pytimeloop.accelergy_interface:Running Accelergy with command: accelergy /home/workspace/output_dir/parsed-processed-input.yaml -o ./output_dir/ -v\n"
     ]
    },
    {
     "name": "stdout",
     "output_type": "stream",
     "text": [
      "55.03 627200\n",
      "['R', 'Q', 'M', 'N', 'C', 'P', 'S'] has a fitness of 2.8973064784699996e-08\n",
      "4/15 candidate in crossover\n",
      "already visited MRPCNSQ\n",
      "5/15 candidate in crossover\n",
      "[INFO] 2025-05-02 04:23:15,412 - pytimeloop.accelergy_interface - Running Accelergy with command: accelergy /home/workspace/output_dir/parsed-processed-input.yaml -o ./output_dir/ -v\n"
     ]
    },
    {
     "name": "stderr",
     "output_type": "stream",
     "text": [
      "INFO:pytimeloop.accelergy_interface:Running Accelergy with command: accelergy /home/workspace/output_dir/parsed-processed-input.yaml -o ./output_dir/ -v\n"
     ]
    },
    {
     "name": "stdout",
     "output_type": "stream",
     "text": [
      "52.63 313600\n",
      "['M', 'P', 'C', 'N', 'Q', 'S', 'R'] has a fitness of 6.058855235044807e-08\n",
      "6/15 candidate in crossover\n",
      "already visited MRCQPSN\n",
      "7/15 candidate in crossover\n",
      "already visited CRMQSPN\n",
      "8/15 candidate in crossover\n",
      "already visited CQMSRNP\n",
      "9/15 candidate in crossover\n",
      "already visited NRPCQSM\n",
      "10/15 candidate in crossover\n",
      "already visited RQMNCSP\n",
      "11/15 candidate in crossover\n",
      "already visited RQMPCNS\n",
      "12/15 candidate in crossover\n",
      "already visited MRPCNSQ\n",
      "13/15 candidate in crossover\n",
      "already visited RCMSQNP\n",
      "14/15 candidate in crossover\n",
      "already visited MPCSNQR\n",
      "15/15 candidate in crossover\n",
      "already visited CNMQPSR\n",
      "\n",
      "ITERATION:  7\n",
      "selection\n",
      "1/20 candidate\n",
      "already visited RNMSCQP\n",
      "2/20 candidate\n",
      "already visited RQMNCSP\n",
      "3/20 candidate\n",
      "[INFO] 2025-05-02 04:23:27,405 - pytimeloop.accelergy_interface - Running Accelergy with command: accelergy /home/workspace/output_dir/parsed-processed-input.yaml -o ./output_dir/ -v\n"
     ]
    },
    {
     "name": "stderr",
     "output_type": "stream",
     "text": [
      "INFO:pytimeloop.accelergy_interface:Running Accelergy with command: accelergy /home/workspace/output_dir/parsed-processed-input.yaml -o ./output_dir/ -v\n"
     ]
    },
    {
     "name": "stdout",
     "output_type": "stream",
     "text": [
      "62.01 313600\n",
      "['N', 'Q', 'M', 'S', 'C', 'R', 'P'] has a fitness of 5.1423568943784577e-08\n",
      "4/20 candidate\n",
      "[INFO] 2025-05-02 04:23:49,677 - pytimeloop.accelergy_interface - Running Accelergy with command: accelergy /home/workspace/output_dir/parsed-processed-input.yaml -o ./output_dir/ -v\n"
     ]
    },
    {
     "name": "stderr",
     "output_type": "stream",
     "text": [
      "INFO:pytimeloop.accelergy_interface:Running Accelergy with command: accelergy /home/workspace/output_dir/parsed-processed-input.yaml -o ./output_dir/ -v\n"
     ]
    },
    {
     "name": "stdout",
     "output_type": "stream",
     "text": [
      "55.03 627200\n",
      "['R', 'Q', 'M', 'C', 'S', 'N', 'P'] has a fitness of 2.8973064784699996e-08\n",
      "5/20 candidate\n",
      "already visited CRMQPNS\n",
      "6/20 candidate\n",
      "already visited CRMQPNS\n",
      "7/20 candidate\n",
      "already visited CRSQPMN\n",
      "8/20 candidate\n",
      "[INFO] 2025-05-02 04:24:44,021 - pytimeloop.accelergy_interface - Running Accelergy with command: accelergy /home/workspace/output_dir/parsed-processed-input.yaml -o ./output_dir/ -v\n"
     ]
    },
    {
     "name": "stderr",
     "output_type": "stream",
     "text": [
      "INFO:pytimeloop.accelergy_interface:Running Accelergy with command: accelergy /home/workspace/output_dir/parsed-processed-input.yaml -o ./output_dir/ -v\n"
     ]
    },
    {
     "name": "stdout",
     "output_type": "stream",
     "text": [
      "55.18 313600\n",
      "['C', 'R', 'M', 'P', 'Q', 'S', 'N'] has a fitness of 5.7788610188548055e-08\n",
      "9/20 candidate\n",
      "already visited QMPCNSR\n",
      "10/20 candidate\n",
      "already visited QRPMNSC\n",
      "11/20 candidate\n",
      "already visited QRPNCSM\n",
      "12/20 candidate\n",
      "already visited CRPQNSM\n",
      "13/20 candidate\n",
      "already visited PMCSRQN\n",
      "14/20 candidate\n",
      "already visited SMCPNQR\n",
      "15/20 candidate\n",
      "already visited RMCSNQP\n",
      "16/20 candidate\n",
      "already visited PQCSNMR\n",
      "17/20 candidate\n",
      "already visited SCQMPNR\n",
      "18/20 candidate\n",
      "already visited SQMCPNR\n",
      "19/20 candidate\n",
      "already visited SMQCRNP\n",
      "20/20 candidate\n",
      "[INFO] 2025-05-02 04:24:57,822 - pytimeloop.accelergy_interface - Running Accelergy with command: accelergy /home/workspace/output_dir/parsed-processed-input.yaml -o ./output_dir/ -v\n"
     ]
    },
    {
     "name": "stderr",
     "output_type": "stream",
     "text": [
      "INFO:pytimeloop.accelergy_interface:Running Accelergy with command: accelergy /home/workspace/output_dir/parsed-processed-input.yaml -o ./output_dir/ -v\n"
     ]
    },
    {
     "name": "stdout",
     "output_type": "stream",
     "text": [
      "55.03 627200\n",
      "['S', 'R', 'Q', 'C', 'P', 'N', 'M'] has a fitness of 2.8973064784699996e-08\n",
      "crossover\n",
      "1/15 candidate in crossover\n",
      "already visited CRPQNSM\n",
      "2/15 candidate in crossover\n",
      "already visited CRMPQSN\n",
      "3/15 candidate in crossover\n",
      "already visited RQMPCNS\n",
      "4/15 candidate in crossover\n",
      "already visited CRMQSPN\n",
      "5/15 candidate in crossover\n",
      "[INFO] 2025-05-02 04:25:52,541 - pytimeloop.accelergy_interface - Running Accelergy with command: accelergy /home/workspace/output_dir/parsed-processed-input.yaml -o ./output_dir/ -v\n"
     ]
    },
    {
     "name": "stderr",
     "output_type": "stream",
     "text": [
      "INFO:pytimeloop.accelergy_interface:Running Accelergy with command: accelergy /home/workspace/output_dir/parsed-processed-input.yaml -o ./output_dir/ -v\n"
     ]
    },
    {
     "name": "stdout",
     "output_type": "stream",
     "text": [
      "55.18 313600\n",
      "['C', 'R', 'M', 'Q', 'N', 'S', 'P'] has a fitness of 5.7788610188548055e-08\n",
      "6/15 candidate in crossover\n",
      "already visited CRPQNSM\n",
      "7/15 candidate in crossover\n",
      "already visited NQMSCRP\n",
      "8/15 candidate in crossover\n",
      "already visited CRMPQSN\n",
      "9/15 candidate in crossover\n",
      "already visited RQMCSNP\n",
      "10/15 candidate in crossover\n",
      "already visited RQMNCSP\n",
      "11/15 candidate in crossover\n",
      "already visited QMPCNSR\n",
      "12/15 candidate in crossover\n",
      "already visited CRMQPNS\n",
      "13/15 candidate in crossover\n",
      "already visited CRSQPMN\n",
      "14/15 candidate in crossover\n",
      "already visited CRMQPNS\n",
      "15/15 candidate in crossover\n",
      "already visited RNMSCQP\n",
      "\n",
      "ITERATION:  8\n",
      "selection\n",
      "1/20 candidate\n",
      "already visited RQMSCPN\n",
      "2/20 candidate\n",
      "already visited RQMSCPN\n",
      "3/20 candidate\n",
      "already visited RNMSCQP\n",
      "4/20 candidate\n",
      "already visited MQRSCNP\n",
      "5/20 candidate\n",
      "already visited CPMQRSN\n",
      "6/20 candidate\n",
      "already visited NRMQPSC\n",
      "7/20 candidate\n",
      "[INFO] 2025-05-02 04:26:06,224 - pytimeloop.accelergy_interface - Running Accelergy with command: accelergy /home/workspace/output_dir/parsed-processed-input.yaml -o ./output_dir/ -v\n"
     ]
    },
    {
     "name": "stderr",
     "output_type": "stream",
     "text": [
      "INFO:pytimeloop.accelergy_interface:Running Accelergy with command: accelergy /home/workspace/output_dir/parsed-processed-input.yaml -o ./output_dir/ -v\n"
     ]
    },
    {
     "name": "stdout",
     "output_type": "stream",
     "text": [
      "55.18 313600\n",
      "['C', 'M', 'R', 'Q', 'P', 'S', 'N'] has a fitness of 5.7788610188548055e-08\n",
      "8/20 candidate\n",
      "already visited CRMQSPN\n",
      "9/20 candidate\n",
      "already visited QCPRNSM\n",
      "10/20 candidate\n",
      "already visited QRPCSNM\n",
      "11/20 candidate\n",
      "already visited QCPRNSM\n",
      "12/20 candidate\n",
      "already visited MRPCNSQ\n",
      "13/20 candidate\n",
      "already visited PMNSCQR\n",
      "14/20 candidate\n",
      "already visited PMCSNRQ\n",
      "15/20 candidate\n",
      "already visited PSCMNQR\n",
      "16/20 candidate\n",
      "[INFO] 2025-05-02 04:26:19,908 - pytimeloop.accelergy_interface - Running Accelergy with command: accelergy /home/workspace/output_dir/parsed-processed-input.yaml -o ./output_dir/ -v\n"
     ]
    },
    {
     "name": "stderr",
     "output_type": "stream",
     "text": [
      "INFO:pytimeloop.accelergy_interface:Running Accelergy with command: accelergy /home/workspace/output_dir/parsed-processed-input.yaml -o ./output_dir/ -v\n"
     ]
    },
    {
     "name": "stdout",
     "output_type": "stream",
     "text": [
      "62.01 313600\n",
      "['N', 'M', 'C', 'S', 'P', 'Q', 'R'] has a fitness of 5.1423568943784577e-08\n",
      "17/20 candidate\n",
      "already visited SMPCQNR\n",
      "18/20 candidate\n",
      "already visited SNQCPMR\n",
      "19/20 candidate\n",
      "already visited PMQCSNR\n",
      "20/20 candidate\n",
      "already visited SRQCPNM\n",
      "crossover\n",
      "1/15 candidate in crossover\n",
      "[INFO] 2025-05-02 04:26:41,715 - pytimeloop.accelergy_interface - Running Accelergy with command: accelergy /home/workspace/output_dir/parsed-processed-input.yaml -o ./output_dir/ -v\n"
     ]
    },
    {
     "name": "stderr",
     "output_type": "stream",
     "text": [
      "INFO:pytimeloop.accelergy_interface:Running Accelergy with command: accelergy /home/workspace/output_dir/parsed-processed-input.yaml -o ./output_dir/ -v\n"
     ]
    },
    {
     "name": "stdout",
     "output_type": "stream",
     "text": [
      "62.01 313600\n",
      "['N', 'M', 'R', 'S', 'C', 'Q', 'P'] has a fitness of 5.1423568943784577e-08\n",
      "2/15 candidate in crossover\n",
      "already visited CMRQPSN\n",
      "3/15 candidate in crossover\n",
      "already visited CPMQRSN\n",
      "4/15 candidate in crossover\n",
      "[INFO] 2025-05-02 04:27:04,924 - pytimeloop.accelergy_interface - Running Accelergy with command: accelergy /home/workspace/output_dir/parsed-processed-input.yaml -o ./output_dir/ -v\n"
     ]
    },
    {
     "name": "stderr",
     "output_type": "stream",
     "text": [
      "INFO:pytimeloop.accelergy_interface:Running Accelergy with command: accelergy /home/workspace/output_dir/parsed-processed-input.yaml -o ./output_dir/ -v\n"
     ]
    },
    {
     "name": "stdout",
     "output_type": "stream",
     "text": [
      "55.03 627200\n",
      "['R', 'C', 'M', 'Q', 'S', 'P', 'N'] has a fitness of 2.8973064784699996e-08\n",
      "5/15 candidate in crossover\n",
      "already visited NRMQPSC\n",
      "6/15 candidate in crossover\n",
      "already visited NMCSPQR\n",
      "7/15 candidate in crossover\n",
      "already visited RNMSCQP\n",
      "8/15 candidate in crossover\n",
      "already visited CMRQPSN\n",
      "9/15 candidate in crossover\n",
      "already visited MRPCNSQ\n",
      "10/15 candidate in crossover\n",
      "already visited CPMQRSN\n",
      "11/15 candidate in crossover\n",
      "already visited MQRSCNP\n",
      "12/15 candidate in crossover\n",
      "already visited RQMSCPN\n",
      "13/15 candidate in crossover\n",
      "already visited CRMQSPN\n",
      "14/15 candidate in crossover\n",
      "already visited NRMQPSC\n",
      "15/15 candidate in crossover\n",
      "already visited RQMSCPN\n",
      "\n",
      "ITERATION:  9\n",
      "selection\n",
      "1/20 candidate\n",
      "already visited RQMSNCP\n",
      "2/20 candidate\n",
      "already visited MQRSCNP\n",
      "3/20 candidate\n",
      "[INFO] 2025-05-02 04:27:59,159 - pytimeloop.accelergy_interface - Running Accelergy with command: accelergy /home/workspace/output_dir/parsed-processed-input.yaml -o ./output_dir/ -v\n"
     ]
    },
    {
     "name": "stderr",
     "output_type": "stream",
     "text": [
      "INFO:pytimeloop.accelergy_interface:Running Accelergy with command: accelergy /home/workspace/output_dir/parsed-processed-input.yaml -o ./output_dir/ -v\n"
     ]
    },
    {
     "name": "stdout",
     "output_type": "stream",
     "text": [
      "55.03 627200\n",
      "['Q', 'R', 'M', 'S', 'C', 'N', 'P'] has a fitness of 2.8973064784699996e-08\n",
      "4/20 candidate\n",
      "already visited RQMPCNS\n",
      "5/20 candidate\n",
      "already visited SRMQPCN\n",
      "6/20 candidate\n",
      "already visited CRSQPMN\n",
      "7/20 candidate\n",
      "already visited CRMQNSP\n",
      "8/20 candidate\n",
      "already visited CRQMPSN\n",
      "9/20 candidate\n",
      "[INFO] 2025-05-02 04:28:52,689 - pytimeloop.accelergy_interface - Running Accelergy with command: accelergy /home/workspace/output_dir/parsed-processed-input.yaml -o ./output_dir/ -v\n"
     ]
    },
    {
     "name": "stderr",
     "output_type": "stream",
     "text": [
      "INFO:pytimeloop.accelergy_interface:Running Accelergy with command: accelergy /home/workspace/output_dir/parsed-processed-input.yaml -o ./output_dir/ -v\n"
     ]
    },
    {
     "name": "stdout",
     "output_type": "stream",
     "text": [
      "55.03 627200\n",
      "['Q', 'P', 'R', 'C', 'N', 'S', 'M'] has a fitness of 2.8973064784699996e-08\n",
      "10/20 candidate\n",
      "already visited QNPCRSM\n",
      "11/20 candidate\n",
      "already visited QRPMNSC\n",
      "12/20 candidate\n",
      "already visited QPRCNSM\n",
      "13/20 candidate\n",
      "[INFO] 2025-05-02 04:29:45,923 - pytimeloop.accelergy_interface - Running Accelergy with command: accelergy /home/workspace/output_dir/parsed-processed-input.yaml -o ./output_dir/ -v\n"
     ]
    },
    {
     "name": "stderr",
     "output_type": "stream",
     "text": [
      "INFO:pytimeloop.accelergy_interface:Running Accelergy with command: accelergy /home/workspace/output_dir/parsed-processed-input.yaml -o ./output_dir/ -v\n"
     ]
    },
    {
     "name": "stdout",
     "output_type": "stream",
     "text": [
      "55.03 627200\n",
      "['P', 'M', 'Q', 'S', 'N', 'C', 'R'] has a fitness of 2.8973064784699996e-08\n",
      "14/20 candidate\n",
      "already visited RMCSNQP\n",
      "15/20 candidate\n",
      "already visited PMCRNQS\n",
      "16/20 candidate\n",
      "already visited PMCSNRQ\n",
      "17/20 candidate\n",
      "already visited SRQCPNM\n",
      "18/20 candidate\n",
      "[INFO] 2025-05-02 04:30:39,124 - pytimeloop.accelergy_interface - Running Accelergy with command: accelergy /home/workspace/output_dir/parsed-processed-input.yaml -o ./output_dir/ -v\n"
     ]
    },
    {
     "name": "stderr",
     "output_type": "stream",
     "text": [
      "INFO:pytimeloop.accelergy_interface:Running Accelergy with command: accelergy /home/workspace/output_dir/parsed-processed-input.yaml -o ./output_dir/ -v\n"
     ]
    },
    {
     "name": "stdout",
     "output_type": "stream",
     "text": [
      "55.03 627200\n",
      "['S', 'M', 'C', 'Q', 'P', 'N', 'R'] has a fitness of 2.8973064784699996e-08\n",
      "19/20 candidate\n",
      "already visited NMQCPSR\n",
      "20/20 candidate\n",
      "already visited PMQCSNR\n",
      "crossover\n",
      "1/15 candidate in crossover\n",
      "already visited RQMSNCP\n",
      "2/15 candidate in crossover\n",
      "[INFO] 2025-05-02 04:31:32,617 - pytimeloop.accelergy_interface - Running Accelergy with command: accelergy /home/workspace/output_dir/parsed-processed-input.yaml -o ./output_dir/ -v\n"
     ]
    },
    {
     "name": "stderr",
     "output_type": "stream",
     "text": [
      "INFO:pytimeloop.accelergy_interface:Running Accelergy with command: accelergy /home/workspace/output_dir/parsed-processed-input.yaml -o ./output_dir/ -v\n"
     ]
    },
    {
     "name": "stdout",
     "output_type": "stream",
     "text": [
      "55.18 313600\n",
      "['C', 'R', 'Q', 'M', 'S', 'N', 'P'] has a fitness of 5.7788610188548055e-08\n",
      "3/15 candidate in crossover\n",
      "already visited MQRSCPN\n",
      "4/15 candidate in crossover\n",
      "[INFO] 2025-05-02 04:31:47,062 - pytimeloop.accelergy_interface - Running Accelergy with command: accelergy /home/workspace/output_dir/parsed-processed-input.yaml -o ./output_dir/ -v\n"
     ]
    },
    {
     "name": "stderr",
     "output_type": "stream",
     "text": [
      "INFO:pytimeloop.accelergy_interface:Running Accelergy with command: accelergy /home/workspace/output_dir/parsed-processed-input.yaml -o ./output_dir/ -v\n"
     ]
    },
    {
     "name": "stdout",
     "output_type": "stream",
     "text": [
      "55.18 313600\n",
      "['C', 'R', 'N', 'M', 'Q', 'P', 'S'] has a fitness of 5.7788610188548055e-08\n",
      "5/15 candidate in crossover\n",
      "[INFO] 2025-05-02 04:32:00,922 - pytimeloop.accelergy_interface - Running Accelergy with command: accelergy /home/workspace/output_dir/parsed-processed-input.yaml -o ./output_dir/ -v\n"
     ]
    },
    {
     "name": "stderr",
     "output_type": "stream",
     "text": [
      "INFO:pytimeloop.accelergy_interface:Running Accelergy with command: accelergy /home/workspace/output_dir/parsed-processed-input.yaml -o ./output_dir/ -v\n"
     ]
    },
    {
     "name": "stdout",
     "output_type": "stream",
     "text": [
      "55.03 627200\n",
      "['S', 'R', 'M', 'Q', 'C', 'P', 'N'] has a fitness of 2.8973064784699996e-08\n",
      "6/15 candidate in crossover\n",
      "already visited RQMPCNS\n",
      "7/15 candidate in crossover\n",
      "already visited RQMSNCP\n",
      "8/15 candidate in crossover\n",
      "already visited CRMQNSP\n",
      "9/15 candidate in crossover\n",
      "already visited QRMSCNP\n",
      "10/15 candidate in crossover\n",
      "already visited MQRSCNP\n",
      "11/15 candidate in crossover\n",
      "already visited QPRCNSM\n",
      "12/15 candidate in crossover\n",
      "already visited CRSQPMN\n",
      "13/15 candidate in crossover\n",
      "already visited NMQCPSR\n",
      "14/15 candidate in crossover\n",
      "already visited SRMQPCN\n",
      "15/15 candidate in crossover\n",
      "already visited CRQMPSN\n",
      "FINISHED RUNNING: FINAL FITNESS OF 6.058855235044807e-08 ON PERMUTATION ['M', 'P', 'C', 'S', 'Q', 'R', 'N']\n",
      " TIMELOOP MAPPER CALLED 121 NUMBER OF TIMES\n"
     ]
    }
   ],
   "source": [
    "class GeneticAlgorithm:\n",
    "    def __init__(\n",
    "            self, \n",
    "            dataflow=['R', 'S', 'P', 'Q', 'C', 'M', 'N'], \n",
    "            workload='layer_shapes/fc1.yaml', \n",
    "            pe_dims={'pe_meshX': 2, 'pe_meshY': 8}, \n",
    "            mapper='designs/_include/mapper.yaml',\n",
    "            constraints='designs/system/constraints.yaml',\n",
    "            architecture='designs/system/arch.yaml',\n",
    "            n=5, \n",
    "            k=20, \n",
    "            p=10, \n",
    "            iter=10,\n",
    "            ):\n",
    "        # convolution\n",
    "        self.dataflow = dataflow\n",
    "        # workload = 'layer_shapes/conv2.yaml'\n",
    "        # workload = 'layer_shapes/conv1.yaml'\n",
    "        self.workload = workload\n",
    "        # pe_dims = {'pe_meshX': 1, 'pe_meshY': 16}\n",
    "        self.pe_dims = pe_dims\n",
    "        # pe_dims = {'pe_meshX': 4, 'pe_meshY': 4}\n",
    "\n",
    "        # n population -> k mutations -> p selection -> n population\n",
    "        # constraints: n | k, p/2 = n\n",
    "        self.mapper=mapper\n",
    "        self.constraints=constraints\n",
    "        self.architecture=architecture\n",
    "        self.n = n\n",
    "        self.k = k\n",
    "        self.p = p\n",
    "        self.iter = iter\n",
    "        self.mapper_call_count = 0\n",
    "        self.VISITED={}\n",
    "        self.mapper_calls = [] # list of [permutation, fitness] in order of call\n",
    "\n",
    "\n",
    "    def fitness(self, dataflow):\n",
    "        '''\n",
    "        Calculates the fitness of a given permustation `dataflow`. Returns the\n",
    "        inverse EDP after running the timeloop mapper on this dataflow.\n",
    "        '''\n",
    "        data = self.evaluate(dataflow)\n",
    "        energy, latency = data\n",
    "        inverse_EDP = 1 / (energy * latency)\n",
    "        print(f\"{dataflow} has a fitness of {inverse_EDP}\")\n",
    "\n",
    "        # update visited\n",
    "        self.VISITED[''.join(dataflow)] = inverse_EDP\n",
    "        self.mapper_calls.append([''.join(dataflow), inverse_EDP])\n",
    "        return inverse_EDP\n",
    "\n",
    "\n",
    "    def evaluate(self, dataflow):\n",
    "        '''\n",
    "        Evaluates the given dataflow on -- architecture\n",
    "\n",
    "        dataflow: computation ordering in list format\n",
    "        workload: the file path to the workload this is being evaluated on\n",
    "        returns tuple of energy, latency\n",
    "        '''\n",
    "\n",
    "        # create a new constraints file with the new PE permutation\n",
    "        stream = open(self.constraints, 'r')\n",
    "        dictionary = yaml.safe_load(stream)\n",
    "        # print(dictionary['constraints']['targets'][4])\n",
    "        idx = 4 # PE\n",
    "        dictionary['constraints']['targets'][idx]['permutation'] = dataflow\n",
    "\n",
    "        filename = ''.join(dataflow)\n",
    "        with open(f'iters/configs/{filename}.yaml', 'w') as file:\n",
    "            yaml.dump(dictionary, file, default_flow_style=False)\n",
    "\n",
    "        constraints = f'iters/configs/{filename}.yaml'\n",
    "\n",
    "        sys_1x16_result = run_timeloop_mapper( # TODO: this should be run_timeloop_mapper not run_timeloop_model!\n",
    "            # config,\n",
    "            self.pe_dims,\n",
    "            architecture=self.architecture,\n",
    "            mapper=self.mapper,\n",
    "            problem=self.workload,\n",
    "            constraints=constraints \n",
    "        )\n",
    "\n",
    "        # keeping track of mapper call count for data purposes\n",
    "        self.mapper_call_count += 1\n",
    "        \n",
    "        stats = open('./output_dir/timeloop-mapper.stats.txt', 'r').read()\n",
    "        mapping = sys_1x16_result.mapping\n",
    "\n",
    "        lines = stats.split('\\n')\n",
    "        energy = float([l for l in lines if 'Energy:' in l][0].split(' ', 2)[1])\n",
    "        cycles = int([l for l in lines if 'Cycles:' in l][0].split(' ', 1)[1])\n",
    "        # min_energy = min(min_energy, energy)\n",
    "\n",
    "        print(energy, cycles)\n",
    "        return energy, cycles\n",
    "\n",
    "\n",
    "    def mutation(self, population):\n",
    "        \"\"\"\n",
    "        Performs a random swap mutation for every member of `population`.\n",
    "        Returns a list of the new mutated population.\n",
    "        \"\"\"\n",
    "        mutations = []\n",
    "\n",
    "        for df in population:\n",
    "            for _ in range(self.k // self.n):\n",
    "                mutation = df.copy()\n",
    "                # swap two random indices\n",
    "                idx1, idx2 = random.sample(range(len(self.dataflow)), 2)\n",
    "                mutation[idx1], mutation[idx2] = mutation[idx2], mutation[idx1]\n",
    "                mutations.append(mutation)\n",
    "        return mutations\n",
    "\n",
    "\n",
    "    def selection(self, population: list[str], p: int, fitness, workload: str, pe_dims) -> list:\n",
    "        \"\"\"\n",
    "        Evaluates the fitness using `fitness` func of all members of a population on\n",
    "        `workload` workload with pe dimensions `pe_dims`, and performs selection of \n",
    "        the top p candidates.\n",
    "        \"\"\"\n",
    "        print(\"selection\")\n",
    "        fitnesses = []\n",
    "        i = 0\n",
    "        for candidate in population:\n",
    "            i += 1\n",
    "            print(f'{i}/{len(population)} candidate')\n",
    "            # do a check to see if we've already run this config\n",
    "            trial_name = ''.join(candidate)\n",
    "            if trial_name in self.VISITED:\n",
    "                print('already visited ' + trial_name)\n",
    "                fitnesses.append([candidate, self.VISITED[trial_name]])\n",
    "            else:\n",
    "                fitnesses.append([candidate, fitness(candidate)])\n",
    "        # print(f'fitnesses: {fitnesses}')\n",
    "        fitnesses.sort(key=lambda x: x[1], reverse=True) # high to low fitness\n",
    "        # print(f'sorted fitnesses: {fitnesses}')\n",
    "        selections = fitnesses[:p] \n",
    "        selections = [x[0] for x in selections] # len(selections) = p\n",
    "        return selections\n",
    "\n",
    "    \n",
    "    def crossover(self, population) -> list:\n",
    "        print(\"crossover\")\n",
    "        random.shuffle(population)\n",
    "        crossover_pairs = [(population[i], population[i+1]) for i in range(0, len(population), 2)]\n",
    "        crossovers = []  # len(crossovers) = n\n",
    "        for pair in crossover_pairs:\n",
    "            s1, s2 = pair\n",
    "            cut_point = random.randint(1, len(s1) - 1) # split at a random point and join\n",
    "            first_half = s1[:cut_point]\n",
    "            second_half = s2.copy()\n",
    "            # second_half.remove(parameter for parameter in first_half)\n",
    "            for parameter in first_half:\n",
    "                second_half.remove(parameter)\n",
    "            crossover = first_half + second_half\n",
    "            crossovers.append(crossover)\n",
    "\n",
    "        return crossovers\n",
    "\n",
    "\n",
    "    # TODO: include condition to check if a permutation has already been tested\n",
    "    # TODO: why aren't we reaching crossover print statement?\n",
    "    # TODO: why isn't the best fitness from initial population being chosen? ??????????\n",
    "\n",
    "\n",
    "    def run(self, g=6.0e-8):\n",
    "        \n",
    "        # fitness = dummy_fitness # TODO: FOR DEBUGGING\n",
    "        fitness = self.fitness\n",
    "\n",
    "        # Generate n base permutations\n",
    "        population = [random.sample(self.dataflow, len(self.dataflow)) for _ in range(self.n)]\n",
    "\n",
    "        print(\"Initializing\")\n",
    "        # Initialize base fitness and goal fitness\n",
    "        dfs_fitnesses = [[df, fitness(df)] for df in population]\n",
    "        best_df, f = max(dfs_fitnesses, key=lambda x: x[1])\n",
    "\n",
    "        for i in range(self.iter):\n",
    "            print(\"\\nITERATION: \", i)\n",
    "            # Mutation\n",
    "            mutations = self.mutation(population)\n",
    "            # print(mutations)\n",
    "            \n",
    "            # Selection\n",
    "            selections = self.selection(mutations, self.p, fitness, self.workload, self.pe_dims)\n",
    "            # print(f'selections done running: {selections}')\n",
    "\n",
    "            # TODO: we should also evaluate the best fitness here before crossing over or just add the eselections to crossovers\n",
    "\n",
    "            # Crossover\n",
    "            crossovers = self.crossover(selections)\n",
    "            # print(f'crossovers done running: {crossovers}')\n",
    "\n",
    "            crossovers.extend(selections)\n",
    "            crossovers_fitnesses = []\n",
    "            i = 0\n",
    "            for crossover in crossovers:\n",
    "                i += 1\n",
    "                print(f'{i}/{len(crossovers)} candidate in crossover')\n",
    "                trial_name = ''.join(crossover)\n",
    "                if trial_name in self.VISITED:\n",
    "                    print(f'already visited {trial_name}')\n",
    "                    crossovers_fitnesses.append([crossover, self.VISITED[trial_name]])\n",
    "                else: \n",
    "                    crossovers_fitnesses.append([crossover, fitness(crossover)])\n",
    "\n",
    "            best_df_trial, f_trial = max(crossovers_fitnesses, key=lambda x: x[1])\n",
    "            if f_trial > f:\n",
    "                best_df, f = best_df_trial, f_trial\n",
    "                print(f'new best trial: {best_df_trial} with fitness {f}')\n",
    "            if f >= g:\n",
    "                # goal fitness reached, break\n",
    "                print('reached goal fitness, returning')\n",
    "                break\n",
    "\n",
    "        return best_df, f\n",
    "        \n",
    "\n",
    "\n",
    "ga = GeneticAlgorithm()\n",
    "best_df, f = ga.run(g=1)\n",
    "\n",
    "print(f'FINISHED RUNNING: FINAL FITNESS OF {f} ON PERMUTATION {best_df}\\n TIMELOOP MAPPER CALLED {ga.mapper_call_count} NUMBER OF TIMES')"
   ]
  },
  {
   "cell_type": "code",
   "execution_count": 61,
   "metadata": {
    "collapsed": true,
    "jupyter": {
     "outputs_hidden": true
    }
   },
   "outputs": [
    {
     "name": "stdout",
     "output_type": "stream",
     "text": [
      "['RQMSCNP', 2.8973064784699996e-08]\n",
      "['CRMQPSN', 5.7788610188548055e-08]\n",
      "['QRPCNSM', 2.8973064784699996e-08]\n",
      "['PMCSNQR', 2.8973064784699996e-08]\n",
      "['SMQCPNR', 2.8973064784699996e-08]\n",
      "['CQMSRNP', 5.7788610188548055e-08]\n",
      "['RQCSMNP', 2.8973064784699996e-08]\n",
      "['SQMRCNP', 2.8973064784699996e-08]\n",
      "['RSMQCNP', 2.8973064784699996e-08]\n",
      "['SRMQPCN', 2.8973064784699996e-08]\n",
      "['NRMQPSC', 5.1423568943784577e-08]\n",
      "['PRQCNSM', 2.8973064784699996e-08]\n",
      "['QNPCRSM', 2.8973064784699996e-08]\n",
      "['QMPCNSR', 2.8973064784699996e-08]\n",
      "['SRPCNQM', 2.8973064784699996e-08]\n",
      "['PMRSNQC', 2.8973064784699996e-08]\n",
      "['PNCSMQR', 2.8973064784699996e-08]\n",
      "['RMCSNQP', 2.8973064784699996e-08]\n",
      "['MPCSNQR', 6.058855235044807e-08]\n",
      "['SMQCPRN', 2.8973064784699996e-08]\n",
      "['SMQCRNP', 2.8973064784699996e-08]\n",
      "['SQMCPNR', 2.8973064784699996e-08]\n",
      "['MPCSQRN', 6.058855235044807e-08]\n",
      "['RQSMPCN', 2.8973064784699996e-08]\n",
      "['NRMQSCP', 5.1423568943784577e-08]\n",
      "['PNRMQSC', 2.8973064784699996e-08]\n",
      "['SCQMRNP', 2.8973064784699996e-08]\n",
      "['RPMSCNQ', 2.8973064784699996e-08]\n",
      "['RQNSCMP', 2.8973064784699996e-08]\n",
      "['PQMSCNR', 2.8973064784699996e-08]\n",
      "['RCMSQNP', 2.8973064784699996e-08]\n",
      "['QRMCPSN', 2.8973064784699996e-08]\n",
      "['RCMQPSN', 2.8973064784699996e-08]\n",
      "['MRCQPSN', 6.058855235044807e-08]\n",
      "['CRMSPQN', 5.7788610188548055e-08]\n",
      "['QRPCNMS', 2.8973064784699996e-08]\n",
      "['RQPCNSM', 2.8973064784699996e-08]\n",
      "['NRPCQSM', 5.1423568943784577e-08]\n",
      "['PMNSCQR', 2.8973064784699996e-08]\n",
      "['PCMSNQR', 2.8973064784699996e-08]\n",
      "['PSCMNQR', 2.8973064784699996e-08]\n",
      "['SMQCNPR', 2.8973064784699996e-08]\n",
      "['SNQCPMR', 2.8973064784699996e-08]\n",
      "['SCQMPNR', 2.8973064784699996e-08]\n",
      "['SMQPCNR', 2.8973064784699996e-08]\n",
      "['RNPCQSM', 2.8973064784699996e-08]\n",
      "['RPMSCQN', 2.8973064784699996e-08]\n",
      "['QRMPCNS', 2.8973064784699996e-08]\n",
      "['RNMSCQP', 2.8973064784699996e-08]\n",
      "['CRQMPSN', 5.7788610188548055e-08]\n",
      "['CRMQSPN', 5.7788610188548055e-08]\n",
      "['QRPNCSM', 2.8973064784699996e-08]\n",
      "['QRPMNSC', 2.8973064784699996e-08]\n",
      "['CRPQNSM', 5.7788610188548055e-08]\n",
      "['PQCSNMR', 2.8973064784699996e-08]\n",
      "['PMCNSQR', 2.8973064784699996e-08]\n",
      "['PMCQNSR', 2.8973064784699996e-08]\n",
      "['SMNCPQR', 2.8973064784699996e-08]\n",
      "['SMRCPNQ', 2.8973064784699996e-08]\n",
      "['SMQRPNC', 2.8973064784699996e-08]\n",
      "['CMPSNQR', 5.7788610188548055e-08]\n",
      "['CRMSQNP', 5.7788610188548055e-08]\n",
      "['MRSQCNP', 6.058855235044807e-08]\n",
      "['RQMSNCP', 2.8973064784699996e-08]\n",
      "['RQMNCSP', 2.8973064784699996e-08]\n",
      "['RQMSCPN', 2.8973064784699996e-08]\n",
      "['CRSQPMN', 5.7788610188548055e-08]\n",
      "['CRPQMSN', 5.7788610188548055e-08]\n",
      "['QRNCPSM', 2.8973064784699996e-08]\n",
      "['PMSCNQR', 2.8973064784699996e-08]\n",
      "['PMCSNRQ', 2.8973064784699996e-08]\n",
      "['SMPCQNR', 2.8973064784699996e-08]\n",
      "['CRMSQPN', 5.7788610188548055e-08]\n",
      "['CQMRPSN', 5.7788610188548055e-08]\n",
      "['QRPNMSC', 2.8973064784699996e-08]\n",
      "['RQPSCNM', 2.8973064784699996e-08]\n",
      "['MQRSCNP', 6.058855235044807e-08]\n",
      "['CRMQPNS', 5.7788610188548055e-08]\n",
      "['CSMQPRN', 5.7788610188548055e-08]\n",
      "['QSPCNRM', 2.8973064784699996e-08]\n",
      "['PMCRNQS', 2.8973064784699996e-08]\n",
      "['QMCSNPR', 2.8973064784699996e-08]\n",
      "['NMQCPSR', 5.1423568943784577e-08]\n",
      "['MQRSCPN', 6.058855235044807e-08]\n",
      "['NMCSQPR', 5.1423568943784577e-08]\n",
      "['RQMPCNS', 2.8973064784699996e-08]\n",
      "['CPMQRSN', 5.7788610188548055e-08]\n",
      "['QRMCNSP', 2.8973064784699996e-08]\n",
      "['QRPCSNM', 2.8973064784699996e-08]\n",
      "['PMCSRQN', 2.8973064784699996e-08]\n",
      "['SMCPNQR', 2.8973064784699996e-08]\n",
      "['RQMPCSN', 2.8973064784699996e-08]\n",
      "['CPQRMNS', 5.7788610188548055e-08]\n",
      "['CSMQRNP', 5.7788610188548055e-08]\n",
      "['CNMQPSR', 5.7788610188548055e-08]\n",
      "['QCPRNSM', 2.8973064784699996e-08]\n",
      "['MRPCNSQ', 6.058855235044807e-08]\n",
      "['QRPCMSN', 2.8973064784699996e-08]\n",
      "['PRCSNQM', 2.8973064784699996e-08]\n",
      "['PMQCSNR', 2.8973064784699996e-08]\n",
      "['SPQCMNR', 2.8973064784699996e-08]\n",
      "['MRCQSPN', 6.058855235044807e-08]\n",
      "['CQMSNRP', 5.7788610188548055e-08]\n",
      "['RQMNCPS', 2.8973064784699996e-08]\n",
      "['MPCNQSR', 6.058855235044807e-08]\n",
      "['NQMSCRP', 5.1423568943784577e-08]\n",
      "['RQMCSNP', 2.8973064784699996e-08]\n",
      "['CRMPQSN', 5.7788610188548055e-08]\n",
      "['SRQCPNM', 2.8973064784699996e-08]\n",
      "['CRMQNSP', 5.7788610188548055e-08]\n",
      "['CMRQPSN', 5.7788610188548055e-08]\n",
      "['NMCSPQR', 5.1423568943784577e-08]\n",
      "['NMRSCQP', 5.1423568943784577e-08]\n",
      "['RCMQSPN', 2.8973064784699996e-08]\n",
      "['QRMSCNP', 2.8973064784699996e-08]\n",
      "['QPRCNSM', 2.8973064784699996e-08]\n",
      "['PMQSNCR', 2.8973064784699996e-08]\n",
      "['SMCQPNR', 2.8973064784699996e-08]\n",
      "['CRQMSNP', 5.7788610188548055e-08]\n",
      "['CRNMQPS', 5.7788610188548055e-08]\n",
      "['SRMQCPN', 2.8973064784699996e-08]\n"
     ]
    }
   ],
   "source": [
    "for call in ga.mapper_calls:\n",
    "    print(call)"
   ]
  },
  {
   "cell_type": "code",
   "execution_count": 60,
   "metadata": {},
   "outputs": [],
   "source": [
    "# saving this shit so we can save some time later\n",
    "with open(f'conv2_2x8.yaml', 'w') as file:\n",
    "            yaml.dump(ga.VISITED, file, default_flow_style=False)"
   ]
  },
  {
   "cell_type": "code",
   "execution_count": null,
   "metadata": {},
   "outputs": [],
   "source": []
  }
 ],
 "metadata": {
  "kernelspec": {
   "display_name": "Python 3 (ipykernel)",
   "language": "python",
   "name": "python3"
  },
  "language_info": {
   "codemirror_mode": {
    "name": "ipython",
    "version": 3
   },
   "file_extension": ".py",
   "mimetype": "text/x-python",
   "name": "python",
   "nbconvert_exporter": "python",
   "pygments_lexer": "ipython3",
   "version": "3.10.12"
  }
 },
 "nbformat": 4,
 "nbformat_minor": 4
}
